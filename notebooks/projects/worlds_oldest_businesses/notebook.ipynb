{
 "cells": [
  {
   "cell_type": "markdown",
   "metadata": {},
   "source": [
    "# What and Where are the World's Oldest Businesses?\n",
    "\n",
    "[![Open in Colab](https://colab.research.google.com/assets/colab-badge.svg)](https://colab.research.google.com/github/adamelliotfields/datacamp/blob/main/notebooks/projects/worlds_oldest_businesses/notebook.ipynb)\n",
    "[![Render nbviewer](https://raw.githubusercontent.com/jupyter/design/main/logos/Badges/nbviewer_badge.svg)](https://nbviewer.org/github/adamelliotfields/datacamp/blob/main/notebooks/projects/worlds_oldest_businesses/notebook.ipynb)\n",
    "\n",
    "<figure>\n",
    "  <img\n",
    "    src=\"Eingang_zum_St_Peter_Stiftskeller.jpg\"\n",
    "    alt=\"St. Peter Stiftskeller, founded 803.\"\n",
    "    width=\"320\"\n",
    "  />\n",
    "  <figcaption>St. Peter Stiftskeller, founded 803. Credit: <a href=\"\" target=\"_blank\" rel=\"noopener noreferrer\">Pakeha</a>.</figcaption>\n",
    "</figure>\n",
    "\n",
    "**Contents**\n",
    "1. [How many businesses were founded before 1000?](#How-many-businesses-were-founded-before-1000?)\n",
    "2. [Which businesses were founded before 1000?](#Which-businesses-were-founded-before-1000?)\n",
    "3. [Exploring the categories](#Exploring-the-categories)\n",
    "4. [Counting the categories](#Counting-the-categories)\n",
    "5. [Oldest business by continent](#Oldest-business-by-continent)\n",
    "6. [Joining everything for further analysis](#Joining-everything-for-further-analysis)\n",
    "7. [Counting categories by continent](#Counting-categories-by-continent)\n",
    "8. [Filtering counts by continent and category](#Filtering-counts-by-continent-and-category)\n",
    "\n",
    "An important part of business is planning for the future and ensuring that the company survives changing market conditions. Some businesses do this really well and last for hundreds of years.\n",
    "\n",
    "[BusinessFinancing.co.uk](https://businessfinancing.co.uk) [researched the oldest company](https://businessfinancing.co.uk/the-oldest-company-in-almost-every-country) that is still in business in (almost) every country and compiled the results into a dataset. In this project, you'll explore that dataset to see what they found.\n"
   ]
  },
  {
   "cell_type": "code",
   "execution_count": 1,
   "metadata": {},
   "outputs": [
    {
     "data": {
      "text/html": [
       "Tip: You may define configurations in /workspaces/datacamp/pyproject.toml. Please review our <a href='https://jupysql.ploomber.io/en/latest/api/configuration.html#loading-from-pyproject-toml'>configuration guideline</a>."
      ],
      "text/plain": [
       "<IPython.core.display.HTML object>"
      ]
     },
     "metadata": {},
     "output_type": "display_data"
    },
    {
     "data": {
      "text/html": [
       "<table>\n",
       "    <thead>\n",
       "        <tr>\n",
       "            <th>Count</th>\n",
       "        </tr>\n",
       "    </thead>\n",
       "    <tbody>\n",
       "        <tr>\n",
       "            <td>195</td>\n",
       "        </tr>\n",
       "    </tbody>\n",
       "</table>"
      ],
      "text/plain": [
       "+-------+\n",
       "| Count |\n",
       "+-------+\n",
       "|  195  |\n",
       "+-------+"
      ]
     },
     "execution_count": 1,
     "metadata": {},
     "output_type": "execute_result"
    }
   ],
   "source": [
    "%load_ext sql\n",
    "\n",
    "%config SqlMagic.autopandas = False\n",
    "%config SqlMagic.displaycon = False\n",
    "%config SqlMagic.feedback = 0\n",
    "\n",
    "import duckdb\n",
    "\n",
    "conn = duckdb.connect(database=':memory:', read_only=False)\n",
    "%sql conn\n",
    "\n",
    "# load data\n",
    "%sql create table businesses as from read_csv('businesses.csv', header=true, auto_detect=true);\n",
    "%sql create table categories as from read_csv('categories.csv', header=true, auto_detect=true);\n",
    "%sql create table countries as from read_csv('countries.csv', header=true, auto_detect=true);\n"
   ]
  },
  {
   "cell_type": "code",
   "execution_count": 2,
   "metadata": {
    "vscode": {
     "languageId": "sql"
    }
   },
   "outputs": [
    {
     "data": {
      "text/html": [
       "<table>\n",
       "    <thead>\n",
       "        <tr>\n",
       "            <th>column_name</th>\n",
       "            <th>data_type</th>\n",
       "        </tr>\n",
       "    </thead>\n",
       "    <tbody>\n",
       "        <tr>\n",
       "            <td>business</td>\n",
       "            <td>VARCHAR</td>\n",
       "        </tr>\n",
       "        <tr>\n",
       "            <td>year_founded</td>\n",
       "            <td>BIGINT</td>\n",
       "        </tr>\n",
       "        <tr>\n",
       "            <td>category_code</td>\n",
       "            <td>VARCHAR</td>\n",
       "        </tr>\n",
       "        <tr>\n",
       "            <td>country_code</td>\n",
       "            <td>VARCHAR</td>\n",
       "        </tr>\n",
       "    </tbody>\n",
       "</table>"
      ],
      "text/plain": [
       "+---------------+-----------+\n",
       "|  column_name  | data_type |\n",
       "+---------------+-----------+\n",
       "|    business   |  VARCHAR  |\n",
       "|  year_founded |   BIGINT  |\n",
       "| category_code |  VARCHAR  |\n",
       "|  country_code |  VARCHAR  |\n",
       "+---------------+-----------+"
      ]
     },
     "execution_count": 2,
     "metadata": {},
     "output_type": "execute_result"
    }
   ],
   "source": [
    "%%sql\n",
    "-- describe businesses\n",
    "select column_name, data_type from information_schema.columns where table_name = 'businesses';\n"
   ]
  },
  {
   "cell_type": "code",
   "execution_count": 3,
   "metadata": {
    "vscode": {
     "languageId": "sql"
    }
   },
   "outputs": [
    {
     "data": {
      "text/html": [
       "<table>\n",
       "    <thead>\n",
       "        <tr>\n",
       "            <th>column_name</th>\n",
       "            <th>data_type</th>\n",
       "        </tr>\n",
       "    </thead>\n",
       "    <tbody>\n",
       "        <tr>\n",
       "            <td>category_code</td>\n",
       "            <td>VARCHAR</td>\n",
       "        </tr>\n",
       "        <tr>\n",
       "            <td>category</td>\n",
       "            <td>VARCHAR</td>\n",
       "        </tr>\n",
       "    </tbody>\n",
       "</table>"
      ],
      "text/plain": [
       "+---------------+-----------+\n",
       "|  column_name  | data_type |\n",
       "+---------------+-----------+\n",
       "| category_code |  VARCHAR  |\n",
       "|    category   |  VARCHAR  |\n",
       "+---------------+-----------+"
      ]
     },
     "execution_count": 3,
     "metadata": {},
     "output_type": "execute_result"
    }
   ],
   "source": [
    "%%sql\n",
    "-- describe categories\n",
    "select column_name, data_type from information_schema.columns where table_name = 'categories';\n"
   ]
  },
  {
   "cell_type": "code",
   "execution_count": 4,
   "metadata": {
    "vscode": {
     "languageId": "sql"
    }
   },
   "outputs": [
    {
     "data": {
      "text/html": [
       "<table>\n",
       "    <thead>\n",
       "        <tr>\n",
       "            <th>column_name</th>\n",
       "            <th>data_type</th>\n",
       "        </tr>\n",
       "    </thead>\n",
       "    <tbody>\n",
       "        <tr>\n",
       "            <td>country_code</td>\n",
       "            <td>VARCHAR</td>\n",
       "        </tr>\n",
       "        <tr>\n",
       "            <td>country</td>\n",
       "            <td>VARCHAR</td>\n",
       "        </tr>\n",
       "        <tr>\n",
       "            <td>continent</td>\n",
       "            <td>VARCHAR</td>\n",
       "        </tr>\n",
       "    </tbody>\n",
       "</table>"
      ],
      "text/plain": [
       "+--------------+-----------+\n",
       "| column_name  | data_type |\n",
       "+--------------+-----------+\n",
       "| country_code |  VARCHAR  |\n",
       "|   country    |  VARCHAR  |\n",
       "|  continent   |  VARCHAR  |\n",
       "+--------------+-----------+"
      ]
     },
     "execution_count": 4,
     "metadata": {},
     "output_type": "execute_result"
    }
   ],
   "source": [
    "%%sql\n",
    "-- describe countries\n",
    "select column_name, data_type from information_schema.columns where table_name = 'countries';\n"
   ]
  },
  {
   "cell_type": "code",
   "execution_count": 5,
   "metadata": {
    "vscode": {
     "languageId": "sql"
    }
   },
   "outputs": [
    {
     "data": {
      "text/html": [
       "<table>\n",
       "    <thead>\n",
       "        <tr>\n",
       "            <th>min(year_founded)</th>\n",
       "            <th>max(year_founded)</th>\n",
       "        </tr>\n",
       "    </thead>\n",
       "    <tbody>\n",
       "        <tr>\n",
       "            <td>578</td>\n",
       "            <td>1999</td>\n",
       "        </tr>\n",
       "    </tbody>\n",
       "</table>"
      ],
      "text/plain": [
       "+-------------------+-------------------+\n",
       "| min(year_founded) | max(year_founded) |\n",
       "+-------------------+-------------------+\n",
       "|        578        |        1999       |\n",
       "+-------------------+-------------------+"
      ]
     },
     "execution_count": 5,
     "metadata": {},
     "output_type": "execute_result"
    }
   ],
   "source": [
    "%%sql\n",
    "-- select oldest and newest `year_founded` from businesses\n",
    "select min(year_founded), max(year_founded) from businesses;\n"
   ]
  },
  {
   "cell_type": "markdown",
   "metadata": {},
   "source": [
    "## How many businesses were founded before 1000?\n",
    "\n",
    "Wow! That's a lot of variation between countries. In one country, the oldest business was only founded in 1999. By contrast, the oldest business in the world was founded back in 578. That's pretty incredible that a business has survived for more than a millennium.\n",
    "\n",
    "I wonder how many other businesses there are like that.\n"
   ]
  },
  {
   "cell_type": "code",
   "execution_count": 6,
   "metadata": {
    "vscode": {
     "languageId": "sql"
    }
   },
   "outputs": [
    {
     "data": {
      "text/html": [
       "<table>\n",
       "    <thead>\n",
       "        <tr>\n",
       "            <th>count_star()</th>\n",
       "        </tr>\n",
       "    </thead>\n",
       "    <tbody>\n",
       "        <tr>\n",
       "            <td>6</td>\n",
       "        </tr>\n",
       "    </tbody>\n",
       "</table>"
      ],
      "text/plain": [
       "+--------------+\n",
       "| count_star() |\n",
       "+--------------+\n",
       "|      6       |\n",
       "+--------------+"
      ]
     },
     "execution_count": 6,
     "metadata": {},
     "output_type": "execute_result"
    }
   ],
   "source": [
    "%%sql\n",
    "-- count rows in businesses where `year_founded` is before 1000\n",
    "select count(*) from businesses where year_founded < 1000;\n"
   ]
  },
  {
   "cell_type": "markdown",
   "metadata": {},
   "source": [
    "## Which businesses were founded before 1000?\n",
    "\n",
    "Having a count is all very well, but I'd like more detail. Which businesses have been around for more than a millennium?"
   ]
  },
  {
   "cell_type": "code",
   "execution_count": 7,
   "metadata": {
    "vscode": {
     "languageId": "sql"
    }
   },
   "outputs": [
    {
     "data": {
      "text/html": [
       "<table>\n",
       "    <thead>\n",
       "        <tr>\n",
       "            <th>business</th>\n",
       "            <th>year_founded</th>\n",
       "            <th>category_code</th>\n",
       "            <th>country_code</th>\n",
       "        </tr>\n",
       "    </thead>\n",
       "    <tbody>\n",
       "        <tr>\n",
       "            <td>Kongō Gumi</td>\n",
       "            <td>578</td>\n",
       "            <td>CAT6</td>\n",
       "            <td>JPN</td>\n",
       "        </tr>\n",
       "        <tr>\n",
       "            <td>St. Peter Stifts Kulinarium</td>\n",
       "            <td>803</td>\n",
       "            <td>CAT4</td>\n",
       "            <td>AUT</td>\n",
       "        </tr>\n",
       "        <tr>\n",
       "            <td>Staffelter Hof Winery</td>\n",
       "            <td>862</td>\n",
       "            <td>CAT9</td>\n",
       "            <td>DEU</td>\n",
       "        </tr>\n",
       "        <tr>\n",
       "            <td>Monnaie de Paris </td>\n",
       "            <td>864</td>\n",
       "            <td>CAT12</td>\n",
       "            <td>FRA</td>\n",
       "        </tr>\n",
       "        <tr>\n",
       "            <td>The Royal Mint</td>\n",
       "            <td>886</td>\n",
       "            <td>CAT12</td>\n",
       "            <td>GBR</td>\n",
       "        </tr>\n",
       "        <tr>\n",
       "            <td>Sean's Bar</td>\n",
       "            <td>900</td>\n",
       "            <td>CAT4</td>\n",
       "            <td>IRL</td>\n",
       "        </tr>\n",
       "    </tbody>\n",
       "</table>"
      ],
      "text/plain": [
       "+-----------------------------+--------------+---------------+--------------+\n",
       "|           business          | year_founded | category_code | country_code |\n",
       "+-----------------------------+--------------+---------------+--------------+\n",
       "|          Kongō Gumi         |     578      |      CAT6     |     JPN      |\n",
       "| St. Peter Stifts Kulinarium |     803      |      CAT4     |     AUT      |\n",
       "|    Staffelter Hof Winery    |     862      |      CAT9     |     DEU      |\n",
       "|      Monnaie de Paris       |     864      |     CAT12     |     FRA      |\n",
       "|        The Royal Mint       |     886      |     CAT12     |     GBR      |\n",
       "|          Sean's Bar         |     900      |      CAT4     |     IRL      |\n",
       "+-----------------------------+--------------+---------------+--------------+"
      ]
     },
     "execution_count": 7,
     "metadata": {},
     "output_type": "execute_result"
    }
   ],
   "source": [
    "%%sql\n",
    "-- Select all columns from businesses where the founding year was before 1000\n",
    "-- Arrange the results from oldest to newest\n",
    "select * from businesses where year_founded < 1000 order by year_founded;\n"
   ]
  },
  {
   "cell_type": "markdown",
   "metadata": {},
   "source": [
    "## Exploring the categories\n",
    "\n",
    "Now we know that the oldest, continuously operating company in the world is called Kongō Gumi. But was does that company do? The category codes in the businesses table aren't very helpful: the descriptions of the categories are stored in the categories table.\n",
    "\n",
    "This is a common problem: for data storage, it's better to keep different types of data in different tables, but for analysis, you want all the data in one place. To solve this, you'll have to join the two tables together."
   ]
  },
  {
   "cell_type": "code",
   "execution_count": 8,
   "metadata": {
    "vscode": {
     "languageId": "sql"
    }
   },
   "outputs": [
    {
     "data": {
      "text/html": [
       "<table>\n",
       "    <thead>\n",
       "        <tr>\n",
       "            <th>business</th>\n",
       "            <th>year_founded</th>\n",
       "            <th>country_code</th>\n",
       "            <th>category</th>\n",
       "        </tr>\n",
       "    </thead>\n",
       "    <tbody>\n",
       "        <tr>\n",
       "            <td>Kongō Gumi</td>\n",
       "            <td>578</td>\n",
       "            <td>JPN</td>\n",
       "            <td>Construction</td>\n",
       "        </tr>\n",
       "        <tr>\n",
       "            <td>St. Peter Stifts Kulinarium</td>\n",
       "            <td>803</td>\n",
       "            <td>AUT</td>\n",
       "            <td>Cafés, Restaurants & Bars</td>\n",
       "        </tr>\n",
       "        <tr>\n",
       "            <td>Staffelter Hof Winery</td>\n",
       "            <td>862</td>\n",
       "            <td>DEU</td>\n",
       "            <td>Distillers, Vintners, & Breweries</td>\n",
       "        </tr>\n",
       "        <tr>\n",
       "            <td>Monnaie de Paris </td>\n",
       "            <td>864</td>\n",
       "            <td>FRA</td>\n",
       "            <td>Manufacturing & Production</td>\n",
       "        </tr>\n",
       "        <tr>\n",
       "            <td>The Royal Mint</td>\n",
       "            <td>886</td>\n",
       "            <td>GBR</td>\n",
       "            <td>Manufacturing & Production</td>\n",
       "        </tr>\n",
       "        <tr>\n",
       "            <td>Sean's Bar</td>\n",
       "            <td>900</td>\n",
       "            <td>IRL</td>\n",
       "            <td>Cafés, Restaurants & Bars</td>\n",
       "        </tr>\n",
       "    </tbody>\n",
       "</table>"
      ],
      "text/plain": [
       "+-----------------------------+--------------+--------------+-----------------------------------+\n",
       "|           business          | year_founded | country_code |              category             |\n",
       "+-----------------------------+--------------+--------------+-----------------------------------+\n",
       "|          Kongō Gumi         |     578      |     JPN      |            Construction           |\n",
       "| St. Peter Stifts Kulinarium |     803      |     AUT      |     Cafés, Restaurants & Bars     |\n",
       "|    Staffelter Hof Winery    |     862      |     DEU      | Distillers, Vintners, & Breweries |\n",
       "|      Monnaie de Paris       |     864      |     FRA      |     Manufacturing & Production    |\n",
       "|        The Royal Mint       |     886      |     GBR      |     Manufacturing & Production    |\n",
       "|          Sean's Bar         |     900      |     IRL      |     Cafés, Restaurants & Bars     |\n",
       "+-----------------------------+--------------+--------------+-----------------------------------+"
      ]
     },
     "execution_count": 8,
     "metadata": {},
     "output_type": "execute_result"
    }
   ],
   "source": [
    "%%sql\n",
    "-- Select business name, founding year, and country code from businesses; and category from categories\n",
    "-- where the founding year was before 1000, arranged from oldest to newest\n",
    "select b.business, b.year_founded, b.country_code, c.category from businesses b\n",
    "inner join categories c on b.category_code = c.category_code\n",
    "where b.year_founded < 1000\n",
    "order by b.year_founded;\n"
   ]
  },
  {
   "cell_type": "markdown",
   "metadata": {},
   "source": [
    "## Counting the categories\n",
    "\n",
    "With that extra detail about the oldest businesses, we can see that Kongō Gumi is a construction company. In that list of six businesses, we also see a café, a winery, and a bar. The two companies recorded as \"Manufacturing and Production\" are both mints. That is, they produce currency.\n",
    "\n",
    "I'm curious as to what other industries constitute the oldest companies around the world, and which industries are most common."
   ]
  },
  {
   "cell_type": "code",
   "execution_count": 9,
   "metadata": {
    "vscode": {
     "languageId": "sql"
    }
   },
   "outputs": [
    {
     "data": {
      "text/html": [
       "<table>\n",
       "    <thead>\n",
       "        <tr>\n",
       "            <th>category</th>\n",
       "            <th>n</th>\n",
       "        </tr>\n",
       "    </thead>\n",
       "    <tbody>\n",
       "        <tr>\n",
       "            <td>Banking & Finance</td>\n",
       "            <td>37</td>\n",
       "        </tr>\n",
       "        <tr>\n",
       "            <td>Distillers, Vintners, & Breweries</td>\n",
       "            <td>22</td>\n",
       "        </tr>\n",
       "        <tr>\n",
       "            <td>Aviation & Transport</td>\n",
       "            <td>19</td>\n",
       "        </tr>\n",
       "        <tr>\n",
       "            <td>Postal Service</td>\n",
       "            <td>16</td>\n",
       "        </tr>\n",
       "        <tr>\n",
       "            <td>Manufacturing & Production</td>\n",
       "            <td>15</td>\n",
       "        </tr>\n",
       "        <tr>\n",
       "            <td>Media</td>\n",
       "            <td>7</td>\n",
       "        </tr>\n",
       "        <tr>\n",
       "            <td>Food & Beverages</td>\n",
       "            <td>6</td>\n",
       "        </tr>\n",
       "        <tr>\n",
       "            <td>Agriculture</td>\n",
       "            <td>6</td>\n",
       "        </tr>\n",
       "        <tr>\n",
       "            <td>Cafés, Restaurants & Bars</td>\n",
       "            <td>6</td>\n",
       "        </tr>\n",
       "        <tr>\n",
       "            <td>Energy</td>\n",
       "            <td>4</td>\n",
       "        </tr>\n",
       "    </tbody>\n",
       "</table>\n",
       "<span style=\"font-style:italic;text-align:center;\">Truncated to <a href=\"https://jupysql.ploomber.io/en/latest/api/configuration.html#displaylimit\">displaylimit</a> of 10.</span>"
      ],
      "text/plain": [
       "+-----------------------------------+----+\n",
       "|              category             | n  |\n",
       "+-----------------------------------+----+\n",
       "|         Banking & Finance         | 37 |\n",
       "| Distillers, Vintners, & Breweries | 22 |\n",
       "|        Aviation & Transport       | 19 |\n",
       "|           Postal Service          | 16 |\n",
       "|     Manufacturing & Production    | 15 |\n",
       "|               Media               | 7  |\n",
       "|          Food & Beverages         | 6  |\n",
       "|            Agriculture            | 6  |\n",
       "|     Cafés, Restaurants & Bars     | 6  |\n",
       "|               Energy              | 4  |\n",
       "+-----------------------------------+----+\n",
       "Truncated to displaylimit of 10."
      ]
     },
     "execution_count": 9,
     "metadata": {},
     "output_type": "execute_result"
    }
   ],
   "source": [
    "%%sql\n",
    "-- Select the category and count of category (as \"n\")\n",
    "-- arranged by descending count, limited to 10 most common categories\n",
    "select c.category, count(c.category) as n from businesses b\n",
    "inner join categories c on b.category_code = c.category_code\n",
    "group by c.category\n",
    "order by n desc\n",
    "limit 10;\n"
   ]
  },
  {
   "cell_type": "markdown",
   "metadata": {},
   "source": [
    "## Oldest business by continent\n",
    "\n",
    "It looks like \"Banking & Finance\" is the most popular category. Maybe that's where you should aim if you want to start a thousand-year business.\n",
    "\n",
    "One thing we haven't looked at yet is where in the world these really old businesses are. To answer these questions, we'll need to join the businesses table to the countries table. Let's start by asking how old the oldest business is on each continent."
   ]
  },
  {
   "cell_type": "code",
   "execution_count": 10,
   "metadata": {
    "vscode": {
     "languageId": "sql"
    }
   },
   "outputs": [
    {
     "data": {
      "text/html": [
       "<table>\n",
       "    <thead>\n",
       "        <tr>\n",
       "            <th>oldest</th>\n",
       "            <th>continent</th>\n",
       "        </tr>\n",
       "    </thead>\n",
       "    <tbody>\n",
       "        <tr>\n",
       "            <td>578</td>\n",
       "            <td>Asia</td>\n",
       "        </tr>\n",
       "        <tr>\n",
       "            <td>803</td>\n",
       "            <td>Europe</td>\n",
       "        </tr>\n",
       "        <tr>\n",
       "            <td>1534</td>\n",
       "            <td>North America</td>\n",
       "        </tr>\n",
       "        <tr>\n",
       "            <td>1565</td>\n",
       "            <td>South America</td>\n",
       "        </tr>\n",
       "        <tr>\n",
       "            <td>1772</td>\n",
       "            <td>Africa</td>\n",
       "        </tr>\n",
       "        <tr>\n",
       "            <td>1809</td>\n",
       "            <td>Oceania</td>\n",
       "        </tr>\n",
       "    </tbody>\n",
       "</table>"
      ],
      "text/plain": [
       "+--------+---------------+\n",
       "| oldest |   continent   |\n",
       "+--------+---------------+\n",
       "|  578   |      Asia     |\n",
       "|  803   |     Europe    |\n",
       "|  1534  | North America |\n",
       "|  1565  | South America |\n",
       "|  1772  |     Africa    |\n",
       "|  1809  |    Oceania    |\n",
       "+--------+---------------+"
      ]
     },
     "execution_count": 10,
     "metadata": {},
     "output_type": "execute_result"
    }
   ],
   "source": [
    "%%sql\n",
    "-- Select the oldest founding year (as \"oldest\") from businesses, \n",
    "-- and continent from countries\n",
    "-- for each continent, ordered from oldest to newest \n",
    "select min(b.year_founded) as oldest, c.continent from businesses b\n",
    "inner join countries c on b.country_code = c.country_code\n",
    "group by c.continent\n",
    "order by oldest;\n"
   ]
  },
  {
   "cell_type": "markdown",
   "metadata": {},
   "source": [
    "## Joining everything for further analysis\n",
    "\n",
    "Interesting. There's a jump in time from the older businesses in Asia and Europe to the 16th Century oldest businesses in North and South America, then to the 18th and 19th Century oldest businesses in Africa and Oceania.\n",
    "\n",
    "As mentioned earlier, when analyzing data it's often really helpful to have all the tables you want access to joined together into a single set of results that can be analyzed further. Here, that means we need to join all three tables."
   ]
  },
  {
   "cell_type": "code",
   "execution_count": 11,
   "metadata": {
    "vscode": {
     "languageId": "sql"
    }
   },
   "outputs": [
    {
     "data": {
      "text/html": [
       "<table>\n",
       "    <thead>\n",
       "        <tr>\n",
       "            <th>business</th>\n",
       "            <th>year_founded</th>\n",
       "            <th>category</th>\n",
       "            <th>country</th>\n",
       "            <th>continent</th>\n",
       "        </tr>\n",
       "    </thead>\n",
       "    <tbody>\n",
       "        <tr>\n",
       "            <td>Spinzar Cotton Company</td>\n",
       "            <td>1930</td>\n",
       "            <td>Agriculture</td>\n",
       "            <td>Afghanistan</td>\n",
       "            <td>Asia</td>\n",
       "        </tr>\n",
       "        <tr>\n",
       "            <td>ALBtelecom</td>\n",
       "            <td>1912</td>\n",
       "            <td>Telecommunications</td>\n",
       "            <td>Albania</td>\n",
       "            <td>Europe</td>\n",
       "        </tr>\n",
       "        <tr>\n",
       "            <td>Andbank</td>\n",
       "            <td>1930</td>\n",
       "            <td>Banking & Finance</td>\n",
       "            <td>Andorra</td>\n",
       "            <td>Europe</td>\n",
       "        </tr>\n",
       "        <tr>\n",
       "            <td>Liwa Chemicals</td>\n",
       "            <td>1939</td>\n",
       "            <td>Manufacturing & Production</td>\n",
       "            <td>United Arab Emirates</td>\n",
       "            <td>Asia</td>\n",
       "        </tr>\n",
       "        <tr>\n",
       "            <td>Bank of the Province of Buenos Aires</td>\n",
       "            <td>1822</td>\n",
       "            <td>Banking & Finance</td>\n",
       "            <td>Argentina</td>\n",
       "            <td>South America</td>\n",
       "        </tr>\n",
       "        <tr>\n",
       "            <td>Yerevan Ararat Brandy-Wine-Vodka Factory</td>\n",
       "            <td>1877</td>\n",
       "            <td>Distillers, Vintners, & Breweries</td>\n",
       "            <td>Armenia</td>\n",
       "            <td>Asia</td>\n",
       "        </tr>\n",
       "        <tr>\n",
       "            <td>Australia Post</td>\n",
       "            <td>1809</td>\n",
       "            <td>Postal Service</td>\n",
       "            <td>Australia</td>\n",
       "            <td>Oceania</td>\n",
       "        </tr>\n",
       "        <tr>\n",
       "            <td>St. Peter Stifts Kulinarium</td>\n",
       "            <td>803</td>\n",
       "            <td>Cafés, Restaurants & Bars</td>\n",
       "            <td>Austria</td>\n",
       "            <td>Europe</td>\n",
       "        </tr>\n",
       "        <tr>\n",
       "            <td>Azerbaijan Caspian Shipping Company</td>\n",
       "            <td>1858</td>\n",
       "            <td>Aviation & Transport</td>\n",
       "            <td>Azerbaijan</td>\n",
       "            <td>Asia</td>\n",
       "        </tr>\n",
       "        <tr>\n",
       "            <td>Brarudi</td>\n",
       "            <td>1955</td>\n",
       "            <td>Distillers, Vintners, & Breweries</td>\n",
       "            <td>Burundi</td>\n",
       "            <td>Africa</td>\n",
       "        </tr>\n",
       "    </tbody>\n",
       "</table>\n",
       "<span style=\"font-style:italic;text-align:center;\">Truncated to <a href=\"https://jupysql.ploomber.io/en/latest/api/configuration.html#displaylimit\">displaylimit</a> of 10.</span>"
      ],
      "text/plain": [
       "+------------------------------------------+--------------+-----------------------------------+----------------------+---------------+\n",
       "|                 business                 | year_founded |              category             |       country        |   continent   |\n",
       "+------------------------------------------+--------------+-----------------------------------+----------------------+---------------+\n",
       "|          Spinzar Cotton Company          |     1930     |            Agriculture            |     Afghanistan      |      Asia     |\n",
       "|                ALBtelecom                |     1912     |         Telecommunications        |       Albania        |     Europe    |\n",
       "|                 Andbank                  |     1930     |         Banking & Finance         |       Andorra        |     Europe    |\n",
       "|              Liwa Chemicals              |     1939     |     Manufacturing & Production    | United Arab Emirates |      Asia     |\n",
       "|   Bank of the Province of Buenos Aires   |     1822     |         Banking & Finance         |      Argentina       | South America |\n",
       "| Yerevan Ararat Brandy-Wine-Vodka Factory |     1877     | Distillers, Vintners, & Breweries |       Armenia        |      Asia     |\n",
       "|              Australia Post              |     1809     |           Postal Service          |      Australia       |    Oceania    |\n",
       "|       St. Peter Stifts Kulinarium        |     803      |     Cafés, Restaurants & Bars     |       Austria        |     Europe    |\n",
       "|   Azerbaijan Caspian Shipping Company    |     1858     |        Aviation & Transport       |      Azerbaijan      |      Asia     |\n",
       "|                 Brarudi                  |     1955     | Distillers, Vintners, & Breweries |       Burundi        |     Africa    |\n",
       "+------------------------------------------+--------------+-----------------------------------+----------------------+---------------+\n",
       "Truncated to displaylimit of 10."
      ]
     },
     "execution_count": 11,
     "metadata": {},
     "output_type": "execute_result"
    }
   ],
   "source": [
    "%%sql\n",
    "-- Select the business, founding year, category, country, and continent\n",
    "-- Join businesses to categories and countries\n",
    "select b.business, b.year_founded, c.category, co.country, co.continent from businesses b\n",
    "inner join categories c on b.category_code = c.category_code\n",
    "inner join countries co on b.country_code = co.country_code;\n"
   ]
  },
  {
   "cell_type": "markdown",
   "metadata": {},
   "source": [
    "## Counting categories by continent\n",
    "\n",
    "Having businesses joined to categories and countries together means we can ask questions about both these things together. For example, which are the most common categories for the oldest businesses on each continent?"
   ]
  },
  {
   "cell_type": "code",
   "execution_count": 12,
   "metadata": {
    "vscode": {
     "languageId": "sql"
    }
   },
   "outputs": [
    {
     "data": {
      "text/html": [
       "<table>\n",
       "    <thead>\n",
       "        <tr>\n",
       "            <th>continent</th>\n",
       "            <th>category</th>\n",
       "            <th>n</th>\n",
       "        </tr>\n",
       "    </thead>\n",
       "    <tbody>\n",
       "        <tr>\n",
       "            <td>Asia</td>\n",
       "            <td>Agriculture</td>\n",
       "            <td>1</td>\n",
       "        </tr>\n",
       "        <tr>\n",
       "            <td>Europe</td>\n",
       "            <td>Telecommunications</td>\n",
       "            <td>1</td>\n",
       "        </tr>\n",
       "        <tr>\n",
       "            <td>Asia</td>\n",
       "            <td>Manufacturing & Production</td>\n",
       "            <td>3</td>\n",
       "        </tr>\n",
       "        <tr>\n",
       "            <td>South America</td>\n",
       "            <td>Banking & Finance</td>\n",
       "            <td>3</td>\n",
       "        </tr>\n",
       "        <tr>\n",
       "            <td>Asia</td>\n",
       "            <td>Distillers, Vintners, & Breweries</td>\n",
       "            <td>2</td>\n",
       "        </tr>\n",
       "        <tr>\n",
       "            <td>Oceania</td>\n",
       "            <td>Postal Service</td>\n",
       "            <td>1</td>\n",
       "        </tr>\n",
       "        <tr>\n",
       "            <td>Europe</td>\n",
       "            <td>Distillers, Vintners, & Breweries</td>\n",
       "            <td>12</td>\n",
       "        </tr>\n",
       "        <tr>\n",
       "            <td>Africa</td>\n",
       "            <td>Energy</td>\n",
       "            <td>1</td>\n",
       "        </tr>\n",
       "        <tr>\n",
       "            <td>Africa</td>\n",
       "            <td>Aviation & Transport</td>\n",
       "            <td>10</td>\n",
       "        </tr>\n",
       "        <tr>\n",
       "            <td>Asia</td>\n",
       "            <td>Food & Beverages</td>\n",
       "            <td>2</td>\n",
       "        </tr>\n",
       "    </tbody>\n",
       "</table>\n",
       "<span style=\"font-style:italic;text-align:center;\">Truncated to <a href=\"https://jupysql.ploomber.io/en/latest/api/configuration.html#displaylimit\">displaylimit</a> of 10.</span>"
      ],
      "text/plain": [
       "+---------------+-----------------------------------+----+\n",
       "|   continent   |              category             | n  |\n",
       "+---------------+-----------------------------------+----+\n",
       "|      Asia     |            Agriculture            | 1  |\n",
       "|     Europe    |         Telecommunications        | 1  |\n",
       "|      Asia     |     Manufacturing & Production    | 3  |\n",
       "| South America |         Banking & Finance         | 3  |\n",
       "|      Asia     | Distillers, Vintners, & Breweries | 2  |\n",
       "|    Oceania    |           Postal Service          | 1  |\n",
       "|     Europe    | Distillers, Vintners, & Breweries | 12 |\n",
       "|     Africa    |               Energy              | 1  |\n",
       "|     Africa    |        Aviation & Transport       | 10 |\n",
       "|      Asia     |          Food & Beverages         | 2  |\n",
       "+---------------+-----------------------------------+----+\n",
       "Truncated to displaylimit of 10."
      ]
     },
     "execution_count": 12,
     "metadata": {},
     "output_type": "execute_result"
    }
   ],
   "source": [
    "%%sql\n",
    "-- Count the number of businesses in each continent and category\n",
    "select co.continent, c.category, count(b.business) as n from businesses b\n",
    "inner join categories c on b.category_code = c.category_code\n",
    "inner join countries co on b.country_code = co.country_code\n",
    "group by co.continent, c.category;\n"
   ]
  },
  {
   "cell_type": "markdown",
   "metadata": {},
   "source": [
    "## Filtering counts by continent and category\n",
    "\n",
    "Combining continent and business category led to a lot of results. It's difficult to see what is important. To trim this down to a manageable size, let's restrict the results to only continent/category pairs with a high count."
   ]
  },
  {
   "cell_type": "code",
   "execution_count": 13,
   "metadata": {
    "vscode": {
     "languageId": "sql"
    }
   },
   "outputs": [
    {
     "data": {
      "text/html": [
       "<table>\n",
       "    <thead>\n",
       "        <tr>\n",
       "            <th>continent</th>\n",
       "            <th>category</th>\n",
       "            <th>n</th>\n",
       "        </tr>\n",
       "    </thead>\n",
       "    <tbody>\n",
       "        <tr>\n",
       "            <td>Africa</td>\n",
       "            <td>Banking & Finance</td>\n",
       "            <td>17</td>\n",
       "        </tr>\n",
       "        <tr>\n",
       "            <td>Europe</td>\n",
       "            <td>Distillers, Vintners, & Breweries</td>\n",
       "            <td>12</td>\n",
       "        </tr>\n",
       "        <tr>\n",
       "            <td>Africa</td>\n",
       "            <td>Aviation & Transport</td>\n",
       "            <td>10</td>\n",
       "        </tr>\n",
       "        <tr>\n",
       "            <td>Africa</td>\n",
       "            <td>Postal Service</td>\n",
       "            <td>9</td>\n",
       "        </tr>\n",
       "        <tr>\n",
       "            <td>Europe</td>\n",
       "            <td>Manufacturing & Production</td>\n",
       "            <td>8</td>\n",
       "        </tr>\n",
       "        <tr>\n",
       "            <td>Asia</td>\n",
       "            <td>Aviation & Transport</td>\n",
       "            <td>7</td>\n",
       "        </tr>\n",
       "        <tr>\n",
       "            <td>Asia</td>\n",
       "            <td>Banking & Finance</td>\n",
       "            <td>6</td>\n",
       "        </tr>\n",
       "    </tbody>\n",
       "</table>"
      ],
      "text/plain": [
       "+-----------+-----------------------------------+----+\n",
       "| continent |              category             | n  |\n",
       "+-----------+-----------------------------------+----+\n",
       "|   Africa  |         Banking & Finance         | 17 |\n",
       "|   Europe  | Distillers, Vintners, & Breweries | 12 |\n",
       "|   Africa  |        Aviation & Transport       | 10 |\n",
       "|   Africa  |           Postal Service          | 9  |\n",
       "|   Europe  |     Manufacturing & Production    | 8  |\n",
       "|    Asia   |        Aviation & Transport       | 7  |\n",
       "|    Asia   |         Banking & Finance         | 6  |\n",
       "+-----------+-----------------------------------+----+"
      ]
     },
     "execution_count": 13,
     "metadata": {},
     "output_type": "execute_result"
    }
   ],
   "source": [
    "%%sql\n",
    "-- Repeat that previous query, filtering for results having a count greater than 5\n",
    "select co.continent, c.category, count(b.business) as n from businesses b\n",
    "inner join categories c on b.category_code = c.category_code\n",
    "inner join countries co on b.country_code = co.country_code\n",
    "group by co.continent, c.category\n",
    "having n > 5\n",
    "order by n desc;\n"
   ]
  }
 ],
 "metadata": {
  "kernelspec": {
   "display_name": "datacamp-LCGQf5bf-py3.11",
   "language": "python",
   "name": "python3"
  },
  "language_info": {
   "codemirror_mode": {
    "name": "ipython",
    "version": 3
   },
   "file_extension": ".py",
   "mimetype": "text/x-python",
   "name": "python",
   "nbconvert_exporter": "python",
   "pygments_lexer": "ipython3",
   "version": "3.11.6"
  }
 },
 "nbformat": 4,
 "nbformat_minor": 2
}
