{
 "cells": [
  {
   "cell_type": "markdown",
   "id": "26158fa8",
   "metadata": {},
   "source": [
    "# [Statistics in Python](https://www.datacamp.com/completed/statement-of-accomplishment/course/0e9473c629958511c9c277c8235083e21eba94ae)\n",
    "\n",
    "[![Open in Colab](https://colab.research.google.com/assets/colab-badge.svg)](https://colab.research.google.com/github/adamelliotfields/datacamp/blob/main/notebooks/data_science/statistics_in_python/notebook.ipynb)\n",
    "\n",
    "**Contents**\n",
    "  * [Summary Statistics](#Summary-Statistics)\n",
    "  * [Probability](#Probability)\n",
    "  * [Central Limit Theorem](#Central-Limit-Theorem)\n",
    "  * [Correlation](#Correlation)"
   ]
  },
  {
   "cell_type": "code",
   "execution_count": 1,
   "id": "54efa724",
   "metadata": {},
   "outputs": [],
   "source": [
    "import matplotlib.pyplot as plt\n",
    "import numpy as np\n",
    "import pandas as pd\n",
    "import seaborn as sns\n",
    "\n",
    "from scipy.stats import binom, expon, norm, poisson, uniform\n",
    "\n",
    "BASE_URL = \"https://raw.githubusercontent.com/adamelliotfields/datacamp/main/notebooks/data_science/statistics_in_python/\""
   ]
  },
  {
   "cell_type": "code",
   "execution_count": 2,
   "id": "33d7edd4",
   "metadata": {},
   "outputs": [
    {
     "data": {
      "text/html": [
       "<div>\n",
       "<style scoped>\n",
       "    .dataframe tbody tr th:only-of-type {\n",
       "        vertical-align: middle;\n",
       "    }\n",
       "\n",
       "    .dataframe tbody tr th {\n",
       "        vertical-align: top;\n",
       "    }\n",
       "\n",
       "    .dataframe thead th {\n",
       "        text-align: right;\n",
       "    }\n",
       "</style>\n",
       "<table border=\"1\" class=\"dataframe\">\n",
       "  <thead>\n",
       "    <tr style=\"text-align: right;\">\n",
       "      <th></th>\n",
       "      <th>country</th>\n",
       "      <th>food_category</th>\n",
       "      <th>consumption</th>\n",
       "      <th>co2_emission</th>\n",
       "    </tr>\n",
       "  </thead>\n",
       "  <tbody>\n",
       "    <tr>\n",
       "      <th>0</th>\n",
       "      <td>Argentina</td>\n",
       "      <td>pork</td>\n",
       "      <td>10.51</td>\n",
       "      <td>37.20</td>\n",
       "    </tr>\n",
       "    <tr>\n",
       "      <th>1</th>\n",
       "      <td>Argentina</td>\n",
       "      <td>poultry</td>\n",
       "      <td>38.66</td>\n",
       "      <td>41.53</td>\n",
       "    </tr>\n",
       "    <tr>\n",
       "      <th>2</th>\n",
       "      <td>Argentina</td>\n",
       "      <td>beef</td>\n",
       "      <td>55.48</td>\n",
       "      <td>1712.00</td>\n",
       "    </tr>\n",
       "    <tr>\n",
       "      <th>3</th>\n",
       "      <td>Argentina</td>\n",
       "      <td>lamb_goat</td>\n",
       "      <td>1.56</td>\n",
       "      <td>54.63</td>\n",
       "    </tr>\n",
       "    <tr>\n",
       "      <th>4</th>\n",
       "      <td>Argentina</td>\n",
       "      <td>fish</td>\n",
       "      <td>4.36</td>\n",
       "      <td>6.96</td>\n",
       "    </tr>\n",
       "  </tbody>\n",
       "</table>\n",
       "</div>"
      ],
      "text/plain": [
       "     country food_category  consumption  co2_emission\n",
       "0  Argentina          pork        10.51         37.20\n",
       "1  Argentina       poultry        38.66         41.53\n",
       "2  Argentina          beef        55.48       1712.00\n",
       "3  Argentina     lamb_goat         1.56         54.63\n",
       "4  Argentina          fish         4.36          6.96"
      ]
     },
     "execution_count": 2,
     "metadata": {},
     "output_type": "execute_result"
    }
   ],
   "source": [
    "# 2018 food carbon footprint index\n",
    "food_consumption = pd.read_csv(BASE_URL + \"food_consumption.csv\")\n",
    "food_consumption.head()"
   ]
  },
  {
   "cell_type": "code",
   "execution_count": 3,
   "id": "01482e45",
   "metadata": {},
   "outputs": [
    {
     "data": {
      "text/html": [
       "<div>\n",
       "<style scoped>\n",
       "    .dataframe tbody tr th:only-of-type {\n",
       "        vertical-align: middle;\n",
       "    }\n",
       "\n",
       "    .dataframe tbody tr th {\n",
       "        vertical-align: top;\n",
       "    }\n",
       "\n",
       "    .dataframe thead th {\n",
       "        text-align: right;\n",
       "    }\n",
       "</style>\n",
       "<table border=\"1\" class=\"dataframe\">\n",
       "  <thead>\n",
       "    <tr style=\"text-align: right;\">\n",
       "      <th></th>\n",
       "      <th>product</th>\n",
       "      <th>client</th>\n",
       "      <th>status</th>\n",
       "      <th>amount</th>\n",
       "      <th>num_users</th>\n",
       "    </tr>\n",
       "  </thead>\n",
       "  <tbody>\n",
       "    <tr>\n",
       "      <th>0</th>\n",
       "      <td>Product F</td>\n",
       "      <td>Current</td>\n",
       "      <td>Won</td>\n",
       "      <td>7389.52</td>\n",
       "      <td>19</td>\n",
       "    </tr>\n",
       "    <tr>\n",
       "      <th>1</th>\n",
       "      <td>Product C</td>\n",
       "      <td>New</td>\n",
       "      <td>Won</td>\n",
       "      <td>4493.01</td>\n",
       "      <td>43</td>\n",
       "    </tr>\n",
       "    <tr>\n",
       "      <th>2</th>\n",
       "      <td>Product B</td>\n",
       "      <td>New</td>\n",
       "      <td>Won</td>\n",
       "      <td>5738.09</td>\n",
       "      <td>87</td>\n",
       "    </tr>\n",
       "    <tr>\n",
       "      <th>3</th>\n",
       "      <td>Product I</td>\n",
       "      <td>Current</td>\n",
       "      <td>Won</td>\n",
       "      <td>2591.24</td>\n",
       "      <td>83</td>\n",
       "    </tr>\n",
       "    <tr>\n",
       "      <th>4</th>\n",
       "      <td>Product E</td>\n",
       "      <td>Current</td>\n",
       "      <td>Won</td>\n",
       "      <td>6622.97</td>\n",
       "      <td>17</td>\n",
       "    </tr>\n",
       "  </tbody>\n",
       "</table>\n",
       "</div>"
      ],
      "text/plain": [
       "     product   client status   amount  num_users\n",
       "0  Product F  Current    Won  7389.52         19\n",
       "1  Product C      New    Won  4493.01         43\n",
       "2  Product B      New    Won  5738.09         87\n",
       "3  Product I  Current    Won  2591.24         83\n",
       "4  Product E  Current    Won  6622.97         17"
      ]
     },
     "execution_count": 3,
     "metadata": {},
     "output_type": "execute_result"
    }
   ],
   "source": [
    "amir_deals = pd.read_csv(BASE_URL + \"amir_deals.csv\")\n",
    "amir_deals.head()"
   ]
  },
  {
   "cell_type": "code",
   "execution_count": 4,
   "id": "de1c4350",
   "metadata": {},
   "outputs": [
    {
     "data": {
      "text/html": [
       "<div>\n",
       "<style scoped>\n",
       "    .dataframe tbody tr th:only-of-type {\n",
       "        vertical-align: middle;\n",
       "    }\n",
       "\n",
       "    .dataframe tbody tr th {\n",
       "        vertical-align: top;\n",
       "    }\n",
       "\n",
       "    .dataframe thead th {\n",
       "        text-align: right;\n",
       "    }\n",
       "</style>\n",
       "<table border=\"1\" class=\"dataframe\">\n",
       "  <thead>\n",
       "    <tr style=\"text-align: right;\">\n",
       "      <th></th>\n",
       "      <th>product</th>\n",
       "      <th>num_users</th>\n",
       "    </tr>\n",
       "  </thead>\n",
       "  <tbody>\n",
       "    <tr>\n",
       "      <th>0</th>\n",
       "      <td>3544</td>\n",
       "      <td>19</td>\n",
       "    </tr>\n",
       "    <tr>\n",
       "      <th>1</th>\n",
       "      <td>5073</td>\n",
       "      <td>43</td>\n",
       "    </tr>\n",
       "    <tr>\n",
       "      <th>2</th>\n",
       "      <td>6149</td>\n",
       "      <td>87</td>\n",
       "    </tr>\n",
       "    <tr>\n",
       "      <th>3</th>\n",
       "      <td>7863</td>\n",
       "      <td>83</td>\n",
       "    </tr>\n",
       "    <tr>\n",
       "      <th>4</th>\n",
       "      <td>14</td>\n",
       "      <td>17</td>\n",
       "    </tr>\n",
       "  </tbody>\n",
       "</table>\n",
       "</div>"
      ],
      "text/plain": [
       "   product  num_users\n",
       "0     3544         19\n",
       "1     5073         43\n",
       "2     6149         87\n",
       "3     7863         83\n",
       "4       14         17"
      ]
     },
     "execution_count": 4,
     "metadata": {},
     "output_type": "execute_result"
    }
   ],
   "source": [
    "all_deals = pd.read_csv(BASE_URL + \"all_deals.csv\")\n",
    "all_deals.head()"
   ]
  },
  {
   "cell_type": "code",
   "execution_count": 5,
   "id": "01aa2a33",
   "metadata": {},
   "outputs": [
    {
     "data": {
      "text/html": [
       "<div>\n",
       "<style scoped>\n",
       "    .dataframe tbody tr th:only-of-type {\n",
       "        vertical-align: middle;\n",
       "    }\n",
       "\n",
       "    .dataframe tbody tr th {\n",
       "        vertical-align: top;\n",
       "    }\n",
       "\n",
       "    .dataframe thead th {\n",
       "        text-align: right;\n",
       "    }\n",
       "</style>\n",
       "<table border=\"1\" class=\"dataframe\">\n",
       "  <thead>\n",
       "    <tr style=\"text-align: right;\">\n",
       "      <th></th>\n",
       "      <th>country</th>\n",
       "      <th>social_support</th>\n",
       "      <th>freedom</th>\n",
       "      <th>corruption</th>\n",
       "      <th>generosity</th>\n",
       "      <th>gdp_per_cap</th>\n",
       "      <th>life_exp</th>\n",
       "      <th>happiness_score</th>\n",
       "      <th>grams_sugar_per_day</th>\n",
       "    </tr>\n",
       "  </thead>\n",
       "  <tbody>\n",
       "    <tr>\n",
       "      <th>0</th>\n",
       "      <td>Finland</td>\n",
       "      <td>2</td>\n",
       "      <td>5</td>\n",
       "      <td>4.0</td>\n",
       "      <td>47</td>\n",
       "      <td>42400</td>\n",
       "      <td>81.8</td>\n",
       "      <td>155</td>\n",
       "      <td>86.8</td>\n",
       "    </tr>\n",
       "    <tr>\n",
       "      <th>1</th>\n",
       "      <td>Denmark</td>\n",
       "      <td>4</td>\n",
       "      <td>6</td>\n",
       "      <td>3.0</td>\n",
       "      <td>22</td>\n",
       "      <td>48300</td>\n",
       "      <td>81.0</td>\n",
       "      <td>154</td>\n",
       "      <td>152.0</td>\n",
       "    </tr>\n",
       "    <tr>\n",
       "      <th>2</th>\n",
       "      <td>Norway</td>\n",
       "      <td>3</td>\n",
       "      <td>3</td>\n",
       "      <td>8.0</td>\n",
       "      <td>11</td>\n",
       "      <td>66300</td>\n",
       "      <td>82.6</td>\n",
       "      <td>153</td>\n",
       "      <td>120.0</td>\n",
       "    </tr>\n",
       "    <tr>\n",
       "      <th>3</th>\n",
       "      <td>Iceland</td>\n",
       "      <td>1</td>\n",
       "      <td>7</td>\n",
       "      <td>45.0</td>\n",
       "      <td>3</td>\n",
       "      <td>47900</td>\n",
       "      <td>83.0</td>\n",
       "      <td>152</td>\n",
       "      <td>132.0</td>\n",
       "    </tr>\n",
       "    <tr>\n",
       "      <th>4</th>\n",
       "      <td>Netherlands</td>\n",
       "      <td>15</td>\n",
       "      <td>19</td>\n",
       "      <td>12.0</td>\n",
       "      <td>7</td>\n",
       "      <td>50500</td>\n",
       "      <td>81.8</td>\n",
       "      <td>151</td>\n",
       "      <td>122.0</td>\n",
       "    </tr>\n",
       "  </tbody>\n",
       "</table>\n",
       "</div>"
      ],
      "text/plain": [
       "       country  social_support  freedom  corruption  generosity  gdp_per_cap  \\\n",
       "0      Finland               2        5         4.0          47        42400   \n",
       "1      Denmark               4        6         3.0          22        48300   \n",
       "2       Norway               3        3         8.0          11        66300   \n",
       "3      Iceland               1        7        45.0           3        47900   \n",
       "4  Netherlands              15       19        12.0           7        50500   \n",
       "\n",
       "   life_exp  happiness_score  grams_sugar_per_day  \n",
       "0      81.8              155                 86.8  \n",
       "1      81.0              154                152.0  \n",
       "2      82.6              153                120.0  \n",
       "3      83.0              152                132.0  \n",
       "4      81.8              151                122.0  "
      ]
     },
     "execution_count": 5,
     "metadata": {},
     "output_type": "execute_result"
    }
   ],
   "source": [
    "world_happiness = pd.read_csv(BASE_URL + \"world_happiness.csv\")\n",
    "world_happiness.head()"
   ]
  },
  {
   "cell_type": "markdown",
   "id": "4bc684b5",
   "metadata": {},
   "source": [
    "## Summary Statistics"
   ]
  },
  {
   "cell_type": "markdown",
   "id": "5f5f3c65",
   "metadata": {},
   "source": [
    "### Measures of Center"
   ]
  },
  {
   "cell_type": "code",
   "execution_count": 6,
   "id": "cacef939",
   "metadata": {},
   "outputs": [
    {
     "name": "stdout",
     "output_type": "stream",
     "text": [
      "42.13272727272727\n",
      "12.59\n",
      "44.650000000000006\n",
      "14.58\n"
     ]
    }
   ],
   "source": [
    "# filter for Belgium and USA\n",
    "be_consumption = food_consumption[food_consumption.country == \"Belgium\"]\n",
    "usa_consumption = food_consumption[food_consumption.country == \"USA\"]\n",
    "\n",
    "# print mean and median consumption\n",
    "print(be_consumption.consumption.mean())\n",
    "print(be_consumption.consumption.median())\n",
    "print(usa_consumption.consumption.mean())\n",
    "print(usa_consumption.consumption.median())"
   ]
  },
  {
   "cell_type": "code",
   "execution_count": 7,
   "id": "9f12935e",
   "metadata": {},
   "outputs": [
    {
     "name": "stdout",
     "output_type": "stream",
     "text": [
      "              mean  median\n",
      "country                   \n",
      "Belgium  42.132727   12.59\n",
      "USA      44.650000   14.58\n"
     ]
    }
   ],
   "source": [
    "# subset for belgium and usa\n",
    "be_and_usa = food_consumption[\n",
    "    (food_consumption.country == \"Belgium\") | (food_consumption.country == \"USA\")\n",
    "]\n",
    "\n",
    "# group by country and aggregate consumption mean and median\n",
    "print(be_and_usa.groupby(\"country\").consumption.agg([\"mean\", \"median\"]))"
   ]
  },
  {
   "cell_type": "code",
   "execution_count": 8,
   "id": "0bfadfdf",
   "metadata": {},
   "outputs": [
    {
     "name": "stdout",
     "output_type": "stream",
     "text": [
      "mean      26.936161\n",
      "median    11.525000\n",
      "Name: co2_emission, dtype: float64\n"
     ]
    }
   ],
   "source": [
    "# subset for rice food category\n",
    "rice_consumption = food_consumption[food_consumption.food_category == \"rice\"]\n",
    "\n",
    "# print aggregate mean and median CO2 emissions for rice\n",
    "print(rice_consumption.co2_emission.agg([\"mean\", \"median\"]))"
   ]
  },
  {
   "cell_type": "code",
   "execution_count": 9,
   "id": "d3c1ae1f",
   "metadata": {},
   "outputs": [
    {
     "data": {
      "image/png": "[encoded data removed]",
      "text/plain": [
       "<Figure size 640x480 with 1 Axes>"
      ]
     },
     "metadata": {},
     "output_type": "display_data"
    }
   ],
   "source": [
    "# plot histogram of CO2 emissions for rice\n",
    "plt.hist(rice_consumption.co2_emission)\n",
    "plt.show()"
   ]
  },
  {
   "cell_type": "markdown",
   "id": "c497ebc8",
   "metadata": {},
   "source": [
    "### Measures of Spread"
   ]
  },
  {
   "cell_type": "code",
   "execution_count": 10,
   "id": "7c39f1fa",
   "metadata": {},
   "outputs": [
    {
     "name": "stdout",
     "output_type": "stream",
     "text": [
      "[   0.        6.1425   17.855    72.9275 1712.    ]\n",
      "[   0.       4.274   12.068   28.058  115.816 1712.   ]\n",
      "[0.00000e+00 6.97000e-01 4.27400e+00 7.68400e+00 1.20680e+01 1.78550e+01\n",
      " 2.80580e+01 4.95240e+01 1.15816e+02 2.32115e+02 1.71200e+03]\n"
     ]
    }
   ],
   "source": [
    "# print quantiles of CO2 emission\n",
    "print(np.quantile(food_consumption.co2_emission, [0, 0.25, 0.5, 0.75, 1]))\n",
    "print(np.quantile(food_consumption.co2_emission, [0, 0.2, 0.4, 0.6, 0.8, 1]))\n",
    "print(\n",
    "    np.quantile(food_consumption.co2_emission, [0, 0.1, 0.2, 0.3, 0.4, 0.5, 0.6, 0.7, 0.8, 0.9, 1])\n",
    ")"
   ]
  },
  {
   "cell_type": "code",
   "execution_count": 11,
   "id": "fc7efd72",
   "metadata": {},
   "outputs": [
    {
     "name": "stdout",
     "output_type": "stream",
     "text": [
      "                        var         std\n",
      "food_category                          \n",
      "beef           85964.636005  293.197265\n",
      "dairy          16097.977378  126.877805\n",
      "eggs              19.391603    4.403590\n",
      "fish            1018.610794   31.915683\n",
      "lamb_goat      18334.348116  135.404387\n",
      "nuts              38.560980    6.209749\n",
      "pork            3180.103220   56.392404\n",
      "poultry          225.651097   15.021688\n",
      "rice            1158.404319   34.035339\n",
      "soybeans           0.975777    0.987814\n",
      "wheat             62.821538    7.926004\n"
     ]
    }
   ],
   "source": [
    "# print variance and stddev of CO2 emissions for each food category\n",
    "print(food_consumption.groupby(\"food_category\").co2_emission.agg([\"var\", \"std\"]))"
   ]
  },
  {
   "cell_type": "code",
   "execution_count": 12,
   "id": "07235b46",
   "metadata": {},
   "outputs": [
    {
     "data": {
      "image/png": "[encoded data removed]",
      "text/plain": [
       "<Figure size 640x480 with 1 Axes>"
      ]
     },
     "metadata": {},
     "output_type": "display_data"
    }
   ],
   "source": [
    "# create histogram of CO2 emissions for beef\n",
    "plt.hist(food_consumption[food_consumption.food_category == \"beef\"].co2_emission)\n",
    "plt.show()"
   ]
  },
  {
   "cell_type": "code",
   "execution_count": 13,
   "id": "3b4012c3",
   "metadata": {},
   "outputs": [
    {
     "name": "stdout",
     "output_type": "stream",
     "text": [
      "country\n",
      "Argentina    2172.4\n",
      "Name: co2_emission, dtype: float64\n"
     ]
    }
   ],
   "source": [
    "# total emissions per country\n",
    "emissions_by_country = food_consumption.groupby(\"country\").co2_emission.sum()\n",
    "\n",
    "# first, third, and IQR\n",
    "q1 = np.quantile(emissions_by_country, 0.25)\n",
    "q3 = np.quantile(emissions_by_country, 0.75)\n",
    "iqr = q3 - q1\n",
    "\n",
    "# lower and upper bounds\n",
    "lower = q1 - 1.5 * iqr\n",
    "upper = q3 + 1.5 * iqr\n",
    "\n",
    "# subset to find outliers and print\n",
    "outliers = emissions_by_country[(emissions_by_country < lower) | (emissions_by_country > upper)]\n",
    "print(outliers)"
   ]
  },
  {
   "cell_type": "markdown",
   "id": "8d6af33c",
   "metadata": {},
   "source": [
    "## Probability"
   ]
  },
  {
   "cell_type": "code",
   "execution_count": 14,
   "id": "30e37a4d",
   "metadata": {},
   "outputs": [
    {
     "name": "stdout",
     "output_type": "stream",
     "text": [
      "product\n",
      "Product B    0.348315\n",
      "Product D    0.224719\n",
      "Product A    0.129213\n",
      "Product C    0.084270\n",
      "Product F    0.061798\n",
      "Product H    0.044944\n",
      "Product I    0.039326\n",
      "Product E    0.028090\n",
      "Product N    0.016854\n",
      "Product G    0.011236\n",
      "Product J    0.011236\n",
      "Name: count, dtype: float64\n"
     ]
    }
   ],
   "source": [
    "# count the deals for each product in `amir_deals`\n",
    "counts = amir_deals[\"product\"].value_counts()\n",
    "probs = counts / counts.sum()\n",
    "print(probs)"
   ]
  },
  {
   "cell_type": "code",
   "execution_count": 15,
   "id": "ded4b166",
   "metadata": {},
   "outputs": [
    {
     "name": "stdout",
     "output_type": "stream",
     "text": [
      "       product   client status   amount  num_users\n",
      "127  Product B  Current    Won  2070.25          7\n",
      "148  Product D  Current    Won  3485.48         52\n",
      "77   Product B  Current    Won  6252.30         27\n",
      "104  Product D  Current    Won  4110.98         39\n",
      "166  Product C      New   Lost  3779.86         11\n",
      "       product   client status   amount  num_users\n",
      "133  Product D  Current    Won  5992.86         98\n",
      "101  Product H  Current    Won  5116.34         63\n",
      "110  Product B  Current    Won   696.88         44\n",
      "49   Product B  Current    Won  3488.36         79\n",
      "56   Product D  Current    Won  6820.84         42\n"
     ]
    }
   ],
   "source": [
    "# set random seed to a fixed number for reproducibility\n",
    "np.random.seed(24)\n",
    "\n",
    "# sample 5 deals without replacement\n",
    "sample_without_replacement = amir_deals.sample(5, replace=False)\n",
    "print(sample_without_replacement)\n",
    "\n",
    "# sample 5 deals with replacement\n",
    "sample_with_replacement = amir_deals.sample(5, replace=True)\n",
    "print(sample_with_replacement)"
   ]
  },
  {
   "cell_type": "code",
   "execution_count": 16,
   "id": "25d078e7",
   "metadata": {},
   "outputs": [
    {
     "data": {
      "image/png": "[encoded data removed]",
      "text/plain": [
       "<Figure size 640x480 with 1 Axes>"
      ]
     },
     "metadata": {},
     "output_type": "display_data"
    }
   ],
   "source": [
    "restaurant_groups = pd.DataFrame(\n",
    "    {\n",
    "        \"group_id\": [\"A\", \"B\", \"C\", \"D\", \"E\", \"F\", \"G\", \"H\", \"I\", \"J\"],\n",
    "        \"group_size\": [2, 4, 6, 2, 2, 2, 3, 2, 4, 2],\n",
    "    }\n",
    ")\n",
    "\n",
    "# plot histogram\n",
    "restaurant_groups[\"group_size\"].hist(bins=[2, 3, 4, 5, 6])\n",
    "plt.show()"
   ]
  },
  {
   "cell_type": "markdown",
   "id": "4407c747",
   "metadata": {},
   "source": [
    "### Probability Distribution"
   ]
  },
  {
   "cell_type": "code",
   "execution_count": 17,
   "id": "a957f9df",
   "metadata": {},
   "outputs": [
    {
     "name": "stdout",
     "output_type": "stream",
     "text": [
      "0.5172413793103448\n"
     ]
    }
   ],
   "source": [
    "# create probability distribution\n",
    "group_size = restaurant_groups[\"group_size\"]\n",
    "size_dist = group_size / group_size.sum()\n",
    "\n",
    "# reset index of `size_dist`\n",
    "size_dist = size_dist.reset_index()\n",
    "\n",
    "# rename columns to `group_size` and `prob`\n",
    "size_dist.columns = [\"group_size\", \"prob\"]\n",
    "\n",
    "# calculate expected value\n",
    "expected_value = (size_dist[\"group_size\"] * size_dist[\"prob\"]).sum()\n",
    "\n",
    "# calculate probability of 4 or more and print\n",
    "groups_4_or_more = size_dist[size_dist[\"group_size\"] >= 4]\n",
    "prob_4_or_more = groups_4_or_more[\"prob\"].sum()\n",
    "print(prob_4_or_more)"
   ]
  },
  {
   "cell_type": "markdown",
   "id": "20f4e09c",
   "metadata": {},
   "source": [
    "### Uniform Distribution"
   ]
  },
  {
   "cell_type": "code",
   "execution_count": 18,
   "id": "21d7f7f6",
   "metadata": {},
   "outputs": [
    {
     "name": "stdout",
     "output_type": "stream",
     "text": [
      "0.16666666666666666\n",
      "0.8333333333333334\n",
      "0.3333333333333333\n"
     ]
    }
   ],
   "source": [
    "# min and max wait times for backups that happen every 30 minutes\n",
    "min_time = 0\n",
    "max_time = 30\n",
    "\n",
    "# calculate probability of waiting less than 5 minutes using `uniform.cdf`\n",
    "# cdf = cumulative distribution function (probability of being less than or equal to a value)\n",
    "prob_less_than_5 = uniform.cdf(5, min_time, max_time)\n",
    "print(prob_less_than_5)\n",
    "\n",
    "# more than 5 minutes\n",
    "prob_greater_than_5 = 1 - prob_less_than_5\n",
    "print(prob_greater_than_5)\n",
    "\n",
    "# between 10 and 20 minutes\n",
    "prob_between_10_and_20 = uniform.cdf(20, min_time, max_time) - uniform.cdf(10, min_time, max_time)\n",
    "print(prob_between_10_and_20)"
   ]
  },
  {
   "cell_type": "code",
   "execution_count": 19,
   "id": "0fd51bed",
   "metadata": {},
   "outputs": [
    {
     "data": {
      "image/png": "[encoded data removed]",
      "text/plain": [
       "<Figure size 640x480 with 1 Axes>"
      ]
     },
     "metadata": {},
     "output_type": "display_data"
    }
   ],
   "source": [
    "np.random.seed(334)\n",
    "\n",
    "# simulate 1000 wait times and plot\n",
    "# rvs = random variate sample (random values from a distribution)\n",
    "wait_times = uniform.rvs(min_time, max_time, size=1000)\n",
    "plt.hist(wait_times)\n",
    "plt.show()"
   ]
  },
  {
   "cell_type": "markdown",
   "id": "a155ab34",
   "metadata": {},
   "source": [
    "### Binomial Distribution"
   ]
  },
  {
   "cell_type": "code",
   "execution_count": 20,
   "id": "84708c20",
   "metadata": {},
   "outputs": [
    {
     "name": "stdout",
     "output_type": "stream",
     "text": [
      "0.8269230769230769\n"
     ]
    }
   ],
   "source": [
    "np.random.seed(10)\n",
    "\n",
    "# simulate one year of 3 deals per week with a 30% average win rate\n",
    "deals = binom.rvs(3, 0.3, size=52)\n",
    "print(np.mean(deals))"
   ]
  },
  {
   "cell_type": "code",
   "execution_count": 21,
   "id": "b02f56dc",
   "metadata": {},
   "outputs": [
    {
     "name": "stdout",
     "output_type": "stream",
     "text": [
      "0.026999999999999996\n",
      "0.784\n",
      "0.21599999999999997\n"
     ]
    }
   ],
   "source": [
    "# probability of closing 3 out of 3 deals\n",
    "prob_3 = binom.pmf(3, 3, 0.3)\n",
    "print(prob_3)\n",
    "\n",
    "# probability of closing <= 1 deal out of 3\n",
    "prob_less_than_or_equal_1 = binom.cdf(1, 3, 0.3)\n",
    "print(prob_less_than_or_equal_1)\n",
    "\n",
    "# probability of closing > 1 deal out of 3\n",
    "prob_greater_than_1 = 1 - prob_less_than_or_equal_1\n",
    "print(prob_greater_than_1)"
   ]
  },
  {
   "cell_type": "code",
   "execution_count": 22,
   "id": "cb8043c3",
   "metadata": {},
   "outputs": [
    {
     "name": "stdout",
     "output_type": "stream",
     "text": [
      "0.8999999999999999\n",
      "0.75\n",
      "1.0499999999999998\n"
     ]
    }
   ],
   "source": [
    "# expected wins with 30% win rate and 3 meetings per week\n",
    "won_30pct = 3 * 0.3\n",
    "print(won_30pct)\n",
    "\n",
    "# 25%\n",
    "won_25pct = 3 * 0.25\n",
    "print(won_25pct)\n",
    "\n",
    "# 35%\n",
    "won_35pct = 3 * 0.35\n",
    "print(won_35pct)"
   ]
  },
  {
   "cell_type": "markdown",
   "id": "0587586c",
   "metadata": {},
   "source": [
    "## Central Limit Theorem"
   ]
  },
  {
   "cell_type": "markdown",
   "id": "13b2397c",
   "metadata": {},
   "source": [
    "### Normal Distribution"
   ]
  },
  {
   "cell_type": "code",
   "execution_count": 23,
   "id": "f33b50b6",
   "metadata": {},
   "outputs": [
    {
     "data": {
      "image/png": "[encoded data removed]",
      "text/plain": [
       "<Figure size 640x480 with 1 Axes>"
      ]
     },
     "metadata": {},
     "output_type": "display_data"
    }
   ],
   "source": [
    "# histogram of `amount` using 10 bins\n",
    "amir_deals[\"amount\"].hist(bins=10)\n",
    "plt.show()"
   ]
  },
  {
   "cell_type": "code",
   "execution_count": 24,
   "id": "8cf7edfa",
   "metadata": {},
   "outputs": [
    {
     "name": "stdout",
     "output_type": "stream",
     "text": [
      "0.8943502263331446\n",
      "0.9772498680518208\n",
      "0.6826894921370859\n",
      "3651.0204996078364\n"
     ]
    }
   ],
   "source": [
    "# probability of a deal < 7500\n",
    "prob_less_7500 = norm.cdf(7500, 5000, 2000)\n",
    "print(prob_less_7500)\n",
    "\n",
    "# probability of a deal > 1000\n",
    "prob_over_1000 = 1 - norm.cdf(1000, 5000, 2000)\n",
    "print(prob_over_1000)\n",
    "\n",
    "# probability between 3000 and 7000\n",
    "prob_3000_to_7000 = norm.cdf(7000, 5000, 2000) - norm.cdf(3000, 5000, 2000)\n",
    "print(prob_3000_to_7000)\n",
    "\n",
    "# calculate amount 25% of deals will be under\n",
    "pct_25 = norm.ppf(0.25, 5000, 2000)\n",
    "print(pct_25)"
   ]
  },
  {
   "cell_type": "markdown",
   "id": "1045faa1",
   "metadata": {},
   "source": [
    "### Sampling Distribution"
   ]
  },
  {
   "cell_type": "code",
   "execution_count": 25,
   "id": "c7f66cf8",
   "metadata": {},
   "outputs": [
    {
     "data": {
      "image/png": "[encoded data removed]",
      "text/plain": [
       "<Figure size 640x480 with 1 Axes>"
      ]
     },
     "metadata": {},
     "output_type": "display_data"
    }
   ],
   "source": [
    "# calculate new mean\n",
    "new_mean = 5000 * 1.2\n",
    "\n",
    "# new standard deviation\n",
    "new_sd = 2000 * 1.3\n",
    "\n",
    "# simulate 36 new sales\n",
    "new_sales = norm.rvs(new_mean, new_sd, size=36)\n",
    "\n",
    "# plot histogram\n",
    "plt.hist(new_sales)\n",
    "plt.show()"
   ]
  },
  {
   "cell_type": "code",
   "execution_count": 26,
   "id": "57b5ed06",
   "metadata": {},
   "outputs": [
    {
     "data": {
      "image/png": "[encoded data removed]",
      "text/plain": [
       "<Figure size 640x480 with 1 Axes>"
      ]
     },
     "metadata": {},
     "output_type": "display_data"
    }
   ],
   "source": [
    "# plot histogram of `num_users`\n",
    "amir_deals[\"num_users\"].hist()\n",
    "plt.show()"
   ]
  },
  {
   "cell_type": "code",
   "execution_count": 27,
   "id": "8d3f2c73",
   "metadata": {},
   "outputs": [
    {
     "data": {
      "image/png": "[encoded data removed]",
      "text/plain": [
       "<Figure size 640x480 with 1 Axes>"
      ]
     },
     "metadata": {},
     "output_type": "display_data"
    }
   ],
   "source": [
    "np.random.seed(104)\n",
    "\n",
    "# sample 20 `num_users` with replacement\n",
    "samp_20 = amir_deals[\"num_users\"].sample(20, replace=True)\n",
    "\n",
    "# repeat 100 times\n",
    "sample_means = []\n",
    "for i in range(100):\n",
    "    # take a sample\n",
    "    samp_20 = amir_deals[\"num_users\"].sample(20, replace=True)\n",
    "    # calculate the mean\n",
    "    samp_20_mean = samp_20.mean()\n",
    "    # append to `sample_means`\n",
    "    sample_means.append(samp_20_mean)\n",
    "\n",
    "# convert to Series and plot\n",
    "sample_means_series = pd.Series(sample_means)\n",
    "sample_means_series.hist()\n",
    "plt.show()"
   ]
  },
  {
   "cell_type": "code",
   "execution_count": 28,
   "id": "837b0a1d",
   "metadata": {},
   "outputs": [
    {
     "name": "stdout",
     "output_type": "stream",
     "text": [
      "38.31333333333332\n",
      "37.651685393258425\n"
     ]
    }
   ],
   "source": [
    "np.random.seed(321)\n",
    "\n",
    "# get 30 means\n",
    "sample_means = []\n",
    "for i in range(30):\n",
    "    cur_sample = all_deals[\"num_users\"].sample(20, replace=True)\n",
    "    cur_mean = cur_sample.mean()\n",
    "    sample_means.append(cur_mean)\n",
    "\n",
    "print(np.mean(sample_means))\n",
    "print(amir_deals[\"num_users\"].mean())"
   ]
  },
  {
   "cell_type": "markdown",
   "id": "a1e2b3b4",
   "metadata": {},
   "source": [
    "### Poisson Distribution"
   ]
  },
  {
   "cell_type": "code",
   "execution_count": 29,
   "id": "27e4eb36",
   "metadata": {},
   "outputs": [
    {
     "name": "stdout",
     "output_type": "stream",
     "text": [
      "0.1562934518505317\n",
      "0.17140068409793663\n",
      "0.23810330555354436\n",
      "0.0028397661205137315\n"
     ]
    }
   ],
   "source": [
    "# probability Amir responds to 5 leads when his average is 4\n",
    "prob_5 = poisson.pmf(5, 4)\n",
    "print(prob_5)\n",
    "\n",
    "# probability coworker responds to 5 when her average is 5.5\n",
    "prob_coworker = poisson.pmf(5, 5.5)\n",
    "print(prob_coworker)\n",
    "\n",
    "# 2 or fewer\n",
    "prob_2_or_less = poisson.cdf(2, 4)\n",
    "print(prob_2_or_less)\n",
    "\n",
    "# more than 10\n",
    "prob_over_10 = 1 - poisson.cdf(10, 4)\n",
    "print(prob_over_10)"
   ]
  },
  {
   "cell_type": "markdown",
   "id": "2d777180",
   "metadata": {},
   "source": [
    "### Exponential Distribution"
   ]
  },
  {
   "cell_type": "code",
   "execution_count": 30,
   "id": "c735699c",
   "metadata": {},
   "outputs": [
    {
     "name": "stdout",
     "output_type": "stream",
     "text": [
      "0.3296799539643607\n",
      "0.20189651799465536\n",
      "0.09929769391754684\n"
     ]
    }
   ],
   "source": [
    "# probability Amir takes less than 1 hour to respond when he responds to 1 lead every 2.5 hours\n",
    "prob_under_1 = expon.cdf(1, scale=2.5)\n",
    "print(prob_under_1)\n",
    "\n",
    "# longer than 4 hours\n",
    "prob_over_4 = 1 - expon.cdf(4, scale=2.5)\n",
    "print(prob_over_4)\n",
    "\n",
    "# between 3 and 4 hours\n",
    "prob_3_to_4 = expon.cdf(4, scale=2.5) - expon.cdf(3, scale=2.5)\n",
    "print(prob_3_to_4)"
   ]
  },
  {
   "cell_type": "markdown",
   "id": "77cd3dbf",
   "metadata": {},
   "source": [
    "## Correlation"
   ]
  },
  {
   "cell_type": "code",
   "execution_count": 31,
   "id": "ba98400e",
   "metadata": {},
   "outputs": [
    {
     "data": {
      "image/png": "[encoded data removed]",
      "text/plain": [
       "<Figure size 640x480 with 1 Axes>"
      ]
     },
     "metadata": {},
     "output_type": "display_data"
    }
   ],
   "source": [
    "# scatterplot `happiness_score` vs `life_exp`\n",
    "sns.scatterplot(x=\"life_exp\", y=\"happiness_score\", data=world_happiness)\n",
    "plt.show()"
   ]
  },
  {
   "cell_type": "code",
   "execution_count": 32,
   "id": "afbf70ca",
   "metadata": {},
   "outputs": [
    {
     "data": {
      "image/png": "[encoded data removed]",
      "text/plain": [
       "<Figure size 500x500 with 1 Axes>"
      ]
     },
     "metadata": {},
     "output_type": "display_data"
    }
   ],
   "source": [
    "# scatterplot with trendline\n",
    "sns.lmplot(x=\"life_exp\", y=\"happiness_score\", data=world_happiness, ci=None)\n",
    "plt.show()"
   ]
  },
  {
   "cell_type": "code",
   "execution_count": 33,
   "id": "36a05e0c",
   "metadata": {},
   "outputs": [
    {
     "name": "stdout",
     "output_type": "stream",
     "text": [
      "0.7737614613689974\n"
     ]
    }
   ],
   "source": [
    "# calculate correlation coefficient\n",
    "life_exp = world_happiness[\"life_exp\"]\n",
    "happiness_score = world_happiness[\"happiness_score\"]\n",
    "cor = life_exp.corr(happiness_score)\n",
    "print(cor)"
   ]
  },
  {
   "cell_type": "code",
   "execution_count": 34,
   "id": "de335190",
   "metadata": {},
   "outputs": [
    {
     "data": {
      "image/png": "[encoded data removed]",
      "text/plain": [
       "<Figure size 640x480 with 1 Axes>"
      ]
     },
     "metadata": {},
     "output_type": "display_data"
    }
   ],
   "source": [
    "# scatterplot of `gdp_per_cap` and `life_exp`\n",
    "sns.scatterplot(x=\"gdp_per_cap\", y=\"life_exp\", data=world_happiness)\n",
    "plt.show()"
   ]
  },
  {
   "cell_type": "code",
   "execution_count": 35,
   "id": "d1847523",
   "metadata": {},
   "outputs": [
    {
     "name": "stdout",
     "output_type": "stream",
     "text": [
      "0.7235027287037938\n"
     ]
    }
   ],
   "source": [
    "# calculate correlation coefficient\n",
    "gdp_per_cap = world_happiness[\"gdp_per_cap\"]\n",
    "life_exp = world_happiness[\"life_exp\"]\n",
    "cor = gdp_per_cap.corr(life_exp)\n",
    "print(cor)"
   ]
  },
  {
   "cell_type": "code",
   "execution_count": 36,
   "id": "a47a7e87",
   "metadata": {},
   "outputs": [
    {
     "data": {
      "image/png": "[encoded data removed]",
      "text/plain": [
       "<Figure size 640x480 with 1 Axes>"
      ]
     },
     "metadata": {},
     "output_type": "display_data"
    }
   ],
   "source": [
    "# scatterplot `happiness_score` and `gdp_per_cap`\n",
    "sns.scatterplot(x=\"gdp_per_cap\", y=\"happiness_score\", data=world_happiness)\n",
    "plt.show()"
   ]
  },
  {
   "cell_type": "code",
   "execution_count": 37,
   "id": "ed12a208",
   "metadata": {},
   "outputs": [
    {
     "name": "stdout",
     "output_type": "stream",
     "text": [
      "0.7601852769771024\n"
     ]
    }
   ],
   "source": [
    "# calculate correlation coefficient\n",
    "happiness_score = world_happiness[\"happiness_score\"]\n",
    "gdp_per_cap = world_happiness[\"gdp_per_cap\"]\n",
    "cor = happiness_score.corr(gdp_per_cap)\n",
    "print(cor)"
   ]
  },
  {
   "cell_type": "code",
   "execution_count": 38,
   "id": "f239a809",
   "metadata": {},
   "outputs": [
    {
     "data": {
      "image/png": "[encoded data removed]",
      "text/plain": [
       "<Figure size 640x480 with 1 Axes>"
      ]
     },
     "metadata": {},
     "output_type": "display_data"
    }
   ],
   "source": [
    "world_happiness[\"log_gdp_per_cap\"] = np.log(world_happiness[\"gdp_per_cap\"])\n",
    "\n",
    "# scatterplot\n",
    "sns.scatterplot(x=\"log_gdp_per_cap\", y=\"happiness_score\", data=world_happiness)\n",
    "plt.show()"
   ]
  },
  {
   "cell_type": "code",
   "execution_count": 39,
   "id": "339f8630",
   "metadata": {},
   "outputs": [
    {
     "name": "stdout",
     "output_type": "stream",
     "text": [
      "0.7965483583669718\n"
     ]
    }
   ],
   "source": [
    "# calculate correlation coefficient\n",
    "log_gdp_per_cap = world_happiness[\"log_gdp_per_cap\"]\n",
    "happiness_score = world_happiness[\"happiness_score\"]\n",
    "cor = log_gdp_per_cap.corr(happiness_score)\n",
    "print(cor)"
   ]
  },
  {
   "cell_type": "code",
   "execution_count": 40,
   "id": "775218fd",
   "metadata": {},
   "outputs": [
    {
     "data": {
      "image/png": "[encoded data removed]",
      "text/plain": [
       "<Figure size 640x480 with 1 Axes>"
      ]
     },
     "metadata": {},
     "output_type": "display_data"
    }
   ],
   "source": [
    "# scatterplot `grams_sugar_per_day` and `happiness_score`\n",
    "sns.scatterplot(x=\"grams_sugar_per_day\", y=\"happiness_score\", data=world_happiness)\n",
    "plt.show()"
   ]
  },
  {
   "cell_type": "code",
   "execution_count": 41,
   "id": "2ad08e50",
   "metadata": {},
   "outputs": [
    {
     "name": "stdout",
     "output_type": "stream",
     "text": [
      "0.6939100021829633\n"
     ]
    }
   ],
   "source": [
    "# calculate correlation coefficient\n",
    "grams_sugar_per_day = world_happiness[\"grams_sugar_per_day\"]\n",
    "happiness_score = world_happiness[\"happiness_score\"]\n",
    "cor = grams_sugar_per_day.corr(happiness_score)\n",
    "print(cor)"
   ]
  }
 ],
 "metadata": {
  "jupytext": {
   "main_language": "python",
   "split_at_heading": true
  },
  "kernelspec": {
   "display_name": "datacamp-LCGQf5bf-py3.11",
   "language": "python",
   "name": "python3"
  },
  "language_info": {
   "codemirror_mode": {
    "name": "ipython",
    "version": 3
   },
   "file_extension": ".py",
   "mimetype": "text/x-python",
   "name": "python",
   "nbconvert_exporter": "python",
   "pygments_lexer": "ipython3",
   "version": "3.11.6"
  }
 },
 "nbformat": 4,
 "nbformat_minor": 5
}
