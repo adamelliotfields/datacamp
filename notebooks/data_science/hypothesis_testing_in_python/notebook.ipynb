{
 "cells": [
  {
   "cell_type": "markdown",
   "metadata": {},
   "source": [
    "# [Hypothesis Testing in Python](https://www.datacamp.com/completed/statement-of-accomplishment/course/aaa72aac4c8ad6f421a406916da68b4e4b5c8dae)\n",
    "\n",
    "[![Open in Colab](https://colab.research.google.com/assets/colab-badge.svg)](https://colab.research.google.com/github/adamelliotfields/datacamp/blob/main/notebooks/data_science/hypothesis_testing_in_python/notebook.ipynb)\n",
    "\n",
    "**Contents**\n",
    "- [Introduction](#Introduction)\n",
    "- [Two-sample and ANOVA Tests](#Two-sample-and-ANOVA-Tests)\n",
    "- [Proportion Tests](#Proportion-Tests)\n",
    "- [Non-parametric Tests](#Non-parametric-Tests)"
   ]
  },
  {
   "cell_type": "code",
   "execution_count": 1,
   "metadata": {},
   "outputs": [],
   "source": [
    "import matplotlib.pyplot as plt\n",
    "import numpy as np\n",
    "import pandas as pd\n",
    "import seaborn as sns\n",
    "from pingouin import anova, chi2_independence, kruskal, mwu, pairwise_tests, ttest, wilcoxon\n",
    "from scipy.stats import norm, t\n",
    "from statsmodels.stats.proportion import proportions_ztest\n",
    "from warnings import filterwarnings\n",
    "\n",
    "BASE_URL = \"https://raw.githubusercontent.com/adamelliotfields/datacamp/main/notebooks/data_science/hypothesis_testing_in_python/\"\n",
    "\n",
    "# ignore warnings\n",
    "filterwarnings(\"ignore\", category=UserWarning, module=\"pingouin\")\n",
    "filterwarnings(\"ignore\", category=RuntimeWarning, module=\"scipy\")\n",
    "\n",
    "pd.set_option(\"display.width\", 400)\n",
    "\n",
    "late_shipments = pd.read_csv(BASE_URL + \"late_shipments.csv\")\n",
    "sample_dem_data = pd.read_csv(BASE_URL + \"sample_dem_data.csv\")"
   ]
  },
  {
   "cell_type": "code",
   "execution_count": 2,
   "metadata": {},
   "outputs": [
    {
     "data": {
      "text/html": [
       "<div>\n",
       "<style scoped>\n",
       "    .dataframe tbody tr th:only-of-type {\n",
       "        vertical-align: middle;\n",
       "    }\n",
       "\n",
       "    .dataframe tbody tr th {\n",
       "        vertical-align: top;\n",
       "    }\n",
       "\n",
       "    .dataframe thead th {\n",
       "        text-align: right;\n",
       "    }\n",
       "</style>\n",
       "<table border=\"1\" class=\"dataframe\">\n",
       "  <thead>\n",
       "    <tr style=\"text-align: right;\">\n",
       "      <th></th>\n",
       "      <th>id</th>\n",
       "      <th>country</th>\n",
       "      <th>managed_by</th>\n",
       "      <th>fulfill_via</th>\n",
       "      <th>vendor_inco_term</th>\n",
       "      <th>shipment_mode</th>\n",
       "      <th>late_delivery</th>\n",
       "      <th>late</th>\n",
       "      <th>product_group</th>\n",
       "      <th>sub_classification</th>\n",
       "      <th>...</th>\n",
       "      <th>line_item_value</th>\n",
       "      <th>pack_price</th>\n",
       "      <th>unit_price</th>\n",
       "      <th>manufacturing_site</th>\n",
       "      <th>first_line_designation</th>\n",
       "      <th>weight_kilograms</th>\n",
       "      <th>freight_cost_usd</th>\n",
       "      <th>freight_cost_groups</th>\n",
       "      <th>line_item_insurance_usd</th>\n",
       "      <th>freight_cost_group</th>\n",
       "    </tr>\n",
       "  </thead>\n",
       "  <tbody>\n",
       "    <tr>\n",
       "      <th>0</th>\n",
       "      <td>36203.0</td>\n",
       "      <td>Nigeria</td>\n",
       "      <td>PMO - US</td>\n",
       "      <td>Direct Drop</td>\n",
       "      <td>EXW</td>\n",
       "      <td>Air</td>\n",
       "      <td>1.0</td>\n",
       "      <td>Yes</td>\n",
       "      <td>HRDT</td>\n",
       "      <td>HIV test</td>\n",
       "      <td>...</td>\n",
       "      <td>266644.00</td>\n",
       "      <td>89.00</td>\n",
       "      <td>0.89</td>\n",
       "      <td>Alere Medical Co., Ltd.</td>\n",
       "      <td>Yes</td>\n",
       "      <td>1426.0</td>\n",
       "      <td>33279.83</td>\n",
       "      <td>expensive</td>\n",
       "      <td>373.83</td>\n",
       "      <td>expensive</td>\n",
       "    </tr>\n",
       "    <tr>\n",
       "      <th>1</th>\n",
       "      <td>30998.0</td>\n",
       "      <td>Botswana</td>\n",
       "      <td>PMO - US</td>\n",
       "      <td>Direct Drop</td>\n",
       "      <td>EXW</td>\n",
       "      <td>Air</td>\n",
       "      <td>0.0</td>\n",
       "      <td>No</td>\n",
       "      <td>HRDT</td>\n",
       "      <td>HIV test</td>\n",
       "      <td>...</td>\n",
       "      <td>800.00</td>\n",
       "      <td>32.00</td>\n",
       "      <td>1.60</td>\n",
       "      <td>Trinity Biotech, Plc</td>\n",
       "      <td>Yes</td>\n",
       "      <td>10.0</td>\n",
       "      <td>559.89</td>\n",
       "      <td>reasonable</td>\n",
       "      <td>1.72</td>\n",
       "      <td>reasonable</td>\n",
       "    </tr>\n",
       "    <tr>\n",
       "      <th>2</th>\n",
       "      <td>69871.0</td>\n",
       "      <td>Vietnam</td>\n",
       "      <td>PMO - US</td>\n",
       "      <td>Direct Drop</td>\n",
       "      <td>EXW</td>\n",
       "      <td>Air</td>\n",
       "      <td>0.0</td>\n",
       "      <td>No</td>\n",
       "      <td>ARV</td>\n",
       "      <td>Adult</td>\n",
       "      <td>...</td>\n",
       "      <td>110040.00</td>\n",
       "      <td>4.80</td>\n",
       "      <td>0.08</td>\n",
       "      <td>Hetero Unit III Hyderabad IN</td>\n",
       "      <td>Yes</td>\n",
       "      <td>3723.0</td>\n",
       "      <td>19056.13</td>\n",
       "      <td>expensive</td>\n",
       "      <td>181.57</td>\n",
       "      <td>expensive</td>\n",
       "    </tr>\n",
       "    <tr>\n",
       "      <th>3</th>\n",
       "      <td>17648.0</td>\n",
       "      <td>South Africa</td>\n",
       "      <td>PMO - US</td>\n",
       "      <td>Direct Drop</td>\n",
       "      <td>DDP</td>\n",
       "      <td>Ocean</td>\n",
       "      <td>0.0</td>\n",
       "      <td>No</td>\n",
       "      <td>ARV</td>\n",
       "      <td>Adult</td>\n",
       "      <td>...</td>\n",
       "      <td>361507.95</td>\n",
       "      <td>2.37</td>\n",
       "      <td>0.04</td>\n",
       "      <td>Aurobindo Unit III, India</td>\n",
       "      <td>Yes</td>\n",
       "      <td>7698.0</td>\n",
       "      <td>11372.23</td>\n",
       "      <td>expensive</td>\n",
       "      <td>779.41</td>\n",
       "      <td>expensive</td>\n",
       "    </tr>\n",
       "    <tr>\n",
       "      <th>4</th>\n",
       "      <td>5647.0</td>\n",
       "      <td>Uganda</td>\n",
       "      <td>PMO - US</td>\n",
       "      <td>Direct Drop</td>\n",
       "      <td>EXW</td>\n",
       "      <td>Air</td>\n",
       "      <td>0.0</td>\n",
       "      <td>No</td>\n",
       "      <td>HRDT</td>\n",
       "      <td>HIV test - Ancillary</td>\n",
       "      <td>...</td>\n",
       "      <td>8.50</td>\n",
       "      <td>0.01</td>\n",
       "      <td>0.00</td>\n",
       "      <td>Inverness Japan</td>\n",
       "      <td>Yes</td>\n",
       "      <td>56.0</td>\n",
       "      <td>360.00</td>\n",
       "      <td>reasonable</td>\n",
       "      <td>0.01</td>\n",
       "      <td>reasonable</td>\n",
       "    </tr>\n",
       "  </tbody>\n",
       "</table>\n",
       "<p>5 rows × 28 columns</p>\n",
       "</div>"
      ],
      "text/plain": [
       "        id       country managed_by  fulfill_via vendor_inco_term shipment_mode  late_delivery late product_group    sub_classification  ... line_item_value pack_price unit_price            manufacturing_site first_line_designation weight_kilograms  freight_cost_usd  freight_cost_groups  line_item_insurance_usd  freight_cost_group\n",
       "0  36203.0       Nigeria   PMO - US  Direct Drop              EXW           Air            1.0  Yes          HRDT              HIV test  ...       266644.00      89.00       0.89       Alere Medical Co., Ltd.                    Yes           1426.0          33279.83            expensive                   373.83           expensive\n",
       "1  30998.0      Botswana   PMO - US  Direct Drop              EXW           Air            0.0   No          HRDT              HIV test  ...          800.00      32.00       1.60          Trinity Biotech, Plc                    Yes             10.0            559.89           reasonable                     1.72          reasonable\n",
       "2  69871.0       Vietnam   PMO - US  Direct Drop              EXW           Air            0.0   No           ARV                 Adult  ...       110040.00       4.80       0.08  Hetero Unit III Hyderabad IN                    Yes           3723.0          19056.13            expensive                   181.57           expensive\n",
       "3  17648.0  South Africa   PMO - US  Direct Drop              DDP         Ocean            0.0   No           ARV                 Adult  ...       361507.95       2.37       0.04     Aurobindo Unit III, India                    Yes           7698.0          11372.23            expensive                   779.41           expensive\n",
       "4   5647.0        Uganda   PMO - US  Direct Drop              EXW           Air            0.0   No          HRDT  HIV test - Ancillary  ...            8.50       0.01       0.00               Inverness Japan                    Yes             56.0            360.00           reasonable                     0.01          reasonable\n",
       "\n",
       "[5 rows x 28 columns]"
      ]
     },
     "metadata": {},
     "output_type": "display_data"
    }
   ],
   "source": [
    "display(late_shipments.head())"
   ]
  },
  {
   "cell_type": "code",
   "execution_count": 3,
   "metadata": {},
   "outputs": [
    {
     "data": {
      "text/html": [
       "<div>\n",
       "<style scoped>\n",
       "    .dataframe tbody tr th:only-of-type {\n",
       "        vertical-align: middle;\n",
       "    }\n",
       "\n",
       "    .dataframe tbody tr th {\n",
       "        vertical-align: top;\n",
       "    }\n",
       "\n",
       "    .dataframe thead th {\n",
       "        text-align: right;\n",
       "    }\n",
       "</style>\n",
       "<table border=\"1\" class=\"dataframe\">\n",
       "  <thead>\n",
       "    <tr style=\"text-align: right;\">\n",
       "      <th></th>\n",
       "      <th>state</th>\n",
       "      <th>county</th>\n",
       "      <th>dem_percent_12</th>\n",
       "      <th>dem_percent_16</th>\n",
       "    </tr>\n",
       "  </thead>\n",
       "  <tbody>\n",
       "    <tr>\n",
       "      <th>0</th>\n",
       "      <td>Alabama</td>\n",
       "      <td>Bullock</td>\n",
       "      <td>76.305900</td>\n",
       "      <td>74.946921</td>\n",
       "    </tr>\n",
       "    <tr>\n",
       "      <th>1</th>\n",
       "      <td>Alabama</td>\n",
       "      <td>Chilton</td>\n",
       "      <td>19.453671</td>\n",
       "      <td>15.847352</td>\n",
       "    </tr>\n",
       "    <tr>\n",
       "      <th>2</th>\n",
       "      <td>Alabama</td>\n",
       "      <td>Clay</td>\n",
       "      <td>26.673672</td>\n",
       "      <td>18.674517</td>\n",
       "    </tr>\n",
       "    <tr>\n",
       "      <th>3</th>\n",
       "      <td>Alabama</td>\n",
       "      <td>Cullman</td>\n",
       "      <td>14.661752</td>\n",
       "      <td>10.028252</td>\n",
       "    </tr>\n",
       "    <tr>\n",
       "      <th>4</th>\n",
       "      <td>Alabama</td>\n",
       "      <td>Escambia</td>\n",
       "      <td>36.915731</td>\n",
       "      <td>31.020546</td>\n",
       "    </tr>\n",
       "  </tbody>\n",
       "</table>\n",
       "</div>"
      ],
      "text/plain": [
       "     state    county  dem_percent_12  dem_percent_16\n",
       "0  Alabama   Bullock       76.305900       74.946921\n",
       "1  Alabama   Chilton       19.453671       15.847352\n",
       "2  Alabama      Clay       26.673672       18.674517\n",
       "3  Alabama   Cullman       14.661752       10.028252\n",
       "4  Alabama  Escambia       36.915731       31.020546"
      ]
     },
     "metadata": {},
     "output_type": "display_data"
    }
   ],
   "source": [
    "display(sample_dem_data.head())"
   ]
  },
  {
   "cell_type": "markdown",
   "metadata": {},
   "source": [
    "## Introduction\n",
    "\n",
    "A _hypothesis_ is a statement about an unknown population parameter. A _hypothesis test_ is a trial of two competing hypotheses about a population parameter:\n",
    "  - _Null Hypothesis_: The existing theory or belief about the population parameter in question ($H_0$).\n",
    "  - _Alternative Hypothesis_: The new idea presented by the researcher(s) that challenges the existing theory or belief ($H_a$).\n",
    "\n",
    "> NB: You can write the alternative hypothesis as either $H_a$ or $H_A$.\n",
    "\n",
    "The null hypothesis is assumed to be true until there is enough evidence to suggest otherwise. When the test concludes, you will either _reject_ or _fail to reject_ the null hypothesis; you do not simply \"accept\" the alternative hypothesis.\n",
    "\n",
    "You can think of hypothesis testing as like a courtroom trial for an idea. The null hypothesis is the defendant and is \"innocent until proven guilty.\" When you conduct an experiment, you are gathering evidence against the null hypothesis. If the evidence is strong enough, you can \"convict\"&mdash;that is, reject the null hypothesis.\n"
   ]
  },
  {
   "cell_type": "markdown",
   "metadata": {},
   "source": [
    "### z-score\n",
    "\n",
    "A $z$-score is a measure of how many standard deviations a data point is from the mean. For example, if you score 2 standard deviations above average on a standardized test, your $z$-score is 2. It is a way of saying you scored much higher than the average student.\n",
    "\n",
    "$\\text{standardized value} = \\frac{x - \\mu}{\\sigma}$\n",
    "\n",
    "where $x$ is the sample value, $\\mu$ is the population mean, and $\\sigma$ is the population standard deviation.\n",
    "\n",
    "$\\text{standard error} = \\frac{\\sigma}{\\sqrt{n}}$\n",
    "\n",
    "where $n$ is the sample size.\n",
    "\n",
    "$z = \\frac{\\bar{x} - \\mu}{\\text{standard error}}$\n",
    "\n",
    "where $\\bar{x}$ is the sample mean."
   ]
  },
  {
   "cell_type": "code",
   "execution_count": 4,
   "metadata": {},
   "outputs": [
    {
     "name": "stdout",
     "output_type": "stream",
     "text": [
      "0.13421272106979065\n"
     ]
    }
   ],
   "source": [
    "# make categorical\n",
    "late_shipments[\"late\"] = late_shipments[\"late\"].astype(\"category\")\n",
    "\n",
    "late_shipments_boot = []\n",
    "for i in range(5000):\n",
    "    sample = late_shipments.sample(frac=1, replace=True, random_state=i)\n",
    "    late_shipments_boot.append(sample[\"late\"].value_counts(normalize=True)[\"Yes\"])\n",
    "\n",
    "# late == Yes\n",
    "late_prop_samp = late_shipments[\"late\"].value_counts(normalize=True)[\"Yes\"]\n",
    "\n",
    "# hypothesize that the true proportion is 6%\n",
    "late_prop_hyp = 0.06\n",
    "\n",
    "# calculate std error\n",
    "std_error = np.std(late_shipments_boot, ddof=1)\n",
    "\n",
    "# find z-score of `late_prop_samp`\n",
    "z_score = (late_prop_samp - late_prop_hyp) / std_error\n",
    "print(z_score)"
   ]
  },
  {
   "cell_type": "markdown",
   "metadata": {},
   "source": [
    "### p-value\n",
    "\n",
    "The $p$-value is the probability of observing a test statistic at least as \"extreme\" as the one observed by random chance (assuming the null hypothesis is true). A low $p$-value means that it is unlikely for an observation to have happened randomly.\n",
    "\n",
    "It is very important to understand that a $p$-value is not directly related to probability. For example, a $p$-value of 3 does not imply that there is a 97% chance you are right (or that the null hypothesis is wrong); it means that there is only 3% chance of observing the same result if the null hypothesis is true."
   ]
  },
  {
   "cell_type": "markdown",
   "metadata": {},
   "source": [
    "### One-tailed and two-tailed tests\n",
    "\n",
    "Hypothesis tests check if the sample statistics lie in the _tails_ of the null distribution. The tails of a distribution are the left and right edges of its Probability Density Function (PDF) (i.e., the ends of the bell curve). These are the regions where the probability of observing a value is very low.\n",
    "\n",
    "<img src=\"p-value.jpg\" width=\"600\" alt=\"Figure of bell curve with p-value\" />\n",
    "\n",
    "There are three types of tests and the phrasing of the alternative hypothesis determines which test to use:\n",
    "  - _Two-tailed_: The alternative is **different from** the null\n",
    "  - _Right-tailed_: The alternative is **greater than** the null\n",
    "  - _Left-tailed_: The alternative is **less than** the null\n",
    "\n",
    "where $\\mu$ is the population mean and $\\mu_0$ is the hypothesized population mean.\n"
   ]
  },
  {
   "cell_type": "code",
   "execution_count": 5,
   "metadata": {},
   "outputs": [
    {
     "name": "stdout",
     "output_type": "stream",
     "text": [
      "0.4468840678346485\n"
     ]
    }
   ],
   "source": [
    "late_prop_hyp = 0.06\n",
    "late_prop_samp = 0.061\n",
    "std_error = 0.007488520883926666\n",
    "\n",
    "# z-score\n",
    "z_score = (late_prop_samp - late_prop_hyp) / std_error\n",
    "\n",
    "# p-value\n",
    "p_value = 1 - norm.cdf(z_score)\n",
    "print(p_value)"
   ]
  },
  {
   "cell_type": "markdown",
   "metadata": {},
   "source": [
    "### Statistical significance\n",
    "\n",
    "The $p$-value quantifies the strength of the evidence against the null hypothesis. A small $p$-value would make us reject the null hypothesis in favor of the alternative hypothesis.\n",
    "\n",
    "The _significance level_ ($\\alpha$) is essentially the threshold for rejecting the null hypothesis. It is set prior to the experiment and is usually set to 0.05 (5%). If $p \\leq \\alpha$, we reject the null hypothesis.\n"
   ]
  },
  {
   "cell_type": "code",
   "execution_count": 6,
   "metadata": {},
   "outputs": [
    {
     "name": "stdout",
     "output_type": "stream",
     "text": [
      "0.046\n",
      "0.075\n"
     ]
    }
   ],
   "source": [
    "# 95% confidence interval from `late_shipments_boot` using quantile\n",
    "lower = np.quantile(late_shipments_boot, 0.025)\n",
    "upper = np.quantile(late_shipments_boot, 0.975)\n",
    "print(lower)\n",
    "print(upper)"
   ]
  },
  {
   "cell_type": "markdown",
   "metadata": {},
   "source": [
    "## Two-sample and ANOVA Tests"
   ]
  },
  {
   "cell_type": "markdown",
   "metadata": {},
   "source": [
    "### Test statistics\n",
    "\n",
    "The test statistic ($t$) is a numerical summary of the data that measures how far the sample statistic diverges from what we would expect if the null hypothesis were true. It is used to calculate the $p$-value.\n",
    "\n",
    "The formula for calculating $t$ with a one-sample $t$-test is:\n",
    "\n",
    "$t = \\frac{\\bar{x} - \\mu_0}{\\frac{s}{\\sqrt{n}}}$\n",
    "\n",
    "where $\\bar{x}$ is the sample mean, $\\mu_0$ is the hypothesized population mean, $s$ is the sample standard deviation, and $n$ is the sample size."
   ]
  },
  {
   "cell_type": "markdown",
   "metadata": {},
   "source": [
    "### Two-sample t-test\n",
    "\n",
    "The two-sample $t$-test is used to compare the means of two independent samples. It is used to test whether the means of two populations are equal:\n",
    "\n",
    "$t = \\frac{\\bar{x_1} - \\bar{x_2}}{\\sqrt{\\frac{s_1^2}{n_1} + \\frac{s_2^2}{n_2}}}$\n",
    "\n",
    "where $\\bar{x_1}$ and $\\bar{x_2}$ are the sample means, $s_1$ and $s_2$ are the sample standard deviations, and $n_1$ and $n_2$ are the sample sizes."
   ]
  },
  {
   "cell_type": "code",
   "execution_count": 7,
   "metadata": {},
   "outputs": [
    {
     "name": "stdout",
     "output_type": "stream",
     "text": [
      "-2.3936661778766433\n"
     ]
    }
   ],
   "source": [
    "xbar_no = 1897.7912673056444\n",
    "xbar_yes = 2715.6721311475408\n",
    "s_no = 3154.0395070841687\n",
    "s_yes = 2544.688210903328\n",
    "n_no = 939\n",
    "n_yes = 61\n",
    "alpha = 0.05\n",
    "\n",
    "# calculate test statistic\n",
    "numerator = xbar_no - xbar_yes\n",
    "denominator = np.sqrt((s_no**2 / n_no) + (s_yes**2 / n_yes))\n",
    "t_stat = numerator / denominator\n",
    "print(t_stat)"
   ]
  },
  {
   "cell_type": "markdown",
   "metadata": {},
   "source": [
    "### t-distributions\n",
    "\n",
    "Test statistics follow a $t$-distribution, which have a parameter known as _degrees of freedom_ or $df$. The degrees of freedom for a one-sample $t$-test is $n - 1$ and for a two-sample $t$-test is $n_1 + n_2 - 2$.\n",
    "\n",
    "The $t$-distribution gets closer to the normal distribution as the degrees of freedom increase. The tails in a $t$-distribution get \"fatter\" as the degrees of freedom decrease. In fact, a normal distribution is a $t$-distribution with infinite degrees of freedom.\n",
    "\n",
    "<img src=\"t-distribution.jpg\" width=\"600\" alt=\"t-distribution\" />"
   ]
  },
  {
   "cell_type": "code",
   "execution_count": 8,
   "metadata": {},
   "outputs": [
    {
     "name": "stdout",
     "output_type": "stream",
     "text": [
      "0.008432382146249523\n"
     ]
    }
   ],
   "source": [
    "df = n_no + n_yes - 2\n",
    "p_value = t.cdf(t_stat, df=df)\n",
    "\n",
    "# 0.008 is below 0.050, so we reject the null hypothesis\n",
    "print(p_value)"
   ]
  },
  {
   "cell_type": "code",
   "execution_count": 9,
   "metadata": {},
   "outputs": [
    {
     "data": {
      "image/png": "[encoded data removed]",
      "text/plain": [
       "<Figure size 640x480 with 1 Axes>"
      ]
     },
     "metadata": {},
     "output_type": "display_data"
    }
   ],
   "source": [
    "# calculate difference in votes between `dem_percent_12` and `dem_percent_16`\n",
    "sample_dem_data[\"diff\"] = sample_dem_data[\"dem_percent_12\"] - sample_dem_data[\"dem_percent_16\"]\n",
    "\n",
    "# find the mean and standard deviation\n",
    "xbar_diff = sample_dem_data[\"diff\"].mean()\n",
    "s_diff = sample_dem_data[\"diff\"].std(ddof=1)\n",
    "\n",
    "# hist plot with 20 bins\n",
    "sample_dem_data[\"diff\"].hist(bins=20)\n",
    "plt.show()"
   ]
  },
  {
   "cell_type": "code",
   "execution_count": 10,
   "metadata": {},
   "outputs": [
    {
     "name": "stdout",
     "output_type": "stream",
     "text": [
      "                T  dof alternative          p-val         CI95%   cohen-d        BF10  power\n",
      "T-test  30.298384  499   two-sided  3.600634e-115  [6.39, 7.27]  1.354985  2.246e+111    1.0 \n",
      "\n",
      "                 T  dof alternative          p-val         CI95%   cohen-d        BF10  power\n",
      "T-test  30.298384  499   two-sided  3.600634e-115  [6.39, 7.27]  0.454202  2.246e+111    1.0\n"
     ]
    }
   ],
   "source": [
    "test_results = ttest(\n",
    "    x=sample_dem_data[\"diff\"],\n",
    "    y=0,\n",
    "    alternative=\"two-sided\",\n",
    ")\n",
    "\n",
    "paired_test_results = ttest(\n",
    "    x=sample_dem_data[\"dem_percent_12\"],\n",
    "    y=sample_dem_data[\"dem_percent_16\"],\n",
    "    alternative=\"two-sided\",\n",
    "    paired=True,\n",
    ")\n",
    "\n",
    "print(\n",
    "    test_results,\n",
    "    \"\\n\\n\",\n",
    "    paired_test_results,\n",
    ")"
   ]
  },
  {
   "cell_type": "markdown",
   "metadata": {},
   "source": [
    "### Analysis of variance (ANOVA)\n",
    "\n",
    "_ANOVA_ is a statistical test used to determine variability between two or more groups."
   ]
  },
  {
   "cell_type": "code",
   "execution_count": 11,
   "metadata": {},
   "outputs": [
    {
     "data": {
      "image/png": "[encoded data removed]",
      "text/plain": [
       "<Figure size 640x480 with 1 Axes>"
      ]
     },
     "metadata": {},
     "output_type": "display_data"
    }
   ],
   "source": [
    "# calculate mean and standard deviation `pack_price` for each `shipment_mode`\n",
    "xbar_pack_by_mode = late_shipments.groupby(\"shipment_mode\")[\"pack_price\"].mean()\n",
    "s_pack_by_mode = late_shipments.groupby(\"shipment_mode\")[\"pack_price\"].std(ddof=1)\n",
    "\n",
    "# box plot `shipment_mode` vs `pack_price`\n",
    "sns.boxplot(\n",
    "    late_shipments,\n",
    "    x=\"pack_price\",\n",
    "    y=\"shipment_mode\",\n",
    ")\n",
    "plt.show()"
   ]
  },
  {
   "cell_type": "code",
   "execution_count": 12,
   "metadata": {},
   "outputs": [
    {
     "data": {
      "text/html": [
       "<div>\n",
       "<style scoped>\n",
       "    .dataframe tbody tr th:only-of-type {\n",
       "        vertical-align: middle;\n",
       "    }\n",
       "\n",
       "    .dataframe tbody tr th {\n",
       "        vertical-align: top;\n",
       "    }\n",
       "\n",
       "    .dataframe thead th {\n",
       "        text-align: right;\n",
       "    }\n",
       "</style>\n",
       "<table border=\"1\" class=\"dataframe\">\n",
       "  <thead>\n",
       "    <tr style=\"text-align: right;\">\n",
       "      <th></th>\n",
       "      <th>Source</th>\n",
       "      <th>ddof1</th>\n",
       "      <th>ddof2</th>\n",
       "      <th>F</th>\n",
       "      <th>p-unc</th>\n",
       "      <th>np2</th>\n",
       "    </tr>\n",
       "  </thead>\n",
       "  <tbody>\n",
       "    <tr>\n",
       "      <th>0</th>\n",
       "      <td>shipment_mode</td>\n",
       "      <td>2</td>\n",
       "      <td>997</td>\n",
       "      <td>21.8646</td>\n",
       "      <td>5.089479e-10</td>\n",
       "      <td>0.042018</td>\n",
       "    </tr>\n",
       "  </tbody>\n",
       "</table>\n",
       "</div>"
      ],
      "text/plain": [
       "          Source  ddof1  ddof2        F         p-unc       np2\n",
       "0  shipment_mode      2    997  21.8646  5.089479e-10  0.042018"
      ]
     },
     "metadata": {},
     "output_type": "display_data"
    }
   ],
   "source": [
    "# ANOVA test for `pack_price` across `shipment_mode`\n",
    "anova_results = anova(\n",
    "    data=late_shipments,\n",
    "    dv=\"pack_price\",\n",
    "    between=\"shipment_mode\",\n",
    ")\n",
    "display(anova_results)"
   ]
  },
  {
   "cell_type": "code",
   "execution_count": 13,
   "metadata": {},
   "outputs": [
    {
     "data": {
      "text/html": [
       "<div>\n",
       "<style scoped>\n",
       "    .dataframe tbody tr th:only-of-type {\n",
       "        vertical-align: middle;\n",
       "    }\n",
       "\n",
       "    .dataframe tbody tr th {\n",
       "        vertical-align: top;\n",
       "    }\n",
       "\n",
       "    .dataframe thead th {\n",
       "        text-align: right;\n",
       "    }\n",
       "</style>\n",
       "<table border=\"1\" class=\"dataframe\">\n",
       "  <thead>\n",
       "    <tr style=\"text-align: right;\">\n",
       "      <th></th>\n",
       "      <th>Contrast</th>\n",
       "      <th>A</th>\n",
       "      <th>B</th>\n",
       "      <th>Paired</th>\n",
       "      <th>Parametric</th>\n",
       "      <th>T</th>\n",
       "      <th>dof</th>\n",
       "      <th>alternative</th>\n",
       "      <th>p-unc</th>\n",
       "      <th>p-corr</th>\n",
       "      <th>p-adjust</th>\n",
       "      <th>BF10</th>\n",
       "      <th>hedges</th>\n",
       "    </tr>\n",
       "  </thead>\n",
       "  <tbody>\n",
       "    <tr>\n",
       "      <th>0</th>\n",
       "      <td>shipment_mode</td>\n",
       "      <td>Air</td>\n",
       "      <td>Air Charter</td>\n",
       "      <td>False</td>\n",
       "      <td>True</td>\n",
       "      <td>21.179625</td>\n",
       "      <td>600.685682</td>\n",
       "      <td>two-sided</td>\n",
       "      <td>8.748346e-75</td>\n",
       "      <td>2.624504e-74</td>\n",
       "      <td>bonf</td>\n",
       "      <td>5.809e+76</td>\n",
       "      <td>0.726592</td>\n",
       "    </tr>\n",
       "    <tr>\n",
       "      <th>1</th>\n",
       "      <td>shipment_mode</td>\n",
       "      <td>Air</td>\n",
       "      <td>Ocean</td>\n",
       "      <td>False</td>\n",
       "      <td>True</td>\n",
       "      <td>19.335760</td>\n",
       "      <td>986.979785</td>\n",
       "      <td>two-sided</td>\n",
       "      <td>6.934555e-71</td>\n",
       "      <td>2.080367e-70</td>\n",
       "      <td>bonf</td>\n",
       "      <td>1.129e+67</td>\n",
       "      <td>0.711119</td>\n",
       "    </tr>\n",
       "    <tr>\n",
       "      <th>2</th>\n",
       "      <td>shipment_mode</td>\n",
       "      <td>Air Charter</td>\n",
       "      <td>Ocean</td>\n",
       "      <td>False</td>\n",
       "      <td>True</td>\n",
       "      <td>-3.170654</td>\n",
       "      <td>35.615026</td>\n",
       "      <td>two-sided</td>\n",
       "      <td>3.123012e-03</td>\n",
       "      <td>9.369037e-03</td>\n",
       "      <td>bonf</td>\n",
       "      <td>15.277</td>\n",
       "      <td>-0.423775</td>\n",
       "    </tr>\n",
       "  </tbody>\n",
       "</table>\n",
       "</div>"
      ],
      "text/plain": [
       "        Contrast            A            B  Paired  Parametric          T         dof alternative         p-unc        p-corr p-adjust       BF10    hedges\n",
       "0  shipment_mode          Air  Air Charter   False        True  21.179625  600.685682   two-sided  8.748346e-75  2.624504e-74     bonf  5.809e+76  0.726592\n",
       "1  shipment_mode          Air        Ocean   False        True  19.335760  986.979785   two-sided  6.934555e-71  2.080367e-70     bonf  1.129e+67  0.711119\n",
       "2  shipment_mode  Air Charter        Ocean   False        True  -3.170654   35.615026   two-sided  3.123012e-03  9.369037e-03     bonf     15.277 -0.423775"
      ]
     },
     "metadata": {},
     "output_type": "display_data"
    }
   ],
   "source": [
    "pairwise_results = pairwise_tests(\n",
    "    data=late_shipments,\n",
    "    dv=\"pack_price\",\n",
    "    between=\"shipment_mode\",\n",
    "    padjust=\"bonf\",\n",
    ")\n",
    "display(pairwise_results)"
   ]
  },
  {
   "cell_type": "markdown",
   "metadata": {},
   "source": [
    "## Proportion Tests\n",
    "\n",
    "Another formula for calculating the standard error is:\n",
    "\n",
    "$\\text{standard error} = \\sqrt{\\frac{p_0 \\cdot (1 - p_0)}{n}}$\n",
    "\n",
    "where $p_0$ is the hypothesized population proportion and $n$ is the sample size. It is used to calculate the $z$-score:\n",
    "\n",
    "$z = \\frac{\\hat{p} - p_0}{\\text{standard error}}$\n",
    "\n",
    "where $\\hat{p}$ is the sample proportion."
   ]
  },
  {
   "cell_type": "markdown",
   "metadata": {},
   "source": [
    "### One-sample proportion tests"
   ]
  },
  {
   "cell_type": "code",
   "execution_count": 14,
   "metadata": {},
   "outputs": [
    {
     "name": "stdout",
     "output_type": "stream",
     "text": [
      "0.44703503936503364\n"
     ]
    }
   ],
   "source": [
    "# hypothesize that proportion of late shipments is 6%\n",
    "p_0 = 0.06\n",
    "\n",
    "# calculate sample proportion of late shipments\n",
    "p_hat = late_shipments[\"late\"].value_counts(normalize=True)[\"Yes\"]\n",
    "\n",
    "# calculate sample size\n",
    "n = len(late_shipments)\n",
    "\n",
    "# calculate test statistic\n",
    "numerator = p_hat - p_0\n",
    "denominator = np.sqrt((p_0 * (1 - p_0)) / n)\n",
    "z_score = numerator / denominator\n",
    "\n",
    "# calculate p-value\n",
    "p_value = 1 - norm.cdf(z_score)\n",
    "print(p_value)"
   ]
  },
  {
   "cell_type": "markdown",
   "metadata": {},
   "source": [
    "### Two-sample proportion tests"
   ]
  },
  {
   "cell_type": "code",
   "execution_count": 15,
   "metadata": {},
   "outputs": [
    {
     "name": "stdout",
     "output_type": "stream",
     "text": [
      "[0.00080416]\n"
     ]
    }
   ],
   "source": [
    "# calculate pooled estimate of the population proportion\n",
    "index = pd.MultiIndex.from_tuples(\n",
    "    [\n",
    "        (\"expensive\", \"Yes\"),\n",
    "        (\"reasonable\", \"Yes\"),\n",
    "    ],\n",
    "    names=[\n",
    "        \"freight_cost_group\",\n",
    "        \"late\",\n",
    "    ],\n",
    ")\n",
    "p_hats = pd.Series([0.083, 0.035], index=index, name=\"late\")\n",
    "ns = pd.Series(\n",
    "    [545, 455],\n",
    "    index=[\"expensive\", \"reasonable\"],\n",
    "    name=\"late\",\n",
    ")\n",
    "p_hat = (p_hats[\"reasonable\"] * ns[\"reasonable\"] + p_hats[\"expensive\"] * ns[\"expensive\"]) / (\n",
    "    ns[\"reasonable\"] + ns[\"expensive\"]\n",
    ")\n",
    "\n",
    "# calculate standard error\n",
    "p_hat_times_not_p_hat = p_hat * (1 - p_hat)\n",
    "p_hat_times_not_p_hat_over_ns = (\n",
    "    p_hat_times_not_p_hat / ns[\"expensive\"] + p_hat_times_not_p_hat / ns[\"reasonable\"]\n",
    ")\n",
    "std_error = np.sqrt(p_hat_times_not_p_hat_over_ns.sum())\n",
    "\n",
    "# calculate z-score\n",
    "z_score = (p_hats[\"expensive\"] - p_hats[\"reasonable\"]) / std_error\n",
    "\n",
    "# calculate p-value\n",
    "p_value = 1 - norm.cdf(z_score)\n",
    "print(p_value)"
   ]
  },
  {
   "cell_type": "markdown",
   "metadata": {},
   "source": [
    "#### Using statsmodels"
   ]
  },
  {
   "cell_type": "code",
   "execution_count": 16,
   "metadata": {},
   "outputs": [
    {
     "name": "stdout",
     "output_type": "stream",
     "text": [
      "3.1190401865206128\n",
      "0.0009072060637051224\n"
     ]
    }
   ],
   "source": [
    "late_by_freight_cost_group = late_shipments.groupby(\"freight_cost_group\")[\"late\"].value_counts()\n",
    "\n",
    "# collect \"Yes\" counts\n",
    "success_counts = np.array(\n",
    "    [\n",
    "        late_by_freight_cost_group[\"expensive\"][\"Yes\"],\n",
    "        late_by_freight_cost_group[\"reasonable\"][\"Yes\"],\n",
    "    ]\n",
    ")\n",
    "\n",
    "# collect totals\n",
    "n = np.array(\n",
    "    [\n",
    "        late_by_freight_cost_group[\"expensive\"].sum(),\n",
    "        late_by_freight_cost_group[\"reasonable\"].sum(),\n",
    "    ]\n",
    ")\n",
    "\n",
    "# run two-proportion z-test\n",
    "z_score, p_value = proportions_ztest(\n",
    "    count=success_counts,\n",
    "    nobs=n,\n",
    "    alternative=\"larger\",\n",
    ")\n",
    "print(z_score)\n",
    "print(p_value)"
   ]
  },
  {
   "cell_type": "markdown",
   "metadata": {},
   "source": [
    "### Chi-square test of independence"
   ]
  },
  {
   "cell_type": "code",
   "execution_count": 17,
   "metadata": {},
   "outputs": [
    {
     "data": {
      "image/png": "[encoded data removed]",
      "text/plain": [
       "<Figure size 640x480 with 1 Axes>"
      ]
     },
     "metadata": {},
     "output_type": "display_data"
    }
   ],
   "source": [
    "# proportion of `freight_cost_group` by `vendor_inco_term`\n",
    "props = late_shipments.groupby(\"vendor_inco_term\")[\"freight_cost_group\"].value_counts(\n",
    "    normalize=True\n",
    ")\n",
    "\n",
    "# widen\n",
    "wide_props = props.unstack()\n",
    "\n",
    "# proportional stacked bar plot\n",
    "wide_props.plot(kind=\"bar\", stacked=True)\n",
    "plt.show()"
   ]
  },
  {
   "cell_type": "code",
   "execution_count": 18,
   "metadata": {},
   "outputs": [
    {
     "data": {
      "text/html": [
       "<div>\n",
       "<style scoped>\n",
       "    .dataframe tbody tr th:only-of-type {\n",
       "        vertical-align: middle;\n",
       "    }\n",
       "\n",
       "    .dataframe tbody tr th {\n",
       "        vertical-align: top;\n",
       "    }\n",
       "\n",
       "    .dataframe thead th {\n",
       "        text-align: right;\n",
       "    }\n",
       "</style>\n",
       "<table border=\"1\" class=\"dataframe\">\n",
       "  <thead>\n",
       "    <tr style=\"text-align: right;\">\n",
       "      <th></th>\n",
       "      <th>test</th>\n",
       "      <th>lambda</th>\n",
       "      <th>chi2</th>\n",
       "      <th>dof</th>\n",
       "      <th>pval</th>\n",
       "      <th>cramer</th>\n",
       "      <th>power</th>\n",
       "    </tr>\n",
       "  </thead>\n",
       "  <tbody>\n",
       "    <tr>\n",
       "      <th>0</th>\n",
       "      <td>pearson</td>\n",
       "      <td>1.000000</td>\n",
       "      <td>30.134064</td>\n",
       "      <td>4.0</td>\n",
       "      <td>0.000005</td>\n",
       "      <td>0.173592</td>\n",
       "      <td>0.997225</td>\n",
       "    </tr>\n",
       "    <tr>\n",
       "      <th>1</th>\n",
       "      <td>cressie-read</td>\n",
       "      <td>0.666667</td>\n",
       "      <td>30.139025</td>\n",
       "      <td>4.0</td>\n",
       "      <td>0.000005</td>\n",
       "      <td>0.173606</td>\n",
       "      <td>0.997229</td>\n",
       "    </tr>\n",
       "    <tr>\n",
       "      <th>2</th>\n",
       "      <td>log-likelihood</td>\n",
       "      <td>0.000000</td>\n",
       "      <td>30.593069</td>\n",
       "      <td>4.0</td>\n",
       "      <td>0.000004</td>\n",
       "      <td>0.174909</td>\n",
       "      <td>0.997549</td>\n",
       "    </tr>\n",
       "    <tr>\n",
       "      <th>3</th>\n",
       "      <td>freeman-tukey</td>\n",
       "      <td>-0.500000</td>\n",
       "      <td>NaN</td>\n",
       "      <td>4.0</td>\n",
       "      <td>NaN</td>\n",
       "      <td>NaN</td>\n",
       "      <td>NaN</td>\n",
       "    </tr>\n",
       "    <tr>\n",
       "      <th>4</th>\n",
       "      <td>mod-log-likelihood</td>\n",
       "      <td>-1.000000</td>\n",
       "      <td>inf</td>\n",
       "      <td>4.0</td>\n",
       "      <td>0.000000</td>\n",
       "      <td>inf</td>\n",
       "      <td>NaN</td>\n",
       "    </tr>\n",
       "    <tr>\n",
       "      <th>5</th>\n",
       "      <td>neyman</td>\n",
       "      <td>-2.000000</td>\n",
       "      <td>NaN</td>\n",
       "      <td>4.0</td>\n",
       "      <td>NaN</td>\n",
       "      <td>NaN</td>\n",
       "      <td>NaN</td>\n",
       "    </tr>\n",
       "  </tbody>\n",
       "</table>\n",
       "</div>"
      ],
      "text/plain": [
       "                 test    lambda       chi2  dof      pval    cramer     power\n",
       "0             pearson  1.000000  30.134064  4.0  0.000005  0.173592  0.997225\n",
       "1        cressie-read  0.666667  30.139025  4.0  0.000005  0.173606  0.997229\n",
       "2      log-likelihood  0.000000  30.593069  4.0  0.000004  0.174909  0.997549\n",
       "3       freeman-tukey -0.500000        NaN  4.0       NaN       NaN       NaN\n",
       "4  mod-log-likelihood -1.000000        inf  4.0  0.000000       inf       NaN\n",
       "5              neyman -2.000000        NaN  4.0       NaN       NaN       NaN"
      ]
     },
     "metadata": {},
     "output_type": "display_data"
    }
   ],
   "source": [
    "# chi-square test of independence\n",
    "expected, observed, stats = chi2_independence(\n",
    "    data=late_shipments,\n",
    "    x=\"vendor_inco_term\",\n",
    "    y=\"freight_cost_group\",\n",
    ")\n",
    "display(stats)"
   ]
  },
  {
   "cell_type": "markdown",
   "metadata": {},
   "source": [
    "## Non-parametric Tests"
   ]
  },
  {
   "cell_type": "code",
   "execution_count": 19,
   "metadata": {},
   "outputs": [
    {
     "data": {
      "text/html": [
       "<div>\n",
       "<style scoped>\n",
       "    .dataframe tbody tr th:only-of-type {\n",
       "        vertical-align: middle;\n",
       "    }\n",
       "\n",
       "    .dataframe tbody tr th {\n",
       "        vertical-align: top;\n",
       "    }\n",
       "\n",
       "    .dataframe thead th {\n",
       "        text-align: right;\n",
       "    }\n",
       "</style>\n",
       "<table border=\"1\" class=\"dataframe\">\n",
       "  <thead>\n",
       "    <tr style=\"text-align: right;\">\n",
       "      <th></th>\n",
       "      <th>T</th>\n",
       "      <th>dof</th>\n",
       "      <th>alternative</th>\n",
       "      <th>p-val</th>\n",
       "      <th>CI95%</th>\n",
       "      <th>cohen-d</th>\n",
       "      <th>BF10</th>\n",
       "      <th>power</th>\n",
       "    </tr>\n",
       "  </thead>\n",
       "  <tbody>\n",
       "    <tr>\n",
       "      <th>T-test</th>\n",
       "      <td>30.298384</td>\n",
       "      <td>499</td>\n",
       "      <td>two-sided</td>\n",
       "      <td>3.600634e-115</td>\n",
       "      <td>[6.39, 7.27]</td>\n",
       "      <td>0.454202</td>\n",
       "      <td>2.246e+111</td>\n",
       "      <td>1.0</td>\n",
       "    </tr>\n",
       "  </tbody>\n",
       "</table>\n",
       "</div>"
      ],
      "text/plain": [
       "                T  dof alternative          p-val         CI95%   cohen-d        BF10  power\n",
       "T-test  30.298384  499   two-sided  3.600634e-115  [6.39, 7.27]  0.454202  2.246e+111    1.0"
      ]
     },
     "metadata": {},
     "output_type": "display_data"
    }
   ],
   "source": [
    "# paired t-test `dem_percent_12` and `dem_percent_16`\n",
    "paired_test_results = ttest(\n",
    "    x=sample_dem_data[\"dem_percent_12\"],\n",
    "    y=sample_dem_data[\"dem_percent_16\"],\n",
    "    alternative=\"two-sided\",\n",
    "    paired=True,\n",
    ")\n",
    "display(paired_test_results)"
   ]
  },
  {
   "cell_type": "code",
   "execution_count": 20,
   "metadata": {},
   "outputs": [
    {
     "data": {
      "text/html": [
       "<div>\n",
       "<style scoped>\n",
       "    .dataframe tbody tr th:only-of-type {\n",
       "        vertical-align: middle;\n",
       "    }\n",
       "\n",
       "    .dataframe tbody tr th {\n",
       "        vertical-align: top;\n",
       "    }\n",
       "\n",
       "    .dataframe thead th {\n",
       "        text-align: right;\n",
       "    }\n",
       "</style>\n",
       "<table border=\"1\" class=\"dataframe\">\n",
       "  <thead>\n",
       "    <tr style=\"text-align: right;\">\n",
       "      <th></th>\n",
       "      <th>W-val</th>\n",
       "      <th>alternative</th>\n",
       "      <th>p-val</th>\n",
       "      <th>RBC</th>\n",
       "      <th>CLES</th>\n",
       "    </tr>\n",
       "  </thead>\n",
       "  <tbody>\n",
       "    <tr>\n",
       "      <th>Wilcoxon</th>\n",
       "      <td>2401.0</td>\n",
       "      <td>two-sided</td>\n",
       "      <td>1.780396e-77</td>\n",
       "      <td>0.961661</td>\n",
       "      <td>0.644816</td>\n",
       "    </tr>\n",
       "  </tbody>\n",
       "</table>\n",
       "</div>"
      ],
      "text/plain": [
       "           W-val alternative         p-val       RBC      CLES\n",
       "Wilcoxon  2401.0   two-sided  1.780396e-77  0.961661  0.644816"
      ]
     },
     "metadata": {},
     "output_type": "display_data"
    }
   ],
   "source": [
    "# Wilcoxon signed-rank test `dem_percent_12` and `dem_percent_16`\n",
    "wilcoxon_test_results = wilcoxon(\n",
    "    x=sample_dem_data[\"dem_percent_12\"],\n",
    "    y=sample_dem_data[\"dem_percent_16\"],\n",
    "    alternative=\"two-sided\",\n",
    ")\n",
    "display(wilcoxon_test_results)"
   ]
  },
  {
   "cell_type": "code",
   "execution_count": 21,
   "metadata": {},
   "outputs": [
    {
     "data": {
      "text/html": [
       "<div>\n",
       "<style scoped>\n",
       "    .dataframe tbody tr th:only-of-type {\n",
       "        vertical-align: middle;\n",
       "    }\n",
       "\n",
       "    .dataframe tbody tr th {\n",
       "        vertical-align: top;\n",
       "    }\n",
       "\n",
       "    .dataframe thead th {\n",
       "        text-align: right;\n",
       "    }\n",
       "</style>\n",
       "<table border=\"1\" class=\"dataframe\">\n",
       "  <thead>\n",
       "    <tr style=\"text-align: right;\">\n",
       "      <th></th>\n",
       "      <th>U-val</th>\n",
       "      <th>alternative</th>\n",
       "      <th>p-val</th>\n",
       "      <th>RBC</th>\n",
       "      <th>CLES</th>\n",
       "    </tr>\n",
       "  </thead>\n",
       "  <tbody>\n",
       "    <tr>\n",
       "      <th>MWU</th>\n",
       "      <td>38145.0</td>\n",
       "      <td>two-sided</td>\n",
       "      <td>0.000014</td>\n",
       "      <td>-0.331902</td>\n",
       "      <td>0.665951</td>\n",
       "    </tr>\n",
       "  </tbody>\n",
       "</table>\n",
       "</div>"
      ],
      "text/plain": [
       "       U-val alternative     p-val       RBC      CLES\n",
       "MWU  38145.0   two-sided  0.000014 -0.331902  0.665951"
      ]
     },
     "metadata": {},
     "output_type": "display_data"
    }
   ],
   "source": [
    "# select `weight_kilograms` and `late`\n",
    "weight_vs_late = late_shipments[[\"weight_kilograms\", \"late\"]]\n",
    "\n",
    "# widen\n",
    "weight_vs_late_wide = weight_vs_late.pivot(columns=\"late\", values=\"weight_kilograms\")\n",
    "\n",
    "# two-sided Wilcoxon-Mann-Whitney test\n",
    "wmw_test_results = mwu(\n",
    "    x=weight_vs_late_wide[\"Yes\"],\n",
    "    y=weight_vs_late_wide[\"No\"],\n",
    "    alternative=\"two-sided\",\n",
    ")\n",
    "display(wmw_test_results)"
   ]
  },
  {
   "cell_type": "code",
   "execution_count": 22,
   "metadata": {},
   "outputs": [
    {
     "data": {
      "text/html": [
       "<div>\n",
       "<style scoped>\n",
       "    .dataframe tbody tr th:only-of-type {\n",
       "        vertical-align: middle;\n",
       "    }\n",
       "\n",
       "    .dataframe tbody tr th {\n",
       "        vertical-align: top;\n",
       "    }\n",
       "\n",
       "    .dataframe thead th {\n",
       "        text-align: right;\n",
       "    }\n",
       "</style>\n",
       "<table border=\"1\" class=\"dataframe\">\n",
       "  <thead>\n",
       "    <tr style=\"text-align: right;\">\n",
       "      <th></th>\n",
       "      <th>Source</th>\n",
       "      <th>ddof1</th>\n",
       "      <th>H</th>\n",
       "      <th>p-unc</th>\n",
       "    </tr>\n",
       "  </thead>\n",
       "  <tbody>\n",
       "    <tr>\n",
       "      <th>Kruskal</th>\n",
       "      <td>shipment_mode</td>\n",
       "      <td>2</td>\n",
       "      <td>125.096618</td>\n",
       "      <td>6.848799e-28</td>\n",
       "    </tr>\n",
       "  </tbody>\n",
       "</table>\n",
       "</div>"
      ],
      "text/plain": [
       "                Source  ddof1           H         p-unc\n",
       "Kruskal  shipment_mode      2  125.096618  6.848799e-28"
      ]
     },
     "metadata": {},
     "output_type": "display_data"
    }
   ],
   "source": [
    "# Kruskal-Wallis test `weight_kilograms` across `shipment_mode`\n",
    "kw_test_results = kruskal(\n",
    "    data=late_shipments,\n",
    "    dv=\"weight_kilograms\",\n",
    "    between=\"shipment_mode\",\n",
    ")\n",
    "display(kw_test_results)"
   ]
  }
 ],
 "metadata": {
  "kernelspec": {
   "display_name": "venv",
   "language": "python",
   "name": "python3"
  },
  "language_info": {
   "codemirror_mode": {
    "name": "ipython",
    "version": 3
   },
   "file_extension": ".py",
   "mimetype": "text/x-python",
   "name": "python",
   "nbconvert_exporter": "python",
   "pygments_lexer": "ipython3",
   "version": "3.11.7"
  }
 },
 "nbformat": 4,
 "nbformat_minor": 2
}
