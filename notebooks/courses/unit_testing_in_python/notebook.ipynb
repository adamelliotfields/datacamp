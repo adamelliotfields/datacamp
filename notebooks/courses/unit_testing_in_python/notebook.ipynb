{
 "cells": [
  {
   "cell_type": "markdown",
   "metadata": {},
   "source": [
    "# [Unit Testing in Python](https://www.datacamp.com/completed/statement-of-accomplishment/course/eba36358d8ed60a1700a5d8ccf23b0bdc5740210)\n",
    "\n",
    "[![Open in Colab](https://colab.research.google.com/assets/colab-badge.svg)](https://colab.research.google.com/github/adamelliotfields/datacamp/blob/main/notebooks/courses/unit_testing_in_python/notebook.ipynb)\n",
    "[![Render nbviewer](https://raw.githubusercontent.com/jupyter/design/main/logos/Badges/nbviewer_badge.svg)](https://nbviewer.org/github/adamelliotfields/datacamp/blob/main/notebooks/courses/unit_testing_in_python/notebook.ipynb)"
   ]
  },
  {
   "cell_type": "code",
   "execution_count": 1,
   "metadata": {
    "vscode": {
     "languageId": "shellscript"
    }
   },
   "outputs": [
    {
     "name": "stdout",
     "output_type": "stream",
     "text": [
      "\u001b[1m============================= test session starts ==============================\u001b[0m\n",
      "platform darwin -- Python 3.11.3, pytest-7.4.2, pluggy-1.3.0\n",
      "rootdir: /Users/adam/@/datacamp/notebooks/courses/unit_testing_in_python\n",
      "plugins: anyio-4.0.0\n",
      "collected 19 items\n",
      "\n",
      "tests/test_as_numpy.py \u001b[33ms\u001b[0m\u001b[32m                                                 [  5%]\u001b[0m\n",
      "tests/test_preprocessing_helpers.py \u001b[32m.\u001b[0m\u001b[32m.\u001b[0m\u001b[32m.\u001b[0m\u001b[32m.\u001b[0m\u001b[32m.\u001b[0m\u001b[32m.\u001b[0m\u001b[32m.\u001b[0m\u001b[32m.\u001b[0m\u001b[32m.\u001b[0m\u001b[32m.\u001b[0m\u001b[32m.\u001b[0m\u001b[32m.\u001b[0m\u001b[32m.\u001b[0m\u001b[32m.\u001b[0m\u001b[32m                       [ 78%]\u001b[0m\n",
      "tests/test_train.py \u001b[32m.\u001b[0m\u001b[32m.\u001b[0m\u001b[33mx\u001b[0m\u001b[33mx\u001b[0m\u001b[32m                                                 [100%]\u001b[0m\n",
      "\n",
      "\u001b[32m=================== \u001b[32m\u001b[1m16 passed\u001b[0m, \u001b[33m1 skipped\u001b[0m, \u001b[33m2 xfailed\u001b[0m\u001b[32m in 0.17s\u001b[0m\u001b[32m ===================\u001b[0m\n"
     ]
    }
   ],
   "source": [
    "%%bash\n",
    "poetry run pytest\n"
   ]
  }
 ],
 "metadata": {
  "kernelspec": {
   "display_name": "datacamp-kYionb3o-py3.11",
   "language": "python",
   "name": "python3"
  },
  "language_info": {
   "codemirror_mode": {
    "name": "ipython",
    "version": 3
   },
   "file_extension": ".py",
   "mimetype": "text/x-python",
   "name": "python",
   "nbconvert_exporter": "python",
   "pygments_lexer": "ipython3",
   "version": "3.11.3"
  },
  "orig_nbformat": 4
 },
 "nbformat": 4,
 "nbformat_minor": 2
}
