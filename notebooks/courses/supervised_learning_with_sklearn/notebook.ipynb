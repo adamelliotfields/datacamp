{
 "cells": [
  {
   "cell_type": "markdown",
   "id": "7c8fe97c",
   "metadata": {},
   "source": [
    "# [Supervised Learning with `scikit-learn`](https://www.datacamp.com/completed/statement-of-accomplishment/course/59ae300b34ff870bc362fb7c845f68f749c1fee4)\n",
    "\n",
    "[![Open in Colab](https://colab.research.google.com/assets/colab-badge.svg)](https://colab.research.google.com/github/adamelliotfields/datacamp/blob/main/notebooks/courses/supervised_learning_with_sklearn/notebook.ipynb)\n",
    "[![Render nbviewer](https://raw.githubusercontent.com/jupyter/design/main/logos/Badges/nbviewer_badge.svg)](https://nbviewer.org/github/adamelliotfields/datacamp/blob/main/notebooks/courses/supervised_learning_with_sklearn/notebook.ipynb)\n",
    "\n",
    "**Contents**\n",
    "- [Classification](#Classification)\n",
    "- [Regression](#Regression)\n",
    "- [Fine-tuning](#Fine-tuning)\n",
    "- [Preprocessing and Pipelines](#Preprocessing-and-Pipelines)"
   ]
  },
  {
   "cell_type": "code",
   "execution_count": 1,
   "id": "5e9efd89",
   "metadata": {},
   "outputs": [],
   "source": [
    "%matplotlib inline\n",
    "\n",
    "import matplotlib.pyplot as plt\n",
    "import numpy as np\n",
    "import pandas as pd\n",
    "from sklearn.impute import SimpleImputer\n",
    "from sklearn.linear_model import Lasso, LinearRegression, LogisticRegression, Ridge\n",
    "from sklearn.metrics import classification_report, confusion_matrix, mean_squared_error, roc_auc_score, roc_curve\n",
    "from sklearn.model_selection import GridSearchCV, KFold, cross_val_score, RandomizedSearchCV, train_test_split\n",
    "from sklearn.neighbors import KNeighborsClassifier\n",
    "from sklearn.pipeline import Pipeline\n",
    "from sklearn.preprocessing import StandardScaler\n",
    "from sklearn.tree import DecisionTreeClassifier\n"
   ]
  },
  {
   "cell_type": "code",
   "execution_count": 2,
   "id": "dbead4af",
   "metadata": {},
   "outputs": [
    {
     "data": {
      "text/html": [
       "<div>\n",
       "<style scoped>\n",
       "    .dataframe tbody tr th:only-of-type {\n",
       "        vertical-align: middle;\n",
       "    }\n",
       "\n",
       "    .dataframe tbody tr th {\n",
       "        vertical-align: top;\n",
       "    }\n",
       "\n",
       "    .dataframe thead th {\n",
       "        text-align: right;\n",
       "    }\n",
       "</style>\n",
       "<table border=\"1\" class=\"dataframe\">\n",
       "  <thead>\n",
       "    <tr style=\"text-align: right;\">\n",
       "      <th></th>\n",
       "      <th>account_length</th>\n",
       "      <th>total_day_charge</th>\n",
       "      <th>total_eve_charge</th>\n",
       "      <th>total_night_charge</th>\n",
       "      <th>total_intl_charge</th>\n",
       "      <th>customer_service_calls</th>\n",
       "      <th>churn</th>\n",
       "    </tr>\n",
       "  </thead>\n",
       "  <tbody>\n",
       "    <tr>\n",
       "      <th>0</th>\n",
       "      <td>101</td>\n",
       "      <td>45.85</td>\n",
       "      <td>17.65</td>\n",
       "      <td>9.64</td>\n",
       "      <td>1.22</td>\n",
       "      <td>3</td>\n",
       "      <td>1</td>\n",
       "    </tr>\n",
       "    <tr>\n",
       "      <th>1</th>\n",
       "      <td>73</td>\n",
       "      <td>22.30</td>\n",
       "      <td>9.05</td>\n",
       "      <td>9.98</td>\n",
       "      <td>2.75</td>\n",
       "      <td>2</td>\n",
       "      <td>0</td>\n",
       "    </tr>\n",
       "    <tr>\n",
       "      <th>2</th>\n",
       "      <td>86</td>\n",
       "      <td>24.62</td>\n",
       "      <td>17.53</td>\n",
       "      <td>11.49</td>\n",
       "      <td>3.13</td>\n",
       "      <td>4</td>\n",
       "      <td>0</td>\n",
       "    </tr>\n",
       "    <tr>\n",
       "      <th>3</th>\n",
       "      <td>59</td>\n",
       "      <td>34.73</td>\n",
       "      <td>21.02</td>\n",
       "      <td>9.66</td>\n",
       "      <td>3.24</td>\n",
       "      <td>1</td>\n",
       "      <td>0</td>\n",
       "    </tr>\n",
       "    <tr>\n",
       "      <th>4</th>\n",
       "      <td>129</td>\n",
       "      <td>27.42</td>\n",
       "      <td>18.75</td>\n",
       "      <td>10.11</td>\n",
       "      <td>2.59</td>\n",
       "      <td>1</td>\n",
       "      <td>0</td>\n",
       "    </tr>\n",
       "  </tbody>\n",
       "</table>\n",
       "</div>"
      ],
      "text/plain": [
       "   account_length  total_day_charge  total_eve_charge  total_night_charge  \\\n",
       "0             101             45.85             17.65                9.64   \n",
       "1              73             22.30              9.05                9.98   \n",
       "2              86             24.62             17.53               11.49   \n",
       "3              59             34.73             21.02                9.66   \n",
       "4             129             27.42             18.75               10.11   \n",
       "\n",
       "   total_intl_charge  customer_service_calls  churn  \n",
       "0               1.22                       3      1  \n",
       "1               2.75                       2      0  \n",
       "2               3.13                       4      0  \n",
       "3               3.24                       1      0  \n",
       "4               2.59                       1      0  "
      ]
     },
     "metadata": {},
     "output_type": "display_data"
    }
   ],
   "source": [
    "churn = pd.read_csv(\"churn.csv\")\n",
    "display(churn.head())\n"
   ]
  },
  {
   "cell_type": "code",
   "execution_count": 3,
   "id": "3686dd1a",
   "metadata": {},
   "outputs": [
    {
     "data": {
      "text/html": [
       "<div>\n",
       "<style scoped>\n",
       "    .dataframe tbody tr th:only-of-type {\n",
       "        vertical-align: middle;\n",
       "    }\n",
       "\n",
       "    .dataframe tbody tr th {\n",
       "        vertical-align: top;\n",
       "    }\n",
       "\n",
       "    .dataframe thead th {\n",
       "        text-align: right;\n",
       "    }\n",
       "</style>\n",
       "<table border=\"1\" class=\"dataframe\">\n",
       "  <thead>\n",
       "    <tr style=\"text-align: right;\">\n",
       "      <th></th>\n",
       "      <th>pregnancies</th>\n",
       "      <th>glucose</th>\n",
       "      <th>diastolic</th>\n",
       "      <th>triceps</th>\n",
       "      <th>insulin</th>\n",
       "      <th>bmi</th>\n",
       "      <th>dpf</th>\n",
       "      <th>age</th>\n",
       "      <th>diabetes</th>\n",
       "    </tr>\n",
       "  </thead>\n",
       "  <tbody>\n",
       "    <tr>\n",
       "      <th>0</th>\n",
       "      <td>6</td>\n",
       "      <td>148</td>\n",
       "      <td>72</td>\n",
       "      <td>35</td>\n",
       "      <td>0</td>\n",
       "      <td>33.6</td>\n",
       "      <td>0.627</td>\n",
       "      <td>50</td>\n",
       "      <td>1</td>\n",
       "    </tr>\n",
       "    <tr>\n",
       "      <th>1</th>\n",
       "      <td>1</td>\n",
       "      <td>85</td>\n",
       "      <td>66</td>\n",
       "      <td>29</td>\n",
       "      <td>0</td>\n",
       "      <td>26.6</td>\n",
       "      <td>0.351</td>\n",
       "      <td>31</td>\n",
       "      <td>0</td>\n",
       "    </tr>\n",
       "    <tr>\n",
       "      <th>2</th>\n",
       "      <td>8</td>\n",
       "      <td>183</td>\n",
       "      <td>64</td>\n",
       "      <td>0</td>\n",
       "      <td>0</td>\n",
       "      <td>23.3</td>\n",
       "      <td>0.672</td>\n",
       "      <td>32</td>\n",
       "      <td>1</td>\n",
       "    </tr>\n",
       "    <tr>\n",
       "      <th>3</th>\n",
       "      <td>1</td>\n",
       "      <td>89</td>\n",
       "      <td>66</td>\n",
       "      <td>23</td>\n",
       "      <td>94</td>\n",
       "      <td>28.1</td>\n",
       "      <td>0.167</td>\n",
       "      <td>21</td>\n",
       "      <td>0</td>\n",
       "    </tr>\n",
       "    <tr>\n",
       "      <th>4</th>\n",
       "      <td>0</td>\n",
       "      <td>137</td>\n",
       "      <td>40</td>\n",
       "      <td>35</td>\n",
       "      <td>168</td>\n",
       "      <td>43.1</td>\n",
       "      <td>2.288</td>\n",
       "      <td>33</td>\n",
       "      <td>1</td>\n",
       "    </tr>\n",
       "  </tbody>\n",
       "</table>\n",
       "</div>"
      ],
      "text/plain": [
       "   pregnancies  glucose  diastolic  triceps  insulin   bmi    dpf  age  \\\n",
       "0            6      148         72       35        0  33.6  0.627   50   \n",
       "1            1       85         66       29        0  26.6  0.351   31   \n",
       "2            8      183         64        0        0  23.3  0.672   32   \n",
       "3            1       89         66       23       94  28.1  0.167   21   \n",
       "4            0      137         40       35      168  43.1  2.288   33   \n",
       "\n",
       "   diabetes  \n",
       "0         1  \n",
       "1         0  \n",
       "2         1  \n",
       "3         0  \n",
       "4         1  "
      ]
     },
     "metadata": {},
     "output_type": "display_data"
    }
   ],
   "source": [
    "diabetes = pd.read_csv(\"diabetes.csv\")\n",
    "display(diabetes.head())\n"
   ]
  },
  {
   "cell_type": "code",
   "execution_count": 4,
   "id": "8bc6a4d8",
   "metadata": {},
   "outputs": [
    {
     "data": {
      "text/html": [
       "<div>\n",
       "<style scoped>\n",
       "    .dataframe tbody tr th:only-of-type {\n",
       "        vertical-align: middle;\n",
       "    }\n",
       "\n",
       "    .dataframe tbody tr th {\n",
       "        vertical-align: top;\n",
       "    }\n",
       "\n",
       "    .dataframe thead th {\n",
       "        text-align: right;\n",
       "    }\n",
       "</style>\n",
       "<table border=\"1\" class=\"dataframe\">\n",
       "  <thead>\n",
       "    <tr style=\"text-align: right;\">\n",
       "      <th></th>\n",
       "      <th>popularity</th>\n",
       "      <th>acousticness</th>\n",
       "      <th>danceability</th>\n",
       "      <th>duration_ms</th>\n",
       "      <th>energy</th>\n",
       "      <th>instrumentalness</th>\n",
       "      <th>liveness</th>\n",
       "      <th>loudness</th>\n",
       "      <th>speechiness</th>\n",
       "      <th>tempo</th>\n",
       "      <th>valence</th>\n",
       "      <th>genre</th>\n",
       "    </tr>\n",
       "  </thead>\n",
       "  <tbody>\n",
       "    <tr>\n",
       "      <th>0</th>\n",
       "      <td>41.0</td>\n",
       "      <td>0.6440</td>\n",
       "      <td>0.823</td>\n",
       "      <td>236533.0</td>\n",
       "      <td>0.814</td>\n",
       "      <td>0.687000</td>\n",
       "      <td>0.1170</td>\n",
       "      <td>-5.611</td>\n",
       "      <td>0.1770</td>\n",
       "      <td>102.619000</td>\n",
       "      <td>0.649</td>\n",
       "      <td>Jazz</td>\n",
       "    </tr>\n",
       "    <tr>\n",
       "      <th>1</th>\n",
       "      <td>62.0</td>\n",
       "      <td>0.0855</td>\n",
       "      <td>0.686</td>\n",
       "      <td>154373.0</td>\n",
       "      <td>0.670</td>\n",
       "      <td>0.000000</td>\n",
       "      <td>0.1200</td>\n",
       "      <td>-7.626</td>\n",
       "      <td>0.2250</td>\n",
       "      <td>173.915000</td>\n",
       "      <td>0.636</td>\n",
       "      <td>Rap</td>\n",
       "    </tr>\n",
       "    <tr>\n",
       "      <th>2</th>\n",
       "      <td>42.0</td>\n",
       "      <td>0.2390</td>\n",
       "      <td>0.669</td>\n",
       "      <td>217778.0</td>\n",
       "      <td>0.736</td>\n",
       "      <td>0.000169</td>\n",
       "      <td>0.5980</td>\n",
       "      <td>-3.223</td>\n",
       "      <td>0.0602</td>\n",
       "      <td>145.061000</td>\n",
       "      <td>0.494</td>\n",
       "      <td>Electronic</td>\n",
       "    </tr>\n",
       "    <tr>\n",
       "      <th>3</th>\n",
       "      <td>64.0</td>\n",
       "      <td>0.0125</td>\n",
       "      <td>0.522</td>\n",
       "      <td>245960.0</td>\n",
       "      <td>0.923</td>\n",
       "      <td>0.017000</td>\n",
       "      <td>0.0854</td>\n",
       "      <td>-4.560</td>\n",
       "      <td>0.0539</td>\n",
       "      <td>120.406497</td>\n",
       "      <td>0.595</td>\n",
       "      <td>Rock</td>\n",
       "    </tr>\n",
       "    <tr>\n",
       "      <th>4</th>\n",
       "      <td>60.0</td>\n",
       "      <td>0.1210</td>\n",
       "      <td>0.780</td>\n",
       "      <td>229400.0</td>\n",
       "      <td>0.467</td>\n",
       "      <td>0.000134</td>\n",
       "      <td>0.3140</td>\n",
       "      <td>-6.645</td>\n",
       "      <td>0.2530</td>\n",
       "      <td>96.056000</td>\n",
       "      <td>0.312</td>\n",
       "      <td>Rap</td>\n",
       "    </tr>\n",
       "  </tbody>\n",
       "</table>\n",
       "</div>"
      ],
      "text/plain": [
       "   popularity  acousticness  danceability  duration_ms  energy  \\\n",
       "0        41.0        0.6440         0.823     236533.0   0.814   \n",
       "1        62.0        0.0855         0.686     154373.0   0.670   \n",
       "2        42.0        0.2390         0.669     217778.0   0.736   \n",
       "3        64.0        0.0125         0.522     245960.0   0.923   \n",
       "4        60.0        0.1210         0.780     229400.0   0.467   \n",
       "\n",
       "   instrumentalness  liveness  loudness  speechiness       tempo  valence  \\\n",
       "0          0.687000    0.1170    -5.611       0.1770  102.619000    0.649   \n",
       "1          0.000000    0.1200    -7.626       0.2250  173.915000    0.636   \n",
       "2          0.000169    0.5980    -3.223       0.0602  145.061000    0.494   \n",
       "3          0.017000    0.0854    -4.560       0.0539  120.406497    0.595   \n",
       "4          0.000134    0.3140    -6.645       0.2530   96.056000    0.312   \n",
       "\n",
       "        genre  \n",
       "0        Jazz  \n",
       "1         Rap  \n",
       "2  Electronic  \n",
       "3        Rock  \n",
       "4         Rap  "
      ]
     },
     "metadata": {},
     "output_type": "display_data"
    }
   ],
   "source": [
    "music = pd.read_csv(\"music.csv\")\n",
    "display(music.head())\n"
   ]
  },
  {
   "cell_type": "code",
   "execution_count": 5,
   "id": "694097f2",
   "metadata": {},
   "outputs": [
    {
     "data": {
      "text/html": [
       "<div>\n",
       "<style scoped>\n",
       "    .dataframe tbody tr th:only-of-type {\n",
       "        vertical-align: middle;\n",
       "    }\n",
       "\n",
       "    .dataframe tbody tr th {\n",
       "        vertical-align: top;\n",
       "    }\n",
       "\n",
       "    .dataframe thead th {\n",
       "        text-align: right;\n",
       "    }\n",
       "</style>\n",
       "<table border=\"1\" class=\"dataframe\">\n",
       "  <thead>\n",
       "    <tr style=\"text-align: right;\">\n",
       "      <th></th>\n",
       "      <th>tv</th>\n",
       "      <th>radio</th>\n",
       "      <th>social_media</th>\n",
       "      <th>sales</th>\n",
       "    </tr>\n",
       "  </thead>\n",
       "  <tbody>\n",
       "    <tr>\n",
       "      <th>0</th>\n",
       "      <td>16000.0</td>\n",
       "      <td>6566.23</td>\n",
       "      <td>2907.98</td>\n",
       "      <td>54732.76</td>\n",
       "    </tr>\n",
       "    <tr>\n",
       "      <th>1</th>\n",
       "      <td>13000.0</td>\n",
       "      <td>9237.76</td>\n",
       "      <td>2409.57</td>\n",
       "      <td>46677.90</td>\n",
       "    </tr>\n",
       "    <tr>\n",
       "      <th>2</th>\n",
       "      <td>41000.0</td>\n",
       "      <td>15886.45</td>\n",
       "      <td>2913.41</td>\n",
       "      <td>150177.83</td>\n",
       "    </tr>\n",
       "    <tr>\n",
       "      <th>3</th>\n",
       "      <td>83000.0</td>\n",
       "      <td>30020.03</td>\n",
       "      <td>6922.30</td>\n",
       "      <td>298246.34</td>\n",
       "    </tr>\n",
       "    <tr>\n",
       "      <th>4</th>\n",
       "      <td>15000.0</td>\n",
       "      <td>8437.41</td>\n",
       "      <td>1406.00</td>\n",
       "      <td>56594.18</td>\n",
       "    </tr>\n",
       "  </tbody>\n",
       "</table>\n",
       "</div>"
      ],
      "text/plain": [
       "        tv     radio  social_media      sales\n",
       "0  16000.0   6566.23       2907.98   54732.76\n",
       "1  13000.0   9237.76       2409.57   46677.90\n",
       "2  41000.0  15886.45       2913.41  150177.83\n",
       "3  83000.0  30020.03       6922.30  298246.34\n",
       "4  15000.0   8437.41       1406.00   56594.18"
      ]
     },
     "metadata": {},
     "output_type": "display_data"
    }
   ],
   "source": [
    "sales = pd.read_csv(\"sales.csv\")\n",
    "display(sales.head())\n"
   ]
  },
  {
   "cell_type": "markdown",
   "id": "fcb3d968",
   "metadata": {},
   "source": [
    "## Classification\n",
    "\n",
    "_Supervised learning_ is one of the three fields of machine learning, with the others being _unsupervised learning_ and _reinforcement learning_.\n",
    "\n",
    "Supervised learning is the process whereby a model is trained using labeled data. The model learns the relationships between the target variable and the features of the dataset. Once trained, the model can be used to make predictions on new data.\n",
    "\n",
    "_Classification_ is one of two types of supervised learning tasks, the other being _regression_."
   ]
  },
  {
   "cell_type": "code",
   "execution_count": 6,
   "id": "fe0c0855",
   "metadata": {},
   "outputs": [
    {
     "name": "stdout",
     "output_type": "stream",
     "text": [
      "Predictions: [0 1 0]\n"
     ]
    }
   ],
   "source": [
    "X = churn[[\"account_length\", \"customer_service_calls\"]].values\n",
    "y = churn[\"churn\"].values\n",
    "\n",
    "knn = KNeighborsClassifier(n_neighbors=6)\n",
    "knn.fit(X, y)\n",
    "\n",
    "X_new = np.array([[30.0, 17.5], [107.0, 24.1], [213.0, 10.9]])\n",
    "y_pred = knn.predict(X_new)\n",
    "print(f\"Predictions: {y_pred}\")\n"
   ]
  },
  {
   "cell_type": "code",
   "execution_count": 7,
   "id": "1cef11d6",
   "metadata": {},
   "outputs": [
    {
     "name": "stdout",
     "output_type": "stream",
     "text": [
      "0.8740629685157422\n"
     ]
    }
   ],
   "source": [
    "X = churn.drop(\"churn\", axis=1).values\n",
    "y = churn[\"churn\"].values\n",
    "\n",
    "X_train, X_test, y_train, y_test = train_test_split(\n",
    "    X,\n",
    "    y,\n",
    "    test_size=0.2,\n",
    "    random_state=42,\n",
    "    stratify=y,\n",
    ")\n",
    "\n",
    "knn = KNeighborsClassifier(n_neighbors=5)\n",
    "knn.fit(X_train, y_train)\n",
    "print(knn.score(X_test, y_test))\n"
   ]
  },
  {
   "cell_type": "markdown",
   "id": "1e3dacf8",
   "metadata": {},
   "source": [
    "### Overfitting and underfitting\n",
    "\n",
    "Your aim is to produce a model that can interpret the relationships between features and the target variable as well as generalize when exposed to new observations.\n",
    "\n",
    "_Overfitting_ occurs when a model learns the relationships between features and the target variable too well. The model will perform really well on the training data, but will not generalize well with new observations. Essentially, the model has \"memorized\" the training data.\n",
    "\n",
    "_Underfitting_ is when a model does not learn the relationships between features and the target variable well enough. The model will not perform well on the training data, and will not generalize well with new observations."
   ]
  },
  {
   "cell_type": "code",
   "execution_count": 8,
   "id": "e6a936fc",
   "metadata": {},
   "outputs": [
    {
     "data": {
      "image/png": "[encoded data removed]",
      "text/plain": [
       "<Figure size 640x480 with 1 Axes>"
      ]
     },
     "metadata": {},
     "output_type": "display_data"
    }
   ],
   "source": [
    "neighbors = np.arange(1, 13)\n",
    "train_accuracies = {}\n",
    "test_accuracies = {}\n",
    "\n",
    "for neighbor in neighbors:\n",
    "    knn = KNeighborsClassifier(n_neighbors=neighbor)\n",
    "    knn.fit(X_train, y_train)\n",
    "    train_accuracies[neighbor] = knn.score(X_train, y_train)\n",
    "    test_accuracies[neighbor] = knn.score(X_test, y_test)\n",
    "\n",
    "plt.title(\"KNN: Varying Number of Neighbors\")\n",
    "plt.plot(neighbors, train_accuracies.values(), label=\"Training Accuracy\")\n",
    "plt.plot(neighbors, test_accuracies.values(), label=\"Testing Accuracy\")\n",
    "plt.legend()\n",
    "plt.xlabel(\"Number of Neighbors\")\n",
    "plt.ylabel(\"Accuracy\")\n",
    "plt.show()\n"
   ]
  },
  {
   "cell_type": "markdown",
   "id": "30b8041f",
   "metadata": {},
   "source": [
    "## Regression\n",
    "\n",
    "_Regression_ is the task of predicting a continuous, numerical value based on a set of features."
   ]
  },
  {
   "cell_type": "code",
   "execution_count": 9,
   "id": "57163442",
   "metadata": {},
   "outputs": [
    {
     "data": {
      "image/png": "[encoded data removed]",
      "text/plain": [
       "<Figure size 640x480 with 1 Axes>"
      ]
     },
     "metadata": {},
     "output_type": "display_data"
    }
   ],
   "source": [
    "X = sales[\"radio\"].values\n",
    "y = sales[\"sales\"].values\n",
    "\n",
    "# reshape X\n",
    "X = X.reshape(-1, 1)\n",
    "\n",
    "reg = LinearRegression()\n",
    "reg.fit(X, y)\n",
    "\n",
    "predictions = reg.predict(X)\n",
    "\n",
    "plt.scatter(X, y, color=\"blue\")\n",
    "plt.plot(X, predictions, color=\"red\")\n",
    "plt.xlabel(\"Radio Expenditure ($)\")\n",
    "plt.ylabel(\"Sales ($)\")\n",
    "plt.show()\n"
   ]
  },
  {
   "cell_type": "markdown",
   "id": "689fd18f",
   "metadata": {},
   "source": [
    "### Linear regression basics\n",
    "\n",
    "_Simple linear regression_ is defined as:\n",
    "\n",
    "$y = ax + b$\n",
    "\n",
    "where $y$ is the target variable, $x$ is the feature, $a$ is the slope, and $b$ is the intercept.\n",
    "\n",
    "The $a$ and $b$ parameters will graph a line that minimizes the _error function_.\n",
    "\n",
    "The error function or _loss function_ is a measure of how well the model fits the data."
   ]
  },
  {
   "cell_type": "code",
   "execution_count": 10,
   "id": "0d9d0729",
   "metadata": {},
   "outputs": [
    {
     "name": "stdout",
     "output_type": "stream",
     "text": [
      "Predictions: [53176.66154234 70996.19873235], Actual Values: [55261.28 67574.9 ]\n"
     ]
    }
   ],
   "source": [
    "X = sales.drop(\"sales\", axis=1).values\n",
    "y = sales[\"sales\"].values\n",
    "\n",
    "X_train, X_test, y_train, y_test = train_test_split(\n",
    "    X,\n",
    "    y,\n",
    "    test_size=0.3,\n",
    "    random_state=42,\n",
    ")\n",
    "\n",
    "reg = LinearRegression()\n",
    "reg.fit(X_train, y_train)\n",
    "y_pred = reg.predict(X_test)\n",
    "print(f\"Predictions: {y_pred[:2]}, Actual Values: {y_test[:2]}\")\n"
   ]
  },
  {
   "cell_type": "markdown",
   "id": "423d0580",
   "metadata": {},
   "source": [
    "### Measuring regression performance\n",
    "\n",
    "The _mean squared error_ (MSE) is the average of the squared differences between the predicted and actual values. The _root mean squared error_ (RMSE) is the square root of the MSE.\n",
    "\n",
    "The <em>R<sup>2</sup></em> score is the proportion of the variance in the target variable that is explained by the model."
   ]
  },
  {
   "cell_type": "code",
   "execution_count": 11,
   "id": "540bad52",
   "metadata": {},
   "outputs": [
    {
     "name": "stdout",
     "output_type": "stream",
     "text": [
      "R^2: 0.9990152104759368\n",
      "RMSE: 2944.4331996001\n"
     ]
    }
   ],
   "source": [
    "r_squared = reg.score(X_test, y_test)\n",
    "rmse = np.sqrt(mean_squared_error(y_test, y_pred))\n",
    "print(f\"R^2: {r_squared}\")\n",
    "print(f\"RMSE: {rmse}\")\n"
   ]
  },
  {
   "cell_type": "markdown",
   "id": "247a660d",
   "metadata": {},
   "source": [
    "### Cross-validation\n",
    "\n",
    "_k-fold cross-validation_ is a technique used to evaluate a model's performance on unseen data. The data is split into $k$ folds, and the model is trained on $k-1$ folds and tested on the remaining fold. This process is repeated $k$ times, with each fold being used as the test set once. The average of the $k$ scores is the overall score of the model. If we use $k=5$, this is called _5-fold cross-validation_.\n"
   ]
  },
  {
   "cell_type": "code",
   "execution_count": 12,
   "id": "811a95c4",
   "metadata": {},
   "outputs": [
    {
     "name": "stdout",
     "output_type": "stream",
     "text": [
      "0.9989896443678249\n",
      "6.608118371529651e-05\n",
      "[0.99889767 0.99908583]\n"
     ]
    }
   ],
   "source": [
    "kf = KFold(n_splits=6, shuffle=True, random_state=5)\n",
    "reg = LinearRegression()\n",
    "cv_scores = cross_val_score(reg, X, y, cv=kf)\n",
    "\n",
    "# print mean of `cv_scores`\n",
    "print(np.mean(cv_scores))\n",
    "\n",
    "# print standard deviation\n",
    "print(np.std(cv_scores))\n",
    "\n",
    "# print 95% confidence interval\n",
    "print(np.quantile(cv_scores, [0.025, 0.975]))\n"
   ]
  },
  {
   "cell_type": "markdown",
   "id": "ea16eef6",
   "metadata": {},
   "source": [
    "### Regularization\n",
    "\n",
    "_Regularization_ is a technique used to reduce overfitting. It does this by adding a penalty term to the loss function. The penalty term is a function of the model's parameters. The penalty term is zero when the parameters are zero, and increases as the parameters increase."
   ]
  },
  {
   "cell_type": "markdown",
   "id": "adf3380e",
   "metadata": {},
   "source": [
    "#### Ridge regression\n",
    "\n",
    "_Ridge regression_ is a technique used to reduce overfitting by dealing with multicollinearity, a situation where two or more features are highly correlated.\n",
    "\n",
    "The idea of Ridge regression is to alter the process of finding the best-fitting line by introducing a penalty for having coefficients that are too large, which often happens when the predictors are highly correlated. The resulting model might not fit the data as perfectly, but should perform better with data it hasn't seen before."
   ]
  },
  {
   "cell_type": "code",
   "execution_count": 13,
   "id": "10e5cb9c",
   "metadata": {},
   "outputs": [
    {
     "name": "stdout",
     "output_type": "stream",
     "text": [
      "[0.9990152104759369, 0.9990152104759373, 0.9990152104759419, 0.999015210475987, 0.9990152104764387, 0.9990152104809561]\n"
     ]
    }
   ],
   "source": [
    "alphas = [0.1, 1.0, 10.0, 100.0, 1000.0, 10000.0]\n",
    "ridge_scores = []\n",
    "\n",
    "for alpha in alphas:\n",
    "    ridge = Ridge(alpha=alpha)\n",
    "\n",
    "    # fit the data\n",
    "    ridge.fit(X_train, y_train)\n",
    "\n",
    "    # obtain r-squared\n",
    "    score = ridge.score(X_test, y_test)\n",
    "    ridge_scores.append(score)\n",
    "\n",
    "print(ridge_scores)\n"
   ]
  },
  {
   "cell_type": "markdown",
   "id": "af9d35ce",
   "metadata": {},
   "source": [
    "#### LASSO regression\n",
    "\n",
    "_Least Absolute Shrinkage and Selection Operator_ (LASSO) regression is a technique used to reduce overfitting by not only penalizing large coefficients, but actually driving some of them to zero. This effectively performs feature selection for you, by removing some features from the model entirely."
   ]
  },
  {
   "cell_type": "code",
   "execution_count": 14,
   "id": "df118ef3",
   "metadata": {},
   "outputs": [
    {
     "data": {
      "image/png": "[encoded data removed]",
      "text/plain": [
       "<Figure size 640x480 with 1 Axes>"
      ]
     },
     "metadata": {},
     "output_type": "display_data"
    }
   ],
   "source": [
    "lasso = Lasso(alpha=0.3)\n",
    "lasso.fit(X_train, y_train)\n",
    "lasso_coef = lasso.coef_\n",
    "\n",
    "sales_columns = pd.Index([\"tv\", \"radio\", \"social_media\"])\n",
    "\n",
    "plt.bar(sales_columns, lasso_coef)\n",
    "plt.xticks(rotation=45)\n",
    "plt.show()\n"
   ]
  },
  {
   "cell_type": "markdown",
   "id": "d3e50241",
   "metadata": {},
   "source": [
    "## Fine-tuning"
   ]
  },
  {
   "cell_type": "markdown",
   "id": "555781d7",
   "metadata": {},
   "source": [
    "### Class imbalance\n",
    "\n",
    "Imagine you are building a model to predict fraudulent bank transactions. If only 1% of bank transactions are fraudulent and your model predicts that all transactions are not fraudulent, your model would have a 99% accuracy but it wouldn't be useful at all. An uneven frequency of classes like this is _class imbalance_."
   ]
  },
  {
   "cell_type": "markdown",
   "id": "a7b15edf",
   "metadata": {},
   "source": [
    "### Accuracy\n",
    "\n",
    "_Accuracy_ is the proportion of correct predictions. It is calculated as:\n",
    "\n",
    "$\\frac{TP + TN}{TP + TN + FP + FN}$\n",
    "\n",
    "where $TP$ is the number of true positives, $TN$ is the number of true negatives, $FP$ is the number of false positives, and $FN$ is the number of false negatives."
   ]
  },
  {
   "cell_type": "markdown",
   "id": "8c0f0450",
   "metadata": {},
   "source": [
    "### Precision\n",
    "\n",
    "_Precision_ is the proportion of positive identifications that were actually correct (true positives):\n",
    "\n",
    "$\\frac{TP}{TP + FP}$"
   ]
  },
  {
   "cell_type": "markdown",
   "id": "9762b57e",
   "metadata": {},
   "source": [
    "### Recall\n",
    "\n",
    "_Recall_ is the proportion of actual positives that were identified correctly (true positives):\n",
    "\n",
    "$\\frac{TP}{TP + FN}$"
   ]
  },
  {
   "cell_type": "markdown",
   "id": "76de163f",
   "metadata": {},
   "source": [
    "### F1 score\n",
    "\n",
    "The _F1 score_ is the harmonic mean of precision and recall:\n",
    "\n",
    "$2 \\cdot \\frac{\\text{precision} \\cdot \\text{recall}}{\\text{precision} + \\text{recall}}$"
   ]
  },
  {
   "cell_type": "markdown",
   "id": "9b5a74e7",
   "metadata": {},
   "source": [
    "#### Harmonic mean\n",
    "\n",
    "The _harmonic mean_ is a type of average that is useful when dealing with rates or ratios, like speed or density, and you want a mean that accounts for the proportional impact of each value.\n",
    "\n",
    "It is defined as the reciprocol of the mean of the reciprocals of the values. For a set of $n$ numbers $x_1, x_2, \\ldots, x_n$, the harmonic mean $H$ is:\n",
    "\n",
    "$H = \\frac{n}{\\frac{1}{x_1} + \\frac{1}{x_2} + \\ldots + \\frac{1}{x_n}}$"
   ]
  },
  {
   "cell_type": "markdown",
   "id": "d74e7047",
   "metadata": {},
   "source": [
    "### Confusion matrix\n",
    "\n",
    "A _confusion matrix_ is a table that shows the number of correct and incorrect predictions made by a classification model.\n",
    "\n",
    "<img src=\"confusion-matrix.jpg\" width=\"600\" alt=\"Confusion matrix diagram\" />\n",
    "\n",
    "> Source: [plat.ai](https://plat.ai/blog/confusion-matrix-in-machine-learning)"
   ]
  },
  {
   "cell_type": "code",
   "execution_count": 15,
   "id": "f8ffdf32",
   "metadata": {},
   "outputs": [
    {
     "name": "stdout",
     "output_type": "stream",
     "text": [
      "[[124  27]\n",
      " [ 42  38]]\n"
     ]
    }
   ],
   "source": [
    "X = diabetes.drop(\"diabetes\", axis=1).values\n",
    "y = diabetes[\"diabetes\"].values\n",
    "X_train, X_test, y_train, y_test = train_test_split(\n",
    "    X,\n",
    "    y,\n",
    "    test_size=0.3,\n",
    "    random_state=42,\n",
    ")\n",
    "\n",
    "knn = KNeighborsClassifier(n_neighbors=6)\n",
    "knn.fit(X_train, y_train)\n",
    "y_pred = knn.predict(X_test)\n",
    "print(confusion_matrix(y_test, y_pred))\n"
   ]
  },
  {
   "cell_type": "code",
   "execution_count": 16,
   "metadata": {},
   "outputs": [
    {
     "name": "stdout",
     "output_type": "stream",
     "text": [
      "              precision    recall  f1-score   support\n",
      "\n",
      "           0       0.75      0.82      0.78       151\n",
      "           1       0.58      0.47      0.52        80\n",
      "\n",
      "    accuracy                           0.70       231\n",
      "   macro avg       0.67      0.65      0.65       231\n",
      "weighted avg       0.69      0.70      0.69       231\n",
      "\n"
     ]
    }
   ],
   "source": [
    "print(classification_report(y_test, y_pred))\n"
   ]
  },
  {
   "cell_type": "markdown",
   "id": "bc0c8ec5",
   "metadata": {},
   "source": [
    "### Logistic regression\n",
    "\n",
    "_Logistic regression_ is a classification algorithm that is used when the target variable is binary (0 or 1). It is similar to linear regression, but instead of predicting a continuous value, it predicts the probability of an observation belonging to a certain class."
   ]
  },
  {
   "cell_type": "code",
   "execution_count": 17,
   "id": "cb588c58",
   "metadata": {},
   "outputs": [
    {
     "name": "stdout",
     "output_type": "stream",
     "text": [
      "[0.26652548 0.19012748 0.12363916 0.14568671 0.50468395 0.45332114\n",
      " 0.01328234 0.5960586  0.56321996 0.79998119]\n"
     ]
    }
   ],
   "source": [
    "logreg = LogisticRegression(max_iter=250)\n",
    "logreg.fit(X_train, y_train)\n",
    "y_pred_probs = logreg.predict_proba(X_test)[:, 1]\n",
    "print(y_pred_probs[:10])\n"
   ]
  },
  {
   "cell_type": "markdown",
   "id": "ae65cf99",
   "metadata": {},
   "source": [
    "### ROC curve\n",
    "\n",
    "The _Receiver Operating Characteristic_ (ROC) curve is a plot of the true positive rate (TPR) against the false positive rate (FPR) for different classification thresholds.\n",
    "\n",
    "The _true positive rate_ is the proportion of actual positives that are correctly identified as such (recall). The _false positive rate_ is the proportion of actual negatives that are incorrectly identified as positives."
   ]
  },
  {
   "cell_type": "code",
   "execution_count": 18,
   "id": "4b2114a8",
   "metadata": {},
   "outputs": [
    {
     "data": {
      "image/png": "[encoded data removed]",
      "text/plain": [
       "<Figure size 640x480 with 1 Axes>"
      ]
     },
     "metadata": {},
     "output_type": "display_data"
    }
   ],
   "source": [
    "fpr, tpr, thresholds = roc_curve(y_test, y_pred_probs)\n",
    "\n",
    "# plot curve\n",
    "plt.plot([0, 1], [0, 1], \"k--\")\n",
    "plt.plot(fpr, tpr)\n",
    "plt.xlabel(\"False Positive Rate\")\n",
    "plt.ylabel(\"True Positive Rate\")\n",
    "plt.title(\"ROC Curve for Diabetes Prediction\")\n",
    "plt.show()\n"
   ]
  },
  {
   "cell_type": "markdown",
   "id": "631ae08a",
   "metadata": {},
   "source": [
    "#### ROC AUC score\n",
    "\n",
    "The _ROC AUC score_ is the area under the ROC curve. It is a measure of how well a model can distinguish between classes. The higher the score, the better the model is at predicting the correct class."
   ]
  },
  {
   "cell_type": "code",
   "execution_count": 19,
   "id": "06f29ac2",
   "metadata": {},
   "outputs": [
    {
     "name": "stdout",
     "output_type": "stream",
     "text": [
      "0.796523178807947\n"
     ]
    }
   ],
   "source": [
    "print(roc_auc_score(y_test, y_pred_probs))\n"
   ]
  },
  {
   "cell_type": "markdown",
   "id": "389a19a8",
   "metadata": {},
   "source": [
    "### Hyperparameter tuning\n",
    "\n",
    "Parameters specified before training a model are _hyperparameters_. Tuning is the process of experimenting with different hyperparameter values to find the best performing model."
   ]
  },
  {
   "cell_type": "markdown",
   "id": "50880990",
   "metadata": {},
   "source": [
    "#### Grid search\n",
    "\n",
    "_Grid search_ is a technique used to find the optimal hyperparameter values for a model. It works by creating a grid of all possible hyperparameter values, and then evaluating each combination of values. The combination of values that produces the best performing model is the optimal combination."
   ]
  },
  {
   "cell_type": "code",
   "execution_count": 20,
   "id": "919906e0",
   "metadata": {},
   "outputs": [
    {
     "name": "stdout",
     "output_type": "stream",
     "text": [
      "Tuned lasso parameters: {'alpha': 1e-05}\n",
      "Tuned lasso score: 0.29604708033272703\n"
     ]
    }
   ],
   "source": [
    "param_grid = {\n",
    "    # 20 evenly-spaced values from 0.00001 to 1.0\n",
    "    \"alpha\": np.linspace(0.00001, 1.0, 20)\n",
    "}\n",
    "lasso = Lasso()\n",
    "kf = KFold(n_splits=5, shuffle=True, random_state=42)\n",
    "lasso_cv = GridSearchCV(lasso, param_grid, cv=kf)\n",
    "lasso_cv.fit(X_train, y_train)\n",
    "print(f\"Tuned lasso parameters: {lasso_cv.best_params_}\")\n",
    "print(f\"Tuned lasso score: {lasso_cv.best_score_}\")\n"
   ]
  },
  {
   "cell_type": "markdown",
   "id": "b49513ba",
   "metadata": {},
   "source": [
    "#### Random search\n",
    "\n",
    "Imagine you have 100 possible hyperparameter combinations and your model takes 2 minutes to train. With grid search that would take over 3 hours. If you were paying for cloud resources for training, this would get expensive quickly (and waste a ton of electricity).\n",
    "\n",
    "Research has shown that _random search_ is more efficient than grid search ([Bergstra and Bengio, 2012](https://jmlr.org/papers/v13/bergstra12a.html))."
   ]
  },
  {
   "cell_type": "code",
   "execution_count": 21,
   "id": "9e4d8d91",
   "metadata": {},
   "outputs": [
    {
     "name": "stdout",
     "output_type": "stream",
     "text": [
      "Tuned logreg parameters: {'tol': 0.5102530612244898, 'penalty': 'l2', 'class_weight': 'balanced', 'C': 0.889795918367347}\n",
      "Tuned logreg score: 0.7634129456559363\n"
     ]
    }
   ],
   "source": [
    "params = {\n",
    "    \"penalty\": [\"l2\"],\n",
    "    \"tol\": np.linspace(0.0001, 1.0, 50),\n",
    "    \"C\": np.linspace(0.1, 1.0, 50),\n",
    "    \"class_weight\": [\"balanced\", {0: 0.8, 1: 0.2}],\n",
    "}\n",
    "kf = KFold(n_splits=5, shuffle=True, random_state=42)\n",
    "logreg = LogisticRegression(max_iter=250)\n",
    "logreg_cv = RandomizedSearchCV(logreg, params, cv=kf)\n",
    "logreg_cv.fit(X_train, y_train)\n",
    "print(f\"Tuned logreg parameters: {logreg_cv.best_params_}\")\n",
    "print(f\"Tuned logreg score: {logreg_cv.best_score_}\")\n"
   ]
  },
  {
   "cell_type": "markdown",
   "id": "69ce3662",
   "metadata": {},
   "source": [
    "## Preprocessing and Pipelines"
   ]
  },
  {
   "cell_type": "markdown",
   "id": "ab6298b6",
   "metadata": {},
   "source": [
    "### Dummy variables"
   ]
  },
  {
   "cell_type": "code",
   "execution_count": 22,
   "id": "e8e68d32",
   "metadata": {},
   "outputs": [
    {
     "name": "stdout",
     "output_type": "stream",
     "text": [
      "Average RMSE: 8.236853840202299\n",
      "Standard Deviation of the target array: 14.02156909907019\n"
     ]
    }
   ],
   "source": [
    "music_dummies = pd.get_dummies(music, drop_first=True)\n",
    "X = music_dummies.drop(\"popularity\", axis=1).values\n",
    "y = music_dummies[\"popularity\"].values\n",
    "ridge = Ridge(alpha=0.2)\n",
    "kf = KFold(n_splits=5, shuffle=True, random_state=42)\n",
    "\n",
    "# score using negative mean squared error\n",
    "scores = cross_val_score(ridge, X, y, cv=kf, scoring=\"neg_mean_squared_error\")\n",
    "\n",
    "# calculate RMSE\n",
    "rmse = np.sqrt(np.abs(scores))\n",
    "print(f\"Average RMSE: {np.mean(rmse)}\")\n",
    "print(f\"Standard Deviation of the target array: {np.std(y)}\")\n"
   ]
  },
  {
   "cell_type": "markdown",
   "id": "e5467dde",
   "metadata": {},
   "source": [
    "### Imputation"
   ]
  },
  {
   "cell_type": "code",
   "execution_count": 23,
   "id": "64100384",
   "metadata": {},
   "outputs": [
    {
     "name": "stdout",
     "output_type": "stream",
     "text": [
      "[[45 50]\n",
      " [43 62]]\n"
     ]
    }
   ],
   "source": [
    "# remove values where less than 50 are missing\n",
    "music = music.dropna(subset=[\"genre\", \"popularity\", \"loudness\", \"liveness\", \"tempo\"])\n",
    "\n",
    "# convert genre to binary feature where 1 is Rock and 0 is not Rock\n",
    "music[\"genre\"] = np.where(music[\"genre\"] == \"Rock\", 1, 0)\n",
    "\n",
    "imputer = SimpleImputer()\n",
    "knn = KNeighborsClassifier(n_neighbors=3)\n",
    "steps = [(\"imputer\", imputer), (\"knn\", knn)]\n",
    "\n",
    "X = music.drop(\"genre\", axis=1).values\n",
    "y = music[\"genre\"].values\n",
    "X_train, X_test, y_train, y_test = train_test_split(X, y, test_size=0.2, random_state=42)\n",
    "\n",
    "pipeline = Pipeline(steps)\n",
    "pipeline.fit(X_train, y_train)\n",
    "y_pred = pipeline.predict(X_test)\n",
    "\n",
    "print(confusion_matrix(y_test, y_pred))\n"
   ]
  },
  {
   "cell_type": "markdown",
   "id": "93fd11b5",
   "metadata": {},
   "source": [
    "### Scaling"
   ]
  },
  {
   "cell_type": "code",
   "execution_count": 24,
   "id": "b9e80acb",
   "metadata": {},
   "outputs": [
    {
     "name": "stdout",
     "output_type": "stream",
     "text": [
      "-0.003916040100250706\n"
     ]
    }
   ],
   "source": [
    "steps = [(\"scaler\", StandardScaler()), (\"lasso\", Lasso(alpha=0.5))]\n",
    "pipeline = Pipeline(steps)\n",
    "pipeline.fit(X_train, y_train)\n",
    "\n",
    "# calculate r-squared\n",
    "print(pipeline.score(X_test, y_test))\n"
   ]
  },
  {
   "cell_type": "code",
   "execution_count": 25,
   "id": "622d1ff0",
   "metadata": {},
   "outputs": [
    {
     "name": "stdout",
     "output_type": "stream",
     "text": [
      "0.8550000000000001\n",
      "{'logreg__C': 0.1061578947368421}\n"
     ]
    }
   ],
   "source": [
    "steps = [(\"scaler\", StandardScaler()), (\"logreg\", LogisticRegression())]\n",
    "pipeline = Pipeline(steps)\n",
    "\n",
    "parameters = {\"logreg__C\": np.linspace(0.001, 1.0, 20)}\n",
    "\n",
    "cv = GridSearchCV(pipeline, param_grid=parameters)\n",
    "cv.fit(X_train, y_train)\n",
    "print(cv.best_score_)\n",
    "print(cv.best_params_)\n"
   ]
  },
  {
   "cell_type": "markdown",
   "id": "902bb75f",
   "metadata": {},
   "source": [
    "### Visualizing regression performance"
   ]
  },
  {
   "cell_type": "code",
   "execution_count": 26,
   "id": "69280d95",
   "metadata": {},
   "outputs": [
    {
     "data": {
      "image/png": "[encoded data removed]",
      "text/plain": [
       "<Figure size 640x480 with 1 Axes>"
      ]
     },
     "metadata": {},
     "output_type": "display_data"
    }
   ],
   "source": [
    "models = {\n",
    "    \"Linear Regression\": LinearRegression(),\n",
    "    \"Ridge\": Ridge(alpha=0.1),\n",
    "    \"Lasso\": Lasso(alpha=0.1),\n",
    "}\n",
    "\n",
    "results = []\n",
    "for model in models.values():\n",
    "    kf = KFold(n_splits=6, random_state=42, shuffle=True)\n",
    "    cv_scores = cross_val_score(model, X_train, y_train, cv=kf)\n",
    "    results.append(cv_scores)\n",
    "\n",
    "plt.boxplot(results, labels=models.keys())\n",
    "plt.show()\n"
   ]
  },
  {
   "cell_type": "code",
   "execution_count": 27,
   "id": "f8397821",
   "metadata": {},
   "outputs": [
    {
     "name": "stdout",
     "output_type": "stream",
     "text": [
      "Linear Regression Test Set MSE: 0.13229730450937846\n",
      "Ridge Test Set MSE: 0.13228960938743659\n"
     ]
    }
   ],
   "source": [
    "models = {\"Linear Regression\": LinearRegression(), \"Ridge\": Ridge()}\n",
    "scaler = StandardScaler()\n",
    "X_train_scaled = scaler.fit_transform(X_train)\n",
    "X_test_scaled = scaler.transform(X_test)\n",
    "for name, model in models.items():\n",
    "    model.fit(X_train_scaled, y_train)\n",
    "    y_pred = model.predict(X_test_scaled)\n",
    "    test_mse = mean_squared_error(y_test, y_pred)\n",
    "    print(f\"{name} Test Set MSE: {test_mse}\")\n"
   ]
  },
  {
   "cell_type": "code",
   "execution_count": 28,
   "id": "64a17c70",
   "metadata": {},
   "outputs": [
    {
     "data": {
      "image/png": "[encoded data removed]",
      "text/plain": [
       "<Figure size 640x480 with 1 Axes>"
      ]
     },
     "metadata": {},
     "output_type": "display_data"
    }
   ],
   "source": [
    "models = {\n",
    "    \"Logistic Regression\": LogisticRegression(),\n",
    "    \"KNN\": KNeighborsClassifier(),\n",
    "    \"Decision Tree Classifier\": DecisionTreeClassifier(),\n",
    "}\n",
    "\n",
    "results = []\n",
    "for model in models.values():\n",
    "    kf = KFold(n_splits=6, random_state=42, shuffle=True)\n",
    "    cv_results = cross_val_score(model, X_train_scaled, y_train, cv=kf)\n",
    "    results.append(cv_results)\n",
    "\n",
    "plt.boxplot(results, labels=models.keys())\n",
    "plt.show()\n"
   ]
  },
  {
   "cell_type": "code",
   "execution_count": 29,
   "metadata": {},
   "outputs": [
    {
     "name": "stdout",
     "output_type": "stream",
     "text": [
      "Tuned Logistic Regression Parameters: {'logreg__C': 0.112, 'logreg__solver': 'newton-cg'}, Accuracy: 0.86\n"
     ]
    }
   ],
   "source": [
    "steps = [\n",
    "    (\"imputer\", SimpleImputer()),\n",
    "    (\"scaler\", StandardScaler()),\n",
    "    (\"logreg\", LogisticRegression()),\n",
    "]\n",
    "pipeline = Pipeline(steps)\n",
    "\n",
    "params = {\n",
    "    \"logreg__solver\": [\"newton-cg\", \"saga\", \"lbfgs\"],\n",
    "    \"logreg__C\": np.linspace(0.001, 1.0, 10),\n",
    "}\n",
    "tuning = GridSearchCV(pipeline, param_grid=params)\n",
    "tuning.fit(X_train, y_train)\n",
    "y_pred = tuning.predict(X_test)\n",
    "print(\n",
    "    f\"Tuned Logistic Regression Parameters: {tuning.best_params_}, Accuracy: {tuning.score(X_test, y_test)}\"\n",
    ")\n"
   ]
  }
 ],
 "metadata": {
  "jupytext": {
   "cell_metadata_filter": "-all",
   "main_language": "python",
   "split_at_heading": true
  },
  "kernelspec": {
   "display_name": "venv",
   "language": "python",
   "name": "python3"
  },
  "language_info": {
   "codemirror_mode": {
    "name": "ipython",
    "version": 3
   },
   "file_extension": ".py",
   "mimetype": "text/x-python",
   "name": "python",
   "nbconvert_exporter": "python",
   "pygments_lexer": "ipython3",
   "version": "3.11.6"
  }
 },
 "nbformat": 4,
 "nbformat_minor": 5
}
