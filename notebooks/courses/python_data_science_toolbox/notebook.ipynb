{
 "cells": [
  {
   "cell_type": "markdown",
   "metadata": {},
   "source": [
    "# [Python Data Science Toolbox](https://www.datacamp.com/completed/statement-of-accomplishment/course/564d2a345e2542d30f29eb913caae1dcc8588db9)"
   ]
  },
  {
   "cell_type": "markdown",
   "metadata": {},
   "source": [
    "### Scope\n",
    "\n",
    "Not all objects are accessible everywhere in a script. The part of a program where an object or name may be accessed is called its _scope_.\n",
    "\n",
    "Python has four types of scope: _local_, _enclosing_, _global_, and _builtin_. This is also the order in which Python will search for a variable and is known as the _LEGB rule_.\n",
    "\n",
    "When in the local scope of a function, you can access global variables; however, you cannot modify them. In order to modify global variables, you must first use the `global` keyword on the variable."
   ]
  },
  {
   "cell_type": "markdown",
   "metadata": {},
   "source": [
    "#### Closures\n",
    "\n",
    "When using a _closure_, you can modify the value of a variable in the _enclosing scope_. To do this, you must use the `nonlocal` keyword.\n",
    "\n",
    "In Python, closures have a special `__closure__` attribute that returns a tuple of cell objects. Cell objects have a `cell_contents` attribute that returns the value contained in the cell."
   ]
  },
  {
   "cell_type": "code",
   "execution_count": 25,
   "metadata": {},
   "outputs": [
    {
     "name": "stdout",
     "output_type": "stream",
     "text": [
      "0\n",
      "1\n",
      "2\n"
     ]
    }
   ],
   "source": [
    "# closures are stateful functions that return functions\n",
    "def makeIncrementer():\n",
    "    i = 0\n",
    "\n",
    "    def incrementer():\n",
    "        # you must declare `i` as nonlocal to modify it\n",
    "        nonlocal i\n",
    "        i += 1\n",
    "        return i\n",
    "\n",
    "    return incrementer\n",
    "\n",
    "\n",
    "incrementer = makeIncrementer()\n",
    "\n",
    "# will be `None` if not a closure\n",
    "print(incrementer.__closure__[0].cell_contents)  # 0\n",
    "print(incrementer())  # 1\n",
    "print(incrementer())  # 2"
   ]
  },
  {
   "cell_type": "markdown",
   "metadata": {},
   "source": [
    "#### Decorators\n",
    "\n",
    "The _Decorator_ design pattern allows you to modify an object without changing its source. In Python, decorators can be functions or classes that take a function as an argument and return a modified version of that function."
   ]
  },
  {
   "cell_type": "code",
   "execution_count": 26,
   "metadata": {},
   "outputs": [
    {
     "name": "stdout",
     "output_type": "stream",
     "text": [
      "fib(5)\n",
      "fib(4)\n",
      "fib(3)\n",
      "fib(2)\n",
      "fib(1)\n",
      "fib(0)\n",
      "5\n",
      "5\n"
     ]
    }
   ],
   "source": [
    "# memoize example (no args)\n",
    "def memoize(fn):\n",
    "    cache = {}\n",
    "\n",
    "    def wrapper(*args):\n",
    "        if args not in cache:\n",
    "            print(f\"{fn.__name__}({args[0]})\")\n",
    "            cache[args] = fn(*args)\n",
    "        return cache[args]\n",
    "\n",
    "    return wrapper\n",
    "\n",
    "\n",
    "@memoize\n",
    "def fib(n):\n",
    "    if n <= 1:\n",
    "        return n\n",
    "    return fib(n - 1) + fib(n - 2)\n",
    "\n",
    "\n",
    "print(fib(5))\n",
    "print(fib(5))  # cached"
   ]
  },
  {
   "cell_type": "code",
   "execution_count": 27,
   "metadata": {},
   "outputs": [
    {
     "name": "stdout",
     "output_type": "stream",
     "text": [
      "decorated\n",
      "len\n",
      "Return the number of items in a container.\n",
      "3\n",
      "3\n"
     ]
    }
   ],
   "source": [
    "# `wraps` copies metadata like the `name` and `doc` from `fn` to `wrapper`\n",
    "from functools import wraps\n",
    "\n",
    "\n",
    "def decorator(fn):\n",
    "    @wraps(fn)\n",
    "    def wrapper(*args, **kwargs):\n",
    "        print(\"decorated\")\n",
    "        return fn(*args, **kwargs)\n",
    "\n",
    "    return wrapper\n",
    "\n",
    "\n",
    "# decorate existing functions by reassigning them\n",
    "decorated_len = decorator(len)\n",
    "\n",
    "length = decorated_len([1, 2, 3])  # decorated\n",
    "print(decorated_len.__name__)  # len\n",
    "print(decorated_len.__doc__)  # Return the number of items in a container.\n",
    "print(length)  # 3\n",
    "\n",
    "# access the original with `__wrapped__`\n",
    "print(decorated_len.__wrapped__([1, 2, 3]))  # 3"
   ]
  },
  {
   "cell_type": "code",
   "execution_count": 28,
   "metadata": {},
   "outputs": [
    {
     "name": "stdout",
     "output_type": "stream",
     "text": [
      "TimeoutError\n"
     ]
    }
   ],
   "source": [
    "import signal\n",
    "from functools import wraps\n",
    "\n",
    "\n",
    "# timeout example with args and wraps\n",
    "def timeout(n):\n",
    "    def decorator(fn):\n",
    "        @wraps(fn)\n",
    "        def wrapper(*args, **kwargs):\n",
    "            def handler(*_):\n",
    "                raise TimeoutError()\n",
    "\n",
    "            # register a signal handler for SIGALRM\n",
    "            # emit SIGALRM after `n` seconds\n",
    "            signal.signal(signal.SIGALRM, handler)\n",
    "            signal.alarm(n)\n",
    "            try:\n",
    "                return fn(*args, **kwargs)\n",
    "            finally:\n",
    "                # cancel the alarm by setting it to 0 (if the function returned)\n",
    "                signal.alarm(0)\n",
    "\n",
    "        return wrapper\n",
    "\n",
    "    return decorator\n",
    "\n",
    "\n",
    "@timeout(2)\n",
    "def timeout_example():\n",
    "    while True:\n",
    "        pass\n",
    "\n",
    "\n",
    "try:\n",
    "    timeout_example()\n",
    "except TimeoutError:\n",
    "    print(\"TimeoutError\")  # TimeoutError after 2 seconds"
   ]
  },
  {
   "cell_type": "markdown",
   "metadata": {},
   "source": [
    "#### Namespaces\n",
    "\n",
    "_Namespaces_ are essentially containers for mapping names to objects (like a dictionary)."
   ]
  },
  {
   "cell_type": "code",
   "execution_count": 29,
   "metadata": {},
   "outputs": [],
   "source": [
    "# `globals` allows you to access global variables\n",
    "# NOTE: `globals` are user-defined; `builtins` are system-defined\n",
    "two = globals()[\"i\"]  # 2"
   ]
  },
  {
   "cell_type": "code",
   "execution_count": 30,
   "metadata": {},
   "outputs": [],
   "source": [
    "# `locals` allows you to access local variables and function arguments\n",
    "def fn(foo):\n",
    "    bar = \"bar\"\n",
    "    return (locals()[\"foo\"], locals()[\"bar\"])  # `globals` would raise a KeyError\n",
    "\n",
    "\n",
    "foo, bar = fn(\"foo\")  # 'foo', 'bar'"
   ]
  },
  {
   "cell_type": "code",
   "execution_count": 31,
   "metadata": {},
   "outputs": [],
   "source": [
    "# list builtins\n",
    "builtins = dir(__builtins__)"
   ]
  },
  {
   "cell_type": "markdown",
   "metadata": {},
   "source": [
    "### Lambda Functions\n",
    "\n",
    "$\\lambda$ functions are anonymous functions. They are useful for passing simple functions as arguments to other functions."
   ]
  },
  {
   "cell_type": "code",
   "execution_count": 32,
   "metadata": {},
   "outputs": [],
   "source": [
    "def apply(fn, x, y):\n",
    "    return fn(x, y)\n",
    "\n",
    "\n",
    "result = apply(lambda x, y: x + y, 1, 2)  # 3\n",
    "\n",
    "# map/filter/reduce\n",
    "nums = [1, 2, 3, 4, 5]\n",
    "\n",
    "# map\n",
    "squares = map(lambda n: n * n, nums)  # [1, 4, 9, 16, 25]\n",
    "\n",
    "# filter\n",
    "evens = filter(lambda n: n % 2 == 0, nums)  # [2, 4]\n",
    "\n",
    "# reduce\n",
    "from functools import reduce\n",
    "\n",
    "result = reduce(lambda acc, n: acc + n, nums, 0)  # 15"
   ]
  },
  {
   "cell_type": "markdown",
   "metadata": {},
   "source": [
    "### Error Handling\n",
    "\n",
    "Python has very intuitive error handling. You can use `try` and `except` to \"catch\" errors, or `raise` to \"throw\" your own errors.\n",
    "\n",
    "You can also catch only specific errors by type. All errors inherit from the `BaseException` class. _Programmer errors_ inherit from `Exception`."
   ]
  },
  {
   "cell_type": "code",
   "execution_count": 33,
   "metadata": {},
   "outputs": [
    {
     "name": "stdout",
     "output_type": "stream",
     "text": [
      "cannot divide by zero\n"
     ]
    }
   ],
   "source": [
    "try:\n",
    "    print(0 / 0)\n",
    "except ZeroDivisionError:\n",
    "    print(\"cannot divide by zero\")"
   ]
  },
  {
   "cell_type": "code",
   "execution_count": 34,
   "metadata": {},
   "outputs": [
    {
     "name": "stdout",
     "output_type": "stream",
     "text": [
      "💥\n"
     ]
    }
   ],
   "source": [
    "try:\n",
    "    raise Exception(\"💥\")\n",
    "except Exception as e:\n",
    "    print(e)"
   ]
  },
  {
   "cell_type": "markdown",
   "metadata": {},
   "source": [
    "### Iterables and Iterators\n",
    "\n",
    "An _iterable_ is a special object in Python that can be iterated over. Examples of iterables include all sequence types (such as `list`, `str`, and `tuple`) and some non-sequence types like `dict` and `file`. All these objects have an `__iter__()` method which is used to get an _iterator_.\n",
    "\n",
    "Iterators are objects with a `__next__()` method which will yield the next element of the iterable when called. If there are no more elements, it should raise a `StopIteration` exception. Iterators also have an `__iter__()` method which returns itself.\n",
    "\n",
    "Iterating over an iterator is known as _consuming_ the iterator. When there are no elements left, the iterator is _exhausted_.\n",
    "\n",
    "The global `iter()` and `next()` functions are used to create and iterate over an iterator, respectively."
   ]
  },
  {
   "cell_type": "code",
   "execution_count": 35,
   "metadata": {},
   "outputs": [],
   "source": [
    "r = range(1, 4)  # `r` is a range object (must be converted to an iterator)\n",
    "it = iter(r)  # `it` is an iterator\n",
    "i = next(it)  # 1\n",
    "i = next(it)  # 2\n",
    "i = next(it)  # 3\n",
    "\n",
    "try:\n",
    "    # `stop` is exclusive\n",
    "    i = next(it)\n",
    "    print(i)  # won't be printed\n",
    "except StopIteration:\n",
    "    # do nothing\n",
    "    pass"
   ]
  },
  {
   "cell_type": "markdown",
   "metadata": {},
   "source": [
    "There are also functions that take iterables and iterators as arguments, such as `sum()`, `list()`, and `tuple()`."
   ]
  },
  {
   "cell_type": "code",
   "execution_count": 36,
   "metadata": {},
   "outputs": [],
   "source": [
    "l = list(range(4))  # [0, 1, 2, 3]\n",
    "s = sum(l)  # 6\n",
    "t = tuple(l[1:3])  # (1, 2)"
   ]
  },
  {
   "cell_type": "markdown",
   "metadata": {},
   "source": [
    "We can _enumerate_ an iterable and get tuples of the form `(index, value)` by using the `enumerate()` function."
   ]
  },
  {
   "cell_type": "code",
   "execution_count": 37,
   "metadata": {},
   "outputs": [
    {
     "name": "stdout",
     "output_type": "stream",
     "text": [
      "(1, 'a')\n",
      "(2, 'b')\n",
      "(3, 'c')\n"
     ]
    }
   ],
   "source": [
    "x = [\"a\", \"b\", \"c\"]\n",
    "e = enumerate(x)\n",
    "l = list(e)  # [(0, \"a\"), (1, \"b\"), (2, \"c\")]\n",
    "\n",
    "type(e)  # <class 'enumerate'>\n",
    "\n",
    "# we exhausted `e` above\n",
    "# start index at 1\n",
    "for index, value in enumerate(x, start=1):\n",
    "    print(f\"({index}, '{value}')\")"
   ]
  },
  {
   "cell_type": "markdown",
   "metadata": {},
   "source": [
    "If you have two (or more) lists of the same length and want to iterate over them simultaneously, you can use the `zip()` function. This will return a list of tuples of the form `(list1[i], list2[i])`."
   ]
  },
  {
   "cell_type": "code",
   "execution_count": 38,
   "metadata": {},
   "outputs": [],
   "source": [
    "list1 = [1, 2, 3]\n",
    "list2 = [\"a\", \"b\", \"c\"]\n",
    "z = zip(list1, list2)\n",
    "l = list(z)  # [(1, \"a\"), (2, \"b\"), (3, \"c\")]\n",
    "\n",
    "type(z)  # <class 'zip'>\n",
    "\n",
    "# can also use the `*` (splat) operator to unzip\n",
    "z = zip(list1, list2)  # (1, 'a') (2, 'b') (3, 'c')\n",
    "\n",
    "# can convert a zip to a dict\n",
    "d = dict(z)  # {1: 'a', 2: 'b', 3: 'c'}"
   ]
  },
  {
   "cell_type": "markdown",
   "metadata": {},
   "source": [
    "The `itertools` module contains many useful functions for working with iterators."
   ]
  },
  {
   "cell_type": "code",
   "execution_count": 39,
   "metadata": {},
   "outputs": [],
   "source": [
    "import itertools\n",
    "\n",
    "# infinite counter\n",
    "counter = itertools.count(start=1, step=1)\n",
    "c = next(counter)  # 1\n",
    "c = next(counter)  # 2\n",
    "c = next(counter)  # 3\n",
    "\n",
    "# infinite cycle\n",
    "cycler = itertools.cycle([1, 2])\n",
    "c = next(cycler)  # 1\n",
    "c = next(cycler)  # 2\n",
    "c = next(cycler)  # 1\n",
    "\n",
    "# infinite repeater\n",
    "repeater = itertools.repeat(42)\n",
    "r = next(repeater)  # 42\n",
    "r = next(repeater)  # 42\n",
    "\n",
    "# Cartesian product\n",
    "cart = itertools.product([1, 2], [\"a\", \"b\"])  # (1, 'a') (1, 'b') (2, 'a') (2, 'b')\n",
    "\n",
    "# permutations of length 2 (1,2 != 2,1)\n",
    "perm = itertools.permutations([1, 2, 3], 2)  # (1, 2) (1, 3) (2, 1) (2, 3) (3, 1) (3, 2)\n",
    "\n",
    "# combinations of length 2 (1,2 == 2,1)\n",
    "comb = itertools.combinations([1, 2, 3], 2)  # (1, 2) (1, 3) (2, 3)"
   ]
  },
  {
   "cell_type": "markdown",
   "metadata": {},
   "source": [
    "### List Comprehension\n",
    "\n",
    "_List comprehension_ is a powerful feature of Python that allows you to create lists in a single line of code. It is a more concise way of creating lists than using loops and list appends."
   ]
  },
  {
   "cell_type": "code",
   "execution_count": 40,
   "metadata": {},
   "outputs": [],
   "source": [
    "squares = [i**2 for i in range(10)]  # [0, 1, 4, 9, 16, 25, 36, 49, 64, 81]\n",
    "\n",
    "# nested list comprehension\n",
    "matrix = [[col for col in range(5)] for row in range(5)]\n",
    "\n",
    "# conditional predicate list comprehension\n",
    "squares_even = [i**2 for i in range(10) if i ** 2 % 2 == 0]\n",
    "\n",
    "# conditional output list comprehension\n",
    "even_or_odd = [\"even\" if i % 2 == 0 else \"odd\" for i in range(10)]"
   ]
  },
  {
   "cell_type": "markdown",
   "metadata": {},
   "source": [
    "### Dictionary Comprehensions\n",
    "\n",
    "_Dictionary comprehension_ is similar to list comprehension, but it creates dictionaries instead of lists."
   ]
  },
  {
   "cell_type": "code",
   "execution_count": 41,
   "metadata": {},
   "outputs": [],
   "source": [
    "# dictionary comprehension\n",
    "# { key_expression: value_expression for expression in iterable}\n",
    "squares_dict = {i: i**2 for i in range(10)}"
   ]
  },
  {
   "cell_type": "markdown",
   "metadata": {},
   "source": [
    "### Generator Expressions\n",
    "\n",
    "_Generator expressions_ are similar to list comprehensions, except that generators _generate_ their values on-the-fly, instead of storing them all in memory like a traditional list.\n",
    "\n",
    "The `next()` function is used to iterate over a generator."
   ]
  },
  {
   "cell_type": "code",
   "execution_count": 42,
   "metadata": {},
   "outputs": [],
   "source": [
    "squares_lazy = (i**2 for i in range(10))  # generator\n",
    "square = next(squares_lazy)  # 0\n",
    "square = next(squares_lazy)  # 1\n",
    "square = next(squares_lazy)  # 4\n",
    "rest = list(squares_lazy)  # [9, 16, 25, 36, 49, 64, 81]"
   ]
  },
  {
   "cell_type": "markdown",
   "metadata": {},
   "source": [
    "### Generator Functions\n",
    "\n",
    "_Generator functions_ are functions that don't return, but instead _yield_ a value."
   ]
  },
  {
   "cell_type": "code",
   "execution_count": 43,
   "metadata": {},
   "outputs": [],
   "source": [
    "def squares():\n",
    "    i = 0\n",
    "    while True:\n",
    "        yield i**2\n",
    "        i += 1  # you can have expressions after `yield`\n",
    "\n",
    "\n",
    "# `gen` is a generator object\n",
    "gen = squares()\n",
    "square = next(gen)  # 0\n",
    "square = next(gen)  # 1\n",
    "square = next(gen)  # 4"
   ]
  },
  {
   "cell_type": "markdown",
   "metadata": {},
   "source": [
    "### Context Managers\n",
    "\n",
    "_Context managers_ are used with the `with` statement to ensure that resources are managed properly. They are most commonly used with opening files or connecting to databases. \n",
    "\n",
    "Under the hood, context managers use the `__enter__()` and `__exit__()` methods to allocate and release resources, respectively.\n",
    "\n",
    "For example, you could connect to a database in your `__enter__` method and close the connection in your `__exit__` method. If you were writing a script, you could ensure that the transaction is rolled back if any exceptions are raised."
   ]
  },
  {
   "cell_type": "code",
   "execution_count": 44,
   "metadata": {},
   "outputs": [
    {
     "name": "stdout",
     "output_type": "stream",
     "text": [
      "RT @bpolitics: .@krollbondrating's Christopher Whalen says Clinton is the weakest Dem candidate in 50 years https://t.co/pLk7rvoRSn https:/…\n"
     ]
    }
   ],
   "source": [
    "import csv\n",
    "\n",
    "# example without pandas (row-by-row, not chunked dataframes)\n",
    "with open(\"tweets.csv\") as f:\n",
    "    # parse the csv\n",
    "    reader = csv.reader(f)\n",
    "    # get the header\n",
    "    header = next(reader)\n",
    "    # iterate over the rows (header is already consumed)\n",
    "    for row in reader:\n",
    "        # only first\n",
    "        if reader.line_num > 2:  # line_num starts at 1\n",
    "            break\n",
    "        # each `row` is a list of strings representing the columns\n",
    "        # we can convert the string to a dict using the header row as keys\n",
    "        tweet = dict(zip(header, row))\n",
    "        print(tweet[\"text\"])"
   ]
  },
  {
   "cell_type": "code",
   "execution_count": 45,
   "metadata": {},
   "outputs": [
    {
     "name": "stdout",
     "output_type": "stream",
     "text": [
      "RT @bpolitics: .@krollbondrating's Christopher Whalen says Clinton is the weakest Dem candidate in 50 years https://t.co/pLk7rvoRSn https:/…\n"
     ]
    }
   ],
   "source": [
    "import csv\n",
    "\n",
    "\n",
    "# create a context manager class\n",
    "class OpenCSV:\n",
    "    def __init__(self, filename):\n",
    "        self.filename = filename\n",
    "\n",
    "    def __enter__(self):\n",
    "        # `open` can be called outside `with`\n",
    "        self.f = open(self.filename, \"r\")\n",
    "        self.reader = csv.reader(self.f)\n",
    "        return self.reader\n",
    "\n",
    "    # to implement `__exit__` you must pass all 4 arguments even if you don't use them\n",
    "    def __exit__(\n",
    "        self,\n",
    "        exception_type,\n",
    "        exception_value,\n",
    "        exception_traceback,\n",
    "    ):\n",
    "        self.f.close()\n",
    "\n",
    "\n",
    "with OpenCSV(\"tweets.csv\") as reader:\n",
    "    header = next(reader)\n",
    "    for row in reader:\n",
    "        if reader.line_num > 2:  # line_num starts at 1\n",
    "            break\n",
    "        tweet = dict(zip(header, row))\n",
    "        print(tweet[\"text\"])"
   ]
  },
  {
   "cell_type": "code",
   "execution_count": 46,
   "metadata": {},
   "outputs": [
    {
     "name": "stdout",
     "output_type": "stream",
     "text": [
      "RT @bpolitics: .@krollbondrating's Christopher Whalen says Clinton is the weakest Dem candidate in 50 years https://t.co/pLk7rvoRSn https:/…\n"
     ]
    }
   ],
   "source": [
    "import csv\n",
    "from contextlib import contextmanager\n",
    "\n",
    "\n",
    "# create a context manager generator function using a decorator (preferred)\n",
    "@contextmanager\n",
    "def open_csv(filename):\n",
    "    f = open(filename, \"r\")\n",
    "    reader = csv.reader(f)\n",
    "    try:\n",
    "        # yield because this is a generator\n",
    "        yield reader\n",
    "    finally:\n",
    "        f.close()\n",
    "\n",
    "\n",
    "with open_csv(\"tweets.csv\") as reader:\n",
    "    header = next(reader)\n",
    "    for row in reader:\n",
    "        if reader.line_num > 2:  # line_num starts at 1\n",
    "            break\n",
    "        tweet = dict(zip(header, row))\n",
    "        print(tweet[\"text\"])"
   ]
  },
  {
   "cell_type": "markdown",
   "metadata": {},
   "source": [
    "### Chunking DataFrames\n",
    "\n",
    "When working with large datasets, you'll need to _chunk_ the data into smaller pieces to process it due to memory constraints.\n",
    "\n",
    "The `chunksize` kwarg is used to specify the number of rows to read into memory at a time. This returns a `TextFileReader` object which can be iterated over to get the chunks. Each chunk is actually a `DataFrame` object, so you can perform any Pandas operations on it, store the results, and then discard the chunk."
   ]
  },
  {
   "cell_type": "code",
   "execution_count": 47,
   "metadata": {},
   "outputs": [
    {
     "data": {
      "image/png": "[encoded data removed]",
      "text/plain": [
       "<Figure size 640x480 with 1 Axes>"
      ]
     },
     "metadata": {},
     "output_type": "display_data"
    }
   ],
   "source": [
    "import matplotlib.pyplot as plt\n",
    "import pandas as pd\n",
    "\n",
    "\n",
    "def plot_pop(filename, country_code):\n",
    "    \"\"\"Plot urban population data for a given country.\"\"\"\n",
    "\n",
    "    # Initialize reader object\n",
    "    # NOTE: `urb_pop_reader` is a TextFileReader NOT a DataFrame because we specified `chunksize`\n",
    "    urb_pop_reader = pd.read_csv(filename, chunksize=1000)\n",
    "\n",
    "    # Initialize empty DataFrame\n",
    "    data = pd.DataFrame()\n",
    "\n",
    "    # Iterate over each DataFrame chunk\n",
    "    for df_urb_pop in urb_pop_reader:\n",
    "        # NOTE: `df_pop_ceb` is a slice of a chunked dataframe; when mutating, you must make a copy first\n",
    "        df_pop_ceb = df_urb_pop[df_urb_pop[\"CountryCode\"] == country_code].copy()  # 👈\n",
    "\n",
    "        # Zip DataFrame columns of interest\n",
    "        pops = zip(df_pop_ceb[\"Total Population\"], df_pop_ceb[\"Urban population (% of total)\"])\n",
    "\n",
    "        # Turn zip object into list\n",
    "        pops_list = list(pops)\n",
    "\n",
    "        # Use list comprehension to create new DataFrame column 'Total Urban Population' (mutates `df_pop_ceb`)\n",
    "        df_pop_ceb[\"Total Urban Population\"] = [int(tup[0] * tup[1] * 0.01) for tup in pops_list]\n",
    "\n",
    "        # Concatenate DataFrame chunk to the end of data\n",
    "        data = pd.concat([data, df_pop_ceb])\n",
    "\n",
    "    # Plot urban population data\n",
    "    data.plot(kind=\"scatter\", x=\"Year\", y=\"Total Urban Population\")\n",
    "    plt.show()\n",
    "\n",
    "\n",
    "# Call plot_pop\n",
    "plot_pop(\"ind_pop_data.csv\", \"CEB\")"
   ]
  }
 ],
 "metadata": {
  "kernelspec": {
   "display_name": "datacamp-kYionb3o-py3.11",
   "language": "python",
   "name": "python3"
  },
  "language_info": {
   "codemirror_mode": {
    "name": "ipython",
    "version": 3
   },
   "file_extension": ".py",
   "mimetype": "text/x-python",
   "name": "python",
   "nbconvert_exporter": "python",
   "pygments_lexer": "ipython3",
   "version": "3.11.3"
  },
  "orig_nbformat": 4
 },
 "nbformat": 4,
 "nbformat_minor": 2
}
