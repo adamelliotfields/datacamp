{
 "cells": [
  {
   "cell_type": "markdown",
   "metadata": {},
   "source": [
    "# [Introduction to Python](https://www.datacamp.com/completed/statement-of-accomplishment/course/27e7c4ed40996d56d7d48a23cc55337bbc89c0c3)"
   ]
  },
  {
   "cell_type": "code",
   "execution_count": 1,
   "metadata": {},
   "outputs": [
    {
     "data": {
      "text/plain": [
       "'This is a docstring'"
      ]
     },
     "execution_count": 1,
     "metadata": {},
     "output_type": "execute_result"
    }
   ],
   "source": [
    "# this is a comment\n",
    "\"\"\"This is a docstring\"\"\""
   ]
  },
  {
   "cell_type": "code",
   "execution_count": 2,
   "metadata": {},
   "outputs": [],
   "source": [
    "# arithmetic\n",
    "two = 1 + 1\n",
    "one = 2 - 1\n",
    "six = 2 * 3\n",
    "three = 6 / 2  # (float division)\n",
    "three_int = 6 // 2  # (integer division)\n",
    "four = 6 % 2\n",
    "eight = 2**3"
   ]
  },
  {
   "cell_type": "code",
   "execution_count": 3,
   "metadata": {},
   "outputs": [],
   "source": [
    "# variables\n",
    "s = \"hello world\"\n",
    "s_type = type(s)  # <class 'str'>"
   ]
  },
  {
   "cell_type": "code",
   "execution_count": 4,
   "metadata": {},
   "outputs": [],
   "source": [
    "# types\n",
    "true = isinstance(42, int)\n",
    "true = isinstance(3.14, float)\n",
    "true = isinstance(\"hi\", str)\n",
    "true = isinstance(True, bool)\n",
    "true = isinstance([1, 2], list)\n",
    "true = isinstance({\"a\": 1}, dict)\n",
    "true = isinstance((1, 2), tuple)"
   ]
  },
  {
   "cell_type": "code",
   "execution_count": 5,
   "metadata": {},
   "outputs": [],
   "source": [
    "# casting\n",
    "three = int(3.14)  # 3\n",
    "pi = float(\"3.14\")  # 3.14\n",
    "false = bool(0)  # False\n",
    "true = bool(1)  # True\n",
    "# int(\"foo\")  # raises ValueError"
   ]
  },
  {
   "cell_type": "code",
   "execution_count": 6,
   "metadata": {},
   "outputs": [],
   "source": [
    "# lists can be heterogeneous\n",
    "l = [False, 1, 2, 3.14, \"hello\"]\n",
    "\n",
    "# lists can be multidimensional\n",
    "l2d = [[1, 2, 3], [4, 5, 6]]\n",
    "\n",
    "# lists can be subset by index\n",
    "false = l[0]  # False\n",
    "hello = l[-1]  # \"hello\"\n",
    "\n",
    "# lists can be sliced\n",
    "# note that the end index is exclusive\n",
    "ints = l[1:3]  # [1, 2]\n",
    "first = l[:3]  # [False, 1, 2]\n",
    "last = l[3:]  # [3.14, \"hello\"]\n",
    "\n",
    "# you can delete elements from a list\n",
    "del l2d[0][0]  # [[2, 3], [4, 5, 6]]\n",
    "\n",
    "# you can delete a slice\n",
    "del l[1:-1]  # everything between `False` and `\"hello\"`"
   ]
  },
  {
   "cell_type": "code",
   "execution_count": 7,
   "metadata": {},
   "outputs": [],
   "source": [
    "# dictionaries are key-value pairs\n",
    "d = {\"a\": 1, \"b\": 2, \"c\": 3}\n",
    "\n",
    "# dictionaries can be subset by key\n",
    "one = d[\"a\"]  # 1\n",
    "\n",
    "# you can delete a key-value pair\n",
    "del d[\"a\"]  # {\"b\": 2, \"c\": 3}"
   ]
  },
  {
   "cell_type": "code",
   "execution_count": 8,
   "metadata": {},
   "outputs": [],
   "source": [
    "# functions\n",
    "def add(x, y):\n",
    "    \"\"\"Add two numbers\"\"\"\n",
    "    return x + y"
   ]
  },
  {
   "cell_type": "code",
   "execution_count": 9,
   "metadata": {},
   "outputs": [
    {
     "name": "stdout",
     "output_type": "stream",
     "text": [
      "hello world\n",
      "hello 🌎\n"
     ]
    }
   ],
   "source": [
    "# function arguments can have default values\n",
    "def greet(name=\"world\"):\n",
    "    return f\"hello {name}\"\n",
    "\n",
    "\n",
    "print(greet())  # \"hello world\"\n",
    "print(greet(\"🌎\"))  # \"hello 🌎\""
   ]
  },
  {
   "cell_type": "code",
   "execution_count": 10,
   "metadata": {},
   "outputs": [
    {
     "name": "stdout",
     "output_type": "stream",
     "text": [
      "hello 🌍\n",
      "hello 🌏\n",
      "hello world\n",
      "hola mundo\n"
     ]
    }
   ],
   "source": [
    "# you can have arbitrary arguments (`args` is conventional)\n",
    "def greet_all(*args):\n",
    "    for arg in args:\n",
    "        print(f\"hello {arg}\")\n",
    "\n",
    "\n",
    "greet_all(\"🌍\", \"🌏\")\n",
    "\n",
    "\n",
    "# you can have arbitrary keyword arguments (`kwargs` is conventional)\n",
    "# the `**` unpacks a dictionary into \"keyword arguments\"\n",
    "def greet_all_custom(**kwargs):\n",
    "    for k, v in kwargs.items():\n",
    "        print(f\"{k} {v}\")\n",
    "\n",
    "\n",
    "greet_all_custom(hello=\"world\", hola=\"mundo\")"
   ]
  }
 ],
 "metadata": {
  "kernelspec": {
   "display_name": "datacamp-notebook-_zw7Dgtq-py3.11",
   "language": "python",
   "name": "python3"
  },
  "language_info": {
   "codemirror_mode": {
    "name": "ipython",
    "version": 3
   },
   "file_extension": ".py",
   "mimetype": "text/x-python",
   "name": "python",
   "nbconvert_exporter": "python",
   "pygments_lexer": "ipython3",
   "version": "3.11.3"
  },
  "orig_nbformat": 4
 },
 "nbformat": 4,
 "nbformat_minor": 2
}
