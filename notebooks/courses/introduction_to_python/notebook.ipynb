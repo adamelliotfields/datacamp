{
 "cells": [
  {
   "cell_type": "markdown",
   "metadata": {},
   "source": [
    "# [Introduction to Python](https://www.datacamp.com/completed/statement-of-accomplishment/course/27e7c4ed40996d56d7d48a23cc55337bbc89c0c3)\n",
    "\n",
    "[![Open in Colab](https://colab.research.google.com/assets/colab-badge.svg)](https://colab.research.google.com/github/adamelliotfields/datacamp/blob/main/notebooks/courses/introduction_to_python/notebook.ipynb)"
   ]
  },
  {
   "cell_type": "code",
   "execution_count": 1,
   "metadata": {},
   "outputs": [
    {
     "name": "stdout",
     "output_type": "stream",
     "text": [
      "The Zen of Python, by Tim Peters\n",
      "\n",
      "Beautiful is better than ugly.\n",
      "Explicit is better than implicit.\n",
      "Simple is better than complex.\n",
      "Complex is better than complicated.\n",
      "Flat is better than nested.\n",
      "Sparse is better than dense.\n",
      "Readability counts.\n",
      "Special cases aren't special enough to break the rules.\n",
      "Although practicality beats purity.\n",
      "Errors should never pass silently.\n",
      "Unless explicitly silenced.\n",
      "In the face of ambiguity, refuse the temptation to guess.\n",
      "There should be one-- and preferably only one --obvious way to do it.\n",
      "Although that way may not be obvious at first unless you're Dutch.\n",
      "Now is better than never.\n",
      "Although never is often better than *right* now.\n",
      "If the implementation is hard to explain, it's a bad idea.\n",
      "If the implementation is easy to explain, it may be a good idea.\n",
      "Namespaces are one honking great idea -- let's do more of those!\n"
     ]
    }
   ],
   "source": [
    "import this\n"
   ]
  },
  {
   "cell_type": "markdown",
   "metadata": {},
   "source": [
    "### Comments and Docstrings"
   ]
  },
  {
   "cell_type": "code",
   "execution_count": 2,
   "metadata": {},
   "outputs": [
    {
     "data": {
      "text/plain": [
       "'This is a docstring'"
      ]
     },
     "execution_count": 2,
     "metadata": {},
     "output_type": "execute_result"
    }
   ],
   "source": [
    "# this is a comment\n",
    "\"\"\"This is a docstring\"\"\"\n"
   ]
  },
  {
   "cell_type": "markdown",
   "metadata": {},
   "source": [
    "### Math"
   ]
  },
  {
   "cell_type": "code",
   "execution_count": 3,
   "metadata": {},
   "outputs": [],
   "source": [
    "two = 1 + 1\n",
    "one = 2 - 1\n",
    "six = 2 * 3\n",
    "three = 6 / 2  # (float division)\n",
    "three_int = 6 // 2  # (integer division)\n",
    "four = 6 % 2\n",
    "eight = 2**3\n"
   ]
  },
  {
   "cell_type": "markdown",
   "metadata": {},
   "source": [
    "### Variables"
   ]
  },
  {
   "cell_type": "code",
   "execution_count": 4,
   "metadata": {},
   "outputs": [],
   "source": [
    "s = \"hello world\"\n",
    "s_type = type(s)  # <class 'str'>\n"
   ]
  },
  {
   "cell_type": "markdown",
   "metadata": {},
   "source": [
    "### Types"
   ]
  },
  {
   "cell_type": "code",
   "execution_count": 5,
   "metadata": {},
   "outputs": [],
   "source": [
    "t = isinstance(42, int)\n",
    "t = isinstance(3.14, float)\n",
    "t = isinstance(\"hi\", str)\n",
    "t = isinstance(True, bool)\n",
    "t = isinstance([1, 2], list)\n",
    "t = isinstance({\"a\": 1}, dict)\n",
    "t = isinstance((1, 2), tuple)\n"
   ]
  },
  {
   "cell_type": "markdown",
   "metadata": {},
   "source": [
    "#### Casting"
   ]
  },
  {
   "cell_type": "code",
   "execution_count": 6,
   "metadata": {},
   "outputs": [],
   "source": [
    "three = int(3.14)  # 3\n",
    "pi = float(\"3.14\")  # 3.14\n",
    "false = bool(0)  # False\n",
    "true = bool(1)  # True\n",
    "# int(\"foo\")  # raises ValueError\n"
   ]
  },
  {
   "cell_type": "markdown",
   "metadata": {},
   "source": [
    "### Lists"
   ]
  },
  {
   "cell_type": "code",
   "execution_count": 7,
   "metadata": {},
   "outputs": [],
   "source": [
    "# lists can be heterogeneous\n",
    "l = [False, 1, 2, 3.14, \"hello\"]\n",
    "\n",
    "# lists can be multidimensional\n",
    "l2d = [[1, 2, 3], [4, 5, 6]]\n",
    "\n",
    "# lists can be subset by index\n",
    "false = l[0]  # False\n",
    "hello = l[-1]  # \"hello\"\n",
    "\n",
    "# you can retrieve the index of an element\n",
    "ind = l.index(\"hello\")  # 4\n",
    "\n",
    "# lists can be sliced\n",
    "# note that the end index is exclusive\n",
    "ints = l[1:3]  # [1, 2]\n",
    "first = l[:3]  # [False, 1, 2]\n",
    "last = l[3:]  # [3.14, \"hello\"]\n",
    "\n",
    "# you can delete elements from a list\n",
    "del l2d[0][0]  # [[2, 3], [4, 5, 6]]\n",
    "\n",
    "# you can delete a slice\n",
    "del l[1:-1]  # everything between `False` and `\"hello\"`\n"
   ]
  },
  {
   "cell_type": "markdown",
   "metadata": {},
   "source": [
    "### Dictionaries"
   ]
  },
  {
   "cell_type": "code",
   "execution_count": 8,
   "metadata": {},
   "outputs": [],
   "source": [
    "# dictionaries are key-value pairs\n",
    "d = {\"a\": 1, \"b\": 2, \"c\": 3}\n",
    "\n",
    "# dictionaries can be subset by key\n",
    "one = d[\"a\"]  # 1\n",
    "\n",
    "# you can check for membership\n",
    "true = \"a\" in d  # True\n",
    "\n",
    "# you can get an iterable of keys (not a traditional sequence)\n",
    "keys = d.keys()  # dict_keys([\"a\", \"b\", \"c\"])\n",
    "\n",
    "# you can delete a key-value pair\n",
    "del d[\"a\"]  # {\"b\": 2, \"c\": 3}\n"
   ]
  },
  {
   "cell_type": "markdown",
   "metadata": {},
   "source": [
    "### Sets"
   ]
  },
  {
   "cell_type": "code",
   "execution_count": 9,
   "metadata": {},
   "outputs": [],
   "source": [
    "# sets are unordered collections of unique elements\n",
    "s1 = {1, 2, 3}\n",
    "\n",
    "# they can also be created from lists\n",
    "s2 = set([3, 4, 5])\n",
    "\n",
    "# they provide fast membership checking\n",
    "true = 1 in s1\n",
    "\n",
    "# you can use set methods\n",
    "union = s1.union(s2)  # {1, 2, 3, 4, 5}\n",
    "isect = s1.intersection(s2)  # {3}\n",
    "diff = s1.difference(s2)  # {1, 2}\n",
    "sym_diff = s1.symmetric_difference(s2)  # {1, 2, 4, 5} # elements in either set but not both\n",
    "\n",
    "# you can also use operators\n",
    "union = s1 | s2  # {1, 2, 3, 4, 5}\n",
    "isect = s1 & s2  # {3}\n",
    "diff = s1 - s2  # {1, 2}\n",
    "sym_diff = s1 ^ s2  # {1, 2, 4, 5}\n",
    "\n",
    "# you can add, remove, and discard elements\n",
    "s1.add(4)  # {1, 2, 3, 4}\n",
    "s1.remove(4)  # {1, 2, 3}\n",
    "s1.discard(4)  # like remove but doesn't raise KeyError if element is not present\n",
    "\n",
    "# a frozenset is immutable and hashable (can be used as a key in a dict)\n",
    "fs1 = frozenset({1, 2, 3})\n",
    "fs2 = frozenset({3, 4, 5})\n",
    "true = 1 in fs1\n",
    "fs = fs1 | fs2  # frozenset({1, 2, 3, 4, 5})\n"
   ]
  },
  {
   "cell_type": "markdown",
   "metadata": {},
   "source": [
    "### Collections"
   ]
  },
  {
   "cell_type": "code",
   "execution_count": 10,
   "metadata": {},
   "outputs": [],
   "source": [
    "from collections import Counter, defaultdict, namedtuple\n",
    "\n",
    "# Counter is a dictionary subclass for counting hashable objects\n",
    "c = Counter([1, 2, 3])  # Counter({1: 1, 2: 1, 3: 1})\n",
    "c.update([3])  # Counter({3: 2, 1: 1, 2: 1})\n",
    "most_common = c.most_common(1)  # [(3, 2)]\n",
    "c.subtract([3])  # Counter({3: 1, 1: 1, 2: 1})\n",
    "\n",
    "# defaultdict allows you to specify a default type for missing keys\n",
    "# useful if you do not know the shape ahead of time\n",
    "dd = defaultdict(list)  # defaultdict(<class 'list'>, {})\n",
    "dd[\"foo\"].append(\"bar\")  # we didn't have to `dd['foo'] = []` first\n",
    "\n",
    "# namedtuples are useful for representing records when you don't need Pandas\n",
    "# they are immutable\n",
    "NT = namedtuple(\"NT\", [\"foo\", \"bar\"])  # foo and bar fields are required\n",
    "# nt = NT(1)  # raises TypeError (missing 'bar')\n",
    "nt = NT(1, 2)  # NT(foo=1, bar=2)\n",
    "nt = NT(foo=1, bar=2)  # NT(foo=1, bar=2) # fields can be named or positional\n",
    "# foo = nt['foo']  # raises TypeError (namedtuples are not subscriptable) (i.e., use dot notation)\n",
    "foo = nt.foo  # 1\n",
    "bar = nt.bar  # 2\n"
   ]
  },
  {
   "cell_type": "markdown",
   "metadata": {},
   "source": [
    "### Classes"
   ]
  },
  {
   "cell_type": "code",
   "execution_count": null,
   "metadata": {},
   "outputs": [],
   "source": [
    "# classes are defined with the `class` keyword and are PascalCase\n",
    "class MyClass:\n",
    "    pass\n"
   ]
  },
  {
   "cell_type": "markdown",
   "metadata": {},
   "source": [
    "### Dataclasses"
   ]
  },
  {
   "cell_type": "code",
   "execution_count": 11,
   "metadata": {},
   "outputs": [],
   "source": [
    "# dataclasses are like more powerful namedtuples\n",
    "# they are mutable\n",
    "from dataclasses import dataclass\n",
    "\n",
    "\n",
    "@dataclass\n",
    "class DC:\n",
    "    foo: int\n",
    "    bar: int = 2\n",
    "\n",
    "\n",
    "dc = DC(1)  # DC(foo=1, bar=2)\n"
   ]
  },
  {
   "cell_type": "markdown",
   "metadata": {},
   "source": [
    "### Functions"
   ]
  },
  {
   "cell_type": "code",
   "execution_count": 12,
   "metadata": {},
   "outputs": [],
   "source": [
    "# functions\n",
    "def add(x: int, y: int) -> int:\n",
    "    \"\"\"\n",
    "    Add two numbers\n",
    "\n",
    "    Args:\n",
    "        x (int): first number\n",
    "        y (int): second number\n",
    "\n",
    "    Returns:\n",
    "        int: sum of x and y\n",
    "    \"\"\"\n",
    "    return x + y\n",
    "\n",
    "\n",
    "# you can access the docstring\n",
    "# can also use `inspect.getdoc(add)`\n",
    "docstring = add.__doc__\n",
    "\n",
    "\n",
    "# you can return a tuple to return multiple values (like Go)\n",
    "def add_and_subtract(x, y):\n",
    "    return x + y, x - y  # parens are optional\n",
    "\n",
    "\n",
    "ten, _ = add_and_subtract(6, 4)  # 10\n"
   ]
  },
  {
   "cell_type": "code",
   "execution_count": 13,
   "metadata": {},
   "outputs": [
    {
     "name": "stdout",
     "output_type": "stream",
     "text": [
      "hello world\n",
      "hello 🌎\n"
     ]
    }
   ],
   "source": [
    "# function arguments can have default values\n",
    "def greet(name=\"world\"):\n",
    "    return f\"hello {name}\"\n",
    "\n",
    "\n",
    "print(greet())  # \"hello world\"\n",
    "print(greet(\"🌎\"))  # \"hello 🌎\"\n"
   ]
  },
  {
   "cell_type": "code",
   "execution_count": 14,
   "metadata": {},
   "outputs": [
    {
     "name": "stdout",
     "output_type": "stream",
     "text": [
      "hello 🌍\n",
      "hello 🌏\n",
      "hello world\n",
      "hola mundo\n"
     ]
    }
   ],
   "source": [
    "# you can have arbitrary arguments (`args` is conventional)\n",
    "# the `*` unpacks a list into \"positional arguments\"\n",
    "def greet_all(*args):\n",
    "    for arg in args:\n",
    "        print(f\"hello {arg}\")\n",
    "\n",
    "\n",
    "greet_all(\"🌍\", \"🌏\")\n",
    "\n",
    "\n",
    "# you can have arbitrary keyword arguments (`kwargs` is conventional)\n",
    "# the `**` unpacks a dictionary into \"keyword arguments\"\n",
    "def greet_all_custom(**kwargs):\n",
    "    for k, v in kwargs.items():\n",
    "        print(f\"{k} {v}\")\n",
    "\n",
    "\n",
    "greet_all_custom(hello=\"world\")\n",
    "greet_all_custom(**{\"hola\": \"mundo\"})  # unpacking a dict is the same as above\n"
   ]
  },
  {
   "cell_type": "markdown",
   "metadata": {},
   "source": [
    "#### Pass by Assignment\n",
    "\n",
    "Variables in Python are passed to functions _by assignment_. The behavior depends on the type of the object being passed. If an immutable type like an `int` is passed, the function receives a copy of the object. If a mutable type like a `list` is passed, the function receives a reference to the object.\n",
    "\n",
    "If you mutate the argument passed to a function and it is a mutable type, then it will be altered outside of the function, which can lead to unexpected behavior.\n",
    "\n",
    "A type is mutable if it has a method that can change its contents. For example, `list` has an `append` method that can add items to the list; `int` has no such method."
   ]
  },
  {
   "cell_type": "code",
   "execution_count": 15,
   "metadata": {},
   "outputs": [
    {
     "name": "stdout",
     "output_type": "stream",
     "text": [
      "[1]\n",
      "0\n"
     ]
    }
   ],
   "source": [
    "def list_add(l: list) -> list:\n",
    "    l.append(1)\n",
    "    return l\n",
    "\n",
    "\n",
    "def int_add(i: int) -> int:\n",
    "    i += 1\n",
    "    return i\n",
    "\n",
    "\n",
    "lst = []\n",
    "num = 0\n",
    "\n",
    "list_add(lst)\n",
    "int_add(num)\n",
    "\n",
    "print(lst)  # [1]\n",
    "print(num)  # 0\n"
   ]
  },
  {
   "cell_type": "markdown",
   "metadata": {},
   "source": [
    "### Profiling"
   ]
  },
  {
   "cell_type": "code",
   "execution_count": 16,
   "metadata": {},
   "outputs": [],
   "source": [
    "# use getsizeof to get the size of an object in bytes\n",
    "from sys import getsizeof\n",
    "\n",
    "bytes = getsizeof([i for i in range(1000)])  # 8856\n"
   ]
  },
  {
   "cell_type": "code",
   "execution_count": 17,
   "metadata": {},
   "outputs": [
    {
     "name": "stdout",
     "output_type": "stream",
     "text": [
      "55.1 ns ± 4.47 ns per loop (mean ± std. dev. of 7 runs, 10,000,000 loops each)\n",
      "26.9 ns ± 0.541 ns per loop (mean ± std. dev. of 7 runs, 10,000,000 loops each)\n"
     ]
    }
   ],
   "source": [
    "# you can profile in ipython with the %timeit magic\n",
    "# (can also be used as a cell (%%) magic)\n",
    "%timeit list()\n",
    "%timeit []  # literal faster than factory\n"
   ]
  },
  {
   "cell_type": "code",
   "execution_count": 18,
   "metadata": {},
   "outputs": [],
   "source": [
    "# you can also use line_profiler\n",
    "%load_ext line_profiler\n"
   ]
  },
  {
   "cell_type": "code",
   "execution_count": 19,
   "metadata": {},
   "outputs": [],
   "source": [
    "from time import sleep\n",
    "\n",
    "\n",
    "def fn(n) -> int:\n",
    "    \"\"\"A function to profile\"\"\"\n",
    "    x = 0\n",
    "    for i in range(n):\n",
    "        x += i\n",
    "    sleep(1)\n",
    "    y = 0\n",
    "    for i in range(n):\n",
    "        y += i * i  # takes a little longer\n",
    "    return x + y\n"
   ]
  },
  {
   "cell_type": "code",
   "execution_count": 20,
   "metadata": {},
   "outputs": [
    {
     "name": "stdout",
     "output_type": "stream",
     "text": [
      "Timer unit: 1e-09 s\n",
      "\n",
      "Total time: 2.40152 s\n",
      "File: /var/folders/_0/vzr7w6510yg9930l0ydhc1mm0000gn/T/ipykernel_9860/1427703122.py\n",
      "Function: fn at line 4\n",
      "\n",
      "Line #      Hits         Time  Per Hit   % Time  Line Contents\n",
      "==============================================================\n",
      "     4                                           def fn(n) -> int:\n",
      "     5                                               \"\"\"A function to profile\"\"\"\n",
      "     6         1       1000.0   1000.0      0.0      x = 0\n",
      "     7   1000001  335777000.0    335.8     14.0      for i in range(n):\n",
      "     8   1000000  346604000.0    346.6     14.4          x += i\n",
      "     9         1 1003019000.0    1e+09     41.8      sleep(1)\n",
      "    10         1       1000.0   1000.0      0.0      y = 0\n",
      "    11   1000001  332160000.0    332.2     13.8      for i in range(n):\n",
      "    12   1000000  383955000.0    384.0     16.0          y += i * i  # takes a little longer\n",
      "    13         1          0.0      0.0      0.0      return x + y"
     ]
    }
   ],
   "source": [
    "%lprun -f fn fn(1000000)\n"
   ]
  },
  {
   "cell_type": "markdown",
   "metadata": {},
   "source": [
    "### Help"
   ]
  },
  {
   "cell_type": "code",
   "execution_count": 21,
   "metadata": {},
   "outputs": [
    {
     "name": "stdout",
     "output_type": "stream",
     "text": [
      "Help on built-in function len in module builtins:\n",
      "\n",
      "len(obj, /)\n",
      "    Return the number of items in a container.\n",
      "\n"
     ]
    }
   ],
   "source": [
    "# get help on a function\n",
    "help(len)\n"
   ]
  },
  {
   "cell_type": "code",
   "execution_count": 22,
   "metadata": {},
   "outputs": [
    {
     "name": "stdout",
     "output_type": "stream",
     "text": [
      "Help on built-in function join:\n",
      "\n",
      "join(iterable, /) method of builtins.str instance\n",
      "    Concatenate any number of strings.\n",
      "    \n",
      "    The string whose method is called is inserted in between each given string.\n",
      "    The result is returned as a new string.\n",
      "    \n",
      "    Example: '.'.join(['ab', 'pq', 'rs']) -> 'ab.pq.rs'\n",
      "\n"
     ]
    }
   ],
   "source": [
    "# get help on an instance method\n",
    "help(\"\".join)\n"
   ]
  },
  {
   "cell_type": "code",
   "execution_count": 23,
   "metadata": {
    "vscode": {
     "languageId": "shellscript"
    }
   },
   "outputs": [
    {
     "name": "stdout",
     "output_type": "stream",
     "text": [
      "Help on method_descriptor:\n",
      "\n",
      "reshape(...)\n",
      "    a.reshape(shape, order='C')\n",
      "    \n",
      "    Returns an array containing the same data with a new shape.\n",
      "    \n",
      "    Refer to `numpy.reshape` for full documentation.\n",
      "    \n",
      "    See Also\n",
      "    --------\n",
      "    numpy.reshape : equivalent function\n",
      "    \n",
      "    Notes\n",
      "    -----\n",
      "    Unlike the free function `numpy.reshape`, this method on `ndarray` allows\n",
      "    the elements of the shape parameter to be passed in as separate arguments.\n",
      "    For example, ``a.reshape(10, 11)`` is equivalent to\n",
      "    ``a.reshape((10, 11))``.\n",
      "\n"
     ]
    }
   ],
   "source": [
    "%%bash\n",
    "# get help on a module type method from anywhere\n",
    "poetry run python -c 'import numpy; help(numpy.ndarray.reshape)'\n"
   ]
  }
 ],
 "metadata": {
  "kernelspec": {
   "display_name": "datacamp-notebook-_zw7Dgtq-py3.11",
   "language": "python",
   "name": "python3"
  },
  "language_info": {
   "codemirror_mode": {
    "name": "ipython",
    "version": 3
   },
   "file_extension": ".py",
   "mimetype": "text/x-python",
   "name": "python",
   "nbconvert_exporter": "python",
   "pygments_lexer": "ipython3",
   "version": "3.11.3"
  },
  "orig_nbformat": 4
 },
 "nbformat": 4,
 "nbformat_minor": 2
}
