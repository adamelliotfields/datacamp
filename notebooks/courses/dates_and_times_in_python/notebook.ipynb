{
 "cells": [
  {
   "cell_type": "markdown",
   "metadata": {},
   "source": [
    "# [Dates and Times in Python](https://www.datacamp.com/completed/statement-of-accomplishment/course/45ab03ad3d2e69db921bba1ddac9993f10b38524)\n",
    "\n",
    "**Contents:**\n",
    "  * [Dates](#dates)\n",
    "  * [Dates and Times](#dates-and-times)\n",
    "  * [Timezones and Daylight Savings](#timezones-and-daylight-savings)\n",
    "  * [Pandas](#pandas)"
   ]
  },
  {
   "cell_type": "code",
   "execution_count": 1,
   "metadata": {},
   "outputs": [],
   "source": [
    "%matplotlib inline\n",
    "\n",
    "import matplotlib.pyplot as plt\n",
    "import numpy as np\n",
    "import pandas as pd\n",
    "\n",
    "from datetime import date, datetime, timedelta, timezone\n",
    "from dateutil import tz\n",
    "from typing import List\n",
    "\n",
    "pd.set_option(\"display.max_columns\", None)\n",
    "pd.set_option(\"display.width\", np.iinfo(np.int32).max)\n",
    "\n",
    "# load data\n",
    "florida_hurricane_dates: List[date] = pd.read_pickle('florida_hurricane_dates.pkl')\n",
    "onebike_datetimes = pd.read_csv(\n",
    "  'onebike_datetimes.csv',\n",
    "  parse_dates=['Start date', 'End date'],\n",
    "  date_format=\"%Y-%m-%d %H:%M:%S\",\n",
    ")\n",
    "\n",
    "# additional data\n",
    "duration = onebike_datetimes[\"End date\"] - onebike_datetimes[\"Start date\"]\n",
    "onebike_datetimes[\"Duration\"] = duration.dt.total_seconds()"
   ]
  },
  {
   "cell_type": "code",
   "execution_count": 2,
   "metadata": {},
   "outputs": [
    {
     "name": "stdout",
     "output_type": "stream",
     "text": [
      "0    1988-08-04\n",
      "1    1990-10-12\n",
      "2    2003-04-20\n",
      "3    1971-09-01\n",
      "4    1988-08-23\n",
      "dtype: object\n"
     ]
    }
   ],
   "source": [
    "print(pd.Series(florida_hurricane_dates).head())  # unordered"
   ]
  },
  {
   "cell_type": "code",
   "execution_count": 3,
   "metadata": {},
   "outputs": [
    {
     "name": "stdout",
     "output_type": "stream",
     "text": [
      "           Start date            End date  Start station number                         Start station  End station number                           End station Bike number Member type  Duration\n",
      "0 2017-10-01 15:23:25 2017-10-01 15:26:26                 31038                  Glebe Rd & 11th St N               31036         George Mason Dr & Wilson Blvd      W20529      Member     181.0\n",
      "1 2017-10-01 15:42:57 2017-10-01 17:49:59                 31036         George Mason Dr & Wilson Blvd               31036         George Mason Dr & Wilson Blvd      W20529      Casual    7622.0\n",
      "2 2017-10-02 06:37:10 2017-10-02 06:42:53                 31036         George Mason Dr & Wilson Blvd               31037  Ballston Metro / N Stuart & 9th St N      W20529      Member     343.0\n",
      "3 2017-10-02 08:56:45 2017-10-02 09:18:03                 31037  Ballston Metro / N Stuart & 9th St N               31295                     Potomac & M St NW      W20529      Member    1278.0\n",
      "4 2017-10-02 18:23:48 2017-10-02 18:45:05                 31295                     Potomac & M St NW               31230         Metro Center / 12th & G St NW      W20529      Member    1277.0\n"
     ]
    }
   ],
   "source": [
    "print(onebike_datetimes.head())"
   ]
  },
  {
   "cell_type": "markdown",
   "metadata": {},
   "source": [
    "## Dates"
   ]
  },
  {
   "cell_type": "code",
   "execution_count": 4,
   "metadata": {},
   "outputs": [
    {
     "name": "stdout",
     "output_type": "stream",
     "text": [
      "1992-08-24\n"
     ]
    }
   ],
   "source": [
    "# create a date\n",
    "andrew = date(1992, 8, 24)\n",
    "\n",
    "# get the day of the week (Monday is 0)\n",
    "weekday = andrew.weekday()\n",
    "\n",
    "# get the month (January is 1)\n",
    "month = andrew.month\n",
    "\n",
    "# get the delta between two dates\n",
    "start = date(2007, 5, 9)\n",
    "end = date(2007, 12, 13)\n",
    "delta_days = (end - start).days  # 218\n",
    "\n",
    "# sort a list of dates\n",
    "hurricanes_sorted = sorted(florida_hurricane_dates)\n",
    "\n",
    "# dates are compared by value not reference (i.e., they can be different instances)\n",
    "andrew = hurricanes_sorted[hurricanes_sorted.index(date(1992, 8, 24))]\n",
    "\n",
    "# format using `strftime`\n",
    "print(andrew.strftime(\"%Y-%m-%d\"))"
   ]
  },
  {
   "cell_type": "markdown",
   "metadata": {},
   "source": [
    "## Dates and Times"
   ]
  },
  {
   "cell_type": "code",
   "execution_count": 5,
   "metadata": {},
   "outputs": [
    {
     "name": "stdout",
     "output_type": "stream",
     "text": [
      "{'AM': 94, 'PM': 196}\n"
     ]
    }
   ],
   "source": [
    "trip_counts = {\"AM\": 0, \"PM\": 0}\n",
    "\n",
    "# AM trips start before noon\n",
    "for _, row in onebike_datetimes.iterrows():\n",
    "    if row[\"Start date\"].hour < 12:\n",
    "        trip_counts[\"AM\"] += 1\n",
    "    else:\n",
    "        trip_counts[\"PM\"] += 1\n",
    "\n",
    "print(trip_counts)"
   ]
  },
  {
   "cell_type": "code",
   "execution_count": 6,
   "metadata": {},
   "outputs": [
    {
     "name": "stdout",
     "output_type": "stream",
     "text": [
      "2017-10-01T15:23:25\n",
      "2017-10-01T15:23:25\n"
     ]
    }
   ],
   "source": [
    "first_start = onebike_datetimes[\"Start date\"].iloc[0]\n",
    "fmt = \"%Y-%m-%dT%H:%M:%S\"  # ISO 8601 format\n",
    "\n",
    "print(first_start.isoformat())\n",
    "print(first_start.strftime(fmt))  # same"
   ]
  },
  {
   "cell_type": "code",
   "execution_count": 7,
   "metadata": {},
   "outputs": [
    {
     "name": "stdout",
     "output_type": "stream",
     "text": [
      "[datetime.datetime(2017, 12, 30, 15, 19, 13), datetime.datetime(2017, 12, 30, 15, 9, 3)]\n"
     ]
    }
   ],
   "source": [
    "# convert unix timestamps to datetimes\n",
    "timestamps = [1514665153, 1514664543]\n",
    "dts = []\n",
    "\n",
    "for ts in timestamps:\n",
    "    dts.append(datetime.fromtimestamp(ts))\n",
    "\n",
    "print(dts)"
   ]
  },
  {
   "cell_type": "code",
   "execution_count": 8,
   "metadata": {},
   "outputs": [
    {
     "name": "stdout",
     "output_type": "stream",
     "text": [
      "[181.0, 7622.0, 343.0, 1278.0, 1277.0]\n"
     ]
    }
   ],
   "source": [
    "onebike_durations = []\n",
    "\n",
    "# get total seconds\n",
    "for _, row in onebike_datetimes.iterrows():\n",
    "    trip_duration = row[\"End date\"] - row[\"Start date\"]\n",
    "    trip_length_seconds = trip_duration.total_seconds()\n",
    "    onebike_durations.append(trip_length_seconds)\n",
    "\n",
    "print(onebike_durations[:5])"
   ]
  },
  {
   "cell_type": "code",
   "execution_count": 9,
   "metadata": {},
   "outputs": [
    {
     "name": "stdout",
     "output_type": "stream",
     "text": [
      "1178.9310344827586\n"
     ]
    }
   ],
   "source": [
    "total_elapsed_time = sum(onebike_durations)\n",
    "number_of_trips = len(onebike_durations)\n",
    "\n",
    "# print the average trip time\n",
    "print(total_elapsed_time / number_of_trips)"
   ]
  },
  {
   "cell_type": "code",
   "execution_count": 10,
   "metadata": {},
   "outputs": [
    {
     "name": "stdout",
     "output_type": "stream",
     "text": [
      "The shortest trip was -3346.0 seconds\n",
      "The longest trip was 76913.0 seconds\n"
     ]
    }
   ],
   "source": [
    "# calculate shortest and longest trips\n",
    "shortest_trip = min(onebike_durations)\n",
    "longest_trip = max(onebike_durations)\n",
    "\n",
    "# note the negative trip right before \"fall back\" daylight savings time\n",
    "print(f\"The shortest trip was {shortest_trip} seconds\")\n",
    "print(f\"The longest trip was {longest_trip} seconds\")"
   ]
  },
  {
   "cell_type": "markdown",
   "metadata": {},
   "source": [
    "## Timezones and Daylight Savings\n",
    "\n",
    "[Sir Sandford Fleming](https://en.wikipedia.org/wiki/Sandford_Fleming#Inventor_of_worldwide_standard_time) invented \"Standard Time\" in 1879. He proposed dividing the world into 24 time zones, each 15 degrees of longitude wide, because the Earth rotates 360 degrees in 24 hours (360/24 = 15).\n",
    "\n",
    "Time zones are centered on _meridians of longitude_ (imaginary lines running from the North Pole to the South Pole) that are multiples of 15 degrees.\n",
    "\n",
    "The time zones are numbered from 0 to 23, starting at the Prime Meridian (longitude 0 degrees) and increasing to the west. The time zone for the Prime Meridian is called Greenwich Mean Time (GMT) or Coordinated Universal Time (UTC). The time zone for the meridian 15 degrees west of the Prime Meridian is called UTC-1, and the time zone for the meridian 15 degrees east of the Prime Meridian is called UTC+1.\n",
    "\n",
    "Daylight Savings Time (DST) is a more modern invention aimed at saving energy. The concept is to move an hour of daylight from the morning to the evening, reducing the need for artificial lighting and overall energy consumption.\n",
    "\n",
    "DST is not practiced in every country and the rules for when DST starts and ends are also not consistent across countries. The energy savings benefit of DST is not universally accepted, and some studies have shown it can negatively impact health by disrupting circadian rhythms.\n",
    "\n",
    "DST is not even consistent within regions of countries that do practice it. For example, the largest Native American reservation is the Navajo Nation. It covers parts of Utah, New Mexico, and Arizona. Arizona does not observe DST, but the Navajo Nation does. The Hopi Nation, which is entirely surrounded by the Navajo Nation, does not observe DST. You can change time zones multiple times just by driving across northeastern Arizona.\n",
    "\n",
    "Managing time zones is crucial in software engineering because it determines how data is stored and displayed to users around the globe. In the context of Data Science, incorrectly handling time zones can lead to incorrect conclusions about your data. DST further complicates this by introducing variability into the time zone rules.\n",
    "\n",
    "Starting with [Python 3.9](https://peps.python.org/pep-0615), the `zoneinfo` module uses the system's [IANA time zone database](https://en.wikipedia.org/wiki/Tz_database) (aka the Olson database) and provides a fall-back mechanism (downloading from PyPI) when it isn't available. This module essentially allows you to attach a time zone to a `datetime` object."
   ]
  },
  {
   "cell_type": "code",
   "execution_count": 11,
   "metadata": {},
   "outputs": [
    {
     "name": "stdout",
     "output_type": "stream",
     "text": [
      "Original: 2017-10-01 15:23:25-04:00 | UTC: 2017-10-01T19:23:25+00:00\n",
      "Original: 2017-10-01 15:42:57-04:00 | UTC: 2017-10-01T19:42:57+00:00\n",
      "Original: 2017-10-02 06:37:10-04:00 | UTC: 2017-10-02T10:37:10+00:00\n",
      "Original: 2017-10-02 08:56:45-04:00 | UTC: 2017-10-02T12:56:45+00:00\n",
      "Original: 2017-10-02 18:23:48-04:00 | UTC: 2017-10-02T22:23:48+00:00\n"
     ]
    }
   ],
   "source": [
    "# PST/UTC-8 timezone object\n",
    "pst = timezone(timedelta(hours=-8))\n",
    "\n",
    "# AEDT/UTC+11 timezone object\n",
    "aedt = timezone(timedelta(hours=11))\n",
    "\n",
    "# october 1, 2017 at 3:26:26 PM UTC\n",
    "dt = datetime(2017, 10, 1, 15, 26, 26, tzinfo=timezone.utc)\n",
    "\n",
    "# october 1, 2017 at 3:26:26 PM UTC-8\n",
    "dt = datetime(2017, 10, 1, 15, 26, 26, tzinfo=pst)\n",
    "\n",
    "# october 1, 2017 at 3:26:26 PM UTC+11\n",
    "dt = datetime(2017, 10, 1, 15, 26, 26, tzinfo=aedt)\n",
    "\n",
    "# timezone object\n",
    "edt = timezone(timedelta(hours=-4))\n",
    "\n",
    "for _, row in onebike_datetimes[:5].iterrows():\n",
    "    row[\"Start date\"] = row[\"Start date\"].replace(tzinfo=edt)\n",
    "    dt = row[\"Start date\"].astimezone(timezone.utc)\n",
    "    print(f\"Original: {row['Start date']} | UTC: {dt.isoformat()}\")"
   ]
  },
  {
   "cell_type": "code",
   "execution_count": 12,
   "metadata": {},
   "outputs": [
    {
     "name": "stdout",
     "output_type": "stream",
     "text": [
      "2017-10-01T15:23:25\n",
      "2017-10-01T15:23:25-04:00\n",
      "2017-10-01T20:23:25+01:00\n",
      "2017-10-02T00:53:25+05:30\n",
      "2017-10-02T09:23:25+14:00\n"
     ]
    }
   ],
   "source": [
    "# get timezones by name\n",
    "et = tz.gettz(\"America/New_York\")\n",
    "uk = tz.gettz(\"Europe/London\")\n",
    "ist = tz.gettz(\"Asia/Kolkata\")\n",
    "sm = tz.gettz(\"Pacific/Apia\")\n",
    "\n",
    "# need to convert to Python datetime object\n",
    "local = onebike_datetimes[\"Start date\"].iloc[0].to_pydatetime()\n",
    "\n",
    "print(local.isoformat())\n",
    "print(local.astimezone(et).isoformat())\n",
    "print(local.astimezone(uk).isoformat())\n",
    "print(local.astimezone(ist).isoformat())\n",
    "print(local.astimezone(sm).isoformat())"
   ]
  },
  {
   "cell_type": "code",
   "execution_count": 13,
   "metadata": {},
   "outputs": [
    {
     "name": "stdout",
     "output_type": "stream",
     "text": [
      "6.0\n",
      "5.0\n"
     ]
    }
   ],
   "source": [
    "start = datetime(2017, 3, 12, tzinfo=tz.gettz(\"America/New_York\"))\n",
    "end = start + timedelta(hours=6)\n",
    "\n",
    "# clock time shows 6 hours elapsed because of daylight savings \"spring forward\"\n",
    "print((end - start).total_seconds() / (60 * 60))\n",
    "\n",
    "# convert to UTC to see that actually only 5 hours elapsed\n",
    "print((end.astimezone(timezone.utc) - start.astimezone(timezone.utc)).total_seconds() / (60 * 60))"
   ]
  },
  {
   "cell_type": "markdown",
   "metadata": {},
   "source": [
    "### Ambiguous Times\n",
    "\n",
    "Times are _ambiguous_ if they occur twice in the same day. This happens when the clocks are set back 1 hour every fall(\"fall back\").\n",
    "\n",
    "[PEP-495](https://peps.python.org/pep-0495) added the `fold` attribute to `datetime` objects to handle this.\n",
    "\n",
    "The `tz.enfold()` method sets the `fold` attribute to `1`, so the time _after the fold_ is used in calculations. In Python 3.6 and later, you can also manually set `dt.fold = 1`.\n",
    "\n",
    "The term comes from the idea of creating a \"fold\" in time when clocks are moved back, and a \"gap\" in time when clocks are moved forward."
   ]
  },
  {
   "cell_type": "code",
   "execution_count": 14,
   "metadata": {},
   "outputs": [
    {
     "name": "stdout",
     "output_type": "stream",
     "text": [
      "Ambiguous start at 2017-11-05 01:56:50-04:00\n",
      "Ambiguous end at 2017-11-05 01:01:04-04:00\n"
     ]
    }
   ],
   "source": [
    "for i, row in onebike_datetimes.iterrows():\n",
    "    # rides with ambiguous start times\n",
    "    start = row[\"Start date\"].replace(tzinfo=tz.gettz(\"America/New_York\"))\n",
    "    if tz.datetime_ambiguous(start):\n",
    "        print(f\"Ambiguous start at {start}\")\n",
    "\n",
    "    # rides with ambiguous end times\n",
    "    end = row[\"End date\"].replace(tzinfo=tz.gettz(\"America/New_York\"))\n",
    "    if tz.datetime_ambiguous(end):\n",
    "        print(f\"Ambiguous end at {end}\")"
   ]
  },
  {
   "cell_type": "code",
   "execution_count": 15,
   "metadata": {},
   "outputs": [
    {
     "name": "stdout",
     "output_type": "stream",
     "text": [
      "Shortest trip: 116.0\n"
     ]
    }
   ],
   "source": [
    "trip_durations = []\n",
    "\n",
    "for _, row in onebike_datetimes.iterrows():\n",
    "    # equivalent to `row[\"Column\"].dt.tz_localize(\"America/New_York\")`\n",
    "    start = row[\"Start date\"].replace(tzinfo=tz.gettz(\"America/New_York\"))\n",
    "    end = row[\"End date\"].replace(tzinfo=tz.gettz(\"America/New_York\"))\n",
    "\n",
    "    # When the start is later than the end, set the fold to be 1\n",
    "    if start > end:\n",
    "        end = tz.enfold(end)\n",
    "\n",
    "    # Convert to UTC\n",
    "    start = start.astimezone(timezone.utc)\n",
    "    end = end.astimezone(timezone.utc)\n",
    "\n",
    "    # Subtract the difference\n",
    "    trip_length_seconds = (end - start).total_seconds()\n",
    "    trip_durations.append(trip_length_seconds)\n",
    "\n",
    "# Take the shortest trip duration\n",
    "print(\"Shortest trip: \" + str(min(trip_durations)))"
   ]
  },
  {
   "cell_type": "markdown",
   "metadata": {},
   "source": [
    "## Pandas"
   ]
  },
  {
   "cell_type": "code",
   "execution_count": 16,
   "metadata": {},
   "outputs": [
    {
     "name": "stdout",
     "output_type": "stream",
     "text": [
      "Member type\n",
      "Member    81.37931\n",
      "Casual    18.62069\n",
      "Name: count, dtype: float64\n"
     ]
    }
   ],
   "source": [
    "mean = onebike_datetimes[\"Duration\"].mean()\n",
    "sum = onebike_datetimes[\"Duration\"].sum()\n",
    "\n",
    "# percent of time the bike was in use (duration over 91 days)\n",
    "usage_pct = (sum / timedelta(days=91).total_seconds()) * 100\n",
    "\n",
    "# count by member type\n",
    "members = onebike_datetimes[\"Member type\"].value_counts()\n",
    "\n",
    "# percent of rides by member\n",
    "rides_pct = (members / len(onebike_datetimes)) * 100\n",
    "print(rides_pct)"
   ]
  },
  {
   "cell_type": "code",
   "execution_count": 17,
   "metadata": {},
   "outputs": [
    {
     "name": "stdout",
     "output_type": "stream",
     "text": [
      "6 rides were joyrides\n",
      "The median duration overall was 660.00 seconds\n",
      "The median duration for joyrides was 2642.50 seconds\n"
     ]
    }
   ],
   "source": [
    "joyrides = onebike_datetimes[\"Start station\"] == onebike_datetimes[\"End station\"]\n",
    "\n",
    "# Total number of joyrides\n",
    "print(f\"{joyrides.sum()} rides were joyrides\")\n",
    "\n",
    "# Median of all rides\n",
    "print(f\"The median duration overall was {onebike_datetimes['Duration'].median():.2f} seconds\")\n",
    "\n",
    "# Median of joyrides\n",
    "print(\n",
    "    f\"The median duration for joyrides was {onebike_datetimes[joyrides]['Duration'].median():.2f} seconds\"\n",
    ")"
   ]
  },
  {
   "cell_type": "code",
   "execution_count": 18,
   "metadata": {},
   "outputs": [
    {
     "data": {
      "image/png": "[encoded data removed]",
      "text/plain": [
       "<Figure size 640x480 with 1 Axes>"
      ]
     },
     "metadata": {},
     "output_type": "display_data"
    }
   ],
   "source": [
    "# resample by month and plot\n",
    "onebike_datetimes.resample(\"M\", on=\"Start date\").size().plot(ylim=[0, 150])\n",
    "plt.show()"
   ]
  },
  {
   "cell_type": "code",
   "execution_count": 19,
   "metadata": {},
   "outputs": [
    {
     "name": "stdout",
     "output_type": "stream",
     "text": [
      "2017-10-01 20:23:25+01:00\n",
      "2017-10-01 20:26:26+01:00\n"
     ]
    }
   ],
   "source": [
    "rides = onebike_datetimes.copy()\n",
    "\n",
    "# set ambiguous times to NaT\n",
    "rides[\"Start date\"] = rides[\"Start date\"].dt.tz_localize(\"America/New_York\", ambiguous=\"NaT\")\n",
    "rides[\"End date\"] = rides[\"End date\"].dt.tz_localize(\"America/New_York\", ambiguous=\"NaT\")\n",
    "\n",
    "# convert to \"Europe/London\"\n",
    "rides[\"Start date\"] = rides[\"Start date\"].dt.tz_convert(\"Europe/London\")\n",
    "rides[\"End date\"] = rides[\"End date\"].dt.tz_convert(\"Europe/London\")\n",
    "\n",
    "print(rides[\"Start date\"].iloc[0])\n",
    "print(rides[\"End date\"].iloc[0])"
   ]
  },
  {
   "cell_type": "code",
   "execution_count": 20,
   "metadata": {},
   "outputs": [
    {
     "name": "stdout",
     "output_type": "stream",
     "text": [
      "Ride start weekday\n",
      "Friday       684.0\n",
      "Monday       922.5\n",
      "Saturday     610.0\n",
      "Sunday       625.0\n",
      "Thursday     659.0\n",
      "Tuesday      644.0\n",
      "Wednesday    629.0\n",
      "Name: Duration, dtype: float64\n"
     ]
    }
   ],
   "source": [
    "# add a column for the weekday of the start of the ride\n",
    "rides[\"Ride start weekday\"] = rides[\"Start date\"].dt.day_name()\n",
    "print(rides.groupby(\"Ride start weekday\")[\"Duration\"].median())"
   ]
  },
  {
   "cell_type": "code",
   "execution_count": 21,
   "metadata": {},
   "outputs": [
    {
     "name": "stdout",
     "output_type": "stream",
     "text": [
      "Start date\n",
      "2017-10-31 00:00:00+00:00    5.519242\n",
      "2017-11-30 00:00:00+00:00    7.256474\n",
      "2017-12-31 00:00:00+00:00    9.202380\n",
      "Name: Time since, dtype: float64\n"
     ]
    }
   ],
   "source": [
    "# shift the index of the end date up one; then subtract it from the start date\n",
    "rides[\"Time since\"] = rides[\"Start date\"] - rides[\"End date\"].shift(1)\n",
    "\n",
    "# convert the results to seconds\n",
    "rides[\"Time since\"] = rides[\"Time since\"].dt.total_seconds()\n",
    "\n",
    "# resample by month\n",
    "monthly = rides.resample(\"M\", on=\"Start date\")\n",
    "\n",
    "# print the average hours between rides each month\n",
    "print(monthly[\"Time since\"].mean() / 3600)"
   ]
  }
 ],
 "metadata": {
  "kernelspec": {
   "display_name": "datacamp-kYionb3o-py3.11",
   "language": "python",
   "name": "python3"
  },
  "language_info": {
   "codemirror_mode": {
    "name": "ipython",
    "version": 3
   },
   "file_extension": ".py",
   "mimetype": "text/x-python",
   "name": "python",
   "nbconvert_exporter": "python",
   "pygments_lexer": "ipython3",
   "version": "3.11.3"
  },
  "orig_nbformat": 4
 },
 "nbformat": 4,
 "nbformat_minor": 2
}
