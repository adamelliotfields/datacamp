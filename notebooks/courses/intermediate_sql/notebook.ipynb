{
 "cells": [
  {
   "cell_type": "markdown",
   "metadata": {},
   "source": [
    "# [Intermediate SQL](https://www.datacamp.com/completed/statement-of-accomplishment/course/f13fa89f9723010be3d128e1391f56ac914d3dbb)"
   ]
  },
  {
   "cell_type": "code",
   "execution_count": 1,
   "metadata": {},
   "outputs": [
    {
     "data": {
      "text/html": [
       "<span style=\"None\">Found pyproject.toml from &#x27;/Users/adam/@/datacamp&#x27;</span>"
      ],
      "text/plain": [
       "Found pyproject.toml from '/Users/adam/@/datacamp'"
      ]
     },
     "metadata": {},
     "output_type": "display_data"
    }
   ],
   "source": [
    "%load_ext sql\n",
    "\n",
    "%config SqlMagic.autopandas = False\n",
    "%config SqlMagic.displaycon = False\n",
    "%config SqlMagic.feedback = 0"
   ]
  },
  {
   "cell_type": "code",
   "execution_count": 2,
   "metadata": {},
   "outputs": [
    {
     "data": {
      "text/html": [
       "<table>\n",
       "    <thead>\n",
       "        <tr>\n",
       "            <th>Count</th>\n",
       "        </tr>\n",
       "    </thead>\n",
       "    <tbody>\n",
       "        <tr>\n",
       "            <td>19791</td>\n",
       "        </tr>\n",
       "    </tbody>\n",
       "</table>"
      ],
      "text/plain": [
       "+-------+\n",
       "| Count |\n",
       "+-------+\n",
       "| 19791 |\n",
       "+-------+"
      ]
     },
     "execution_count": 2,
     "metadata": {},
     "output_type": "execute_result"
    }
   ],
   "source": [
    "import duckdb\n",
    "\n",
    "conn = duckdb.connect(database=':memory:', read_only=False)\n",
    "%sql conn\n",
    "\n",
    "# load data\n",
    "%sql CREATE TABLE films AS SELECT * FROM 'films.csv';\n",
    "%sql CREATE TABLE people AS SELECT * FROM 'people.csv';\n",
    "%sql CREATE TABLE reviews AS SELECT * FROM 'reviews.csv';\n",
    "%sql CREATE TABLE roles AS SELECT * FROM 'roles.csv';"
   ]
  },
  {
   "cell_type": "code",
   "execution_count": 3,
   "metadata": {
    "vscode": {
     "languageId": "sql"
    }
   },
   "outputs": [
    {
     "data": {
      "text/html": [
       "<table>\n",
       "    <thead>\n",
       "        <tr>\n",
       "            <th>column_name</th>\n",
       "            <th>column_type</th>\n",
       "            <th>null</th>\n",
       "            <th>key</th>\n",
       "            <th>default</th>\n",
       "            <th>extra</th>\n",
       "        </tr>\n",
       "    </thead>\n",
       "    <tbody>\n",
       "        <tr>\n",
       "            <td>id</td>\n",
       "            <td>BIGINT</td>\n",
       "            <td>YES</td>\n",
       "            <td>None</td>\n",
       "            <td>None</td>\n",
       "            <td>None</td>\n",
       "        </tr>\n",
       "        <tr>\n",
       "            <td>title</td>\n",
       "            <td>VARCHAR</td>\n",
       "            <td>YES</td>\n",
       "            <td>None</td>\n",
       "            <td>None</td>\n",
       "            <td>None</td>\n",
       "        </tr>\n",
       "        <tr>\n",
       "            <td>release_year</td>\n",
       "            <td>DOUBLE</td>\n",
       "            <td>YES</td>\n",
       "            <td>None</td>\n",
       "            <td>None</td>\n",
       "            <td>None</td>\n",
       "        </tr>\n",
       "        <tr>\n",
       "            <td>country</td>\n",
       "            <td>VARCHAR</td>\n",
       "            <td>YES</td>\n",
       "            <td>None</td>\n",
       "            <td>None</td>\n",
       "            <td>None</td>\n",
       "        </tr>\n",
       "        <tr>\n",
       "            <td>duration</td>\n",
       "            <td>DOUBLE</td>\n",
       "            <td>YES</td>\n",
       "            <td>None</td>\n",
       "            <td>None</td>\n",
       "            <td>None</td>\n",
       "        </tr>\n",
       "        <tr>\n",
       "            <td>language</td>\n",
       "            <td>VARCHAR</td>\n",
       "            <td>YES</td>\n",
       "            <td>None</td>\n",
       "            <td>None</td>\n",
       "            <td>None</td>\n",
       "        </tr>\n",
       "        <tr>\n",
       "            <td>certification</td>\n",
       "            <td>VARCHAR</td>\n",
       "            <td>YES</td>\n",
       "            <td>None</td>\n",
       "            <td>None</td>\n",
       "            <td>None</td>\n",
       "        </tr>\n",
       "        <tr>\n",
       "            <td>gross</td>\n",
       "            <td>DOUBLE</td>\n",
       "            <td>YES</td>\n",
       "            <td>None</td>\n",
       "            <td>None</td>\n",
       "            <td>None</td>\n",
       "        </tr>\n",
       "        <tr>\n",
       "            <td>budget</td>\n",
       "            <td>DOUBLE</td>\n",
       "            <td>YES</td>\n",
       "            <td>None</td>\n",
       "            <td>None</td>\n",
       "            <td>None</td>\n",
       "        </tr>\n",
       "    </tbody>\n",
       "</table>"
      ],
      "text/plain": [
       "+---------------+-------------+------+------+---------+-------+\n",
       "|  column_name  | column_type | null | key  | default | extra |\n",
       "+---------------+-------------+------+------+---------+-------+\n",
       "|       id      |    BIGINT   | YES  | None |   None  |  None |\n",
       "|     title     |   VARCHAR   | YES  | None |   None  |  None |\n",
       "|  release_year |    DOUBLE   | YES  | None |   None  |  None |\n",
       "|    country    |   VARCHAR   | YES  | None |   None  |  None |\n",
       "|    duration   |    DOUBLE   | YES  | None |   None  |  None |\n",
       "|    language   |   VARCHAR   | YES  | None |   None  |  None |\n",
       "| certification |   VARCHAR   | YES  | None |   None  |  None |\n",
       "|     gross     |    DOUBLE   | YES  | None |   None  |  None |\n",
       "|     budget    |    DOUBLE   | YES  | None |   None  |  None |\n",
       "+---------------+-------------+------+------+---------+-------+"
      ]
     },
     "execution_count": 3,
     "metadata": {},
     "output_type": "execute_result"
    }
   ],
   "source": [
    "%%sql\n",
    "DESCRIBE films;"
   ]
  },
  {
   "cell_type": "code",
   "execution_count": 4,
   "metadata": {
    "vscode": {
     "languageId": "sql"
    }
   },
   "outputs": [
    {
     "data": {
      "text/html": [
       "<table>\n",
       "    <thead>\n",
       "        <tr>\n",
       "            <th>column_name</th>\n",
       "            <th>column_type</th>\n",
       "            <th>null</th>\n",
       "            <th>key</th>\n",
       "            <th>default</th>\n",
       "            <th>extra</th>\n",
       "        </tr>\n",
       "    </thead>\n",
       "    <tbody>\n",
       "        <tr>\n",
       "            <td>id</td>\n",
       "            <td>BIGINT</td>\n",
       "            <td>YES</td>\n",
       "            <td>None</td>\n",
       "            <td>None</td>\n",
       "            <td>None</td>\n",
       "        </tr>\n",
       "        <tr>\n",
       "            <td>name</td>\n",
       "            <td>VARCHAR</td>\n",
       "            <td>YES</td>\n",
       "            <td>None</td>\n",
       "            <td>None</td>\n",
       "            <td>None</td>\n",
       "        </tr>\n",
       "        <tr>\n",
       "            <td>birthdate</td>\n",
       "            <td>DATE</td>\n",
       "            <td>YES</td>\n",
       "            <td>None</td>\n",
       "            <td>None</td>\n",
       "            <td>None</td>\n",
       "        </tr>\n",
       "        <tr>\n",
       "            <td>deathdate</td>\n",
       "            <td>DATE</td>\n",
       "            <td>YES</td>\n",
       "            <td>None</td>\n",
       "            <td>None</td>\n",
       "            <td>None</td>\n",
       "        </tr>\n",
       "    </tbody>\n",
       "</table>"
      ],
      "text/plain": [
       "+-------------+-------------+------+------+---------+-------+\n",
       "| column_name | column_type | null | key  | default | extra |\n",
       "+-------------+-------------+------+------+---------+-------+\n",
       "|      id     |    BIGINT   | YES  | None |   None  |  None |\n",
       "|     name    |   VARCHAR   | YES  | None |   None  |  None |\n",
       "|  birthdate  |     DATE    | YES  | None |   None  |  None |\n",
       "|  deathdate  |     DATE    | YES  | None |   None  |  None |\n",
       "+-------------+-------------+------+------+---------+-------+"
      ]
     },
     "execution_count": 4,
     "metadata": {},
     "output_type": "execute_result"
    }
   ],
   "source": [
    "%%sql\n",
    "DESCRIBE people;"
   ]
  },
  {
   "cell_type": "code",
   "execution_count": 5,
   "metadata": {
    "vscode": {
     "languageId": "sql"
    }
   },
   "outputs": [
    {
     "data": {
      "text/html": [
       "<table>\n",
       "    <thead>\n",
       "        <tr>\n",
       "            <th>column_name</th>\n",
       "            <th>column_type</th>\n",
       "            <th>null</th>\n",
       "            <th>key</th>\n",
       "            <th>default</th>\n",
       "            <th>extra</th>\n",
       "        </tr>\n",
       "    </thead>\n",
       "    <tbody>\n",
       "        <tr>\n",
       "            <td>id</td>\n",
       "            <td>BIGINT</td>\n",
       "            <td>YES</td>\n",
       "            <td>None</td>\n",
       "            <td>None</td>\n",
       "            <td>None</td>\n",
       "        </tr>\n",
       "        <tr>\n",
       "            <td>film_id</td>\n",
       "            <td>BIGINT</td>\n",
       "            <td>YES</td>\n",
       "            <td>None</td>\n",
       "            <td>None</td>\n",
       "            <td>None</td>\n",
       "        </tr>\n",
       "        <tr>\n",
       "            <td>num_user</td>\n",
       "            <td>DOUBLE</td>\n",
       "            <td>YES</td>\n",
       "            <td>None</td>\n",
       "            <td>None</td>\n",
       "            <td>None</td>\n",
       "        </tr>\n",
       "        <tr>\n",
       "            <td>num_critic</td>\n",
       "            <td>DOUBLE</td>\n",
       "            <td>YES</td>\n",
       "            <td>None</td>\n",
       "            <td>None</td>\n",
       "            <td>None</td>\n",
       "        </tr>\n",
       "        <tr>\n",
       "            <td>imdb_score</td>\n",
       "            <td>DOUBLE</td>\n",
       "            <td>YES</td>\n",
       "            <td>None</td>\n",
       "            <td>None</td>\n",
       "            <td>None</td>\n",
       "        </tr>\n",
       "        <tr>\n",
       "            <td>num_votes</td>\n",
       "            <td>BIGINT</td>\n",
       "            <td>YES</td>\n",
       "            <td>None</td>\n",
       "            <td>None</td>\n",
       "            <td>None</td>\n",
       "        </tr>\n",
       "        <tr>\n",
       "            <td>facebook_likes</td>\n",
       "            <td>BIGINT</td>\n",
       "            <td>YES</td>\n",
       "            <td>None</td>\n",
       "            <td>None</td>\n",
       "            <td>None</td>\n",
       "        </tr>\n",
       "    </tbody>\n",
       "</table>"
      ],
      "text/plain": [
       "+----------------+-------------+------+------+---------+-------+\n",
       "|  column_name   | column_type | null | key  | default | extra |\n",
       "+----------------+-------------+------+------+---------+-------+\n",
       "|       id       |    BIGINT   | YES  | None |   None  |  None |\n",
       "|    film_id     |    BIGINT   | YES  | None |   None  |  None |\n",
       "|    num_user    |    DOUBLE   | YES  | None |   None  |  None |\n",
       "|   num_critic   |    DOUBLE   | YES  | None |   None  |  None |\n",
       "|   imdb_score   |    DOUBLE   | YES  | None |   None  |  None |\n",
       "|   num_votes    |    BIGINT   | YES  | None |   None  |  None |\n",
       "| facebook_likes |    BIGINT   | YES  | None |   None  |  None |\n",
       "+----------------+-------------+------+------+---------+-------+"
      ]
     },
     "execution_count": 5,
     "metadata": {},
     "output_type": "execute_result"
    }
   ],
   "source": [
    "%%sql\n",
    "DESCRIBE reviews;"
   ]
  },
  {
   "cell_type": "code",
   "execution_count": 6,
   "metadata": {
    "vscode": {
     "languageId": "sql"
    }
   },
   "outputs": [
    {
     "data": {
      "text/html": [
       "<table>\n",
       "    <thead>\n",
       "        <tr>\n",
       "            <th>column_name</th>\n",
       "            <th>column_type</th>\n",
       "            <th>null</th>\n",
       "            <th>key</th>\n",
       "            <th>default</th>\n",
       "            <th>extra</th>\n",
       "        </tr>\n",
       "    </thead>\n",
       "    <tbody>\n",
       "        <tr>\n",
       "            <td>id</td>\n",
       "            <td>BIGINT</td>\n",
       "            <td>YES</td>\n",
       "            <td>None</td>\n",
       "            <td>None</td>\n",
       "            <td>None</td>\n",
       "        </tr>\n",
       "        <tr>\n",
       "            <td>film_id</td>\n",
       "            <td>BIGINT</td>\n",
       "            <td>YES</td>\n",
       "            <td>None</td>\n",
       "            <td>None</td>\n",
       "            <td>None</td>\n",
       "        </tr>\n",
       "        <tr>\n",
       "            <td>person_id</td>\n",
       "            <td>BIGINT</td>\n",
       "            <td>YES</td>\n",
       "            <td>None</td>\n",
       "            <td>None</td>\n",
       "            <td>None</td>\n",
       "        </tr>\n",
       "        <tr>\n",
       "            <td>role</td>\n",
       "            <td>VARCHAR</td>\n",
       "            <td>YES</td>\n",
       "            <td>None</td>\n",
       "            <td>None</td>\n",
       "            <td>None</td>\n",
       "        </tr>\n",
       "    </tbody>\n",
       "</table>"
      ],
      "text/plain": [
       "+-------------+-------------+------+------+---------+-------+\n",
       "| column_name | column_type | null | key  | default | extra |\n",
       "+-------------+-------------+------+------+---------+-------+\n",
       "|      id     |    BIGINT   | YES  | None |   None  |  None |\n",
       "|   film_id   |    BIGINT   | YES  | None |   None  |  None |\n",
       "|  person_id  |    BIGINT   | YES  | None |   None  |  None |\n",
       "|     role    |   VARCHAR   | YES  | None |   None  |  None |\n",
       "+-------------+-------------+------+------+---------+-------+"
      ]
     },
     "execution_count": 6,
     "metadata": {},
     "output_type": "execute_result"
    }
   ],
   "source": [
    "%%sql\n",
    "DESCRIBE roles;"
   ]
  },
  {
   "cell_type": "markdown",
   "metadata": {},
   "source": [
    "## Selecting"
   ]
  },
  {
   "cell_type": "markdown",
   "metadata": {},
   "source": [
    "### `COUNT`\n",
    "\n",
    "The `COUNT` [aggregate function](https://www.postgresql.org/docs/current/functions-aggregate.html) returns the number of rows in a group. You can use `COUNT(*)` to count the number of rows in a table."
   ]
  },
  {
   "cell_type": "code",
   "execution_count": 7,
   "metadata": {
    "vscode": {
     "languageId": "sql"
    }
   },
   "outputs": [
    {
     "data": {
      "text/html": [
       "<table>\n",
       "    <thead>\n",
       "        <tr>\n",
       "            <th>count_records</th>\n",
       "        </tr>\n",
       "    </thead>\n",
       "    <tbody>\n",
       "        <tr>\n",
       "            <td>8397</td>\n",
       "        </tr>\n",
       "    </tbody>\n",
       "</table>"
      ],
      "text/plain": [
       "+---------------+\n",
       "| count_records |\n",
       "+---------------+\n",
       "|      8397     |\n",
       "+---------------+"
      ]
     },
     "execution_count": 7,
     "metadata": {},
     "output_type": "execute_result"
    }
   ],
   "source": [
    "%%sql\n",
    "-- total number of records with an alias\n",
    "SELECT COUNT(*) AS count_records FROM people;"
   ]
  },
  {
   "cell_type": "code",
   "execution_count": 8,
   "metadata": {
    "vscode": {
     "languageId": "sql"
    }
   },
   "outputs": [
    {
     "data": {
      "text/html": [
       "<table>\n",
       "    <thead>\n",
       "        <tr>\n",
       "            <th>count_birthdate</th>\n",
       "        </tr>\n",
       "    </thead>\n",
       "    <tbody>\n",
       "        <tr>\n",
       "            <td>6152</td>\n",
       "        </tr>\n",
       "    </tbody>\n",
       "</table>"
      ],
      "text/plain": [
       "+-----------------+\n",
       "| count_birthdate |\n",
       "+-----------------+\n",
       "|       6152      |\n",
       "+-----------------+"
      ]
     },
     "execution_count": 8,
     "metadata": {},
     "output_type": "execute_result"
    }
   ],
   "source": [
    "%%sql\n",
    "-- total with a birthdate\n",
    "SELECT COUNT(*) AS count_birthdate FROM people WHERE birthdate IS NOT NULL;"
   ]
  },
  {
   "cell_type": "code",
   "execution_count": 9,
   "metadata": {
    "vscode": {
     "languageId": "sql"
    }
   },
   "outputs": [
    {
     "data": {
      "text/html": [
       "<table>\n",
       "    <thead>\n",
       "        <tr>\n",
       "            <th>count_languages</th>\n",
       "            <th>count_countries</th>\n",
       "        </tr>\n",
       "    </thead>\n",
       "    <tbody>\n",
       "        <tr>\n",
       "            <td>4957</td>\n",
       "            <td>4966</td>\n",
       "        </tr>\n",
       "    </tbody>\n",
       "</table>"
      ],
      "text/plain": [
       "+-----------------+-----------------+\n",
       "| count_languages | count_countries |\n",
       "+-----------------+-----------------+\n",
       "|       4957      |       4966      |\n",
       "+-----------------+-----------------+"
      ]
     },
     "execution_count": 9,
     "metadata": {},
     "output_type": "execute_result"
    }
   ],
   "source": [
    "%%sql\n",
    "-- total languages and countries\n",
    "SELECT COUNT(language) AS count_languages, COUNT(country) AS count_countries FROM films;"
   ]
  },
  {
   "cell_type": "markdown",
   "metadata": {},
   "source": [
    "### `DISTINCT`\n",
    "\n",
    "The [`DISTINCT` clause](https://www.postgresql.org/docs/current/sql-select.html#SQL-DISTINCT) filters duplicate rows from the result set."
   ]
  },
  {
   "cell_type": "code",
   "execution_count": 10,
   "metadata": {
    "vscode": {
     "languageId": "sql"
    }
   },
   "outputs": [
    {
     "data": {
      "text/html": [
       "<table>\n",
       "    <thead>\n",
       "        <tr>\n",
       "            <th>country</th>\n",
       "        </tr>\n",
       "    </thead>\n",
       "    <tbody>\n",
       "        <tr>\n",
       "            <td>USA</td>\n",
       "        </tr>\n",
       "        <tr>\n",
       "            <td>Germany</td>\n",
       "        </tr>\n",
       "        <tr>\n",
       "            <td>Japan</td>\n",
       "        </tr>\n",
       "        <tr>\n",
       "            <td>Denmark</td>\n",
       "        </tr>\n",
       "        <tr>\n",
       "            <td>UK</td>\n",
       "        </tr>\n",
       "        <tr>\n",
       "            <td>Italy</td>\n",
       "        </tr>\n",
       "        <tr>\n",
       "            <td>France</td>\n",
       "        </tr>\n",
       "        <tr>\n",
       "            <td>West Germany</td>\n",
       "        </tr>\n",
       "        <tr>\n",
       "            <td>Sweden</td>\n",
       "        </tr>\n",
       "        <tr>\n",
       "            <td>Soviet Union</td>\n",
       "        </tr>\n",
       "    </tbody>\n",
       "</table>\n",
       "<span style=\"font-style:italic;text-align:center;\">Truncated to <a href=\"https://jupysql.ploomber.io/en/latest/api/configuration.html#displaylimit\">displaylimit</a> of 10.</span>"
      ],
      "text/plain": [
       "+--------------+\n",
       "|   country    |\n",
       "+--------------+\n",
       "|     USA      |\n",
       "|   Germany    |\n",
       "|    Japan     |\n",
       "|   Denmark    |\n",
       "|      UK      |\n",
       "|    Italy     |\n",
       "|    France    |\n",
       "| West Germany |\n",
       "|    Sweden    |\n",
       "| Soviet Union |\n",
       "+--------------+\n",
       "Truncated to displaylimit of 10."
      ]
     },
     "execution_count": 10,
     "metadata": {},
     "output_type": "execute_result"
    }
   ],
   "source": [
    "%%sql\n",
    "-- unique countries\n",
    "SELECT DISTINCT country FROM films;"
   ]
  },
  {
   "cell_type": "code",
   "execution_count": 11,
   "metadata": {
    "vscode": {
     "languageId": "sql"
    }
   },
   "outputs": [
    {
     "data": {
      "text/html": [
       "<table>\n",
       "    <thead>\n",
       "        <tr>\n",
       "            <th>count_distinct_countries</th>\n",
       "        </tr>\n",
       "    </thead>\n",
       "    <tbody>\n",
       "        <tr>\n",
       "            <td>64</td>\n",
       "        </tr>\n",
       "    </tbody>\n",
       "</table>"
      ],
      "text/plain": [
       "+--------------------------+\n",
       "| count_distinct_countries |\n",
       "+--------------------------+\n",
       "|            64            |\n",
       "+--------------------------+"
      ]
     },
     "execution_count": 11,
     "metadata": {},
     "output_type": "execute_result"
    }
   ],
   "source": [
    "%%sql\n",
    "-- number of unique countries\n",
    "SELECT COUNT(DISTINCT country) AS count_distinct_countries FROM films;"
   ]
  },
  {
   "cell_type": "markdown",
   "metadata": {},
   "source": [
    "## Filtering"
   ]
  },
  {
   "cell_type": "markdown",
   "metadata": {},
   "source": [
    "### `WHERE`\n",
    "\n",
    "The [`WHERE` clause](https://www.postgresql.org/docs/current/sql-select.html#SQL-WHERE) filters rows from the result set that don't match the given condition."
   ]
  },
  {
   "cell_type": "code",
   "execution_count": 12,
   "metadata": {
    "vscode": {
     "languageId": "sql"
    }
   },
   "outputs": [
    {
     "data": {
      "text/html": [
       "<table>\n",
       "    <thead>\n",
       "        <tr>\n",
       "            <th>film_id</th>\n",
       "            <th>imdb_score</th>\n",
       "        </tr>\n",
       "    </thead>\n",
       "    <tbody>\n",
       "        <tr>\n",
       "            <td>3934</td>\n",
       "            <td>7.0999999</td>\n",
       "        </tr>\n",
       "        <tr>\n",
       "            <td>74</td>\n",
       "            <td>7.5999999</td>\n",
       "        </tr>\n",
       "        <tr>\n",
       "            <td>1254</td>\n",
       "            <td>8.0</td>\n",
       "        </tr>\n",
       "        <tr>\n",
       "            <td>4841</td>\n",
       "            <td>8.10000038</td>\n",
       "        </tr>\n",
       "        <tr>\n",
       "            <td>3252</td>\n",
       "            <td>7.19999981</td>\n",
       "        </tr>\n",
       "        <tr>\n",
       "            <td>1181</td>\n",
       "            <td>7.30000019</td>\n",
       "        </tr>\n",
       "        <tr>\n",
       "            <td>3929</td>\n",
       "            <td>7.0999999</td>\n",
       "        </tr>\n",
       "        <tr>\n",
       "            <td>3298</td>\n",
       "            <td>7.4000001</td>\n",
       "        </tr>\n",
       "        <tr>\n",
       "            <td>2744</td>\n",
       "            <td>7.4000001</td>\n",
       "        </tr>\n",
       "        <tr>\n",
       "            <td>4707</td>\n",
       "            <td>7.4000001</td>\n",
       "        </tr>\n",
       "    </tbody>\n",
       "</table>\n",
       "<span style=\"font-style:italic;text-align:center;\">Truncated to <a href=\"https://jupysql.ploomber.io/en/latest/api/configuration.html#displaylimit\">displaylimit</a> of 10.</span>"
      ],
      "text/plain": [
       "+---------+------------+\n",
       "| film_id | imdb_score |\n",
       "+---------+------------+\n",
       "|   3934  | 7.0999999  |\n",
       "|    74   | 7.5999999  |\n",
       "|   1254  |    8.0     |\n",
       "|   4841  | 8.10000038 |\n",
       "|   3252  | 7.19999981 |\n",
       "|   1181  | 7.30000019 |\n",
       "|   3929  | 7.0999999  |\n",
       "|   3298  | 7.4000001  |\n",
       "|   2744  | 7.4000001  |\n",
       "|   4707  | 7.4000001  |\n",
       "+---------+------------+\n",
       "Truncated to displaylimit of 10."
      ]
     },
     "execution_count": 12,
     "metadata": {},
     "output_type": "execute_result"
    }
   ],
   "source": [
    "%%sql\n",
    "-- imdb scores greater than 7.0\n",
    "SELECT film_id, imdb_score FROM reviews\n",
    "WHERE imdb_score > 7.0;"
   ]
  },
  {
   "cell_type": "code",
   "execution_count": 13,
   "metadata": {
    "vscode": {
     "languageId": "sql"
    }
   },
   "outputs": [
    {
     "data": {
      "text/html": [
       "<table>\n",
       "    <thead>\n",
       "        <tr>\n",
       "            <th>film_id</th>\n",
       "            <th>facebook_likes</th>\n",
       "        </tr>\n",
       "    </thead>\n",
       "    <tbody>\n",
       "        <tr>\n",
       "            <td>3405</td>\n",
       "            <td>0</td>\n",
       "        </tr>\n",
       "        <tr>\n",
       "            <td>478</td>\n",
       "            <td>491</td>\n",
       "        </tr>\n",
       "        <tr>\n",
       "            <td>74</td>\n",
       "            <td>930</td>\n",
       "        </tr>\n",
       "        <tr>\n",
       "            <td>740</td>\n",
       "            <td>0</td>\n",
       "        </tr>\n",
       "        <tr>\n",
       "            <td>2869</td>\n",
       "            <td>689</td>\n",
       "        </tr>\n",
       "        <tr>\n",
       "            <td>1181</td>\n",
       "            <td>0</td>\n",
       "        </tr>\n",
       "        <tr>\n",
       "            <td>2020</td>\n",
       "            <td>0</td>\n",
       "        </tr>\n",
       "        <tr>\n",
       "            <td>2312</td>\n",
       "            <td>912</td>\n",
       "        </tr>\n",
       "        <tr>\n",
       "            <td>1820</td>\n",
       "            <td>872</td>\n",
       "        </tr>\n",
       "        <tr>\n",
       "            <td>831</td>\n",
       "            <td>975</td>\n",
       "        </tr>\n",
       "    </tbody>\n",
       "</table>\n",
       "<span style=\"font-style:italic;text-align:center;\">Truncated to <a href=\"https://jupysql.ploomber.io/en/latest/api/configuration.html#displaylimit\">displaylimit</a> of 10.</span>"
      ],
      "text/plain": [
       "+---------+----------------+\n",
       "| film_id | facebook_likes |\n",
       "+---------+----------------+\n",
       "|   3405  |       0        |\n",
       "|   478   |      491       |\n",
       "|    74   |      930       |\n",
       "|   740   |       0        |\n",
       "|   2869  |      689       |\n",
       "|   1181  |       0        |\n",
       "|   2020  |       0        |\n",
       "|   2312  |      912       |\n",
       "|   1820  |      872       |\n",
       "|   831   |      975       |\n",
       "+---------+----------------+\n",
       "Truncated to displaylimit of 10."
      ]
     },
     "execution_count": 13,
     "metadata": {},
     "output_type": "execute_result"
    }
   ],
   "source": [
    "%%sql\n",
    "-- facebook likes less than 1000\n",
    "SELECT film_id, facebook_likes FROM reviews\n",
    "WHERE facebook_likes < 1000 LIMIT 10;"
   ]
  },
  {
   "cell_type": "code",
   "execution_count": 14,
   "metadata": {
    "vscode": {
     "languageId": "sql"
    }
   },
   "outputs": [
    {
     "data": {
      "text/html": [
       "<table>\n",
       "    <thead>\n",
       "        <tr>\n",
       "            <th>films_over_100k_votes</th>\n",
       "        </tr>\n",
       "    </thead>\n",
       "    <tbody>\n",
       "        <tr>\n",
       "            <td>1211</td>\n",
       "        </tr>\n",
       "    </tbody>\n",
       "</table>"
      ],
      "text/plain": [
       "+-----------------------+\n",
       "| films_over_100k_votes |\n",
       "+-----------------------+\n",
       "|          1211         |\n",
       "+-----------------------+"
      ]
     },
     "execution_count": 14,
     "metadata": {},
     "output_type": "execute_result"
    }
   ],
   "source": [
    "%%sql\n",
    "-- number of films with over 100k votes\n",
    "SELECT COUNT(*) AS films_over_100k_votes FROM reviews\n",
    "WHERE reviews.num_votes >= 100000;"
   ]
  },
  {
   "cell_type": "code",
   "execution_count": 15,
   "metadata": {
    "vscode": {
     "languageId": "sql"
    }
   },
   "outputs": [
    {
     "data": {
      "text/html": [
       "<table>\n",
       "    <thead>\n",
       "        <tr>\n",
       "            <th>count_spanish</th>\n",
       "        </tr>\n",
       "    </thead>\n",
       "    <tbody>\n",
       "        <tr>\n",
       "            <td>40</td>\n",
       "        </tr>\n",
       "    </tbody>\n",
       "</table>"
      ],
      "text/plain": [
       "+---------------+\n",
       "| count_spanish |\n",
       "+---------------+\n",
       "|       40      |\n",
       "+---------------+"
      ]
     },
     "execution_count": 15,
     "metadata": {},
     "output_type": "execute_result"
    }
   ],
   "source": [
    "%%sql\n",
    "-- number of spanish language films\n",
    "SELECT COUNT(*) AS count_spanish FROM films\n",
    "WHERE films.language = 'Spanish';"
   ]
  },
  {
   "cell_type": "code",
   "execution_count": 16,
   "metadata": {
    "vscode": {
     "languageId": "sql"
    }
   },
   "outputs": [
    {
     "data": {
      "text/html": [
       "<table>\n",
       "    <thead>\n",
       "        <tr>\n",
       "            <th>title</th>\n",
       "            <th>release_year</th>\n",
       "        </tr>\n",
       "    </thead>\n",
       "    <tbody>\n",
       "        <tr>\n",
       "            <td>Metropolis</td>\n",
       "            <td>1927.0</td>\n",
       "        </tr>\n",
       "        <tr>\n",
       "            <td>Pandora's Box</td>\n",
       "            <td>1929.0</td>\n",
       "        </tr>\n",
       "        <tr>\n",
       "            <td>The Torture Chamber of Dr. Sadism</td>\n",
       "            <td>1967.0</td>\n",
       "        </tr>\n",
       "        <tr>\n",
       "            <td>Das Boot</td>\n",
       "            <td>1981.0</td>\n",
       "        </tr>\n",
       "        <tr>\n",
       "            <td>Run Lola Run</td>\n",
       "            <td>1998.0</td>\n",
       "        </tr>\n",
       "        <tr>\n",
       "            <td>Aimee & Jaguar</td>\n",
       "            <td>1999.0</td>\n",
       "        </tr>\n",
       "    </tbody>\n",
       "</table>"
      ],
      "text/plain": [
       "+-----------------------------------+--------------+\n",
       "|               title               | release_year |\n",
       "+-----------------------------------+--------------+\n",
       "|             Metropolis            |    1927.0    |\n",
       "|           Pandora's Box           |    1929.0    |\n",
       "| The Torture Chamber of Dr. Sadism |    1967.0    |\n",
       "|              Das Boot             |    1981.0    |\n",
       "|            Run Lola Run           |    1998.0    |\n",
       "|           Aimee & Jaguar          |    1999.0    |\n",
       "+-----------------------------------+--------------+"
      ]
     },
     "execution_count": 16,
     "metadata": {},
     "output_type": "execute_result"
    }
   ],
   "source": [
    "%%sql\n",
    "-- german films released before 2000\n",
    "SELECT title, release_year FROM films\n",
    "WHERE language = 'German'\n",
    "AND release_year < 2000;"
   ]
  },
  {
   "cell_type": "code",
   "execution_count": 17,
   "metadata": {
    "vscode": {
     "languageId": "sql"
    }
   },
   "outputs": [
    {
     "data": {
      "text/html": [
       "<table>\n",
       "    <thead>\n",
       "        <tr>\n",
       "            <th>id</th>\n",
       "            <th>title</th>\n",
       "            <th>release_year</th>\n",
       "            <th>country</th>\n",
       "            <th>duration</th>\n",
       "            <th>language</th>\n",
       "            <th>certification</th>\n",
       "            <th>gross</th>\n",
       "            <th>budget</th>\n",
       "        </tr>\n",
       "    </thead>\n",
       "    <tbody>\n",
       "        <tr>\n",
       "            <td>1952</td>\n",
       "            <td>Good Bye Lenin!</td>\n",
       "            <td>2003.0</td>\n",
       "            <td>Germany</td>\n",
       "            <td>121.0</td>\n",
       "            <td>German</td>\n",
       "            <td>R</td>\n",
       "            <td>4063859.0</td>\n",
       "            <td>4800000.0</td>\n",
       "        </tr>\n",
       "        <tr>\n",
       "            <td>2130</td>\n",
       "            <td>Downfall</td>\n",
       "            <td>2004.0</td>\n",
       "            <td>Germany</td>\n",
       "            <td>178.0</td>\n",
       "            <td>German</td>\n",
       "            <td>R</td>\n",
       "            <td>5501940.0</td>\n",
       "            <td>13500000.0</td>\n",
       "        </tr>\n",
       "        <tr>\n",
       "            <td>2224</td>\n",
       "            <td>Summer Storm</td>\n",
       "            <td>2004.0</td>\n",
       "            <td>Germany</td>\n",
       "            <td>98.0</td>\n",
       "            <td>German</td>\n",
       "            <td>R</td>\n",
       "            <td>95016.0</td>\n",
       "            <td>2700000.0</td>\n",
       "        </tr>\n",
       "        <tr>\n",
       "            <td>2709</td>\n",
       "            <td>The Lives of Others</td>\n",
       "            <td>2006.0</td>\n",
       "            <td>Germany</td>\n",
       "            <td>137.0</td>\n",
       "            <td>German</td>\n",
       "            <td>R</td>\n",
       "            <td>11284657.0</td>\n",
       "            <td>2000000.0</td>\n",
       "        </tr>\n",
       "        <tr>\n",
       "            <td>3100</td>\n",
       "            <td>The Baader Meinhof Complex</td>\n",
       "            <td>2008.0</td>\n",
       "            <td>Germany</td>\n",
       "            <td>184.0</td>\n",
       "            <td>German</td>\n",
       "            <td>R</td>\n",
       "            <td>476270.0</td>\n",
       "            <td>20000000.0</td>\n",
       "        </tr>\n",
       "        <tr>\n",
       "            <td>3143</td>\n",
       "            <td>The Wave</td>\n",
       "            <td>2008.0</td>\n",
       "            <td>Germany</td>\n",
       "            <td>107.0</td>\n",
       "            <td>German</td>\n",
       "            <td>None</td>\n",
       "            <td>None</td>\n",
       "            <td>5000000.0</td>\n",
       "        </tr>\n",
       "        <tr>\n",
       "            <td>3220</td>\n",
       "            <td>Cargo</td>\n",
       "            <td>2009.0</td>\n",
       "            <td>Switzerland</td>\n",
       "            <td>112.0</td>\n",
       "            <td>German</td>\n",
       "            <td>None</td>\n",
       "            <td>None</td>\n",
       "            <td>4500000.0</td>\n",
       "        </tr>\n",
       "        <tr>\n",
       "            <td>3346</td>\n",
       "            <td>Soul Kitchen</td>\n",
       "            <td>2009.0</td>\n",
       "            <td>Germany</td>\n",
       "            <td>99.0</td>\n",
       "            <td>German</td>\n",
       "            <td>None</td>\n",
       "            <td>274385.0</td>\n",
       "            <td>4000000.0</td>\n",
       "        </tr>\n",
       "        <tr>\n",
       "            <td>3412</td>\n",
       "            <td>The White Ribbon</td>\n",
       "            <td>2009.0</td>\n",
       "            <td>Germany</td>\n",
       "            <td>144.0</td>\n",
       "            <td>German</td>\n",
       "            <td>R</td>\n",
       "            <td>2222647.0</td>\n",
       "            <td>12000000.0</td>\n",
       "        </tr>\n",
       "    </tbody>\n",
       "</table>"
      ],
      "text/plain": [
       "+------+----------------------------+--------------+-------------+----------+----------+---------------+------------+------------+\n",
       "|  id  |           title            | release_year |   country   | duration | language | certification |   gross    |   budget   |\n",
       "+------+----------------------------+--------------+-------------+----------+----------+---------------+------------+------------+\n",
       "| 1952 |      Good Bye Lenin!       |    2003.0    |   Germany   |  121.0   |  German  |       R       | 4063859.0  | 4800000.0  |\n",
       "| 2130 |          Downfall          |    2004.0    |   Germany   |  178.0   |  German  |       R       | 5501940.0  | 13500000.0 |\n",
       "| 2224 |        Summer Storm        |    2004.0    |   Germany   |   98.0   |  German  |       R       |  95016.0   | 2700000.0  |\n",
       "| 2709 |    The Lives of Others     |    2006.0    |   Germany   |  137.0   |  German  |       R       | 11284657.0 | 2000000.0  |\n",
       "| 3100 | The Baader Meinhof Complex |    2008.0    |   Germany   |  184.0   |  German  |       R       |  476270.0  | 20000000.0 |\n",
       "| 3143 |          The Wave          |    2008.0    |   Germany   |  107.0   |  German  |      None     |    None    | 5000000.0  |\n",
       "| 3220 |           Cargo            |    2009.0    | Switzerland |  112.0   |  German  |      None     |    None    | 4500000.0  |\n",
       "| 3346 |        Soul Kitchen        |    2009.0    |   Germany   |   99.0   |  German  |      None     |  274385.0  | 4000000.0  |\n",
       "| 3412 |      The White Ribbon      |    2009.0    |   Germany   |  144.0   |  German  |       R       | 2222647.0  | 12000000.0 |\n",
       "+------+----------------------------+--------------+-------------+----------+----------+---------------+------------+------------+"
      ]
     },
     "execution_count": 17,
     "metadata": {},
     "output_type": "execute_result"
    }
   ],
   "source": [
    "%%sql\n",
    "-- german films released between 2000 and 2010\n",
    "SELECT * FROM films\n",
    "WHERE release_year > 2000\n",
    "AND release_year < 2010\n",
    "AND language = 'German';"
   ]
  },
  {
   "cell_type": "code",
   "execution_count": 18,
   "metadata": {
    "vscode": {
     "languageId": "sql"
    }
   },
   "outputs": [
    {
     "data": {
      "text/html": [
       "<table>\n",
       "    <thead>\n",
       "        <tr>\n",
       "            <th>title</th>\n",
       "            <th>release_year</th>\n",
       "        </tr>\n",
       "    </thead>\n",
       "    <tbody>\n",
       "        <tr>\n",
       "            <td>Arachnophobia</td>\n",
       "            <td>1990.0</td>\n",
       "        </tr>\n",
       "        <tr>\n",
       "            <td>Back to the Future Part III</td>\n",
       "            <td>1990.0</td>\n",
       "        </tr>\n",
       "        <tr>\n",
       "            <td>Child's Play 2</td>\n",
       "            <td>1990.0</td>\n",
       "        </tr>\n",
       "        <tr>\n",
       "            <td>Dances with Wolves</td>\n",
       "            <td>1990.0</td>\n",
       "        </tr>\n",
       "        <tr>\n",
       "            <td>Days of Thunder</td>\n",
       "            <td>1990.0</td>\n",
       "        </tr>\n",
       "        <tr>\n",
       "            <td>Dick Tracy</td>\n",
       "            <td>1990.0</td>\n",
       "        </tr>\n",
       "        <tr>\n",
       "            <td>Die Hard 2</td>\n",
       "            <td>1990.0</td>\n",
       "        </tr>\n",
       "        <tr>\n",
       "            <td>Edward Scissorhands</td>\n",
       "            <td>1990.0</td>\n",
       "        </tr>\n",
       "        <tr>\n",
       "            <td>Flatliners</td>\n",
       "            <td>1990.0</td>\n",
       "        </tr>\n",
       "        <tr>\n",
       "            <td>Ghost</td>\n",
       "            <td>1990.0</td>\n",
       "        </tr>\n",
       "    </tbody>\n",
       "</table>\n",
       "<span style=\"font-style:italic;text-align:center;\">Truncated to <a href=\"https://jupysql.ploomber.io/en/latest/api/configuration.html#displaylimit\">displaylimit</a> of 10.</span>"
      ],
      "text/plain": [
       "+-----------------------------+--------------+\n",
       "|            title            | release_year |\n",
       "+-----------------------------+--------------+\n",
       "|        Arachnophobia        |    1990.0    |\n",
       "| Back to the Future Part III |    1990.0    |\n",
       "|        Child's Play 2       |    1990.0    |\n",
       "|      Dances with Wolves     |    1990.0    |\n",
       "|       Days of Thunder       |    1990.0    |\n",
       "|          Dick Tracy         |    1990.0    |\n",
       "|          Die Hard 2         |    1990.0    |\n",
       "|     Edward Scissorhands     |    1990.0    |\n",
       "|          Flatliners         |    1990.0    |\n",
       "|            Ghost            |    1990.0    |\n",
       "+-----------------------------+--------------+\n",
       "Truncated to displaylimit of 10."
      ]
     },
     "execution_count": 18,
     "metadata": {},
     "output_type": "execute_result"
    }
   ],
   "source": [
    "%%sql\n",
    "SELECT title, release_year FROM films\n",
    "WHERE (release_year = 1990 OR release_year = 1999)\n",
    "AND (films.language = 'English' OR films.language = 'Spanish')\n",
    "AND films.gross > 2000000;"
   ]
  },
  {
   "cell_type": "code",
   "execution_count": 19,
   "metadata": {
    "vscode": {
     "languageId": "sql"
    }
   },
   "outputs": [
    {
     "data": {
      "text/html": [
       "<table>\n",
       "    <thead>\n",
       "        <tr>\n",
       "            <th>title</th>\n",
       "            <th>release_year</th>\n",
       "        </tr>\n",
       "    </thead>\n",
       "    <tbody>\n",
       "        <tr>\n",
       "            <td>Tango</td>\n",
       "            <td>1998.0</td>\n",
       "        </tr>\n",
       "        <tr>\n",
       "            <td>Les couloirs du temps: Les visiteurs II</td>\n",
       "            <td>1998.0</td>\n",
       "        </tr>\n",
       "    </tbody>\n",
       "</table>"
      ],
      "text/plain": [
       "+-----------------------------------------+--------------+\n",
       "|                  title                  | release_year |\n",
       "+-----------------------------------------+--------------+\n",
       "|                  Tango                  |    1998.0    |\n",
       "| Les couloirs du temps: Les visiteurs II |    1998.0    |\n",
       "+-----------------------------------------+--------------+"
      ]
     },
     "execution_count": 19,
     "metadata": {},
     "output_type": "execute_result"
    }
   ],
   "source": [
    "%%sql\n",
    "SELECT title, release_year FROM films\n",
    "WHERE release_year BETWEEN 1990 AND 2000\n",
    "AND budget > 100000000\n",
    "AND (language = 'Spanish' OR language = 'French');"
   ]
  },
  {
   "cell_type": "code",
   "execution_count": 20,
   "metadata": {
    "vscode": {
     "languageId": "sql"
    }
   },
   "outputs": [
    {
     "data": {
      "text/html": [
       "<table>\n",
       "    <thead>\n",
       "        <tr>\n",
       "            <th>name</th>\n",
       "        </tr>\n",
       "    </thead>\n",
       "    <tbody>\n",
       "        <tr>\n",
       "            <td>B.J. Novak</td>\n",
       "        </tr>\n",
       "        <tr>\n",
       "            <td>Babak Najafi</td>\n",
       "        </tr>\n",
       "        <tr>\n",
       "            <td>Babar Ahmed</td>\n",
       "        </tr>\n",
       "        <tr>\n",
       "            <td>Bahare Seddiqi</td>\n",
       "        </tr>\n",
       "        <tr>\n",
       "            <td>Bai Ling</td>\n",
       "        </tr>\n",
       "        <tr>\n",
       "            <td>Bailee Madison</td>\n",
       "        </tr>\n",
       "        <tr>\n",
       "            <td>Balinese Tari Legong Dancers</td>\n",
       "        </tr>\n",
       "        <tr>\n",
       "            <td>BÃ¡lint PÃ©ntek</td>\n",
       "        </tr>\n",
       "        <tr>\n",
       "            <td>Baltasar KormÃ¡kur</td>\n",
       "        </tr>\n",
       "        <tr>\n",
       "            <td>Balthazar Getty</td>\n",
       "        </tr>\n",
       "    </tbody>\n",
       "</table>\n",
       "<span style=\"font-style:italic;text-align:center;\">Truncated to <a href=\"https://jupysql.ploomber.io/en/latest/api/configuration.html#displaylimit\">displaylimit</a> of 10.</span>"
      ],
      "text/plain": [
       "+------------------------------+\n",
       "|             name             |\n",
       "+------------------------------+\n",
       "|          B.J. Novak          |\n",
       "|         Babak Najafi         |\n",
       "|         Babar Ahmed          |\n",
       "|        Bahare Seddiqi        |\n",
       "|           Bai Ling           |\n",
       "|        Bailee Madison        |\n",
       "| Balinese Tari Legong Dancers |\n",
       "|       BÃ¡lint PÃ©ntek        |\n",
       "|      Baltasar KormÃ¡kur      |\n",
       "|       Balthazar Getty        |\n",
       "+------------------------------+\n",
       "Truncated to displaylimit of 10."
      ]
     },
     "execution_count": 20,
     "metadata": {},
     "output_type": "execute_result"
    }
   ],
   "source": [
    "%%sql\n",
    "-- name starts with \"B\"\n",
    "SELECT name FROM people WHERE name LIKE 'B%';"
   ]
  },
  {
   "cell_type": "code",
   "execution_count": 21,
   "metadata": {
    "vscode": {
     "languageId": "sql"
    }
   },
   "outputs": [
    {
     "data": {
      "text/html": [
       "<table>\n",
       "    <thead>\n",
       "        <tr>\n",
       "            <th>name</th>\n",
       "        </tr>\n",
       "    </thead>\n",
       "    <tbody>\n",
       "        <tr>\n",
       "            <td>Ara Celi</td>\n",
       "        </tr>\n",
       "        <tr>\n",
       "            <td>Aramis Knight</td>\n",
       "        </tr>\n",
       "        <tr>\n",
       "            <td>Arben Bajraktaraj</td>\n",
       "        </tr>\n",
       "        <tr>\n",
       "            <td>Arcelia RamÃ­rez</td>\n",
       "        </tr>\n",
       "        <tr>\n",
       "            <td>Archie Kao</td>\n",
       "        </tr>\n",
       "        <tr>\n",
       "            <td>Archie Panjabi</td>\n",
       "        </tr>\n",
       "        <tr>\n",
       "            <td>Aretha Franklin</td>\n",
       "        </tr>\n",
       "        <tr>\n",
       "            <td>Ari Folman</td>\n",
       "        </tr>\n",
       "        <tr>\n",
       "            <td>Ari Gold</td>\n",
       "        </tr>\n",
       "        <tr>\n",
       "            <td>Ari Graynor</td>\n",
       "        </tr>\n",
       "    </tbody>\n",
       "</table>\n",
       "<span style=\"font-style:italic;text-align:center;\">Truncated to <a href=\"https://jupysql.ploomber.io/en/latest/api/configuration.html#displaylimit\">displaylimit</a> of 10.</span>"
      ],
      "text/plain": [
       "+-------------------+\n",
       "|        name       |\n",
       "+-------------------+\n",
       "|      Ara Celi     |\n",
       "|   Aramis Knight   |\n",
       "| Arben Bajraktaraj |\n",
       "|  Arcelia RamÃ­rez |\n",
       "|     Archie Kao    |\n",
       "|   Archie Panjabi  |\n",
       "|  Aretha Franklin  |\n",
       "|     Ari Folman    |\n",
       "|      Ari Gold     |\n",
       "|    Ari Graynor    |\n",
       "+-------------------+\n",
       "Truncated to displaylimit of 10."
      ]
     },
     "execution_count": 21,
     "metadata": {},
     "output_type": "execute_result"
    }
   ],
   "source": [
    "%%sql\n",
    "-- \"r\" is 2nd letter in name\n",
    "SELECT name FROM people WHERE name LIKE '_r%';"
   ]
  },
  {
   "cell_type": "code",
   "execution_count": 22,
   "metadata": {
    "vscode": {
     "languageId": "sql"
    }
   },
   "outputs": [
    {
     "data": {
      "text/html": [
       "<table>\n",
       "    <thead>\n",
       "        <tr>\n",
       "            <th>name</th>\n",
       "        </tr>\n",
       "    </thead>\n",
       "    <tbody>\n",
       "        <tr>\n",
       "            <td>50 Cent</td>\n",
       "        </tr>\n",
       "        <tr>\n",
       "            <td>Ãlex Angulo</td>\n",
       "        </tr>\n",
       "        <tr>\n",
       "            <td>Ãlex de la Iglesia</td>\n",
       "        </tr>\n",
       "        <tr>\n",
       "            <td>Ãngela Molina</td>\n",
       "        </tr>\n",
       "        <tr>\n",
       "            <td>B.J. Novak</td>\n",
       "        </tr>\n",
       "        <tr>\n",
       "            <td>Babak Najafi</td>\n",
       "        </tr>\n",
       "        <tr>\n",
       "            <td>Babar Ahmed</td>\n",
       "        </tr>\n",
       "        <tr>\n",
       "            <td>Bahare Seddiqi</td>\n",
       "        </tr>\n",
       "        <tr>\n",
       "            <td>Bai Ling</td>\n",
       "        </tr>\n",
       "        <tr>\n",
       "            <td>Bailee Madison</td>\n",
       "        </tr>\n",
       "    </tbody>\n",
       "</table>\n",
       "<span style=\"font-style:italic;text-align:center;\">Truncated to <a href=\"https://jupysql.ploomber.io/en/latest/api/configuration.html#displaylimit\">displaylimit</a> of 10.</span>"
      ],
      "text/plain": [
       "+----------------+\n",
       "|      name      |\n",
       "+----------------+\n",
       "|    50 Cent     |\n",
       "|        Ãlex Angulo         |\n",
       "|        Ãlex de la Iglesia         |\n",
       "|        Ãngela Molina         |\n",
       "|   B.J. Novak   |\n",
       "|  Babak Najafi  |\n",
       "|  Babar Ahmed   |\n",
       "| Bahare Seddiqi |\n",
       "|    Bai Ling    |\n",
       "| Bailee Madison |\n",
       "+----------------+\n",
       "Truncated to displaylimit of 10."
      ]
     },
     "execution_count": 22,
     "metadata": {},
     "output_type": "execute_result"
    }
   ],
   "source": [
    "%%sql\n",
    "-- name doesn't start with \"A\"\n",
    "SELECT name FROM people WHERE name NOT LIKE 'A%';"
   ]
  },
  {
   "cell_type": "code",
   "execution_count": 23,
   "metadata": {
    "vscode": {
     "languageId": "sql"
    }
   },
   "outputs": [
    {
     "data": {
      "text/html": [
       "<table>\n",
       "    <thead>\n",
       "        <tr>\n",
       "            <th>title</th>\n",
       "            <th>release_year</th>\n",
       "        </tr>\n",
       "    </thead>\n",
       "    <tbody>\n",
       "        <tr>\n",
       "            <td>Dances with Wolves</td>\n",
       "            <td>1990.0</td>\n",
       "        </tr>\n",
       "        <tr>\n",
       "            <td>Die Hard 2</td>\n",
       "            <td>1990.0</td>\n",
       "        </tr>\n",
       "        <tr>\n",
       "            <td>Ghost</td>\n",
       "            <td>1990.0</td>\n",
       "        </tr>\n",
       "        <tr>\n",
       "            <td>Goodfellas</td>\n",
       "            <td>1990.0</td>\n",
       "        </tr>\n",
       "        <tr>\n",
       "            <td>Mo' Better Blues</td>\n",
       "            <td>1990.0</td>\n",
       "        </tr>\n",
       "        <tr>\n",
       "            <td>Pretty Woman</td>\n",
       "            <td>1990.0</td>\n",
       "        </tr>\n",
       "        <tr>\n",
       "            <td>The Godfather: Part III</td>\n",
       "            <td>1990.0</td>\n",
       "        </tr>\n",
       "        <tr>\n",
       "            <td>The Hunt for Red October</td>\n",
       "            <td>1990.0</td>\n",
       "        </tr>\n",
       "        <tr>\n",
       "            <td>All the Pretty Horses</td>\n",
       "            <td>2000.0</td>\n",
       "        </tr>\n",
       "        <tr>\n",
       "            <td>Almost Famous</td>\n",
       "            <td>2000.0</td>\n",
       "        </tr>\n",
       "    </tbody>\n",
       "</table>\n",
       "<span style=\"font-style:italic;text-align:center;\">Truncated to <a href=\"https://jupysql.ploomber.io/en/latest/api/configuration.html#displaylimit\">displaylimit</a> of 10.</span>"
      ],
      "text/plain": [
       "+--------------------------+--------------+\n",
       "|          title           | release_year |\n",
       "+--------------------------+--------------+\n",
       "|    Dances with Wolves    |    1990.0    |\n",
       "|        Die Hard 2        |    1990.0    |\n",
       "|          Ghost           |    1990.0    |\n",
       "|        Goodfellas        |    1990.0    |\n",
       "|     Mo' Better Blues     |    1990.0    |\n",
       "|       Pretty Woman       |    1990.0    |\n",
       "| The Godfather: Part III  |    1990.0    |\n",
       "| The Hunt for Red October |    1990.0    |\n",
       "|  All the Pretty Horses   |    2000.0    |\n",
       "|      Almost Famous       |    2000.0    |\n",
       "+--------------------------+--------------+\n",
       "Truncated to displaylimit of 10."
      ]
     },
     "execution_count": 23,
     "metadata": {},
     "output_type": "execute_result"
    }
   ],
   "source": [
    "%%sql\n",
    "-- over 2 hours released in '90 or '00\n",
    "SELECT title, release_year FROM films WHERE release_year IN (1990, 2000) AND duration > 120;"
   ]
  },
  {
   "cell_type": "code",
   "execution_count": 24,
   "metadata": {
    "vscode": {
     "languageId": "sql"
    }
   },
   "outputs": [
    {
     "data": {
      "text/html": [
       "<table>\n",
       "    <thead>\n",
       "        <tr>\n",
       "            <th>title</th>\n",
       "            <th>language</th>\n",
       "        </tr>\n",
       "    </thead>\n",
       "    <tbody>\n",
       "        <tr>\n",
       "            <td>The Broadway Melody</td>\n",
       "            <td>English</td>\n",
       "        </tr>\n",
       "        <tr>\n",
       "            <td>Hell's Angels</td>\n",
       "            <td>English</td>\n",
       "        </tr>\n",
       "        <tr>\n",
       "            <td>A Farewell to Arms</td>\n",
       "            <td>English</td>\n",
       "        </tr>\n",
       "        <tr>\n",
       "            <td>42nd Street</td>\n",
       "            <td>English</td>\n",
       "        </tr>\n",
       "        <tr>\n",
       "            <td>She Done Him Wrong</td>\n",
       "            <td>English</td>\n",
       "        </tr>\n",
       "        <tr>\n",
       "            <td>It Happened One Night</td>\n",
       "            <td>English</td>\n",
       "        </tr>\n",
       "        <tr>\n",
       "            <td>Top Hat</td>\n",
       "            <td>English</td>\n",
       "        </tr>\n",
       "        <tr>\n",
       "            <td>Modern Times</td>\n",
       "            <td>English</td>\n",
       "        </tr>\n",
       "        <tr>\n",
       "            <td>The Charge of the Light Brigade</td>\n",
       "            <td>English</td>\n",
       "        </tr>\n",
       "        <tr>\n",
       "            <td>Snow White and the Seven Dwarfs</td>\n",
       "            <td>English</td>\n",
       "        </tr>\n",
       "    </tbody>\n",
       "</table>\n",
       "<span style=\"font-style:italic;text-align:center;\">Truncated to <a href=\"https://jupysql.ploomber.io/en/latest/api/configuration.html#displaylimit\">displaylimit</a> of 10.</span>"
      ],
      "text/plain": [
       "+---------------------------------+----------+\n",
       "|              title              | language |\n",
       "+---------------------------------+----------+\n",
       "|       The Broadway Melody       | English  |\n",
       "|          Hell's Angels          | English  |\n",
       "|        A Farewell to Arms       | English  |\n",
       "|           42nd Street           | English  |\n",
       "|        She Done Him Wrong       | English  |\n",
       "|      It Happened One Night      | English  |\n",
       "|             Top Hat             | English  |\n",
       "|           Modern Times          | English  |\n",
       "| The Charge of the Light Brigade | English  |\n",
       "| Snow White and the Seven Dwarfs | English  |\n",
       "+---------------------------------+----------+\n",
       "Truncated to displaylimit of 10."
      ]
     },
     "execution_count": 24,
     "metadata": {},
     "output_type": "execute_result"
    }
   ],
   "source": [
    "%%sql\n",
    "-- yes, si, oui\n",
    "SELECT title, language FROM films WHERE language IN ('English', 'Spanish', 'French');"
   ]
  },
  {
   "cell_type": "code",
   "execution_count": 25,
   "metadata": {
    "vscode": {
     "languageId": "sql"
    }
   },
   "outputs": [
    {
     "data": {
      "text/html": [
       "<table>\n",
       "    <thead>\n",
       "        <tr>\n",
       "            <th>title</th>\n",
       "            <th>certification</th>\n",
       "            <th>language</th>\n",
       "        </tr>\n",
       "    </thead>\n",
       "    <tbody>\n",
       "        <tr>\n",
       "            <td>Pink Flamingos</td>\n",
       "            <td>NC-17</td>\n",
       "            <td>English</td>\n",
       "        </tr>\n",
       "        <tr>\n",
       "            <td>The Evil Dead</td>\n",
       "            <td>NC-17</td>\n",
       "            <td>English</td>\n",
       "        </tr>\n",
       "        <tr>\n",
       "            <td>Showgirls</td>\n",
       "            <td>NC-17</td>\n",
       "            <td>English</td>\n",
       "        </tr>\n",
       "        <tr>\n",
       "            <td>Orgazmo</td>\n",
       "            <td>NC-17</td>\n",
       "            <td>English</td>\n",
       "        </tr>\n",
       "        <tr>\n",
       "            <td>L.I.E.</td>\n",
       "            <td>NC-17</td>\n",
       "            <td>English</td>\n",
       "        </tr>\n",
       "        <tr>\n",
       "            <td>Psycho</td>\n",
       "            <td>R</td>\n",
       "            <td>English</td>\n",
       "        </tr>\n",
       "        <tr>\n",
       "            <td>Rosemary's Baby</td>\n",
       "            <td>R</td>\n",
       "            <td>English</td>\n",
       "        </tr>\n",
       "        <tr>\n",
       "            <td>The Wild Bunch</td>\n",
       "            <td>R</td>\n",
       "            <td>English</td>\n",
       "        </tr>\n",
       "        <tr>\n",
       "            <td>Catch-22</td>\n",
       "            <td>R</td>\n",
       "            <td>English</td>\n",
       "        </tr>\n",
       "        <tr>\n",
       "            <td>Cotton Comes to Harlem</td>\n",
       "            <td>R</td>\n",
       "            <td>English</td>\n",
       "        </tr>\n",
       "    </tbody>\n",
       "</table>\n",
       "<span style=\"font-style:italic;text-align:center;\">Truncated to <a href=\"https://jupysql.ploomber.io/en/latest/api/configuration.html#displaylimit\">displaylimit</a> of 10.</span>"
      ],
      "text/plain": [
       "+------------------------+---------------+----------+\n",
       "|         title          | certification | language |\n",
       "+------------------------+---------------+----------+\n",
       "|     Pink Flamingos     |     NC-17     | English  |\n",
       "|     The Evil Dead      |     NC-17     | English  |\n",
       "|       Showgirls        |     NC-17     | English  |\n",
       "|        Orgazmo         |     NC-17     | English  |\n",
       "|         L.I.E.         |     NC-17     | English  |\n",
       "|         Psycho         |       R       | English  |\n",
       "|    Rosemary's Baby     |       R       | English  |\n",
       "|     The Wild Bunch     |       R       | English  |\n",
       "|        Catch-22        |       R       | English  |\n",
       "| Cotton Comes to Harlem |       R       | English  |\n",
       "+------------------------+---------------+----------+\n",
       "Truncated to displaylimit of 10."
      ]
     },
     "execution_count": 25,
     "metadata": {},
     "output_type": "execute_result"
    }
   ],
   "source": [
    "%%sql\n",
    "SELECT title, certification, language FROM films WHERE certification IN ('NC-17', 'R') AND language IN ('English', 'Italian', 'Greek');"
   ]
  },
  {
   "cell_type": "code",
   "execution_count": 26,
   "metadata": {
    "vscode": {
     "languageId": "sql"
    }
   },
   "outputs": [
    {
     "data": {
      "text/html": [
       "<table>\n",
       "    <thead>\n",
       "        <tr>\n",
       "            <th>nineties_english_films_for_teens</th>\n",
       "        </tr>\n",
       "    </thead>\n",
       "    <tbody>\n",
       "        <tr>\n",
       "            <td>310</td>\n",
       "        </tr>\n",
       "    </tbody>\n",
       "</table>"
      ],
      "text/plain": [
       "+----------------------------------+\n",
       "| nineties_english_films_for_teens |\n",
       "+----------------------------------+\n",
       "|               310                |\n",
       "+----------------------------------+"
      ]
     },
     "execution_count": 26,
     "metadata": {},
     "output_type": "execute_result"
    }
   ],
   "source": [
    "%%sql\n",
    "SELECT COUNT(DISTINCT title) AS nineties_english_films_for_teens FROM films\n",
    "WHERE release_year BETWEEN 1990 AND 1999\n",
    "AND language = 'English'\n",
    "AND certification IN ('G', 'PG', 'PG-13');"
   ]
  },
  {
   "cell_type": "markdown",
   "metadata": {},
   "source": [
    "### `NULL`\n",
    "\n",
    "The `NULL` value represents a missing or unknown value. You can test for `NULL` values using the `IS NULL` and `IS NOT NULL` operators in the `WHERE` clause.\n",
    "\n",
    "Note that `COUNT(column_name)` doesn't count `NULL` values, whereas `COUNT(*)` does."
   ]
  },
  {
   "cell_type": "code",
   "execution_count": 27,
   "metadata": {
    "vscode": {
     "languageId": "sql"
    }
   },
   "outputs": [
    {
     "data": {
      "text/html": [
       "<table>\n",
       "    <thead>\n",
       "        <tr>\n",
       "            <th>no_budget_info</th>\n",
       "        </tr>\n",
       "    </thead>\n",
       "    <tbody>\n",
       "        <tr>\n",
       "            <td>Pandora's Box</td>\n",
       "        </tr>\n",
       "        <tr>\n",
       "            <td>The Prisoner of Zenda</td>\n",
       "        </tr>\n",
       "        <tr>\n",
       "            <td>The Blue Bird</td>\n",
       "        </tr>\n",
       "        <tr>\n",
       "            <td>Bambi</td>\n",
       "        </tr>\n",
       "        <tr>\n",
       "            <td>State Fair</td>\n",
       "        </tr>\n",
       "        <tr>\n",
       "            <td>Open Secret</td>\n",
       "        </tr>\n",
       "        <tr>\n",
       "            <td>Deadline - U.S.A.</td>\n",
       "        </tr>\n",
       "        <tr>\n",
       "            <td>Ordet</td>\n",
       "        </tr>\n",
       "        <tr>\n",
       "            <td>The Party's Over</td>\n",
       "        </tr>\n",
       "        <tr>\n",
       "            <td>The Torture Chamber of Dr. Sadism</td>\n",
       "        </tr>\n",
       "    </tbody>\n",
       "</table>\n",
       "<span style=\"font-style:italic;text-align:center;\">Truncated to <a href=\"https://jupysql.ploomber.io/en/latest/api/configuration.html#displaylimit\">displaylimit</a> of 10.</span>"
      ],
      "text/plain": [
       "+-----------------------------------+\n",
       "|           no_budget_info          |\n",
       "+-----------------------------------+\n",
       "|           Pandora's Box           |\n",
       "|       The Prisoner of Zenda       |\n",
       "|           The Blue Bird           |\n",
       "|               Bambi               |\n",
       "|             State Fair            |\n",
       "|            Open Secret            |\n",
       "|         Deadline - U.S.A.         |\n",
       "|               Ordet               |\n",
       "|          The Party's Over         |\n",
       "| The Torture Chamber of Dr. Sadism |\n",
       "+-----------------------------------+\n",
       "Truncated to displaylimit of 10."
      ]
     },
     "execution_count": 27,
     "metadata": {},
     "output_type": "execute_result"
    }
   ],
   "source": [
    "%%sql\n",
    "-- no budget\n",
    "SELECT title AS no_budget_info FROM films WHERE films.budget IS NULL;"
   ]
  },
  {
   "cell_type": "code",
   "execution_count": 28,
   "metadata": {
    "vscode": {
     "languageId": "sql"
    }
   },
   "outputs": [
    {
     "data": {
      "text/html": [
       "<table>\n",
       "    <thead>\n",
       "        <tr>\n",
       "            <th>count_language_known</th>\n",
       "        </tr>\n",
       "    </thead>\n",
       "    <tbody>\n",
       "        <tr>\n",
       "            <td>4957</td>\n",
       "        </tr>\n",
       "    </tbody>\n",
       "</table>"
      ],
      "text/plain": [
       "+----------------------+\n",
       "| count_language_known |\n",
       "+----------------------+\n",
       "|         4957         |\n",
       "+----------------------+"
      ]
     },
     "execution_count": 28,
     "metadata": {},
     "output_type": "execute_result"
    }
   ],
   "source": [
    "%%sql\n",
    "-- number with known language\n",
    "SELECT COUNT(*) AS count_language_known FROM films WHERE films.language IS NOT NULL;"
   ]
  },
  {
   "cell_type": "markdown",
   "metadata": {},
   "source": [
    "## Summarizing"
   ]
  },
  {
   "cell_type": "markdown",
   "metadata": {},
   "source": [
    "### Aggregate Functions\n",
    "\n",
    "In addition to `COUNT`, there are a number of other _aggregate functions_. Common functions include:\n",
    "  * `AVG`\n",
    "  * `SUM`\n",
    "  * `MIN`\n",
    "  * `MAX`\n",
    "  * `ROUND`\n",
    "\n",
    "`AVG`, `SUM` and `ROUND` can only be used with numeric values; `MIN` and `MAX` may be used with various data types."
   ]
  },
  {
   "cell_type": "code",
   "execution_count": 29,
   "metadata": {
    "vscode": {
     "languageId": "sql"
    }
   },
   "outputs": [
    {
     "data": {
      "text/html": [
       "<table>\n",
       "    <thead>\n",
       "        <tr>\n",
       "            <th>total_duration</th>\n",
       "        </tr>\n",
       "    </thead>\n",
       "    <tbody>\n",
       "        <tr>\n",
       "            <td>534882.0</td>\n",
       "        </tr>\n",
       "    </tbody>\n",
       "</table>"
      ],
      "text/plain": [
       "+----------------+\n",
       "| total_duration |\n",
       "+----------------+\n",
       "|    534882.0    |\n",
       "+----------------+"
      ]
     },
     "execution_count": 29,
     "metadata": {},
     "output_type": "execute_result"
    }
   ],
   "source": [
    "%%sql\n",
    "-- total all durations\n",
    "SELECT SUM(duration) AS total_duration FROM films;"
   ]
  },
  {
   "cell_type": "code",
   "execution_count": 30,
   "metadata": {
    "vscode": {
     "languageId": "sql"
    }
   },
   "outputs": [
    {
     "data": {
      "text/html": [
       "<table>\n",
       "    <thead>\n",
       "        <tr>\n",
       "            <th>average_duration</th>\n",
       "        </tr>\n",
       "    </thead>\n",
       "    <tbody>\n",
       "        <tr>\n",
       "            <td>107.94793138244198</td>\n",
       "        </tr>\n",
       "    </tbody>\n",
       "</table>"
      ],
      "text/plain": [
       "+--------------------+\n",
       "|  average_duration  |\n",
       "+--------------------+\n",
       "| 107.94793138244198 |\n",
       "+--------------------+"
      ]
     },
     "execution_count": 30,
     "metadata": {},
     "output_type": "execute_result"
    }
   ],
   "source": [
    "%%sql\n",
    "-- average duration\n",
    "SELECT AVG(duration) AS average_duration FROM films;"
   ]
  },
  {
   "cell_type": "code",
   "execution_count": 31,
   "metadata": {
    "vscode": {
     "languageId": "sql"
    }
   },
   "outputs": [
    {
     "data": {
      "text/html": [
       "<table>\n",
       "    <thead>\n",
       "        <tr>\n",
       "            <th>latest_year</th>\n",
       "        </tr>\n",
       "    </thead>\n",
       "    <tbody>\n",
       "        <tr>\n",
       "            <td>2016.0</td>\n",
       "        </tr>\n",
       "    </tbody>\n",
       "</table>"
      ],
      "text/plain": [
       "+-------------+\n",
       "| latest_year |\n",
       "+-------------+\n",
       "|    2016.0   |\n",
       "+-------------+"
      ]
     },
     "execution_count": 31,
     "metadata": {},
     "output_type": "execute_result"
    }
   ],
   "source": [
    "%%sql\n",
    "-- latest release year\n",
    "SELECT MAX(release_year) AS latest_year FROM films;"
   ]
  },
  {
   "cell_type": "code",
   "execution_count": 32,
   "metadata": {
    "vscode": {
     "languageId": "sql"
    }
   },
   "outputs": [
    {
     "data": {
      "text/html": [
       "<table>\n",
       "    <thead>\n",
       "        <tr>\n",
       "            <th>shortest_film</th>\n",
       "        </tr>\n",
       "    </thead>\n",
       "    <tbody>\n",
       "        <tr>\n",
       "            <td>7.0</td>\n",
       "        </tr>\n",
       "    </tbody>\n",
       "</table>"
      ],
      "text/plain": [
       "+---------------+\n",
       "| shortest_film |\n",
       "+---------------+\n",
       "|      7.0      |\n",
       "+---------------+"
      ]
     },
     "execution_count": 32,
     "metadata": {},
     "output_type": "execute_result"
    }
   ],
   "source": [
    "%%sql\n",
    "-- shortest duration\n",
    "SELECT MIN(duration) AS shortest_film FROM films;"
   ]
  },
  {
   "cell_type": "code",
   "execution_count": 33,
   "metadata": {
    "vscode": {
     "languageId": "sql"
    }
   },
   "outputs": [
    {
     "data": {
      "text/html": [
       "<table>\n",
       "    <thead>\n",
       "        <tr>\n",
       "            <th>total_gross</th>\n",
       "        </tr>\n",
       "    </thead>\n",
       "    <tbody>\n",
       "        <tr>\n",
       "            <td>150900926358.0</td>\n",
       "        </tr>\n",
       "    </tbody>\n",
       "</table>"
      ],
      "text/plain": [
       "+----------------+\n",
       "|  total_gross   |\n",
       "+----------------+\n",
       "| 150900926358.0 |\n",
       "+----------------+"
      ]
     },
     "execution_count": 33,
     "metadata": {},
     "output_type": "execute_result"
    }
   ],
   "source": [
    "%%sql\n",
    "-- total gross '00 and later\n",
    "SELECT SUM(gross) AS total_gross FROM films WHERE films.release_year >= 2000;"
   ]
  },
  {
   "cell_type": "code",
   "execution_count": 34,
   "metadata": {
    "vscode": {
     "languageId": "sql"
    }
   },
   "outputs": [
    {
     "data": {
      "text/html": [
       "<table>\n",
       "    <thead>\n",
       "        <tr>\n",
       "            <th>avg_gross_A</th>\n",
       "        </tr>\n",
       "    </thead>\n",
       "    <tbody>\n",
       "        <tr>\n",
       "            <td>47893236.42248062</td>\n",
       "        </tr>\n",
       "    </tbody>\n",
       "</table>"
      ],
      "text/plain": [
       "+-------------------+\n",
       "|    avg_gross_A    |\n",
       "+-------------------+\n",
       "| 47893236.42248062 |\n",
       "+-------------------+"
      ]
     },
     "execution_count": 34,
     "metadata": {},
     "output_type": "execute_result"
    }
   ],
   "source": [
    "%%sql\n",
    "-- average gross starting with A\n",
    "SELECT AVG(gross) AS avg_gross_A FROM films WHERE films.title LIKE 'A%';"
   ]
  },
  {
   "cell_type": "code",
   "execution_count": 35,
   "metadata": {
    "vscode": {
     "languageId": "sql"
    }
   },
   "outputs": [
    {
     "data": {
      "text/html": [
       "<table>\n",
       "    <thead>\n",
       "        <tr>\n",
       "            <th>lowest_gross</th>\n",
       "        </tr>\n",
       "    </thead>\n",
       "    <tbody>\n",
       "        <tr>\n",
       "            <td>125169.0</td>\n",
       "        </tr>\n",
       "    </tbody>\n",
       "</table>"
      ],
      "text/plain": [
       "+--------------+\n",
       "| lowest_gross |\n",
       "+--------------+\n",
       "|   125169.0   |\n",
       "+--------------+"
      ]
     },
     "execution_count": 35,
     "metadata": {},
     "output_type": "execute_result"
    }
   ],
   "source": [
    "%%sql\n",
    "-- lowest grossing film of '94\n",
    "SELECT MIN(gross) AS lowest_gross FROM films WHERE films.release_year = 1994;"
   ]
  },
  {
   "cell_type": "code",
   "execution_count": 36,
   "metadata": {
    "vscode": {
     "languageId": "sql"
    }
   },
   "outputs": [
    {
     "data": {
      "text/html": [
       "<table>\n",
       "    <thead>\n",
       "        <tr>\n",
       "            <th>highest_gross</th>\n",
       "        </tr>\n",
       "    </thead>\n",
       "    <tbody>\n",
       "        <tr>\n",
       "            <td>760505847.0</td>\n",
       "        </tr>\n",
       "    </tbody>\n",
       "</table>"
      ],
      "text/plain": [
       "+---------------+\n",
       "| highest_gross |\n",
       "+---------------+\n",
       "|  760505847.0  |\n",
       "+---------------+"
      ]
     },
     "execution_count": 36,
     "metadata": {},
     "output_type": "execute_result"
    }
   ],
   "source": [
    "%%sql\n",
    "-- highest grossing film between '00 and '12\n",
    "SELECT MAX(gross) AS highest_gross FROM films WHERE films.release_year BETWEEN 2000 AND 2012;"
   ]
  },
  {
   "cell_type": "code",
   "execution_count": 37,
   "metadata": {
    "vscode": {
     "languageId": "sql"
    }
   },
   "outputs": [
    {
     "data": {
      "text/html": [
       "<table>\n",
       "    <thead>\n",
       "        <tr>\n",
       "            <th>avg_facebook_likes</th>\n",
       "        </tr>\n",
       "    </thead>\n",
       "    <tbody>\n",
       "        <tr>\n",
       "            <td>7802.9</td>\n",
       "        </tr>\n",
       "    </tbody>\n",
       "</table>"
      ],
      "text/plain": [
       "+--------------------+\n",
       "| avg_facebook_likes |\n",
       "+--------------------+\n",
       "|       7802.9       |\n",
       "+--------------------+"
      ]
     },
     "execution_count": 37,
     "metadata": {},
     "output_type": "execute_result"
    }
   ],
   "source": [
    "%%sql\n",
    "-- average facebook likes rounded to 1 decimal\n",
    "SELECT ROUND(AVG(facebook_likes), 1) AS avg_facebook_likes FROM reviews;"
   ]
  },
  {
   "cell_type": "code",
   "execution_count": 38,
   "metadata": {
    "vscode": {
     "languageId": "sql"
    }
   },
   "outputs": [
    {
     "data": {
      "text/html": [
       "<table>\n",
       "    <thead>\n",
       "        <tr>\n",
       "            <th>avg_budget_thousands</th>\n",
       "        </tr>\n",
       "    </thead>\n",
       "    <tbody>\n",
       "        <tr>\n",
       "            <td>39903000.0</td>\n",
       "        </tr>\n",
       "    </tbody>\n",
       "</table>"
      ],
      "text/plain": [
       "+----------------------+\n",
       "| avg_budget_thousands |\n",
       "+----------------------+\n",
       "|      39903000.0      |\n",
       "+----------------------+"
      ]
     },
     "execution_count": 38,
     "metadata": {},
     "output_type": "execute_result"
    }
   ],
   "source": [
    "%%sql\n",
    "-- average budget rounded to thousands\n",
    "SELECT ROUND(AVG(budget), -3) AS avg_budget_thousands FROM films;"
   ]
  },
  {
   "cell_type": "markdown",
   "metadata": {},
   "source": [
    "### Aliasing and Arithmetic\n",
    "\n",
    "You can use the `AS` keyword to alias column names and values in the result set. You can use arithmetic operators like `+` and `-` in the `SELECT` clause to compute values."
   ]
  },
  {
   "cell_type": "code",
   "execution_count": 39,
   "metadata": {
    "vscode": {
     "languageId": "sql"
    }
   },
   "outputs": [
    {
     "data": {
      "text/html": [
       "<table>\n",
       "    <thead>\n",
       "        <tr>\n",
       "            <th>title</th>\n",
       "            <th>duration_hours</th>\n",
       "        </tr>\n",
       "    </thead>\n",
       "    <tbody>\n",
       "        <tr>\n",
       "            <td>Intolerance: Love's Struggle Throughout the Ages</td>\n",
       "            <td>2.05</td>\n",
       "        </tr>\n",
       "        <tr>\n",
       "            <td>Over the Hill to the Poorhouse</td>\n",
       "            <td>1.83</td>\n",
       "        </tr>\n",
       "        <tr>\n",
       "            <td>The Big Parade</td>\n",
       "            <td>2.52</td>\n",
       "        </tr>\n",
       "        <tr>\n",
       "            <td>Metropolis</td>\n",
       "            <td>2.42</td>\n",
       "        </tr>\n",
       "        <tr>\n",
       "            <td>Pandora's Box</td>\n",
       "            <td>1.83</td>\n",
       "        </tr>\n",
       "        <tr>\n",
       "            <td>The Broadway Melody</td>\n",
       "            <td>1.67</td>\n",
       "        </tr>\n",
       "        <tr>\n",
       "            <td>Hell's Angels</td>\n",
       "            <td>1.6</td>\n",
       "        </tr>\n",
       "        <tr>\n",
       "            <td>A Farewell to Arms</td>\n",
       "            <td>1.32</td>\n",
       "        </tr>\n",
       "        <tr>\n",
       "            <td>42nd Street</td>\n",
       "            <td>1.48</td>\n",
       "        </tr>\n",
       "        <tr>\n",
       "            <td>She Done Him Wrong</td>\n",
       "            <td>1.1</td>\n",
       "        </tr>\n",
       "    </tbody>\n",
       "</table>\n",
       "<span style=\"font-style:italic;text-align:center;\">Truncated to <a href=\"https://jupysql.ploomber.io/en/latest/api/configuration.html#displaylimit\">displaylimit</a> of 10.</span>"
      ],
      "text/plain": [
       "+--------------------------------------------------+----------------+\n",
       "|                      title                       | duration_hours |\n",
       "+--------------------------------------------------+----------------+\n",
       "| Intolerance: Love's Struggle Throughout the Ages |      2.05      |\n",
       "|          Over the Hill to the Poorhouse          |      1.83      |\n",
       "|                  The Big Parade                  |      2.52      |\n",
       "|                    Metropolis                    |      2.42      |\n",
       "|                  Pandora's Box                   |      1.83      |\n",
       "|               The Broadway Melody                |      1.67      |\n",
       "|                  Hell's Angels                   |      1.6       |\n",
       "|                A Farewell to Arms                |      1.32      |\n",
       "|                   42nd Street                    |      1.48      |\n",
       "|                She Done Him Wrong                |      1.1       |\n",
       "+--------------------------------------------------+----------------+\n",
       "Truncated to displaylimit of 10."
      ]
     },
     "execution_count": 39,
     "metadata": {},
     "output_type": "execute_result"
    }
   ],
   "source": [
    "%%sql\n",
    "-- duration in hours not minutes\n",
    "SELECT title, ROUND(duration / 60.0, 2) AS duration_hours FROM films;"
   ]
  },
  {
   "cell_type": "code",
   "execution_count": 40,
   "metadata": {
    "vscode": {
     "languageId": "sql"
    }
   },
   "outputs": [
    {
     "data": {
      "text/html": [
       "<table>\n",
       "    <thead>\n",
       "        <tr>\n",
       "            <th>percentage_dead</th>\n",
       "        </tr>\n",
       "    </thead>\n",
       "    <tbody>\n",
       "        <tr>\n",
       "            <td>9.372394902941526</td>\n",
       "        </tr>\n",
       "    </tbody>\n",
       "</table>"
      ],
      "text/plain": [
       "+-------------------+\n",
       "|  percentage_dead  |\n",
       "+-------------------+\n",
       "| 9.372394902941526 |\n",
       "+-------------------+"
      ]
     },
     "execution_count": 40,
     "metadata": {},
     "output_type": "execute_result"
    }
   ],
   "source": [
    "%%sql\n",
    "-- percent of people who died\n",
    "SELECT COUNT(deathdate) * 100.0 / COUNT(*) AS percentage_dead FROM people;"
   ]
  },
  {
   "cell_type": "code",
   "execution_count": 41,
   "metadata": {
    "vscode": {
     "languageId": "sql"
    }
   },
   "outputs": [
    {
     "data": {
      "text/html": [
       "<table>\n",
       "    <thead>\n",
       "        <tr>\n",
       "            <th>number_of_decades</th>\n",
       "        </tr>\n",
       "    </thead>\n",
       "    <tbody>\n",
       "        <tr>\n",
       "            <td>10.0</td>\n",
       "        </tr>\n",
       "    </tbody>\n",
       "</table>"
      ],
      "text/plain": [
       "+-------------------+\n",
       "| number_of_decades |\n",
       "+-------------------+\n",
       "|        10.0       |\n",
       "+-------------------+"
      ]
     },
     "execution_count": 41,
     "metadata": {},
     "output_type": "execute_result"
    }
   ],
   "source": [
    "%%sql\n",
    "-- number of decades\n",
    "SELECT (MAX(release_year) - MIN(release_year)) / 10.0 AS number_of_decades FROM films;"
   ]
  },
  {
   "cell_type": "markdown",
   "metadata": {},
   "source": [
    "## Sorting and Grouping"
   ]
  },
  {
   "cell_type": "markdown",
   "metadata": {},
   "source": [
    "### `ORDER BY`\n",
    "\n",
    "The [`ORDER BY` clause](https://www.postgresql.org/docs/current/sql-select.html#SQL-ORDERBY) sorts the result set. `ASC` (default) or `DESC` can be used to specify sort order.\n",
    "\n",
    "Note that `ORDER BY` always comes after `GROUP BY`, but before `LIMIT`."
   ]
  },
  {
   "cell_type": "code",
   "execution_count": 42,
   "metadata": {
    "vscode": {
     "languageId": "sql"
    }
   },
   "outputs": [
    {
     "data": {
      "text/html": [
       "<table>\n",
       "    <thead>\n",
       "        <tr>\n",
       "            <th>name</th>\n",
       "        </tr>\n",
       "    </thead>\n",
       "    <tbody>\n",
       "        <tr>\n",
       "            <td>50 Cent</td>\n",
       "        </tr>\n",
       "        <tr>\n",
       "            <td>A. Michael Baldwin</td>\n",
       "        </tr>\n",
       "        <tr>\n",
       "            <td>A. Raven Cruz</td>\n",
       "        </tr>\n",
       "        <tr>\n",
       "            <td>A.J. Buckley</td>\n",
       "        </tr>\n",
       "        <tr>\n",
       "            <td>A.J. DeLucia</td>\n",
       "        </tr>\n",
       "        <tr>\n",
       "            <td>A.J. Langer</td>\n",
       "        </tr>\n",
       "        <tr>\n",
       "            <td>AJ Michalka</td>\n",
       "        </tr>\n",
       "        <tr>\n",
       "            <td>Aaliyah</td>\n",
       "        </tr>\n",
       "        <tr>\n",
       "            <td>Aaron Ashmore</td>\n",
       "        </tr>\n",
       "        <tr>\n",
       "            <td>Aaron Hann</td>\n",
       "        </tr>\n",
       "    </tbody>\n",
       "</table>\n",
       "<span style=\"font-style:italic;text-align:center;\">Truncated to <a href=\"https://jupysql.ploomber.io/en/latest/api/configuration.html#displaylimit\">displaylimit</a> of 10.</span>"
      ],
      "text/plain": [
       "+--------------------+\n",
       "|        name        |\n",
       "+--------------------+\n",
       "|      50 Cent       |\n",
       "| A. Michael Baldwin |\n",
       "|   A. Raven Cruz    |\n",
       "|    A.J. Buckley    |\n",
       "|    A.J. DeLucia    |\n",
       "|    A.J. Langer     |\n",
       "|    AJ Michalka     |\n",
       "|      Aaliyah       |\n",
       "|   Aaron Ashmore    |\n",
       "|     Aaron Hann     |\n",
       "+--------------------+\n",
       "Truncated to displaylimit of 10."
      ]
     },
     "execution_count": 42,
     "metadata": {},
     "output_type": "execute_result"
    }
   ],
   "source": [
    "%%sql\n",
    "-- names sorted alphabetically\n",
    "SELECT name FROM people ORDER BY name;"
   ]
  },
  {
   "cell_type": "code",
   "execution_count": 43,
   "metadata": {
    "vscode": {
     "languageId": "sql"
    }
   },
   "outputs": [
    {
     "data": {
      "text/html": [
       "<table>\n",
       "    <thead>\n",
       "        <tr>\n",
       "            <th>title</th>\n",
       "            <th>duration</th>\n",
       "        </tr>\n",
       "    </thead>\n",
       "    <tbody>\n",
       "        <tr>\n",
       "            <td>Carlos</td>\n",
       "            <td>334.0</td>\n",
       "        </tr>\n",
       "        <tr>\n",
       "            <td>Blood In, Blood Out</td>\n",
       "            <td>330.0</td>\n",
       "        </tr>\n",
       "        <tr>\n",
       "            <td>Heaven's Gate</td>\n",
       "            <td>325.0</td>\n",
       "        </tr>\n",
       "        <tr>\n",
       "            <td>The Legend of Suriyothai</td>\n",
       "            <td>300.0</td>\n",
       "        </tr>\n",
       "        <tr>\n",
       "            <td>Das Boot</td>\n",
       "            <td>293.0</td>\n",
       "        </tr>\n",
       "        <tr>\n",
       "            <td>Apocalypse Now</td>\n",
       "            <td>289.0</td>\n",
       "        </tr>\n",
       "        <tr>\n",
       "            <td>The Company</td>\n",
       "            <td>286.0</td>\n",
       "        </tr>\n",
       "        <tr>\n",
       "            <td>Gods and Generals</td>\n",
       "            <td>280.0</td>\n",
       "        </tr>\n",
       "        <tr>\n",
       "            <td>Gettysburg</td>\n",
       "            <td>271.0</td>\n",
       "        </tr>\n",
       "        <tr>\n",
       "            <td>Arn: The Knight Templar</td>\n",
       "            <td>270.0</td>\n",
       "        </tr>\n",
       "    </tbody>\n",
       "</table>\n",
       "<span style=\"font-style:italic;text-align:center;\">Truncated to <a href=\"https://jupysql.ploomber.io/en/latest/api/configuration.html#displaylimit\">displaylimit</a> of 10.</span>"
      ],
      "text/plain": [
       "+--------------------------+----------+\n",
       "|          title           | duration |\n",
       "+--------------------------+----------+\n",
       "|          Carlos          |  334.0   |\n",
       "|   Blood In, Blood Out    |  330.0   |\n",
       "|      Heaven's Gate       |  325.0   |\n",
       "| The Legend of Suriyothai |  300.0   |\n",
       "|         Das Boot         |  293.0   |\n",
       "|      Apocalypse Now      |  289.0   |\n",
       "|       The Company        |  286.0   |\n",
       "|    Gods and Generals     |  280.0   |\n",
       "|        Gettysburg        |  271.0   |\n",
       "| Arn: The Knight Templar  |  270.0   |\n",
       "+--------------------------+----------+\n",
       "Truncated to displaylimit of 10."
      ]
     },
     "execution_count": 43,
     "metadata": {},
     "output_type": "execute_result"
    }
   ],
   "source": [
    "%%sql\n",
    "-- sorted by duration descending\n",
    "SELECT title, duration FROM films ORDER BY duration DESC;"
   ]
  },
  {
   "cell_type": "code",
   "execution_count": 44,
   "metadata": {
    "vscode": {
     "languageId": "sql"
    }
   },
   "outputs": [
    {
     "data": {
      "text/html": [
       "<table>\n",
       "    <thead>\n",
       "        <tr>\n",
       "            <th>release_year</th>\n",
       "            <th>duration</th>\n",
       "            <th>title</th>\n",
       "        </tr>\n",
       "    </thead>\n",
       "    <tbody>\n",
       "        <tr>\n",
       "            <td>1916.0</td>\n",
       "            <td>123.0</td>\n",
       "            <td>Intolerance: Love's Struggle Throughout the Ages</td>\n",
       "        </tr>\n",
       "        <tr>\n",
       "            <td>1920.0</td>\n",
       "            <td>110.0</td>\n",
       "            <td>Over the Hill to the Poorhouse</td>\n",
       "        </tr>\n",
       "        <tr>\n",
       "            <td>1925.0</td>\n",
       "            <td>151.0</td>\n",
       "            <td>The Big Parade</td>\n",
       "        </tr>\n",
       "        <tr>\n",
       "            <td>1927.0</td>\n",
       "            <td>145.0</td>\n",
       "            <td>Metropolis</td>\n",
       "        </tr>\n",
       "        <tr>\n",
       "            <td>1929.0</td>\n",
       "            <td>100.0</td>\n",
       "            <td>The Broadway Melody</td>\n",
       "        </tr>\n",
       "        <tr>\n",
       "            <td>1929.0</td>\n",
       "            <td>110.0</td>\n",
       "            <td>Pandora's Box</td>\n",
       "        </tr>\n",
       "        <tr>\n",
       "            <td>1930.0</td>\n",
       "            <td>96.0</td>\n",
       "            <td>Hell's Angels</td>\n",
       "        </tr>\n",
       "        <tr>\n",
       "            <td>1932.0</td>\n",
       "            <td>79.0</td>\n",
       "            <td>A Farewell to Arms</td>\n",
       "        </tr>\n",
       "        <tr>\n",
       "            <td>1933.0</td>\n",
       "            <td>66.0</td>\n",
       "            <td>She Done Him Wrong</td>\n",
       "        </tr>\n",
       "        <tr>\n",
       "            <td>1933.0</td>\n",
       "            <td>89.0</td>\n",
       "            <td>42nd Street</td>\n",
       "        </tr>\n",
       "    </tbody>\n",
       "</table>\n",
       "<span style=\"font-style:italic;text-align:center;\">Truncated to <a href=\"https://jupysql.ploomber.io/en/latest/api/configuration.html#displaylimit\">displaylimit</a> of 10.</span>"
      ],
      "text/plain": [
       "+--------------+----------+--------------------------------------------------+\n",
       "| release_year | duration |                      title                       |\n",
       "+--------------+----------+--------------------------------------------------+\n",
       "|    1916.0    |  123.0   | Intolerance: Love's Struggle Throughout the Ages |\n",
       "|    1920.0    |  110.0   |          Over the Hill to the Poorhouse          |\n",
       "|    1925.0    |  151.0   |                  The Big Parade                  |\n",
       "|    1927.0    |  145.0   |                    Metropolis                    |\n",
       "|    1929.0    |  100.0   |               The Broadway Melody                |\n",
       "|    1929.0    |  110.0   |                  Pandora's Box                   |\n",
       "|    1930.0    |   96.0   |                  Hell's Angels                   |\n",
       "|    1932.0    |   79.0   |                A Farewell to Arms                |\n",
       "|    1933.0    |   66.0   |                She Done Him Wrong                |\n",
       "|    1933.0    |   89.0   |                   42nd Street                    |\n",
       "+--------------+----------+--------------------------------------------------+\n",
       "Truncated to displaylimit of 10."
      ]
     },
     "execution_count": 44,
     "metadata": {},
     "output_type": "execute_result"
    }
   ],
   "source": [
    "%%sql\n",
    "-- sorted by release_year and duration (in that order)\n",
    "SELECT release_year, duration, title FROM films ORDER BY release_year, duration;"
   ]
  },
  {
   "cell_type": "code",
   "execution_count": 45,
   "metadata": {
    "vscode": {
     "languageId": "sql"
    }
   },
   "outputs": [
    {
     "data": {
      "text/html": [
       "<table>\n",
       "    <thead>\n",
       "        <tr>\n",
       "            <th>certification</th>\n",
       "            <th>release_year</th>\n",
       "            <th>title</th>\n",
       "        </tr>\n",
       "    </thead>\n",
       "    <tbody>\n",
       "        <tr>\n",
       "            <td>Approved</td>\n",
       "            <td>1967.0</td>\n",
       "            <td>You Only Live Twice</td>\n",
       "        </tr>\n",
       "        <tr>\n",
       "            <td>Approved</td>\n",
       "            <td>1967.0</td>\n",
       "            <td>In Cold Blood</td>\n",
       "        </tr>\n",
       "        <tr>\n",
       "            <td>Approved</td>\n",
       "            <td>1967.0</td>\n",
       "            <td>Point Blank</td>\n",
       "        </tr>\n",
       "        <tr>\n",
       "            <td>Approved</td>\n",
       "            <td>1966.0</td>\n",
       "            <td>A Funny Thing Happened on the Way to the Forum</td>\n",
       "        </tr>\n",
       "        <tr>\n",
       "            <td>Approved</td>\n",
       "            <td>1966.0</td>\n",
       "            <td>A Man for All Seasons</td>\n",
       "        </tr>\n",
       "        <tr>\n",
       "            <td>Approved</td>\n",
       "            <td>1966.0</td>\n",
       "            <td>Batman: The Movie</td>\n",
       "        </tr>\n",
       "        <tr>\n",
       "            <td>Approved</td>\n",
       "            <td>1966.0</td>\n",
       "            <td>The Good, the Bad and the Ugly</td>\n",
       "        </tr>\n",
       "        <tr>\n",
       "            <td>Approved</td>\n",
       "            <td>1966.0</td>\n",
       "            <td>Torn Curtain</td>\n",
       "        </tr>\n",
       "        <tr>\n",
       "            <td>Approved</td>\n",
       "            <td>1965.0</td>\n",
       "            <td>Major Dundee</td>\n",
       "        </tr>\n",
       "        <tr>\n",
       "            <td>Approved</td>\n",
       "            <td>1965.0</td>\n",
       "            <td>Thunderball</td>\n",
       "        </tr>\n",
       "    </tbody>\n",
       "</table>\n",
       "<span style=\"font-style:italic;text-align:center;\">Truncated to <a href=\"https://jupysql.ploomber.io/en/latest/api/configuration.html#displaylimit\">displaylimit</a> of 10.</span>"
      ],
      "text/plain": [
       "+---------------+--------------+------------------------------------------------+\n",
       "| certification | release_year |                     title                      |\n",
       "+---------------+--------------+------------------------------------------------+\n",
       "|    Approved   |    1967.0    |              You Only Live Twice               |\n",
       "|    Approved   |    1967.0    |                 In Cold Blood                  |\n",
       "|    Approved   |    1967.0    |                  Point Blank                   |\n",
       "|    Approved   |    1966.0    | A Funny Thing Happened on the Way to the Forum |\n",
       "|    Approved   |    1966.0    |             A Man for All Seasons              |\n",
       "|    Approved   |    1966.0    |               Batman: The Movie                |\n",
       "|    Approved   |    1966.0    |         The Good, the Bad and the Ugly         |\n",
       "|    Approved   |    1966.0    |                  Torn Curtain                  |\n",
       "|    Approved   |    1965.0    |                  Major Dundee                  |\n",
       "|    Approved   |    1965.0    |                  Thunderball                   |\n",
       "+---------------+--------------+------------------------------------------------+\n",
       "Truncated to displaylimit of 10."
      ]
     },
     "execution_count": 45,
     "metadata": {},
     "output_type": "execute_result"
    }
   ],
   "source": [
    "%%sql\n",
    "-- sorted by certification alphabetically and release_year descending\n",
    "SELECT certification, release_year, title FROM films ORDER BY certification, release_year DESC;"
   ]
  },
  {
   "cell_type": "markdown",
   "metadata": {},
   "source": [
    "### `GROUP BY`\n",
    "\n",
    "The [`GROUP BY` clause](https://www.postgresql.org/docs/current/sql-select.html#SQL-GROUPBY) groups rows that have matching values in the specified column(s). It is frequently used with aggregate functions to calculate summary statistics for each \"group\". For example, you might want to get the average salary for each department."
   ]
  },
  {
   "cell_type": "code",
   "execution_count": 46,
   "metadata": {
    "vscode": {
     "languageId": "sql"
    }
   },
   "outputs": [
    {
     "data": {
      "text/html": [
       "<table>\n",
       "    <thead>\n",
       "        <tr>\n",
       "            <th>release_year</th>\n",
       "            <th>film_count</th>\n",
       "        </tr>\n",
       "    </thead>\n",
       "    <tbody>\n",
       "        <tr>\n",
       "            <td>1916.0</td>\n",
       "            <td>1</td>\n",
       "        </tr>\n",
       "        <tr>\n",
       "            <td>1920.0</td>\n",
       "            <td>1</td>\n",
       "        </tr>\n",
       "        <tr>\n",
       "            <td>1925.0</td>\n",
       "            <td>1</td>\n",
       "        </tr>\n",
       "        <tr>\n",
       "            <td>1927.0</td>\n",
       "            <td>1</td>\n",
       "        </tr>\n",
       "        <tr>\n",
       "            <td>1929.0</td>\n",
       "            <td>2</td>\n",
       "        </tr>\n",
       "        <tr>\n",
       "            <td>1930.0</td>\n",
       "            <td>1</td>\n",
       "        </tr>\n",
       "        <tr>\n",
       "            <td>1932.0</td>\n",
       "            <td>1</td>\n",
       "        </tr>\n",
       "        <tr>\n",
       "            <td>1933.0</td>\n",
       "            <td>2</td>\n",
       "        </tr>\n",
       "        <tr>\n",
       "            <td>1934.0</td>\n",
       "            <td>1</td>\n",
       "        </tr>\n",
       "        <tr>\n",
       "            <td>1935.0</td>\n",
       "            <td>1</td>\n",
       "        </tr>\n",
       "    </tbody>\n",
       "</table>\n",
       "<span style=\"font-style:italic;text-align:center;\">Truncated to <a href=\"https://jupysql.ploomber.io/en/latest/api/configuration.html#displaylimit\">displaylimit</a> of 10.</span>"
      ],
      "text/plain": [
       "+--------------+------------+\n",
       "| release_year | film_count |\n",
       "+--------------+------------+\n",
       "|    1916.0    |     1      |\n",
       "|    1920.0    |     1      |\n",
       "|    1925.0    |     1      |\n",
       "|    1927.0    |     1      |\n",
       "|    1929.0    |     2      |\n",
       "|    1930.0    |     1      |\n",
       "|    1932.0    |     1      |\n",
       "|    1933.0    |     2      |\n",
       "|    1934.0    |     1      |\n",
       "|    1935.0    |     1      |\n",
       "+--------------+------------+\n",
       "Truncated to displaylimit of 10."
      ]
     },
     "execution_count": 46,
     "metadata": {},
     "output_type": "execute_result"
    }
   ],
   "source": [
    "%%sql\n",
    "-- total per year\n",
    "SELECT release_year, COUNT(*) AS film_count FROM films GROUP BY release_year;"
   ]
  },
  {
   "cell_type": "code",
   "execution_count": 47,
   "metadata": {
    "vscode": {
     "languageId": "sql"
    }
   },
   "outputs": [
    {
     "data": {
      "text/html": [
       "<table>\n",
       "    <thead>\n",
       "        <tr>\n",
       "            <th>release_year</th>\n",
       "            <th>avg_duration</th>\n",
       "        </tr>\n",
       "    </thead>\n",
       "    <tbody>\n",
       "        <tr>\n",
       "            <td>1916.0</td>\n",
       "            <td>123.0</td>\n",
       "        </tr>\n",
       "        <tr>\n",
       "            <td>1920.0</td>\n",
       "            <td>110.0</td>\n",
       "        </tr>\n",
       "        <tr>\n",
       "            <td>1925.0</td>\n",
       "            <td>151.0</td>\n",
       "        </tr>\n",
       "        <tr>\n",
       "            <td>1927.0</td>\n",
       "            <td>145.0</td>\n",
       "        </tr>\n",
       "        <tr>\n",
       "            <td>1929.0</td>\n",
       "            <td>105.0</td>\n",
       "        </tr>\n",
       "        <tr>\n",
       "            <td>1930.0</td>\n",
       "            <td>96.0</td>\n",
       "        </tr>\n",
       "        <tr>\n",
       "            <td>1932.0</td>\n",
       "            <td>79.0</td>\n",
       "        </tr>\n",
       "        <tr>\n",
       "            <td>1933.0</td>\n",
       "            <td>77.5</td>\n",
       "        </tr>\n",
       "        <tr>\n",
       "            <td>1934.0</td>\n",
       "            <td>65.0</td>\n",
       "        </tr>\n",
       "        <tr>\n",
       "            <td>1935.0</td>\n",
       "            <td>81.0</td>\n",
       "        </tr>\n",
       "    </tbody>\n",
       "</table>\n",
       "<span style=\"font-style:italic;text-align:center;\">Truncated to <a href=\"https://jupysql.ploomber.io/en/latest/api/configuration.html#displaylimit\">displaylimit</a> of 10.</span>"
      ],
      "text/plain": [
       "+--------------+--------------+\n",
       "| release_year | avg_duration |\n",
       "+--------------+--------------+\n",
       "|    1916.0    |    123.0     |\n",
       "|    1920.0    |    110.0     |\n",
       "|    1925.0    |    151.0     |\n",
       "|    1927.0    |    145.0     |\n",
       "|    1929.0    |    105.0     |\n",
       "|    1930.0    |     96.0     |\n",
       "|    1932.0    |     79.0     |\n",
       "|    1933.0    |     77.5     |\n",
       "|    1934.0    |     65.0     |\n",
       "|    1935.0    |     81.0     |\n",
       "+--------------+--------------+\n",
       "Truncated to displaylimit of 10."
      ]
     },
     "execution_count": 47,
     "metadata": {},
     "output_type": "execute_result"
    }
   ],
   "source": [
    "%%sql\n",
    "-- average duration per year\n",
    "SELECT release_year, AVG(duration) AS avg_duration FROM films GROUP BY release_year;"
   ]
  },
  {
   "cell_type": "code",
   "execution_count": 48,
   "metadata": {
    "vscode": {
     "languageId": "sql"
    }
   },
   "outputs": [
    {
     "data": {
      "text/html": [
       "<table>\n",
       "    <thead>\n",
       "        <tr>\n",
       "            <th>release_year</th>\n",
       "            <th>country</th>\n",
       "            <th>max_budget</th>\n",
       "        </tr>\n",
       "    </thead>\n",
       "    <tbody>\n",
       "        <tr>\n",
       "            <td>1916.0</td>\n",
       "            <td>USA</td>\n",
       "            <td>385907.0</td>\n",
       "        </tr>\n",
       "        <tr>\n",
       "            <td>1920.0</td>\n",
       "            <td>USA</td>\n",
       "            <td>100000.0</td>\n",
       "        </tr>\n",
       "        <tr>\n",
       "            <td>1925.0</td>\n",
       "            <td>USA</td>\n",
       "            <td>245000.0</td>\n",
       "        </tr>\n",
       "        <tr>\n",
       "            <td>1927.0</td>\n",
       "            <td>Germany</td>\n",
       "            <td>6000000.0</td>\n",
       "        </tr>\n",
       "        <tr>\n",
       "            <td>1929.0</td>\n",
       "            <td>Germany</td>\n",
       "            <td>None</td>\n",
       "        </tr>\n",
       "        <tr>\n",
       "            <td>1929.0</td>\n",
       "            <td>USA</td>\n",
       "            <td>379000.0</td>\n",
       "        </tr>\n",
       "        <tr>\n",
       "            <td>1930.0</td>\n",
       "            <td>USA</td>\n",
       "            <td>3950000.0</td>\n",
       "        </tr>\n",
       "        <tr>\n",
       "            <td>1932.0</td>\n",
       "            <td>USA</td>\n",
       "            <td>800000.0</td>\n",
       "        </tr>\n",
       "        <tr>\n",
       "            <td>1933.0</td>\n",
       "            <td>USA</td>\n",
       "            <td>439000.0</td>\n",
       "        </tr>\n",
       "        <tr>\n",
       "            <td>1934.0</td>\n",
       "            <td>USA</td>\n",
       "            <td>325000.0</td>\n",
       "        </tr>\n",
       "    </tbody>\n",
       "</table>\n",
       "<span style=\"font-style:italic;text-align:center;\">Truncated to <a href=\"https://jupysql.ploomber.io/en/latest/api/configuration.html#displaylimit\">displaylimit</a> of 10.</span>"
      ],
      "text/plain": [
       "+--------------+---------+------------+\n",
       "| release_year | country | max_budget |\n",
       "+--------------+---------+------------+\n",
       "|    1916.0    |   USA   |  385907.0  |\n",
       "|    1920.0    |   USA   |  100000.0  |\n",
       "|    1925.0    |   USA   |  245000.0  |\n",
       "|    1927.0    | Germany | 6000000.0  |\n",
       "|    1929.0    | Germany |    None    |\n",
       "|    1929.0    |   USA   |  379000.0  |\n",
       "|    1930.0    |   USA   | 3950000.0  |\n",
       "|    1932.0    |   USA   |  800000.0  |\n",
       "|    1933.0    |   USA   |  439000.0  |\n",
       "|    1934.0    |   USA   |  325000.0  |\n",
       "+--------------+---------+------------+\n",
       "Truncated to displaylimit of 10."
      ]
     },
     "execution_count": 48,
     "metadata": {},
     "output_type": "execute_result"
    }
   ],
   "source": [
    "%%sql\n",
    "-- biggest budget per year and country\n",
    "SELECT release_year, country, MAX(budget) AS max_budget FROM films\n",
    "GROUP BY release_year, country\n",
    "ORDER BY release_year, country;"
   ]
  },
  {
   "cell_type": "markdown",
   "metadata": {},
   "source": [
    "### `HAVING`\n",
    "\n",
    "`WHERE` filters individual records; `HAVING` filters grouped records. This is because of the execution order in SQL. `WHERE` filtering is done before grouping and aggregation, whereas `HAVING` filtering is done after."
   ]
  },
  {
   "cell_type": "code",
   "execution_count": 49,
   "metadata": {
    "vscode": {
     "languageId": "sql"
    }
   },
   "outputs": [
    {
     "data": {
      "text/html": [
       "<table>\n",
       "    <thead>\n",
       "        <tr>\n",
       "            <th>country</th>\n",
       "            <th>certification_count</th>\n",
       "        </tr>\n",
       "    </thead>\n",
       "    <tbody>\n",
       "        <tr>\n",
       "            <td>USA</td>\n",
       "            <td>12</td>\n",
       "        </tr>\n",
       "    </tbody>\n",
       "</table>"
      ],
      "text/plain": [
       "+---------+---------------------+\n",
       "| country | certification_count |\n",
       "+---------+---------------------+\n",
       "|   USA   |          12         |\n",
       "+---------+---------------------+"
      ]
     },
     "execution_count": 49,
     "metadata": {},
     "output_type": "execute_result"
    }
   ],
   "source": [
    "%%sql\n",
    "-- select country, distinct certification count as `certification_count`, grouped by country, having certifications greater than 10\n",
    "SELECT country, COUNT(DISTINCT certification) AS certification_count FROM films GROUP BY country HAVING COUNT(DISTINCT certification) > 10;"
   ]
  },
  {
   "cell_type": "code",
   "execution_count": 50,
   "metadata": {
    "vscode": {
     "languageId": "sql"
    }
   },
   "outputs": [
    {
     "data": {
      "text/html": [
       "<table>\n",
       "    <thead>\n",
       "        <tr>\n",
       "            <th>country</th>\n",
       "            <th>average_budget</th>\n",
       "        </tr>\n",
       "    </thead>\n",
       "    <tbody>\n",
       "        <tr>\n",
       "            <td>South Korea</td>\n",
       "            <td>1383960000.0</td>\n",
       "        </tr>\n",
       "        <tr>\n",
       "            <td>Hungary</td>\n",
       "            <td>1260000000.0</td>\n",
       "        </tr>\n",
       "    </tbody>\n",
       "</table>"
      ],
      "text/plain": [
       "+-------------+----------------+\n",
       "|   country   | average_budget |\n",
       "+-------------+----------------+\n",
       "| South Korea |  1383960000.0  |\n",
       "|   Hungary   |  1260000000.0  |\n",
       "+-------------+----------------+"
      ]
     },
     "execution_count": 50,
     "metadata": {},
     "output_type": "execute_result"
    }
   ],
   "source": [
    "%%sql\n",
    "-- select country, average budget rounded to 2 decimals, grouped by country, having an average budget greater than one billion, sorted by largest average budget first\n",
    "SELECT country, ROUND(AVG(budget), 2) AS average_budget FROM films GROUP BY country HAVING AVG(budget) > 1000000000 ORDER BY AVG(budget) DESC;"
   ]
  },
  {
   "cell_type": "code",
   "execution_count": 51,
   "metadata": {
    "vscode": {
     "languageId": "sql"
    }
   },
   "outputs": [
    {
     "data": {
      "text/html": [
       "<table>\n",
       "    <thead>\n",
       "        <tr>\n",
       "            <th>release_year</th>\n",
       "            <th>avg_budget</th>\n",
       "            <th>avg_gross</th>\n",
       "        </tr>\n",
       "    </thead>\n",
       "    <tbody>\n",
       "        <tr>\n",
       "            <td>2005.0</td>\n",
       "            <td>70323938.23152709</td>\n",
       "            <td>41159143.29064039</td>\n",
       "        </tr>\n",
       "    </tbody>\n",
       "</table>"
      ],
      "text/plain": [
       "+--------------+-------------------+-------------------+\n",
       "| release_year |     avg_budget    |     avg_gross     |\n",
       "+--------------+-------------------+-------------------+\n",
       "|    2005.0    | 70323938.23152709 | 41159143.29064039 |\n",
       "+--------------+-------------------+-------------------+"
      ]
     },
     "execution_count": 51,
     "metadata": {},
     "output_type": "execute_result"
    }
   ],
   "source": [
    "%%sql\n",
    "SELECT release_year, AVG(budget) AS avg_budget, AVG(gross) AS avg_gross FROM films\n",
    "WHERE release_year > 1990\n",
    "GROUP BY release_year\n",
    "HAVING AVG(budget) > 60000000\n",
    "ORDER BY avg_gross DESC LIMIT 1;"
   ]
  }
 ],
 "metadata": {
  "kernelspec": {
   "display_name": "datacamp-kYionb3o-py3.11",
   "language": "python",
   "name": "python3"
  },
  "language_info": {
   "codemirror_mode": {
    "name": "ipython",
    "version": 3
   },
   "file_extension": ".py",
   "mimetype": "text/x-python",
   "name": "python",
   "nbconvert_exporter": "python",
   "pygments_lexer": "ipython3",
   "version": "3.11.3"
  },
  "orig_nbformat": 4
 },
 "nbformat": 4,
 "nbformat_minor": 2
}
