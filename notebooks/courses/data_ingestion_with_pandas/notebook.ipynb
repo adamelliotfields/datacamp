{
 "cells": [
  {
   "cell_type": "markdown",
   "metadata": {},
   "source": [
    "# [Data Ingestion with `pandas`](https://www.datacamp.com/completed/statement-of-accomplishment/course/8e756dabad3dcb45bddbb6375c70f7a6b8e2f796)\n",
    "\n",
    "[![Open in Colab](https://colab.research.google.com/assets/colab-badge.svg)](https://colab.research.google.com/github/adamelliotfields/datacamp/blob/main/notebooks/courses/data_ingestion_with_pandas/notebook.ipynb)\n",
    "[![Render nbviewer](https://raw.githubusercontent.com/jupyter/design/main/logos/Badges/nbviewer_badge.svg)](https://nbviewer.org/github/adamelliotfields/datacamp/blob/main/notebooks/courses/data_ingestion_with_pandas/notebook.ipynb)\n",
    "\n",
    "**Contents:**\n",
    "  * [CSV](#CSV-🔝)\n",
    "  * [Excel](#Excel-🔝)\n",
    "  * [JSON](#JSON-🔝)"
   ]
  },
  {
   "cell_type": "code",
   "execution_count": 1,
   "metadata": {},
   "outputs": [],
   "source": [
    "%matplotlib inline\n",
    "\n",
    "import json\n",
    "import matplotlib.pyplot as plt\n",
    "import pandas as pd\n",
    "import sys\n",
    "\n",
    "from pandas import json_normalize\n",
    "\n",
    "pd.set_option(\"display.width\", sys.maxsize)\n"
   ]
  },
  {
   "cell_type": "markdown",
   "metadata": {},
   "source": [
    "## CSV [🔝](#Data-Ingestion-with-pandas)\n",
    "\n",
    "See [`pandas.read_csv`](https://pandas.pydata.org/docs/reference/api/pandas.read_csv.html)."
   ]
  },
  {
   "cell_type": "markdown",
   "metadata": {},
   "source": [
    "### Specific Columns"
   ]
  },
  {
   "cell_type": "code",
   "execution_count": 2,
   "metadata": {},
   "outputs": [
    {
     "name": "stdout",
     "output_type": "stream",
     "text": [
      "   zipcode  agi_stub  mars1  MARS2  NUMDEP\n",
      "0        0         1  85090  14170   26200\n",
      "1        0         2  51960  18820   32310\n",
      "2        0         3  19540  22650   23610\n",
      "3        0         4   5830  22190   18860\n",
      "4        0         5   3900  33800   30330\n"
     ]
    }
   ],
   "source": [
    "cols = [\"zipcode\", \"agi_stub\", \"mars1\", \"MARS2\", \"NUMDEP\"]\n",
    "data = pd.read_csv(\"vt_tax_data_2016.csv\", usecols=cols)\n",
    "print(data.head())\n"
   ]
  },
  {
   "cell_type": "markdown",
   "metadata": {},
   "source": [
    "### Specific Rows"
   ]
  },
  {
   "cell_type": "code",
   "execution_count": 3,
   "metadata": {},
   "outputs": [
    {
     "name": "stdout",
     "output_type": "stream",
     "text": [
      "   STATEFIPS STATE  zipcode  agi_stub   N1  mars1  MARS2  MARS4  PREP   N2  ...  N10300  A10300  N85530  A85530  N85300  A85300  N11901  A11901  N11902  A11902\n",
      "0         50    VT     5356         2  180    120     40      0    90  250  ...     170     497       0       0       0       0      50      76     130     212\n",
      "1         50    VT     5356         3   80     50     40      0    40  150  ...      80     460       0       0       0       0      40     142      50     148\n",
      "2         50    VT     5356         4   50      0     40      0    40  110  ...      50     471       0       0       0       0       0       0      30      87\n",
      "3         50    VT     5356         5   80     20     50      0    60  170  ...      80    2229       0       0       0       0      30     531      30     246\n",
      "4         50    VT     5356         6    0      0      0      0     0    0  ...       0       0       0       0       0       0       0       0       0       0\n",
      "\n",
      "[5 rows x 147 columns]\n"
     ]
    }
   ],
   "source": [
    "# fmt: off\n",
    "names = [\n",
    "    'STATEFIPS', 'STATE', 'zipcode', 'agi_stub', 'N1', 'mars1', 'MARS2', 'MARS4', 'PREP', 'N2',\n",
    "    'NUMDEP', 'TOTAL_VITA', 'VITA', 'TCE', 'VITA_EIC', 'RAL', 'RAC', 'ELDERLY', 'A00100',\n",
    "    'N02650', 'A02650', 'N00200', 'A00200', 'N00300', 'A00300', 'N00600', 'A00600', 'N00650',\n",
    "    'A00650', 'N00700', 'A00700', 'N00900', 'A00900', 'N01000', 'A01000', 'N01400', 'A01400',\n",
    "    'N01700', 'A01700', 'SCHF', 'N02300', 'A02300', 'N02500', 'A02500', 'N26270', 'A26270',\n",
    "    'N02900', 'A02900', 'N03220', 'A03220', 'N03300', 'A03300', 'N03270', 'A03270', 'N03150',\n",
    "    'A03150', 'N03210', 'A03210', 'N03230', 'A03230', 'N03240', 'A03240', 'N04470', 'A04470',\n",
    "    'A00101', 'N17000', 'A17000', 'N18425', 'A18425', 'N18450', 'A18450', 'N18500', 'A18500',\n",
    "    'N18800', 'A18800', 'N18300', 'A18300', 'N19300', 'A19300', 'N19500', 'A19500', 'N19530',\n",
    "    'A19530', 'N19550', 'A19550', 'N19570', 'A19570', 'N19700', 'A19700', 'N20800', 'A20800',\n",
    "    'n21020', 'a21020', 'N04800', 'A04800', 'N05800', 'A05800', 'N09600', 'A09600', 'N05780',\n",
    "    'A05780', 'N07100', 'A07100', 'N07300', 'A07300', 'N07180', 'A07180', 'N07230', 'A07230',\n",
    "    'N07240', 'A07240', 'N07220', 'A07220', 'N07260', 'A07260', 'N09400', 'A09400', 'N85770',\n",
    "    'A85770', 'N85775', 'A85775', 'N09750', 'A09750', 'N10600', 'A10600', 'N59660', 'A59660',\n",
    "    'N59720', 'A59720', 'N11070', 'A11070', 'N10960', 'A10960', 'N11560', 'A11560', 'N06500',\n",
    "    'A06500', 'N10300', 'A10300', 'N85530', 'A85530', 'N85300', 'A85300', 'N11901', 'A11901',\n",
    "    'N11902', 'A11902',\n",
    "]\n",
    "# fmt: on\n",
    "\n",
    "vt_data_first500 = pd.read_csv(\"vt_tax_data_2016.csv\", nrows=500, header=None, names=names)\n",
    "vt_data_next500 = pd.read_csv(\n",
    "    \"vt_tax_data_2016.csv\", skiprows=500, nrows=500, header=None, names=list(vt_data_first500)\n",
    ")\n",
    "\n",
    "print(vt_data_next500.head())\n"
   ]
  },
  {
   "cell_type": "markdown",
   "metadata": {},
   "source": [
    "### Missing Data\n",
    "\n",
    "Pandas automatically handles missing or _NA_ (not available) values when loading. Strings like \"N/A\" or \"null\" in a CSV would be considered NA values. In the resulting DataFrame, missing values are represented as `NaN` if they are numerical and `None` otherwise.\n",
    "\n",
    "You can also specify additional values to be treated as NA using the `na_values` kwarg."
   ]
  },
  {
   "cell_type": "code",
   "execution_count": 4,
   "metadata": {},
   "outputs": [
    {
     "name": "stdout",
     "output_type": "stream",
     "text": [
      "   STATEFIPS STATE  zipcode  agi_stub      N1  mars1  MARS2  MARS4   PREP      N2  ...  N10300  A10300  N85530  A85530  N85300  A85300  N11901  A11901  N11902  A11902\n",
      "0         50    VT      NaN         1  111580  85090  14170  10740  45360  130630  ...   53660   50699       0       0       0       0   10820    9734   88260  138337\n",
      "1         50    VT      NaN         2   82760  51960  18820  11310  35600  132950  ...   74340  221146       0       0       0       0   12820   20029   68760  151729\n",
      "2         50    VT      NaN         3   46270  19540  22650   3620  24140   91870  ...   44860  266097       0       0       0       0   10810   24499   34600   90583\n",
      "3         50    VT      NaN         4   30070   5830  22190    960  16060   71610  ...   29580  264678       0       0       0       0    7320   21573   21300   67045\n",
      "4         50    VT      NaN         5   39530   3900  33800    590  22500  103710  ...   39170  731963      40      24       0       0   12500   67761   23320  103034\n",
      "5         50    VT      NaN         6    9620    600   8150      0   7040   26430  ...    9600  894432    3350    4939    4990   20428    3900   93123    2870   39425\n",
      "\n",
      "[6 rows x 147 columns]\n"
     ]
    }
   ],
   "source": [
    "# if a `zipcode` is 0 then it should be considered missing as well\n",
    "null_values = {\"zipcode\": 0}\n",
    "data = pd.read_csv(\"vt_tax_data_2016.csv\", na_values=null_values)\n",
    "print(data[data.zipcode.isna()])\n"
   ]
  },
  {
   "cell_type": "markdown",
   "metadata": {},
   "source": [
    "### Corrupt Data"
   ]
  },
  {
   "cell_type": "code",
   "execution_count": 5,
   "metadata": {},
   "outputs": [
    {
     "name": "stderr",
     "output_type": "stream",
     "text": [
      "Skipping line 5: expected 147 fields, saw 148\n",
      "Skipping line 9: expected 147 fields, saw 148\n",
      "Skipping line 51: expected 147 fields, saw 148\n",
      "\n"
     ]
    }
   ],
   "source": [
    "try:\n",
    "    # note that `error_bad_lines` and `warn_bad_lines` were removed years ago\n",
    "    # use `on_bad_lines` instead\n",
    "    data = pd.read_csv(\"vt_tax_data_2016_corrupt.csv\", on_bad_lines=\"warn\")\n",
    "\n",
    "except pd.errors.ParserError:\n",
    "    print(\"Your data contained rows that could not be parsed.\")\n"
   ]
  },
  {
   "cell_type": "markdown",
   "metadata": {},
   "source": [
    "## Excel [🔝](#Data-Ingestion-with-pandas)\n",
    "\n",
    "See [`pandas.read_excel`](https://pandas.pydata.org/docs/reference/api/pandas.read_excel.html)"
   ]
  },
  {
   "cell_type": "markdown",
   "metadata": {},
   "source": [
    "### Specific Columns and Rows"
   ]
  },
  {
   "cell_type": "code",
   "execution_count": 6,
   "metadata": {},
   "outputs": [
    {
     "name": "stdout",
     "output_type": "stream",
     "text": [
      "Index(['ExpectedEarning', 'JobApplyWhen', 'JobPref', 'JobRelocateYesNo', 'JobRoleInterest', 'JobWherePref'], dtype='object')\n"
     ]
    }
   ],
   "source": [
    "col_string = \"AD, AW:BA\"\n",
    "survey_responses = pd.read_excel(\"fcc_survey_headers.xlsx\", skiprows=2, usecols=col_string)\n",
    "print(survey_responses.columns)\n"
   ]
  },
  {
   "cell_type": "markdown",
   "metadata": {},
   "source": [
    "### Specific Sheets\n",
    "\n",
    "By default `read_excel` loads only the first sheet. You can use the `sheet_name` kwarg and specify either a string for the sheet name or an integer for the sheet index. You can also pass a list of strings or integers to load multiple sheets."
   ]
  },
  {
   "cell_type": "code",
   "execution_count": 7,
   "metadata": {},
   "outputs": [
    {
     "data": {
      "image/png": "[encoded data removed]",
      "text/plain": [
       "<Figure size 640x480 with 1 Axes>"
      ]
     },
     "metadata": {},
     "output_type": "display_data"
    }
   ],
   "source": [
    "# responses_2017 = pd.read_excel(\"fcc_survey.xlsx\", sheet_name=1)\n",
    "responses_2017 = pd.read_excel(\"fcc_survey.xlsx\", sheet_name=\"2017\")\n",
    "job_prefs = responses_2017.groupby(\"JobPref\").JobPref.count()\n",
    "job_prefs.plot.barh()\n",
    "plt.show()\n"
   ]
  },
  {
   "cell_type": "code",
   "execution_count": 8,
   "metadata": {},
   "outputs": [
    {
     "name": "stdout",
     "output_type": "stream",
     "text": [
      "<class 'dict'>\n",
      "dict_keys(['2016', '2017'])\n"
     ]
    }
   ],
   "source": [
    "# all_survey_data = pd.read_excel(\"fcc_survey.xlsx\", sheet_name=[\"2016\", \"2017\"])\n",
    "# all_survey_data = pd.read_excel(\"fcc_survey.xlsx\", sheet_name=[0, \"2017\"])  # can be heterogeneous\n",
    "all_survey_data = pd.read_excel(\"fcc_survey.xlsx\", sheet_name=None)  # all sheets\n",
    "print(type(all_survey_data))\n",
    "print(all_survey_data.keys())\n"
   ]
  },
  {
   "cell_type": "markdown",
   "metadata": {},
   "source": [
    "### Boolean Columns"
   ]
  },
  {
   "cell_type": "code",
   "execution_count": 9,
   "metadata": {},
   "outputs": [
    {
     "name": "stdout",
     "output_type": "stream",
     "text": [
      "                                                      ID.x  HasFinancialDependents  HasHomeMortgage  HasStudentDebt\n",
      "HasDebt                                                                                                            \n",
      "False    323e5a113644d18185c743c241407754b29a1027e5cd06...                   112.0              0.0             0.0\n",
      "True     cef35615d61b202f1dc794ef2746df1404a11e4bcb573a...                   205.0            151.0           281.0\n"
     ]
    }
   ],
   "source": [
    "survey_data = pd.read_excel(\"fcc_survey_subset.xlsx\", dtype={\"HasDebt\": bool})\n",
    "print(survey_data.groupby(\"HasDebt\").sum())\n"
   ]
  },
  {
   "cell_type": "markdown",
   "metadata": {},
   "source": [
    "### Date Columns"
   ]
  },
  {
   "cell_type": "code",
   "execution_count": 10,
   "metadata": {},
   "outputs": [
    {
     "name": "stdout",
     "output_type": "stream",
     "text": [
      "0   2016-03-29 21:23:13\n",
      "1   2016-03-29 21:24:59\n",
      "2   2016-03-29 21:25:37\n",
      "3   2016-03-29 21:21:37\n",
      "4   2016-03-29 21:26:22\n",
      "Name: Part1StartTime, dtype: datetime64[ns]\n"
     ]
    }
   ],
   "source": [
    "survey_data = pd.read_excel(\"fcc_survey.xlsx\", parse_dates=[\"Part1StartTime\"])\n",
    "print(survey_data.Part1StartTime.head())\n"
   ]
  },
  {
   "cell_type": "markdown",
   "metadata": {},
   "source": [
    "## JSON [🔝](#Data-Ingestion-with-pandas)\n",
    "\n",
    "See [`pandas.read_json`](https://pandas.pydata.org/docs/reference/api/pandas.read_json.html)."
   ]
  },
  {
   "cell_type": "markdown",
   "metadata": {},
   "source": [
    "### Normalizing JSON\n",
    "\n",
    "Often times you'll have nested JSON. For example, each business from the Yelp API has a nested `location` object:\n",
    "\n",
    "```json\n",
    "{\n",
    "  \"location\": {\n",
    "    \"address1\": \"71 Smith St\",\n",
    "    \"address2\": \"\",\n",
    "    \"address3\": null\n",
    "  }\n",
    "}\n",
    "```\n",
    "\n",
    "Using `json_normalize`, you can flatten the nested fields into `location.address1`, `location.address2`, etc. The `sep` kwarg allows you to specify the separator."
   ]
  },
  {
   "cell_type": "code",
   "execution_count": 11,
   "metadata": {},
   "outputs": [
    {
     "name": "stdout",
     "output_type": "stream",
     "text": [
      "                       id                        alias               name                                          image_url  is_closed                                                url  review_count                                         categories  rating transactions  ... coordinates_longitude  location_address1  location_address2  location_address3  location_city location_zip_code location_country location_state                 location_display_address price\n",
      "0  CBmrwh7jHn88M4v8Q9Qyyg       white-noise-brooklyn-2        White Noise  https://s3-media2.fl.yelpcdn.com/bphoto/rcNRZr...      False  https://www.yelp.com/biz/white-noise-brooklyn-...            15     [{'alias': 'coffee', 'title': 'Coffee & Tea'}]     4.5           []  ...            -73.988415        71 Smith St                                  None       Brooklyn             11201               US             NY        [71 Smith St, Brooklyn, NY 11201]   NaN\n",
      "1  NG-KlDcSjBk3pfdzjXmMVw          devocion-brooklyn-3           Devocion  https://s3-media1.fl.yelpcdn.com/bphoto/xEKPpn...      False  https://www.yelp.com/biz/devocion-brooklyn-3?a...            73  [{'alias': 'coffee', 'title': 'Coffee & Tea'},...     4.0           []  ...            -73.983340  276 Livingston St                                  None       Brooklyn             11201               US             NY  [276 Livingston St, Brooklyn, NY 11201]    $$\n",
      "2  pimuUR-TEHIjUla3S3jemQ   coffee-project-ny-new-york  Coffee Project NY  https://s3-media2.fl.yelpcdn.com/bphoto/2Wtg4i...      False  https://www.yelp.com/biz/coffee-project-ny-new...           630     [{'alias': 'coffee', 'title': 'Coffee & Tea'}]     4.5           []  ...            -73.989220       239 E 5th St               None                          New York             10003               US             NY       [239 E 5th St, New York, NY 10003]    $$\n",
      "3  wTA00Dov2lFYXKnZ58eXAQ  spreadhouse-cafe-new-york-3   Spreadhouse Cafe  https://s3-media2.fl.yelpcdn.com/bphoto/YsBfwR...      False  https://www.yelp.com/biz/spreadhouse-cafe-new-...           380  [{'alias': 'cafes', 'title': 'Cafes'}, {'alias...     4.0           []  ...            -73.985850     116 Suffolk St                                             New York             10002               US             NY     [116 Suffolk St, New York, NY 10002]     $\n",
      "4  vijwGDNrPBJHEG7_DsjZNw             usagi-ny-dumbo-7           Usagi NY  https://s3-media2.fl.yelpcdn.com/bphoto/5gCxDD...      False  https://www.yelp.com/biz/usagi-ny-dumbo-7?adju...            57  [{'alias': 'bookstores', 'title': 'Bookstores'...     4.5           []  ...            -73.986910    163 Plymouth St                                                Dumbo             11201               US             NY       [163 Plymouth St, Dumbo, NY 11201]    $$\n",
      "\n",
      "[5 rows x 24 columns]\n"
     ]
    }
   ],
   "source": [
    "file = open(\"response.json\")\n",
    "data = json.load(file)  # need to parse into a dict first\n",
    "file.close()\n",
    "\n",
    "cafes = json_normalize(data[\"businesses\"], sep=\"_\")\n",
    "print(cafes.head())\n"
   ]
  },
  {
   "cell_type": "markdown",
   "metadata": {},
   "source": [
    "### Merging Datasets"
   ]
  },
  {
   "cell_type": "code",
   "execution_count": 12,
   "metadata": {},
   "outputs": [
    {
     "name": "stdout",
     "output_type": "stream",
     "text": [
      "                        alias                                         categories  coordinates_latitude  coordinates_longitude   display_phone     distance                      id                                          image_url  is_closed location_address1  ...  zcta5  bcode note    puma                     pumaname  geo_type                                          geog_name    borough total_pop_estimate total_pop_moe\n",
      "0  coffee-project-ny-new-york     [{'alias': 'coffee', 'title': 'Coffee & Tea'}]             40.726990             -73.989220  (212) 228-7888  2435.843426  pimuUR-TEHIjUla3S3jemQ  https://s3-media2.fl.yelpcdn.com/bphoto/2Wtg4i...      False      239 E 5th St  ...  10003  36061  NaN  3809.0  Chinatown & Lower East Side  PUMA2010  NYC-Manhattan Community District 3--Chinatown ...  Manhattan             160709          3289\n",
      "1   saltwater-coffee-new-york     [{'alias': 'coffee', 'title': 'Coffee & Tea'}]             40.730458             -73.983918  (917) 881-2245  2915.532077  SZXOfQbLyF3C5GwYBj6VvA  https://s3-media1.fl.yelpcdn.com/bphoto/cdBBTy...      False     345 E 12th St  ...  10003  36061  NaN  3809.0  Chinatown & Lower East Side  PUMA2010  NYC-Manhattan Community District 3--Chinatown ...  Manhattan             160709          3289\n",
      "2   daily-provisions-new-york  [{'alias': 'cafes', 'title': 'Cafes'}, {'alias...             40.737680             -73.987668  (212) 488-1505  3624.119007  t4M1VX4n34eEgUWMJ7cgKw  https://s3-media3.fl.yelpcdn.com/bphoto/eojExS...      False     103 E 19th St  ...  10003  36061  NaN  3809.0  Chinatown & Lower East Side  PUMA2010  NYC-Manhattan Community District 3--Chinatown ...  Manhattan             160709          3289\n",
      "3              mud-new-york-3  [{'alias': 'coffee', 'title': 'Coffee & Tea'},...             40.729050             -73.986680  (212) 228-9074  2705.458085  S-WdvEU1X7J33whXWk1zmw  https://s3-media4.fl.yelpcdn.com/bphoto/Btc3X8...      False      307 E 9th St  ...  10003  36061  NaN  3809.0  Chinatown & Lower East Side  PUMA2010  NYC-Manhattan Community District 3--Chinatown ...  Manhattan             160709          3289\n",
      "4  coffee-project-ny-new-york     [{'alias': 'coffee', 'title': 'Coffee & Tea'}]             40.726990             -73.989220  (212) 228-7888  2435.843426  pimuUR-TEHIjUla3S3jemQ  https://s3-media2.fl.yelpcdn.com/bphoto/2Wtg4i...      False      239 E 5th St  ...  10003  36061  NaN  3809.0  Chinatown & Lower East Side  PUMA2010  NYC-Manhattan Community District 3--Chinatown ...  Manhattan             160709          3289\n",
      "\n",
      "[5 rows x 37 columns]\n"
     ]
    }
   ],
   "source": [
    "cafes = pd.read_json(\"cafes.json\")\n",
    "pop_data = pd.read_excel(\"pop_data.xlsx\")\n",
    "crosswalk = pd.read_csv(\"zip_to_puma.csv\")\n",
    "\n",
    "cafes_with_pumas = cafes.merge(crosswalk, left_on=\"location_zip_code\", right_on=\"zipcode\")\n",
    "cafes_with_pop = cafes_with_pumas.merge(pop_data, on=\"puma\")\n",
    "\n",
    "print(cafes_with_pop.head())\n"
   ]
  }
 ],
 "metadata": {
  "kernelspec": {
   "display_name": "datacamp-LCGQf5bf-py3.11",
   "language": "python",
   "name": "python3"
  },
  "language_info": {
   "codemirror_mode": {
    "name": "ipython",
    "version": 3
   },
   "file_extension": ".py",
   "mimetype": "text/x-python",
   "name": "python",
   "nbconvert_exporter": "python",
   "pygments_lexer": "ipython3",
   "version": "3.11.6"
  }
 },
 "nbformat": 4,
 "nbformat_minor": 2
}
