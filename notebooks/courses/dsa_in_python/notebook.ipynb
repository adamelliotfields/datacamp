{
 "cells": [
  {
   "cell_type": "markdown",
   "metadata": {},
   "source": [
    "# [Data Structures and Algorithms in Python](https://www.datacamp.com/completed/statement-of-accomplishment/course/9b80ea309db678886b30b9aa82c3910c1cf6355f)"
   ]
  },
  {
   "cell_type": "markdown",
   "metadata": {},
   "source": [
    "## Data Structures"
   ]
  },
  {
   "cell_type": "markdown",
   "metadata": {},
   "source": [
    "### Linked List"
   ]
  },
  {
   "cell_type": "code",
   "execution_count": 1,
   "metadata": {},
   "outputs": [
    {
     "name": "stdout",
     "output_type": "stream",
     "text": [
      "prepare rice -> assemble ingredients -> roll sushi -> None\n",
      "True\n",
      "False\n"
     ]
    }
   ],
   "source": [
    "class Node:\n",
    "    def __init__(self, data):\n",
    "        self.data = data\n",
    "        self.next = None\n",
    "\n",
    "\n",
    "class SinglyLinkedList:\n",
    "    def __init__(self):\n",
    "        self.head = None\n",
    "        self.tail = None\n",
    "\n",
    "    def insert_at_beginning(self, data):\n",
    "        node = Node(data)\n",
    "        if self.head:\n",
    "            node.next = self.head\n",
    "            self.head = node\n",
    "        else:\n",
    "            self.tail = node\n",
    "            self.head = node\n",
    "\n",
    "    def insert_at_end(self, data):\n",
    "        node = Node(data)\n",
    "        if self.head:\n",
    "            self.tail.next = node\n",
    "            self.tail = node\n",
    "        else:\n",
    "            self.head = node\n",
    "            self.tail = node\n",
    "\n",
    "    def search(self, data):\n",
    "        current = self.head\n",
    "        while current:\n",
    "            if current.data == data:\n",
    "                return True\n",
    "            else:\n",
    "                current = current.next\n",
    "        return False\n",
    "\n",
    "    def remove_at_beginning(self):\n",
    "        self.head = self.head.next\n",
    "\n",
    "    def print_list(self):\n",
    "        current = self.head\n",
    "        s = \"\"\n",
    "        while current:\n",
    "            s += f\"{current.data} -> \"\n",
    "            current = current.next\n",
    "        s += \"None\"\n",
    "        print(s)\n",
    "\n",
    "\n",
    "sushi_prep = SinglyLinkedList()\n",
    "\n",
    "sushi_prep.insert_at_end(\"assemble ingredients\")\n",
    "sushi_prep.insert_at_end(\"roll sushi\")\n",
    "sushi_prep.insert_at_beginning(\"prepare rice\")\n",
    "sushi_prep.print_list()  # prepare rice -> assemble ingredients -> roll sushi -> None\n",
    "\n",
    "print(sushi_prep.search(\"roll sushi\"))  # True\n",
    "print(sushi_prep.search(\"bake in oven\"))  # False\n"
   ]
  },
  {
   "cell_type": "markdown",
   "metadata": {},
   "source": [
    "### Stack"
   ]
  },
  {
   "cell_type": "code",
   "execution_count": 2,
   "metadata": {},
   "outputs": [
    {
     "name": "stdout",
     "output_type": "stream",
     "text": [
      "1984\n",
      "1984\n",
      "Persepolis\n",
      "The Misunderstanding\n",
      "True\n"
     ]
    }
   ],
   "source": [
    "class Node:\n",
    "    def __init__(self, data):\n",
    "        self.data = data\n",
    "        self.next = None\n",
    "\n",
    "\n",
    "class Stack:\n",
    "    def __init__(self):\n",
    "        self.top = None\n",
    "        self.size = 0\n",
    "\n",
    "    def push(self, data):\n",
    "        node = Node(data)\n",
    "        if self.top:\n",
    "            node.next = self.top\n",
    "        self.top = node\n",
    "        self.size += 1\n",
    "\n",
    "    def pop(self):\n",
    "        if self.top is None:\n",
    "            return None\n",
    "        else:\n",
    "            popped = self.top\n",
    "            self.top = self.top.next\n",
    "            self.size -= 1\n",
    "            popped.next = None\n",
    "            return popped.data\n",
    "\n",
    "    def peek(self):\n",
    "        return self.top.data if self.top else None\n",
    "\n",
    "    def empty(self):\n",
    "        return self.top is None\n",
    "\n",
    "\n",
    "book_stack = Stack()\n",
    "\n",
    "book_stack.push(\"The Misunderstanding\")\n",
    "book_stack.push(\"Persepolis\")\n",
    "book_stack.push(\"1984\")\n",
    "\n",
    "print(book_stack.peek())  # 1984\n",
    "\n",
    "print(book_stack.pop())  # 1984\n",
    "print(book_stack.pop())  # Persepolis\n",
    "print(book_stack.pop())  # The Misunderstanding\n",
    "\n",
    "print(book_stack.empty())  # True\n"
   ]
  },
  {
   "cell_type": "markdown",
   "metadata": {},
   "source": [
    "### LifoQueue\n",
    "\n",
    "Python's `queue` module provides a `LifoQueue` class that behaves like a Stack, so you don't always have to implement your own."
   ]
  },
  {
   "cell_type": "code",
   "execution_count": 3,
   "metadata": {},
   "outputs": [
    {
     "name": "stdout",
     "output_type": "stream",
     "text": [
      "1984\n",
      "Persepolis\n",
      "The Misunderstanding\n",
      "True\n"
     ]
    }
   ],
   "source": [
    "from queue import LifoQueue\n",
    "\n",
    "book_stack = LifoQueue()\n",
    "\n",
    "book_stack.put(\"The Misunderstanding\")\n",
    "book_stack.put(\"Persepolis\")\n",
    "book_stack.put(\"1984\")\n",
    "\n",
    "print(book_stack.get())  # 1984\n",
    "print(book_stack.get())  # Persepolis\n",
    "print(book_stack.get())  # The Misunderstanding\n",
    "\n",
    "print(book_stack.empty())  # True\n"
   ]
  },
  {
   "cell_type": "markdown",
   "metadata": {},
   "source": [
    "### Queue"
   ]
  },
  {
   "cell_type": "code",
   "execution_count": 4,
   "metadata": {},
   "outputs": [
    {
     "name": "stdout",
     "output_type": "stream",
     "text": [
      "Sushi\n",
      "Lasagna\n",
      "Paella\n",
      "None\n"
     ]
    }
   ],
   "source": [
    "class Node:\n",
    "    def __init__(self, data):\n",
    "        self.data = data\n",
    "        self.next = None\n",
    "\n",
    "\n",
    "class Queue:\n",
    "    def __init__(self):\n",
    "        self.head = None\n",
    "        self.tail = None\n",
    "\n",
    "    def enqueue(self, data):\n",
    "        node = Node(data)\n",
    "        if self.head is None:\n",
    "            self.tail = node\n",
    "            self.head = node\n",
    "        else:\n",
    "            self.tail.next = node\n",
    "            self.tail = node\n",
    "\n",
    "    def dequeue(self):\n",
    "        if self.head is None:\n",
    "            return None\n",
    "        else:\n",
    "            current = self.head\n",
    "            self.head = current.next\n",
    "            current.next = None\n",
    "            return current.data\n",
    "\n",
    "    def empty(self):\n",
    "        return self.head is None\n",
    "\n",
    "\n",
    "orders = Queue()\n",
    "\n",
    "orders.enqueue(\"Sushi\")\n",
    "orders.enqueue(\"Lasagna\")\n",
    "orders.enqueue(\"Paella\")\n",
    "\n",
    "print(orders.dequeue())  # Sushi\n",
    "print(orders.dequeue())  # Lasagna\n",
    "print(orders.dequeue())  # Paella\n",
    "print(orders.dequeue())  # None\n"
   ]
  },
  {
   "cell_type": "markdown",
   "metadata": {},
   "source": [
    "### SimpleQueue"
   ]
  },
  {
   "cell_type": "code",
   "execution_count": 5,
   "metadata": {},
   "outputs": [
    {
     "name": "stdout",
     "output_type": "stream",
     "text": [
      "Sushi\n",
      "Lasagna\n",
      "Paella\n",
      "True\n"
     ]
    }
   ],
   "source": [
    "from queue import SimpleQueue\n",
    "\n",
    "orders = SimpleQueue()\n",
    "\n",
    "orders.put(\"Sushi\")\n",
    "orders.put(\"Lasagna\")\n",
    "orders.put(\"Paella\")\n",
    "\n",
    "print(orders.get())  # Sushi\n",
    "print(orders.get())  # Lasagna\n",
    "print(orders.get())  # Paella\n",
    "\n",
    "print(orders.empty())  # True\n"
   ]
  },
  {
   "cell_type": "markdown",
   "metadata": {},
   "source": [
    "### Tree"
   ]
  },
  {
   "cell_type": "code",
   "execution_count": 6,
   "metadata": {},
   "outputs": [],
   "source": [
    "# this is a binary tree because each node has at most two children\n",
    "class Node:\n",
    "    def __init__(self, data, left=None, right=None):\n",
    "        self.data = data\n",
    "        self.left = left\n",
    "        self.right = right\n",
    "\n",
    "\n",
    "#   A\n",
    "#  / \\\n",
    "# B   C\n",
    "node1 = Node(\"B\")\n",
    "node2 = Node(\"C\")\n",
    "node3 = Node(\"A\", node1, node2)\n"
   ]
  },
  {
   "cell_type": "markdown",
   "metadata": {},
   "source": [
    "### Graph"
   ]
  },
  {
   "cell_type": "code",
   "execution_count": 7,
   "metadata": {},
   "outputs": [],
   "source": [
    "class Graph:\n",
    "    def __init__(self):\n",
    "        self.vertices = {}\n",
    "\n",
    "    def add_vertex(self, vertex):\n",
    "        self.vertices[vertex] = []\n",
    "\n",
    "    # could make this a weighted graph by adding a weight parameter\n",
    "    # instead of appending just the dest, append a tuple of (dest, weight)\n",
    "    def add_edge(self, src, dest):\n",
    "        self.vertices[src].append(dest)\n",
    "\n",
    "\n",
    "graph = Graph()\n",
    "\n",
    "graph.add_vertex(\"numpy\")\n",
    "graph.add_vertex(\"pandas\")  # depends on numpy\n",
    "graph.add_vertex(\"matplotlib\")  # depends on numpy\n",
    "graph.add_vertex(\"seaborn\")  # depends on matplotlib, which depends on numpy\n",
    "\n",
    "graph.add_edge(\"pandas\", \"numpy\")\n",
    "graph.add_edge(\"matplotlib\", \"numpy\")\n",
    "graph.add_edge(\"seaborn\", \"matplotlib\")\n"
   ]
  },
  {
   "cell_type": "markdown",
   "metadata": {},
   "source": [
    "### Binary Search Tree\n",
    "\n",
    "A _binary search tree_ is a binary tree with the following properties:\n",
    "  1. The value of every node in a node's left subtree is less than the value of that node.\n",
    "  2. The value of every node in a node's right subtree is greater than the value of that node.\n",
    "  3. The value of every node is unique."
   ]
  },
  {
   "cell_type": "code",
   "execution_count": 8,
   "metadata": {},
   "outputs": [],
   "source": [
    "class BinarySearchTree:\n",
    "    def __init__(self):\n",
    "        self.root = None\n",
    "\n",
    "    def insert(self, data):\n",
    "        node = Node(data)\n",
    "        if self.root is None:\n",
    "            self.root = node\n",
    "            return None\n",
    "        else:\n",
    "            current = self.root\n",
    "            while True:\n",
    "                if data < current.data:\n",
    "                    if current.left is None:\n",
    "                        current.left = node\n",
    "                        return None\n",
    "                    else:\n",
    "                        current = current.left\n",
    "                elif data > current.data:\n",
    "                    if current.right is None:\n",
    "                        current.right = node\n",
    "                        return None\n",
    "                    else:\n",
    "                        current = current.right\n",
    "\n",
    "    def find_min(self):\n",
    "        current = self.root\n",
    "        while current.left:\n",
    "            current = current.left\n",
    "        return current.data\n",
    "\n",
    "    def in_order(self, current):\n",
    "        if current:\n",
    "            self.in_order(current.left)\n",
    "            print(current.data)\n",
    "            self.in_order(current.right)\n"
   ]
  },
  {
   "cell_type": "markdown",
   "metadata": {},
   "source": [
    "### Expression Tree\n",
    "\n",
    "An _expression tree_ is a binary tree for representing arithmetic operations in which each internal node corresponds to the operator and each leaf node corresponds to the operand."
   ]
  },
  {
   "cell_type": "code",
   "execution_count": 9,
   "metadata": {},
   "outputs": [],
   "source": [
    "class ExpressionTree:\n",
    "    def __init__(self):\n",
    "        self.root = None\n",
    "\n",
    "    def pre_order(self, current):\n",
    "        if current:\n",
    "            print(current.data)\n",
    "            self.pre_order(current.left)\n",
    "            self.pre_order(current.right)\n"
   ]
  },
  {
   "cell_type": "markdown",
   "metadata": {},
   "source": [
    "## Algorithms"
   ]
  },
  {
   "cell_type": "markdown",
   "metadata": {},
   "source": [
    "### Linear Search"
   ]
  },
  {
   "cell_type": "code",
   "execution_count": 10,
   "metadata": {},
   "outputs": [
    {
     "name": "stdout",
     "output_type": "stream",
     "text": [
      "1\n"
     ]
    }
   ],
   "source": [
    "def linear_search(arr, target):\n",
    "    for i in range(len(arr)):\n",
    "        if arr[i] == target:\n",
    "            return i\n",
    "    return -1\n",
    "\n",
    "\n",
    "print(linear_search([1, 5, 8, 9, 15, 20, 70, 72], 5))  # 1\n"
   ]
  },
  {
   "cell_type": "markdown",
   "metadata": {},
   "source": [
    "### Binary Search"
   ]
  },
  {
   "cell_type": "code",
   "execution_count": 11,
   "metadata": {},
   "outputs": [
    {
     "name": "stdout",
     "output_type": "stream",
     "text": [
      "1\n"
     ]
    }
   ],
   "source": [
    "def binary_search(arr, target):\n",
    "    left = 0\n",
    "    right = len(arr) - 1\n",
    "    while left <= right:\n",
    "        middle = (left + right) // 2\n",
    "        if arr[middle] == target:\n",
    "            return middle\n",
    "        elif arr[middle] > target:\n",
    "            right = middle - 1\n",
    "        else:\n",
    "            left = middle + 1\n",
    "    return -1\n",
    "\n",
    "\n",
    "print(binary_search([1, 5, 8, 9, 15, 20, 70, 72], 5))  # 1\n"
   ]
  },
  {
   "cell_type": "markdown",
   "metadata": {},
   "source": [
    "### Recursive Fibonacci\n",
    "\n",
    "This is the classic recursive algorithm example. The Fibonacci sequence starts off like `0 1 1 2 3 5 8 13 ...` where each number is the sum of the previous two numbers.\n",
    "\n",
    "The time complexity of the recursive algorithm is $O(2^n)$. Note that this is _expontential_ time complexity, where the exponent is the size of the input. Don't confuse this with quadratic time, which is $O(n^2)$ (polynomial).\n",
    "\n",
    "Notice that once we pass an integer greater than 35, the function starts to take a long time to run."
   ]
  },
  {
   "cell_type": "code",
   "execution_count": 12,
   "metadata": {},
   "outputs": [
    {
     "name": "stdout",
     "output_type": "stream",
     "text": [
      "9227465\n"
     ]
    }
   ],
   "source": [
    "def fibonacci(n):\n",
    "    if n <= 1:\n",
    "        return n\n",
    "    else:\n",
    "        return fibonacci(n - 1) + fibonacci(n - 2)\n",
    "\n",
    "\n",
    "print(fibonacci(35))\n"
   ]
  },
  {
   "cell_type": "markdown",
   "metadata": {},
   "source": [
    "### Memoized Fibonacci\n",
    "\n",
    "This is the same as the recursive Fibonacci algorithm, except we use a dictionary to store previously computed values.\n",
    "\n",
    "This is called _memoization_. If a memoized function is called again with the same arguments, it doesn't have to recompute the result. This reduces the time complexity from $O(2^n)$ to $O(n)$.\n",
    "\n",
    "Previously it took ~2 seconds to calculate $f(35)$, but now it takes ~200 µs (microseconds) to calculate $f(350)$."
   ]
  },
  {
   "cell_type": "code",
   "execution_count": 13,
   "metadata": {},
   "outputs": [
    {
     "name": "stdout",
     "output_type": "stream",
     "text": [
      "6254449428820551641549772190170184190608177514674331726439961915653414425\n"
     ]
    }
   ],
   "source": [
    "def fib_cache(n, cache={}):\n",
    "    if n <= 1:\n",
    "        return n\n",
    "    elif n in cache:\n",
    "        return cache[n]\n",
    "    cache[n] = fib_cache(n - 1, cache) + fib_cache(n - 2, cache)\n",
    "    return cache[n]\n",
    "\n",
    "\n",
    "print(fib_cache(350))\n"
   ]
  },
  {
   "cell_type": "markdown",
   "metadata": {},
   "source": [
    "### Towers of Hanoi\n",
    "\n",
    "The Towers of Hanoi is a classic puzzle where disks of progressively smaller sizes are stacked on one of three pegs. To win the game, you have to move all of the disks from one peg to another while never placing a larger disk on top of a smaller disk."
   ]
  },
  {
   "cell_type": "code",
   "execution_count": 14,
   "metadata": {},
   "outputs": [
    {
     "name": "stdout",
     "output_type": "stream",
     "text": [
      "Moving disk 1 from rod A to rod B\n",
      "Moving disk 2 from rod A to rod C\n",
      "Moving disk 1 from rod B to rod C\n",
      "Moving disk 3 from rod A to rod B\n",
      "Moving disk 1 from rod C to rod A\n",
      "Moving disk 2 from rod C to rod B\n",
      "Moving disk 1 from rod A to rod B\n",
      "Moving disk 4 from rod A to rod C\n",
      "Moving disk 1 from rod B to rod C\n",
      "Moving disk 2 from rod B to rod A\n",
      "Moving disk 1 from rod C to rod A\n",
      "Moving disk 3 from rod B to rod C\n",
      "Moving disk 1 from rod A to rod B\n",
      "Moving disk 2 from rod A to rod C\n",
      "Moving disk 1 from rod B to rod C\n"
     ]
    }
   ],
   "source": [
    "def hanoi(n, src, dest, aux):\n",
    "    if n == 1:\n",
    "        print(f\"Moving disk {n} from rod {src} to rod {dest}\")\n",
    "    elif n > 1:\n",
    "        hanoi(n - 1, src, aux, dest)\n",
    "        print(f\"Moving disk {n} from rod {src} to rod {dest}\")\n",
    "        hanoi(n - 1, aux, dest, src)\n",
    "\n",
    "\n",
    "hanoi(4, \"A\", \"C\", \"B\")\n"
   ]
  },
  {
   "cell_type": "markdown",
   "metadata": {},
   "source": [
    "### Depth-First Search (DFS)"
   ]
  },
  {
   "cell_type": "code",
   "execution_count": 15,
   "metadata": {},
   "outputs": [],
   "source": [
    "def dfs(visited, graph, current):\n",
    "    if current not in visited:\n",
    "        print(current)\n",
    "        visited.add(current)\n",
    "        for neighbor in graph[current]:\n",
    "            dfs(visited, graph, neighbor)\n"
   ]
  },
  {
   "cell_type": "markdown",
   "metadata": {},
   "source": [
    "### Breadth-First Search (BFS)"
   ]
  },
  {
   "cell_type": "code",
   "execution_count": 16,
   "metadata": {},
   "outputs": [],
   "source": [
    "from queue import SimpleQueue\n",
    "\n",
    "\n",
    "def bfs(graph, start, search):\n",
    "    visited = []\n",
    "    queue = SimpleQueue()\n",
    "    visited.append(start)\n",
    "\n",
    "    while not queue.empty():\n",
    "        current = queue.get()\n",
    "        if current == search:\n",
    "            return True\n",
    "        for neighbor in graph[current]:\n",
    "            if neighbor not in visited:\n",
    "                visited.append(neighbor)\n",
    "                queue.put(neighbor)\n",
    "    return False\n"
   ]
  },
  {
   "cell_type": "markdown",
   "metadata": {},
   "source": [
    "### Bubble Sort"
   ]
  },
  {
   "cell_type": "code",
   "execution_count": 17,
   "metadata": {},
   "outputs": [
    {
     "name": "stdout",
     "output_type": "stream",
     "text": [
      "[1, 2, 4, 5, 7, 9]\n"
     ]
    }
   ],
   "source": [
    "# https://www.geeksforgeeks.org/bubble-sort\n",
    "def bubble_sort(arr):\n",
    "    n = len(arr)\n",
    "\n",
    "    for i in range(n):\n",
    "        swapped = False\n",
    "\n",
    "        # last i elements are already in place\n",
    "        for j in range(0, n - i - 1):\n",
    "            # swap if the element found is greater than the next element\n",
    "            if arr[j] > arr[j + 1]:\n",
    "                arr[j], arr[j + 1] = arr[j + 1], arr[j]\n",
    "                swapped = True\n",
    "        if not swapped:\n",
    "            return arr\n",
    "\n",
    "\n",
    "print(bubble_sort([5, 7, 9, 1, 4, 2]))\n"
   ]
  },
  {
   "cell_type": "markdown",
   "metadata": {},
   "source": [
    "### Selection Sort"
   ]
  },
  {
   "cell_type": "code",
   "execution_count": 18,
   "metadata": {},
   "outputs": [
    {
     "name": "stdout",
     "output_type": "stream",
     "text": [
      "[2, 4, 6, 7, 8, 9]\n"
     ]
    }
   ],
   "source": [
    "# https://www.geeksforgeeks.org/selection-sort\n",
    "def selection_sort(arr):\n",
    "    n = len(arr)\n",
    "\n",
    "    for i in range(n):\n",
    "        min = i\n",
    "\n",
    "        for j in range(i + 1, n):\n",
    "            if arr[min] > arr[j]:\n",
    "                min = j\n",
    "\n",
    "        # swap\n",
    "        arr[i], arr[min] = arr[min], arr[i]\n",
    "\n",
    "    return arr\n",
    "\n",
    "\n",
    "print(selection_sort([6, 2, 9, 7, 4, 8]))\n"
   ]
  },
  {
   "cell_type": "markdown",
   "metadata": {},
   "source": [
    "### Merge Sort"
   ]
  },
  {
   "cell_type": "code",
   "execution_count": 19,
   "metadata": {},
   "outputs": [
    {
     "name": "stdout",
     "output_type": "stream",
     "text": [
      "[1, 4, 20, 22, 30, 35, 40, 50, 90]\n"
     ]
    }
   ],
   "source": [
    "# https://www.geeksforgeeks.org/merge-sort\n",
    "def merge_sort(arr):\n",
    "    n = len(arr)\n",
    "\n",
    "    if n > 1:\n",
    "        mid = n // 2\n",
    "        left = arr[:mid]\n",
    "        right = arr[mid:]\n",
    "        merge_sort(left)\n",
    "        merge_sort(right)\n",
    "        # chaining assignment (set all to zero)\n",
    "        i = j = k = 0\n",
    "\n",
    "        while i < len(left) and j < len(right):\n",
    "            if left[i] <= right[j]:\n",
    "                arr[k] = left[i]\n",
    "                i += 1\n",
    "            else:\n",
    "                arr[k] = right[j]\n",
    "                j += 1\n",
    "            k += 1\n",
    "\n",
    "        while i < len(left):\n",
    "            arr[k] = left[i]\n",
    "            i += 1\n",
    "            k += 1\n",
    "\n",
    "        while j < len(right):\n",
    "            arr[k] = right[j]\n",
    "            j += 1\n",
    "            k += 1\n",
    "\n",
    "    return arr\n",
    "\n",
    "\n",
    "print(merge_sort([35, 22, 90, 4, 50, 20, 30, 40, 1]))\n"
   ]
  },
  {
   "cell_type": "markdown",
   "metadata": {},
   "source": [
    "### Quicksort"
   ]
  },
  {
   "cell_type": "code",
   "execution_count": 20,
   "metadata": {},
   "outputs": [],
   "source": [
    "# https://www.geeksforgeeks.org/quick-sort\n",
    "def partition(arr, low, high):\n",
    "    pivot = arr[high]\n",
    "    i = low - 1\n",
    "\n",
    "    for j in range(low, high):\n",
    "        if arr[j] <= pivot:\n",
    "            i += 1\n",
    "            # swap\n",
    "            arr[i], arr[j] = arr[j], arr[i]\n",
    "\n",
    "    # swap\n",
    "    arr[i + 1], arr[high] = arr[high], arr[i + 1]\n",
    "\n",
    "    return i + 1\n",
    "\n",
    "\n",
    "def quick_sort(arr, low, high):\n",
    "    if low < high:\n",
    "        pivot_index = partition(arr, low, high)\n",
    "        quick_sort(arr, low, pivot_index - 1)\n",
    "        quick_sort(arr, pivot_index + 1, high)\n"
   ]
  }
 ],
 "metadata": {
  "kernelspec": {
   "display_name": "datacamp-kYionb3o-py3.11",
   "language": "python",
   "name": "python3"
  },
  "language_info": {
   "codemirror_mode": {
    "name": "ipython",
    "version": 3
   },
   "file_extension": ".py",
   "mimetype": "text/x-python",
   "name": "python",
   "nbconvert_exporter": "python",
   "pygments_lexer": "ipython3",
   "version": "3.11.6"
  },
  "orig_nbformat": 4
 },
 "nbformat": 4,
 "nbformat_minor": 2
}
