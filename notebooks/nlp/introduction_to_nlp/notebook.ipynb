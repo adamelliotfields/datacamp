{
 "cells": [
  {
   "cell_type": "markdown",
   "metadata": {},
   "source": [
    "# [Introduction to NLP](https://www.datacamp.com/completed/statement-of-accomplishment/course/89ebcecf21a1aa446c1899e9003f59e839a3478c)\n",
    "\n",
    "[![Open in Colab](https://colab.research.google.com/assets/colab-badge.svg)](https://colab.research.google.com/github/adamelliotfields/datacamp/blob/main/notebooks/nlp/introduction_to_nlp/notebook.ipynb)\n",
    "\n",
    "**Contents**\n",
    "- [Word Tokenization](#Word-Tokenization)\n",
    "- [Topic Identification](#Topic-Identification)\n",
    "- [Named Entity Recognition](#Named-Entity-Recognition)\n",
    "- [Supervised Learning Classification](#Supervised-Learning-Classification)"
   ]
  },
  {
   "cell_type": "code",
   "execution_count": null,
   "metadata": {},
   "outputs": [],
   "source": [
    "!python -m spacy download en_core_web_sm"
   ]
  },
  {
   "cell_type": "code",
   "execution_count": null,
   "metadata": {},
   "outputs": [],
   "source": [
    "!python -m polyglot download embeddings2.fr ner2.fr"
   ]
  },
  {
   "cell_type": "code",
   "execution_count": 1,
   "metadata": {},
   "outputs": [],
   "source": [
    "import itertools\n",
    "import nltk\n",
    "import os\n",
    "import pickle\n",
    "import re\n",
    "import requests\n",
    "import spacy\n",
    "\n",
    "import matplotlib.pyplot as plt\n",
    "import numpy as np\n",
    "import pandas as pd\n",
    "\n",
    "from collections import Counter, defaultdict\n",
    "from gensim.corpora.dictionary import Dictionary\n",
    "from gensim.models.tfidfmodel import TfidfModel\n",
    "from nltk.corpus import stopwords\n",
    "from nltk.stem import WordNetLemmatizer\n",
    "from nltk.tokenize import regexp_tokenize, sent_tokenize, word_tokenize\n",
    "from polyglot.text import Text\n",
    "from sklearn import metrics\n",
    "from sklearn.feature_extraction.text import CountVectorizer, TfidfVectorizer\n",
    "from sklearn.model_selection import GridSearchCV, train_test_split\n",
    "from sklearn.naive_bayes import MultinomialNB\n",
    "from urllib.request import urlretrieve\n",
    "from warnings import filterwarnings\n",
    "from yellowbrick.classifier import ConfusionMatrix\n",
    "\n",
    "BASE_URL = \"https://raw.githubusercontent.com/adamelliotfields/datacamp/main/notebooks/nlp/introduction_to_nlp/\"\n",
    "\n",
    "filterwarnings(\"ignore\", category=UserWarning, module=\"spacy\")\n",
    "\n",
    "nltk.download(\"averaged_perceptron_tagger\", quiet=True)\n",
    "nltk.download(\"maxent_ne_chunker\", quiet=True)\n",
    "nltk.download(\"punkt\", quiet=True)\n",
    "nltk.download(\"stopwords\", quiet=True)\n",
    "nltk.download(\"wordnet\", quiet=True)\n",
    "nltk.download(\"words\", quiet=True)\n",
    "\n",
    "english_stops = stopwords.words(\"english\")\n",
    "nlp = spacy.load(\"en_core_web_sm\", disable=[\"tagger\", \"parser\", \"matcher\"])\n",
    "\n",
    "urlretrieve(BASE_URL + \"articles.pkl\", \"articles.pkl\")\n",
    "with open(\"articles.pkl\", \"rb\") as f:\n",
    "    articles = pickle.load(f)\n",
    "\n",
    "urlretrieve(BASE_URL + \"debugging.txt\", \"debugging.txt\")\n",
    "with open(\"debugging.txt\", \"r\") as f:\n",
    "    debugging = f.read()\n",
    "\n",
    "urlretrieve(BASE_URL + \"doc.pkl\", \"doc.pkl\")\n",
    "with open(\"doc.pkl\", \"rb\") as f:\n",
    "    doc = pickle.load(f)\n",
    "\n",
    "urlretrieve(BASE_URL + \"french.txt\", \"french.txt\")\n",
    "with open(\"french.txt\", \"r\") as f:\n",
    "    french = f.read()\n",
    "\n",
    "urlretrieve(BASE_URL + \"holy_grail.txt\", \"holy_grail.txt\")\n",
    "with open(\"holy_grail.txt\", \"r\") as f:\n",
    "    holy_grail = f.read()\n",
    "\n",
    "urlretrieve(BASE_URL + \"uber.txt\", \"uber.txt\")\n",
    "with open(\"uber.txt\", \"r\") as f:\n",
    "    uber = f.read()\n",
    "\n",
    "if not os.path.exists(\"fake_or_real_news.csv\"):\n",
    "    base = \"https://s3.amazonaws.com/assets.datacamp.com/production/course_3629/\"\n",
    "    response = requests.get(base + \"fake_or_real_news.csv\")\n",
    "    with open(\"fake_or_real_news.csv\", \"w\") as f:\n",
    "        f.write(response.content)\n",
    "\n",
    "fake_or_real_news = pd.read_csv(\"fake_or_real_news.csv\")"
   ]
  },
  {
   "cell_type": "markdown",
   "metadata": {},
   "source": [
    "## Word Tokenization"
   ]
  },
  {
   "cell_type": "code",
   "execution_count": 2,
   "metadata": {},
   "outputs": [
    {
     "name": "stdout",
     "output_type": "stream",
     "text": [
      "['bird', 'interested', 'master', 'or', 'SOLDIER', 'temperate', 'suggesting', 'African', 'sovereign', 'Britons']\n"
     ]
    }
   ],
   "source": [
    "# first 40 lines of holy_grail\n",
    "scene_one = \"\\n\".join(holy_grail.split(\"\\n\")[:40])\n",
    "\n",
    "# split into sentences\n",
    "sentences = sent_tokenize(scene_one)\n",
    "\n",
    "# tokenize 4th sentence\n",
    "tokenized_sent = word_tokenize(sentences[3])\n",
    "\n",
    "# set of unique tokens in the entire scene\n",
    "unique_tokens = set(word_tokenize(scene_one))\n",
    "\n",
    "# print first 10 words from unique_tokens\n",
    "print(list(unique_tokens)[:10])"
   ]
  },
  {
   "cell_type": "code",
   "execution_count": 3,
   "metadata": {},
   "outputs": [
    {
     "name": "stdout",
     "output_type": "stream",
     "text": [
      "['Wann', 'gehen', 'wir', 'Pizza', 'essen', '?', '🍕', 'Und', 'fährst', 'du', 'mit', 'Über', '?', '🚕']\n",
      "['Wann', 'Pizza', 'Und', 'Über']\n",
      "['🍕', '🚕']\n"
     ]
    }
   ],
   "source": [
    "german_text = \"Wann gehen wir Pizza essen? 🍕 Und fährst du mit Über? 🚕\"\n",
    "\n",
    "# tokenize words\n",
    "all_words = word_tokenize(german_text)\n",
    "print(all_words)\n",
    "\n",
    "# only capital words\n",
    "capital_words = r\"[A-ZÜ]\\w+\"\n",
    "print(regexp_tokenize(german_text, capital_words))\n",
    "\n",
    "# emoji\n",
    "emoji = \"['\\U0001f300-\\U0001f5ff'|'\\U0001f600-\\U0001f64f'|'\\U0001f680-\\U0001f6ff'|'\\u2600-\\u26ff\\u2700-\\u27bf']\"\n",
    "print(regexp_tokenize(german_text, emoji))"
   ]
  },
  {
   "cell_type": "code",
   "execution_count": 4,
   "metadata": {},
   "outputs": [
    {
     "data": {
      "image/png": "[encoded data removed]",
      "text/plain": [
       "<Figure size 800x550 with 1 Axes>"
      ]
     },
     "metadata": {},
     "output_type": "display_data"
    }
   ],
   "source": [
    "lines = holy_grail.split(\"\\n\")\n",
    "pattern = \"[A-Z]{2,}(\\s)?(#\\d)?([A-Z]{2,})?:\"\n",
    "\n",
    "# replace all script lines\n",
    "lines = [re.sub(pattern, \"\", line) for line in lines]\n",
    "\n",
    "# tokenize lines\n",
    "tokenized_lines = [regexp_tokenize(line, \"\\w+\") for line in lines]\n",
    "\n",
    "# frequency list\n",
    "line_num_words = [len(line) for line in tokenized_lines]\n",
    "\n",
    "# plot histogram\n",
    "plt.hist(line_num_words)\n",
    "plt.show()"
   ]
  },
  {
   "cell_type": "markdown",
   "metadata": {},
   "source": [
    "## Topic Identification"
   ]
  },
  {
   "cell_type": "code",
   "execution_count": 5,
   "metadata": {},
   "outputs": [
    {
     "name": "stdout",
     "output_type": "stream",
     "text": [
      "[(',', 151), ('the', 150), ('.', 89), ('of', 81), (\"''\", 69), ('to', 63), ('a', 60), ('``', 47), ('in', 44), ('and', 41)]\n"
     ]
    }
   ],
   "source": [
    "tokens = word_tokenize(debugging)\n",
    "lower_tokens = [t.lower() for t in tokens]\n",
    "\n",
    "# bag-of-words counter\n",
    "bow_simple = Counter(lower_tokens)\n",
    "print(bow_simple.most_common(10))"
   ]
  },
  {
   "cell_type": "markdown",
   "metadata": {},
   "source": [
    "### Lemmatization\n",
    "\n",
    "_Lemmatization_ is the process of reducing words to their base or root form, known as a _lemma_. It is similar to stemming, but it involves understanding the context. For example, the lemma of \"better\" is \"good\", not \"bet\".\n",
    "\n",
    "In `nltk`, the `WordNetLemmatizer` uses the [WordNet](https://wordnet.princeton.edu) database to lookup the lemma of a word."
   ]
  },
  {
   "cell_type": "code",
   "execution_count": 6,
   "metadata": {},
   "outputs": [
    {
     "name": "stdout",
     "output_type": "stream",
     "text": [
      "[('debugging', 39), ('system', 25), ('bug', 17), ('software', 16), ('problem', 15), ('tool', 15), ('computer', 14), ('process', 13), ('term', 13), ('debugger', 13)]\n"
     ]
    }
   ],
   "source": [
    "# remove punctuation\n",
    "alpha_only = [t for t in lower_tokens if t.isalpha()]\n",
    "\n",
    "# remove stop words\n",
    "no_stops = [t for t in alpha_only if t not in english_stops]\n",
    "\n",
    "# instantiate lemmatizer\n",
    "wordnet_lemmatizer = WordNetLemmatizer()\n",
    "\n",
    "# lemmatize tokens into a new list\n",
    "lemmatized = [wordnet_lemmatizer.lemmatize(t) for t in no_stops]\n",
    "\n",
    "# bag-of-words\n",
    "bow = Counter(lemmatized)\n",
    "print(bow.most_common(10))"
   ]
  },
  {
   "cell_type": "markdown",
   "metadata": {},
   "source": [
    "### Term Frequency-Inverse Document Frequency\n",
    "\n",
    "_Term frequency_ measures how frequently a term occurs in a document. It is the total number of occurrences divided by the total number of words in the document. _Inverse document frequency_ measures how important a term is across a set of documents. It is calculated by dividing the total number of documents by the number of documents containing the term, and then taking the logarithm of that quotient.\n",
    "\n",
    "The idea is that a term is more important if it occurs frequently in a document, but less important if it occurs frequently across a set of documents. For example, the word \"sky\" could be important in a single document if used frequently, but in a corpus about astronomy it would be less important because it would most likely occur in every document. The significance of a term diminishes as it becomes more commonplace across documents.\n",
    "\n",
    "The formula for TF-IDF is:\n",
    "\n",
    "$w_{i,j} = tf_{i,j} \\times log(\\frac{N}{df_i})$\n",
    "\n",
    "where $w_{i,j}$ is the TF-IDF weight for term $i$ in document $j$, $tf_{i,j}$ is the number of occurences of term $i$ in document $j$, $N$ is the total number of documents, and $df_i$ is the number of documents containing term $i$."
   ]
  },
  {
   "cell_type": "code",
   "execution_count": 7,
   "metadata": {},
   "outputs": [
    {
     "name": "stdout",
     "output_type": "stream",
     "text": [
      "'' 1006\n",
      "computer 598\n",
      "`` 555\n",
      "software 450\n",
      "cite 322\n"
     ]
    }
   ],
   "source": [
    "dictionary = Dictionary(articles)\n",
    "corpus = [dictionary.doc2bow(a) for a in articles]\n",
    "\n",
    "# defaultdict allows us to assign a default value for non-existent keys\n",
    "total_word_count = defaultdict(int)\n",
    "for id, count in itertools.chain.from_iterable(corpus):\n",
    "    total_word_count[id] += count\n",
    "\n",
    "sorted_word_count = sorted(\n",
    "    total_word_count.items(),\n",
    "    key=lambda x: x[1],\n",
    "    reverse=True,\n",
    ")\n",
    "\n",
    "# print top 5 words across all documents\n",
    "for id, count in sorted_word_count[:5]:\n",
    "    print(dictionary.get(id), count)"
   ]
  },
  {
   "cell_type": "code",
   "execution_count": 8,
   "metadata": {},
   "outputs": [
    {
     "name": "stdout",
     "output_type": "stream",
     "text": [
      "reverse 0.4987515710425556\n",
      "infringement 0.1854420793422032\n",
      "engineering 0.16280628072296138\n",
      "interoperability 0.12362805289480211\n",
      "reverse-engineered 0.12362805289480211\n"
     ]
    }
   ],
   "source": [
    "tfidf = TfidfModel(corpus)\n",
    "tfidf_weights = tfidf[doc]\n",
    "sorted_tfidf_weights = sorted(\n",
    "    tfidf_weights,\n",
    "    key=lambda x: x[1],\n",
    "    reverse=True,\n",
    ")\n",
    "\n",
    "# print top 5 weighted words\n",
    "for id, weight in sorted_tfidf_weights[:5]:\n",
    "    print(dictionary.get(id), weight)"
   ]
  },
  {
   "cell_type": "markdown",
   "metadata": {},
   "source": [
    "## Named Entity Recognition\n",
    "\n",
    "_Named Entity Recognition_ (NER) is the NLP task of identifying and classifying _named entities_ in text. Named entities are real-world objects with names, like people, places, dates, famous objects, and so on."
   ]
  },
  {
   "cell_type": "code",
   "execution_count": 9,
   "metadata": {},
   "outputs": [
    {
     "name": "stdout",
     "output_type": "stream",
     "text": [
      "(NE Uber/NNP)\n",
      "(NE Beyond/NN)\n",
      "(NE Apple/NNP)\n",
      "(NE Uber/NNP)\n",
      "(NE Uber/NNP)\n",
      "(NE Travis/NNP Kalanick/NNP)\n",
      "(NE Tim/NNP Cook/NNP)\n",
      "(NE Apple/NNP)\n",
      "(NE Silicon/NNP Valley/NNP)\n",
      "(NE CEO/NNP)\n",
      "(NE Yahoo/NNP)\n",
      "(NE Marissa/NNP Mayer/NNP)\n"
     ]
    }
   ],
   "source": [
    "# tokenize sentences\n",
    "sentences = sent_tokenize(uber)\n",
    "token_sentences = [word_tokenize(s) for s in sentences]\n",
    "\n",
    "# tag each tokenized sentence into parts-of-speech\n",
    "pos_sentences = [nltk.pos_tag(s) for s in token_sentences]\n",
    "\n",
    "# create named entity chunks\n",
    "chunked_sentences = nltk.ne_chunk_sents(pos_sentences, binary=True)\n",
    "\n",
    "# test for stems of the tree with \"NE\" tags\n",
    "for sentence in chunked_sentences:\n",
    "    for chunk in sentence:\n",
    "        if hasattr(chunk, \"label\") and chunk.label() == \"NE\":\n",
    "            print(chunk)"
   ]
  },
  {
   "cell_type": "code",
   "execution_count": 10,
   "metadata": {},
   "outputs": [
    {
     "data": {
      "image/png": "[encoded data removed]",
      "text/plain": [
       "<Figure size 800x550 with 1 Axes>"
      ]
     },
     "metadata": {},
     "output_type": "display_data"
    }
   ],
   "source": [
    "chunked_sentences = nltk.ne_chunk_sents(pos_sentences, binary=False)\n",
    "\n",
    "# populate categories\n",
    "ner_categories = defaultdict(int)\n",
    "for sentence in chunked_sentences:\n",
    "    for chunk in sentence:\n",
    "        if hasattr(chunk, \"label\"):\n",
    "            ner_categories[chunk.label()] += 1\n",
    "\n",
    "# plot\n",
    "labels = list(ner_categories.keys())\n",
    "values = [ner_categories.get(l) for l in labels]\n",
    "plt.pie(values, labels=labels, autopct=\"%1.1f%%\", startangle=140)\n",
    "plt.show()"
   ]
  },
  {
   "cell_type": "code",
   "execution_count": 11,
   "metadata": {},
   "outputs": [
    {
     "name": "stdout",
     "output_type": "stream",
     "text": [
      "ORG Apple\n",
      "PERSON Uber\n",
      "PERSON Travis Kalanick\n",
      "ORG Uber\n",
      "PERSON Tim Cook\n",
      "ORG Apple\n",
      "CARDINAL Millions\n",
      "ORG Uber\n",
      "LOC Silicon Valley’s\n",
      "NORP democratic\n",
      "ORG Yahoo\n",
      "PERSON Marissa Mayer\n",
      "MONEY 186\n"
     ]
    }
   ],
   "source": [
    "# create a spaCy document\n",
    "doc = nlp(uber)\n",
    "\n",
    "# print named entities\n",
    "for ent in doc.ents:\n",
    "    print(ent.label_, ent.text)"
   ]
  },
  {
   "cell_type": "markdown",
   "metadata": {},
   "source": [
    "### Multilingual NER"
   ]
  },
  {
   "cell_type": "code",
   "execution_count": 12,
   "metadata": {},
   "outputs": [
    {
     "data": {
      "text/plain": [
       "[('I-PER', 'Charles Cuvelliez'),\n",
       " ('I-PER', 'Charles Cuvelliez'),\n",
       " ('I-ORG', 'Bruxelles'),\n",
       " ('I-PER', 'l’IA'),\n",
       " ('I-PER', 'Julien Maldonato'),\n",
       " ('I-ORG', 'Deloitte'),\n",
       " ('I-PER', 'Ethiquement'),\n",
       " ('I-LOC', 'l’IA'),\n",
       " ('I-PER', '.')]"
      ]
     },
     "execution_count": 12,
     "metadata": {},
     "output_type": "execute_result"
    }
   ],
   "source": [
    "txt = Text(french)\n",
    "entities = [(ent.tag, \" \".join(ent)) for ent in txt.entities]\n",
    "entities"
   ]
  },
  {
   "cell_type": "markdown",
   "metadata": {},
   "source": [
    "## Supervised Learning Classification"
   ]
  },
  {
   "cell_type": "code",
   "execution_count": 13,
   "metadata": {},
   "outputs": [
    {
     "name": "stdout",
     "output_type": "stream",
     "text": [
      "['00' '000' '0000' '00000031' '000035' '00006' '0001' '0001pt' '000ft'\n",
      " '000km']\n"
     ]
    }
   ],
   "source": [
    "y = fake_or_real_news.label\n",
    "X_train, X_test, y_train, y_test = train_test_split(\n",
    "    fake_or_real_news[\"text\"],\n",
    "    fake_or_real_news[\"label\"],\n",
    "    test_size=0.33,\n",
    "    random_state=53,\n",
    ")\n",
    "\n",
    "count_vectorizer = CountVectorizer(stop_words=\"english\")\n",
    "count_train = count_vectorizer.fit_transform(X_train)\n",
    "count_test = count_vectorizer.transform(X_test)\n",
    "\n",
    "# first 10 features\n",
    "print(count_vectorizer.get_feature_names_out()[:10])"
   ]
  },
  {
   "cell_type": "code",
   "execution_count": 14,
   "metadata": {},
   "outputs": [
    {
     "name": "stdout",
     "output_type": "stream",
     "text": [
      "[[0. 0. 0. ... 0. 0. 0.]\n",
      " [0. 0. 0. ... 0. 0. 0.]\n",
      " [0. 0. 0. ... 0. 0. 0.]\n",
      " [0. 0. 0. ... 0. 0. 0.]\n",
      " [0. 0. 0. ... 0. 0. 0.]]\n"
     ]
    }
   ],
   "source": [
    "tfidf_vectorizer = TfidfVectorizer(stop_words=\"english\", max_df=0.7)\n",
    "tfidf_train = tfidf_vectorizer.fit_transform(X_train)\n",
    "tfidf_test = tfidf_vectorizer.transform(X_test)\n",
    "\n",
    "# first 5 vectors\n",
    "print(tfidf_train.A[:5])"
   ]
  },
  {
   "cell_type": "markdown",
   "metadata": {},
   "source": [
    "### Naive Bayes\n",
    "\n",
    "The _Naive Bayes_ algorithm is a supervised learning algorithm based on Bayes' theorem. It is _naive_ because it assumes that each feature independently contributes to the probability of a class (which is not always true). For example, if you were classifying movie genres based on their plot summaries, a Bayesian classifier would consider each word in the summary independently."
   ]
  },
  {
   "cell_type": "code",
   "execution_count": 15,
   "metadata": {},
   "outputs": [
    {
     "name": "stdout",
     "output_type": "stream",
     "text": [
      "0.893352462936394\n"
     ]
    }
   ],
   "source": [
    "# fit with CountVectorizer\n",
    "nb_classifier = MultinomialNB()\n",
    "nb_classifier.fit(count_train, y_train)\n",
    "pred = nb_classifier.predict(count_test)\n",
    "score = metrics.accuracy_score(y_test, pred)\n",
    "print(score)"
   ]
  },
  {
   "cell_type": "code",
   "execution_count": 16,
   "metadata": {},
   "outputs": [
    {
     "data": {
      "image/png": "[encoded data removed]",
      "text/plain": [
       "<Figure size 800x550 with 1 Axes>"
      ]
     },
     "metadata": {},
     "output_type": "display_data"
    }
   ],
   "source": [
    "# yellowbrick confusion matrix\n",
    "cm = ConfusionMatrix(nb_classifier, classes=[\"FAKE\", \"REAL\"])\n",
    "cm.fit(count_train, y_train)\n",
    "cm.score(count_test, y_test)\n",
    "cm.show()\n",
    "plt.show()"
   ]
  },
  {
   "cell_type": "code",
   "execution_count": 17,
   "metadata": {},
   "outputs": [
    {
     "name": "stdout",
     "output_type": "stream",
     "text": [
      "0.8565279770444764\n"
     ]
    }
   ],
   "source": [
    "# fit with TfidfVectorizer\n",
    "nb_classifier = MultinomialNB()\n",
    "nb_classifier.fit(tfidf_train, y_train)\n",
    "pred = nb_classifier.predict(tfidf_test)\n",
    "score = metrics.accuracy_score(y_test, pred)\n",
    "print(score)"
   ]
  },
  {
   "cell_type": "code",
   "execution_count": 18,
   "metadata": {},
   "outputs": [
    {
     "data": {
      "image/png": "[encoded data removed]",
      "text/plain": [
       "<Figure size 800x550 with 1 Axes>"
      ]
     },
     "metadata": {},
     "output_type": "display_data"
    }
   ],
   "source": [
    "# yellowbrick confusion matrix\n",
    "cm = ConfusionMatrix(nb_classifier, classes=[\"FAKE\", \"REAL\"])\n",
    "cm.fit(tfidf_train, y_train)\n",
    "cm.score(tfidf_test, y_test)\n",
    "cm.show()\n",
    "plt.show()"
   ]
  },
  {
   "cell_type": "markdown",
   "metadata": {},
   "source": [
    "### Alpha\n",
    "\n",
    "The _alpha_ hyperparameter is used to prevent zero probabilities in the Naive Bayes algorithm by adding a small constant to each probability. This is known as _Laplace smoothing_."
   ]
  },
  {
   "cell_type": "code",
   "execution_count": 19,
   "metadata": {},
   "outputs": [
    {
     "name": "stdout",
     "output_type": "stream",
     "text": [
      "Best alpha: 0.1\n",
      "Best score: 0.8984446185301243\n"
     ]
    }
   ],
   "source": [
    "alphas = np.arange(0.1, 0.5, 0.05)\n",
    "parameters = {\"alpha\": alphas}\n",
    "nb_classifier = MultinomialNB(force_alpha=True)\n",
    "validator = GridSearchCV(nb_classifier, parameters)\n",
    "validator.fit(tfidf_train, y_train)\n",
    "print(\"Best alpha:\", validator.best_estimator_.alpha)\n",
    "print(\"Best score:\", validator.best_score_)"
   ]
  }
 ],
 "metadata": {
  "kernelspec": {
   "display_name": "venv",
   "language": "python",
   "name": "python3"
  },
  "language_info": {
   "codemirror_mode": {
    "name": "ipython",
    "version": 3
   },
   "file_extension": ".py",
   "mimetype": "text/x-python",
   "name": "python",
   "nbconvert_exporter": "python",
   "pygments_lexer": "ipython3",
   "version": "3.11.6"
  }
 },
 "nbformat": 4,
 "nbformat_minor": 2
}
