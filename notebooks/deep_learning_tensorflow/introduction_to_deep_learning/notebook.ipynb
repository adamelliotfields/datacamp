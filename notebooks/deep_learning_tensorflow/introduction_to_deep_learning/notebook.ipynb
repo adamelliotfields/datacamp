{
 "cells": [
  {
   "cell_type": "markdown",
   "metadata": {},
   "source": [
    "# [Introduction to Deep Learning](https://www.datacamp.com/completed/statement-of-accomplishment/course/21654e228f1937d3403f68c9783191c500362728)\n",
    "\n",
    "[![Open in Colab](https://colab.research.google.com/assets/colab-badge.svg)](https://colab.research.google.com/github/adamelliotfields/datacamp/blob/main/notebooks/courses/introduction_to_deep_learning/notebook.ipynb)\n",
    "[![Render nbviewer](https://raw.githubusercontent.com/jupyter/design/main/logos/Badges/nbviewer_badge.svg)](https://nbviewer.org/github/adamelliotfields/datacamp/blob/main/notebooks/courses/introduction_to_deep_learning/notebook.ipynb)\n",
    "\n",
    "**Contents**\n",
    "- [Neural Networks](#Neural-Networks)\n",
    "- [Optimization](#Optimization)\n",
    "- [Keras](#Keras)\n",
    "- [Fine-tuning](#Fine-tuning)\n"
   ]
  },
  {
   "cell_type": "code",
   "execution_count": 1,
   "metadata": {},
   "outputs": [],
   "source": [
    "%matplotlib inline\n",
    "\n",
    "import os\n",
    "import random\n",
    "\n",
    "os.environ[\"TF_CPP_MIN_LOG_LEVEL\"] = \"2\"\n",
    "os.environ[\"PYTHONHASHSEED\"] = \"42\"\n",
    "\n",
    "import keras_tuner as kt\n",
    "import matplotlib.pyplot as plt\n",
    "import numpy as np\n",
    "import pandas as pd\n",
    "import tensorflow as tf\n",
    "\n",
    "from sklearn.metrics import mean_squared_error\n",
    "from sklearn.model_selection import train_test_split\n",
    "from tempfile import TemporaryDirectory\n",
    "from tensorflow import keras\n",
    "\n",
    "random.seed(42)\n",
    "np.random.seed(42)\n",
    "tf.random.set_seed(42)\n",
    "\n",
    "# pre-processed titanic training data\n",
    "titanic = pd.read_csv(\"titanic.csv\")\n"
   ]
  },
  {
   "cell_type": "markdown",
   "metadata": {},
   "source": [
    "## Neural Networks\n",
    "\n",
    "Deep learning is a type of machine learning that relies on artificial _neural networks_: systems of algorithms loosely inspired by biological neural pathways in the brain. The term \"deep\" simply refers to the fact that these networks are comprised of multiple layers of nodes. Each node serves as a tiny processing unit that takes in a number, performs a mathematical operation on it, and passes the result to each node in the next layer. The output of the final layer is the model's prediction.\n",
    "\n",
    "Because deep learning models are mathematical in nature, their input can only be numbers. They can't take in raw text and they don't directly output text. They learn how different input numbers lead to different output numbers by algorithmically adjusting the _weights_ and _biases_ of the model as it is exposed to more data. This is known as _representation learning_ and is what allows deep learning models to learn complex non-linear relationships in data and be applied to difficult tasks like computer vision (e.g., Roomba), natural language processing (e.g., ChatGPT), and reinforcement learning (e.g., playing video games, trading stocks, driving cars).\n",
    "\n",
    "AI researchers study how these networks \"learn\", how to optimize them, and run experiments with new architectures (and publish their discoveries). Engineers solve problems by choosing the right model (architecture), tuning the hyperparameters specific to that model, training the model on data, and evaluating the model's performance in production."
   ]
  },
  {
   "cell_type": "markdown",
   "metadata": {},
   "source": [
    "### Forward Propagation\n",
    "\n",
    "![Neural network diagram](./nn-1.png)\n",
    "\n",
    "_Forward propagation_ is the process of computing the output of a neural network given an input. The neural network in the diagram above has 1 input layer with 2 nodes, a _hidden layer_ with 2 nodes, and an output layer with a single node.\n",
    "\n",
    "The input layer nodes are for each feature (independent variables) and the output layer shape is determined by what you're trying to predict. In this example, we are trying to predict the number of transactions a customer will make in a year given how many bank accounts and children they have. The input layer has 2 nodes: one for accounts and one for children. The output layer has a single node because we are trying to predict a single numerical value.\n",
    "\n",
    "The nodes are joined by weights, which represent the strength of the connection between nodes. The weights are typically inititally random and the model learns better fitting weights over time. In this example, we are using a \"pre-trained\" model because we already have the weights.\n",
    "\n",
    "The hidden layers are where the magic happens. They are \"hidden\" because they are not directly exposed to the input or output data. While we may know the architecture of the network, as the complexity of the network (layers and nodes) grows keeping track of all the weights and how they are used to compute the output becomes increasingly difficult. This is why neural networks are often referred to as \"black boxes\". The outputs from these nodes are just numbers that aren't intuitive to us.\n",
    "\n",
    "**Videos:**\n",
    "- [@DeepLearningAI: Forward Propagation in a Deep Network](https://www.youtube.com/watch?v=a8i2eJin0lY)\n",
    "- [@WelchLabsVideo: Forward Propagation](https://www.youtube.com/watch?v=UJwK6jAStmg)"
   ]
  },
  {
   "cell_type": "code",
   "execution_count": 2,
   "metadata": {},
   "outputs": [],
   "source": [
    "data = np.array([3, 5])  # customer with 3 bank accounts that has 5 children\n",
    "weights = {\n",
    "    \"node_1\": np.array([2, 4]),  # first node in hidden layer\n",
    "    \"node_2\": np.array([4, -5]),  # second node in hidden layer\n",
    "    \"output\": np.array([2, 7]),  # weights from hidden layer nodes to output layer node\n",
    "}\n"
   ]
  },
  {
   "cell_type": "code",
   "execution_count": 3,
   "metadata": {},
   "outputs": [
    {
     "data": {
      "text/plain": [
       "-39"
      ]
     },
     "execution_count": 3,
     "metadata": {},
     "output_type": "execute_result"
    }
   ],
   "source": [
    "# calculate hidden layer dot products (element-wise multiplication and sum)\n",
    "node_1 = (data * weights[\"node_1\"]).sum()  # (3 * 2) + (5 * 4) = 26\n",
    "node_2 = (data * weights[\"node_2\"]).sum()  # (3 * 4) + (5 * -5) = -13\n",
    "\n",
    "# calculate output layer dot product (number of transactions customer will make in a year)\n",
    "prediction = (np.array([node_1, node_2]) * weights[\"output\"]).sum()\n",
    "prediction  # (26 * 2) + (-13 * 7) = -39\n"
   ]
  },
  {
   "cell_type": "markdown",
   "metadata": {},
   "source": [
    "### Activation Functions\n",
    "\n",
    "In our example, `-39` is not a good prediction for the number of bank transactions a customer will make. Our neural network so far is linear. We are just taking input numbers and multiplying them by weights. In real-world data, the relationship between input and output is rarely linear. Adding an _activation function_ allows the model to capture non-linearities in the data.\n",
    "\n",
    "Activation functions are applied to the output of each node in a layer. In early neural networks, the activation function was a [sigmoid](https://en.wikipedia.org/wiki/Sigmoid_function) function like the [logistic](https://en.wikipedia.org/wiki/Logistic_function) or [hyperbolic](https://en.wikipedia.org/wiki/Hyperbolic_functions) tangent (tanh) functions. Modern neural networks use [rectifier](https://en.wikipedia.org/wiki/Rectifier_(neural_networks)) (e.g., ReLU) or [swish](https://en.wikipedia.org/wiki/Swish_function) (e.g., SwiGLU) functions.\n",
    "\n",
    "**Videos:**\n",
    "- [@DeepLearningAI: Activation Functions](https://www.youtube.com/watch?v=Xvg00QnyaIY)\n",
    "- [@AssemblyAI: Activation Functions in Neural Networks Explained](https://www.youtube.com/watch?v=Fu273ovPBmQ)\n",
    "- [@SirajRival: Which Activation Function Should I Use?](https://www.youtube.com/watch?v=-7scQpJT7uo)"
   ]
  },
  {
   "cell_type": "code",
   "execution_count": 4,
   "metadata": {},
   "outputs": [],
   "source": [
    "def relu(x):\n",
    "    \"\"\"Rectified linear unit activation function.\"\"\"\n",
    "    return max(0, x)\n"
   ]
  },
  {
   "cell_type": "code",
   "execution_count": 5,
   "metadata": {},
   "outputs": [],
   "source": [
    "def predict_1(input_data, model_weights):\n",
    "    node_1 = (input_data * model_weights[\"node_1\"]).sum()\n",
    "    node_1 = relu(node_1)\n",
    "\n",
    "    node_2 = (input_data * model_weights[\"node_2\"]).sum()\n",
    "    node_2 = relu(node_2)\n",
    "\n",
    "    prediction = (np.array([node_1, node_2]) * model_weights[\"output\"]).sum()\n",
    "    return prediction\n"
   ]
  },
  {
   "cell_type": "code",
   "execution_count": 6,
   "metadata": {},
   "outputs": [
    {
     "data": {
      "text/plain": [
       "[52, 63, 0, 148]"
      ]
     },
     "execution_count": 6,
     "metadata": {},
     "output_type": "execute_result"
    }
   ],
   "source": [
    "inputs = [\n",
    "    np.array([3, 5]),\n",
    "    np.array([1, -1]),\n",
    "    np.array([0, 0]),\n",
    "    np.array([8, 4]),\n",
    "]\n",
    "outputs = []\n",
    "\n",
    "for i in inputs:\n",
    "    outputs.append(predict_1(i, weights))\n",
    "\n",
    "outputs  # [52, 63, 0, 148]\n"
   ]
  },
  {
   "cell_type": "markdown",
   "metadata": {},
   "source": [
    "### Deeper Networks\n",
    "\n",
    "![Deeper neural network diagram](./nn-2.png)\n",
    "\n",
    "So far our network only has 1 hidden layer, but in practice neural nets have many layers with many nodes in each layer. Even more advanced networks could be viewed as a network of networks, where the output of one network could be conditionally fed into another network.\n",
    "\n",
    "The more complex the network, the more complex the relationships or patterns it can learn. Image recognition networks are a good way to conceptualize this. The outer layers learn simple patterns like edges and corners, and the inner layers learn more complex patterns like shapes and objects the deeper you go.\n",
    "\n",
    "The goal is to design a network that is able to learn complex patterns while not learning noise or memorizing the entire dataset. This is known as the _bias-variance tradeoff_. A model with high bias is too simple and doesn't learn the patterns in the data. A model with high variance is too complex and learns the noise in the data.\n",
    "\n",
    "A model's _capacity_ refers to its ability to learn complex patterns. A model with high capacity (more neurons and layers) will be able to learn these patterns, but risks overfitting."
   ]
  },
  {
   "cell_type": "code",
   "execution_count": 7,
   "metadata": {},
   "outputs": [],
   "source": [
    "# update model weights\n",
    "weights = {\n",
    "    \"node_1_1\": np.array([2, 4]),\n",
    "    \"node_1_2\": np.array([4, -5]),\n",
    "    \"node_2_1\": np.array([-1, 2]),\n",
    "    \"node_2_2\": np.array([1, 2]),\n",
    "    \"output\": np.array([2, 7]),\n",
    "}\n"
   ]
  },
  {
   "cell_type": "code",
   "execution_count": 8,
   "metadata": {},
   "outputs": [],
   "source": [
    "# update `predict` to have 2x2 hidden layers\n",
    "def predict_2(input_data, model_weights):\n",
    "    node_1_1 = (input_data * model_weights[\"node_1_1\"]).sum()\n",
    "    node_1_1 = relu(node_1_1)\n",
    "\n",
    "    node_1_2 = (input_data * model_weights[\"node_1_2\"]).sum()\n",
    "    node_1_2 = relu(node_1_2)\n",
    "\n",
    "    hidden_1 = np.array([node_1_1, node_1_2])\n",
    "\n",
    "    node_2_1 = (hidden_1 * model_weights[\"node_2_1\"]).sum()\n",
    "    node_2_1 = relu(node_2_1)\n",
    "\n",
    "    node_2_2 = (hidden_1 * model_weights[\"node_2_2\"]).sum()\n",
    "    node_2_2 = relu(node_2_2)\n",
    "\n",
    "    hidden_2 = np.array([node_2_1, node_2_2])\n",
    "\n",
    "    prediction = (hidden_2 * model_weights[\"output\"]).sum()\n",
    "    return prediction\n"
   ]
  },
  {
   "cell_type": "code",
   "execution_count": 9,
   "metadata": {},
   "outputs": [
    {
     "data": {
      "text/plain": [
       "182"
      ]
     },
     "execution_count": 9,
     "metadata": {},
     "output_type": "execute_result"
    }
   ],
   "source": [
    "prediction = predict_2(data, weights)\n",
    "prediction  # 182\n"
   ]
  },
  {
   "cell_type": "markdown",
   "metadata": {},
   "source": [
    "## Optimization"
   ]
  },
  {
   "cell_type": "markdown",
   "metadata": {},
   "source": [
    "### Loss Functions\n",
    "\n",
    "_Loss functions_ are mathematical functions that measure the difference between the predicted outputs of the network and the actual target values (labels) during training. The goal of training is to adjust the weights in such a way that the loss is minimized (close to zero) for every example in the training dataset.\n",
    "\n",
    "The loss function used depends on the type of problem being solved. For regression problems, the loss function is typically mean squared error (MSE). Other regression loss functions include mean absolute error (MAE) and Huber loss (combination of MSE and MAE less sensitive to outliers).\n",
    "\n",
    "For classification problems, a cross-entropy loss function is typically used. Binary cross-entropy for binary classification, categorical cross-entropy for multi-class (labels are one-hot encoded), and sparse categorical cross-entropy (labels are integers).\n",
    "\n",
    "**Videos:**\n",
    "- [@StatQuest: Cross Entropy](https://www.youtube.com/watch?v=6ArSys5qHAU)"
   ]
  },
  {
   "cell_type": "code",
   "execution_count": 10,
   "metadata": {},
   "outputs": [
    {
     "name": "stdout",
     "output_type": "stream",
     "text": [
      "6\n",
      "0\n"
     ]
    }
   ],
   "source": [
    "data = np.array([0, 3])\n",
    "weights_1 = {\n",
    "    \"node_1\": [2, 1],\n",
    "    \"node_2\": [1, 2],\n",
    "    \"output\": [1, 1],\n",
    "}\n",
    "weights_2 = {\n",
    "    \"node_1\": [2, 1],\n",
    "    \"node_2\": [1, 2],\n",
    "    \"output\": [1, 0],\n",
    "}\n",
    "target = 3\n",
    "\n",
    "prediction_1 = predict_1(data, weights_1)\n",
    "prediction_2 = predict_1(data, weights_2)\n",
    "\n",
    "error_1 = prediction_1 - target\n",
    "error_2 = prediction_2 - target\n",
    "print(error_1)\n",
    "print(error_2)  # error is 0 (perfect fit)\n"
   ]
  },
  {
   "cell_type": "code",
   "execution_count": 11,
   "metadata": {},
   "outputs": [
    {
     "name": "stdout",
     "output_type": "stream",
     "text": [
      "MSE with weights_1: 37.50\n",
      "MSE with weights_2: 49.89\n"
     ]
    }
   ],
   "source": [
    "data = [\n",
    "    np.array([0, 3]),\n",
    "    np.array([1, 2]),\n",
    "    np.array([-1, -2]),\n",
    "    np.array([4, 0]),\n",
    "]\n",
    "weights_1 = {\n",
    "    \"node_1\": np.array([2, 1]),\n",
    "    \"node_2\": np.array([1, 2]),\n",
    "    \"output\": np.array([1, 1]),\n",
    "}\n",
    "weights_2 = {\n",
    "    \"node_1\": np.array([2, 1]),\n",
    "    \"node_2\": np.array([1, 1.5]),\n",
    "    \"output\": np.array([1, 1.5]),\n",
    "}\n",
    "targets = [1, 3, 5, 7]\n",
    "\n",
    "predictions_1 = []\n",
    "predictions_2 = []\n",
    "\n",
    "for d in data:\n",
    "    predictions_1.append(predict_1(d, weights_1))\n",
    "    predictions_2.append(predict_1(d, weights_2))\n",
    "\n",
    "mse_1 = mean_squared_error(targets, predictions_1)\n",
    "mse_2 = mean_squared_error(targets, predictions_2)\n",
    "print(f\"MSE with weights_1: {mse_1:.2f}\")  # 37.50\n",
    "print(f\"MSE with weights_2: {mse_2:.2f}\")  # 49.89\n"
   ]
  },
  {
   "cell_type": "markdown",
   "metadata": {},
   "source": [
    "### Backpropagation and Gradient Descent\n",
    "\n",
    "Once the dataset has been fed through the network and predictions have been output, the loss function is used to calculate the residual error for each example. During backpropagation, the error is propagated backwards through the network. The calculus chain rule is used to calculate the derivative of the loss function with respect to each weight. In other words, it's quantifying how much each weight contributed to the error.\n",
    "\n",
    "For each weight, the derivative of the loss function is multiplied by the derivative of the activation function. This is known as the _gradient_. It is the direction (sign) and magnitude (absolute value) of the steepest increase (slope) of the loss function. In order to minimize the loss function, you want to move in the opposite direction of the gradient. This is known as _gradient descent_.\n",
    "\n",
    "**Backpropagation videos:**\n",
    "- [@3Blue1Brown: What is backpropagation really doing?](https://www.youtube.com/watch?v=Ilg3gGewQ5U)\n",
    "- [@3Blue1Brown: Backpropagation calculus](https://www.youtube.com/watch?v=tIeHLnjs5U8)\n",
    "- [@StatQuest: Backpropagation Main Ideas](https://www.youtube.com/watch?v=IN2XmBhILt4)\n",
    "- [@AssemblyAI: Backpropagation Explained](https://www.youtube.com/watch?v=LHLrXavT1gQ)\n",
    "\n",
    "**Gradient descent videos:**\n",
    "- [@3Blue1Brown: Gradient descent, how neural networks learn](https://www.youtube.com/watch?v=IHZwWFHWa-w)\n",
    "- [@StatQuest: Gradient Descent, Step-by-Step](https://www.youtube.com/watch?v=sDv4f4s2SB8)\n",
    "- [@StatQuest: Stochastic Gradient Descent, Clearly Explained](https://www.youtube.com/watch?v=vMh0zPT0tLI)\n",
    "- [@WelchLabsVideo: Gradient Descent](https://www.youtube.com/watch?v=5u0jaA3qAGk)\n"
   ]
  },
  {
   "cell_type": "code",
   "execution_count": 12,
   "metadata": {},
   "outputs": [
    {
     "name": "stdout",
     "output_type": "stream",
     "text": [
      "7\n",
      "5.04\n"
     ]
    }
   ],
   "source": [
    "data = np.array([1, 2, 3])\n",
    "weights = np.array([0, 2, 1])\n",
    "target = 0\n",
    "learning_rate = 0.01\n",
    "\n",
    "predictions = (data * weights).sum()\n",
    "error = predictions - target\n",
    "slope = 2 * data * error\n",
    "\n",
    "weights_updated = weights - learning_rate * slope\n",
    "predictions_updated = (data * weights_updated).sum()\n",
    "error_updated = predictions_updated - target\n",
    "\n",
    "print(error)  # 7\n",
    "print(error_updated)  # 5.04\n"
   ]
  },
  {
   "cell_type": "code",
   "execution_count": 13,
   "metadata": {},
   "outputs": [
    {
     "data": {
      "image/png": "[encoded data removed]",
      "text/plain": [
       "<Figure size 640x480 with 1 Axes>"
      ]
     },
     "metadata": {},
     "output_type": "display_data"
    }
   ],
   "source": [
    "def get_error(input_data, target, weights):\n",
    "    \"\"\"Calculate the MSE given input data, target, and weights.\"\"\"\n",
    "    predictions = (input_data * weights).sum()\n",
    "    error = predictions - target\n",
    "    return error\n",
    "\n",
    "\n",
    "def get_slope(input_data, target, weights):\n",
    "    \"\"\"Calculate the slope given input data, target, and weights.\"\"\"\n",
    "    error = get_error(input_data, target, weights)\n",
    "    slope = 2 * input_data * error\n",
    "    return slope\n",
    "\n",
    "\n",
    "def get_mse(input_data, target, weights):\n",
    "    \"\"\"Calculate the MSE given input data, target, and weights.\"\"\"\n",
    "    errors = get_error(input_data, target, weights)\n",
    "    mse = np.mean(errors**2)\n",
    "    return mse\n",
    "\n",
    "\n",
    "n_updates = 20\n",
    "mse_hist = []\n",
    "learning_rate = 0.01\n",
    "\n",
    "for i in range(n_updates):\n",
    "    slope = get_slope(data, target, weights)\n",
    "    weights = weights - learning_rate * slope\n",
    "    mse = get_mse(data, target, weights)\n",
    "    mse_hist.append(mse)\n",
    "\n",
    "# plot loss over time\n",
    "plt.plot(mse_hist)\n",
    "plt.xlabel(\"Iterations\")\n",
    "plt.ylabel(\"Mean Squared Error\")\n",
    "plt.show()\n"
   ]
  },
  {
   "cell_type": "markdown",
   "metadata": {},
   "source": [
    "## Keras"
   ]
  },
  {
   "cell_type": "code",
   "execution_count": 14,
   "metadata": {},
   "outputs": [
    {
     "data": {
      "image/png": "[encoded data removed]",
      "text/plain": [
       "<Figure size 1600x400 with 2 Axes>"
      ]
     },
     "metadata": {},
     "output_type": "display_data"
    }
   ],
   "source": [
    "# convert target to categorical (one-hot)\n",
    "survived = keras.utils.to_categorical(titanic[\"survived\"])\n",
    "\n",
    "# train test split\n",
    "X_train, X_test, y_train, y_test = train_test_split(\n",
    "    titanic.drop(\"survived\", axis=1),\n",
    "    survived,\n",
    "    test_size=0.1,\n",
    "    random_state=42,\n",
    ")\n",
    "\n",
    "# add layers and compile\n",
    "model = keras.Sequential(\n",
    "    [\n",
    "        keras.layers.Dense(32, activation=\"relu\", input_shape=(X_train.shape[1],)),\n",
    "        keras.layers.Dense(2, activation=\"softmax\"),\n",
    "    ]\n",
    ")\n",
    "model.compile(\n",
    "    optimizer=\"sgd\",  # stochastic gradient descent\n",
    "    loss=\"categorical_crossentropy\",\n",
    "    metrics=[\"accuracy\"],\n",
    ")\n",
    "\n",
    "# fit model\n",
    "history = model.fit(\n",
    "    X_train,\n",
    "    y_train,\n",
    "    epochs=5,\n",
    "    verbose=0,\n",
    ")\n",
    "\n",
    "# plot loss and accuracy side-by-side\n",
    "fig, (ax1, ax2) = plt.subplots(1, 2, figsize=(16, 4))\n",
    "ax1.plot(history.history[\"loss\"])\n",
    "ax1.set_xlabel(\"Epochs\")\n",
    "ax1.set_xticks(np.arange(0, len(history.history[\"loss\"])))\n",
    "ax1.set_ylabel(\"Loss\")\n",
    "ax2.plot(history.history[\"accuracy\"])\n",
    "ax2.set_xlabel(\"Epochs\")\n",
    "ax2.set_xticks(np.arange(0, len(history.history[\"accuracy\"])))\n",
    "ax2.set_ylabel(\"Accuracy\")\n",
    "plt.show()\n"
   ]
  },
  {
   "cell_type": "markdown",
   "metadata": {},
   "source": [
    "## Fine-tuning"
   ]
  },
  {
   "cell_type": "markdown",
   "metadata": {},
   "source": [
    "### Vanishing Gradients\n",
    "\n",
    "Activation functions like sigmoid and tanh can lead to small gradients. In shallower networks, this isn't necessary an issue; however, in deep networks, the gradients can keep getting smaller and smaller which decays the learning rate. ReLU remedies this by having a derivative of 1 for positive values, which helps prevent the gradient from vanishing."
   ]
  },
  {
   "cell_type": "markdown",
   "metadata": {},
   "source": [
    "### Dying Neurons\n",
    "\n",
    "The derivative of ReLU is:\n",
    "\n",
    "$f'(x) = \\begin{cases}\n",
    "  1 & \\text{if } x > 0 \\\\\n",
    "  0 & \\text{if } x \\leq 0\n",
    "\\end{cases}$\n",
    "\n",
    "where $f'$ (f-prime) is the derivative of $f$.\n",
    "\n",
    "The gradient for each weight is calculated by multiplying the derivative of the activation function by the derivative of the loss function. If the activation function is ReLU, then the derivative will be 0 for negative values. Since the gradient is used to calculate how much to update the weight, if it is 0 then the weight will not be updated. This can lead to a condition where the neuron always outputs 0, effectively shutting it off.\n",
    "\n",
    "Newer activation functions like Leaky ReLU and Swish help prevent this by having a non-zero derivative for negative values."
   ]
  },
  {
   "cell_type": "code",
   "execution_count": 15,
   "metadata": {},
   "outputs": [
    {
     "name": "stdout",
     "output_type": "stream",
     "text": [
      "Results summary\n",
      "Results in /var/folders/_0/vzr7w6510yg9930l0ydhc1mm0000gn/T/tmpvf5gl6t2/untitled_project\n",
      "Showing 3 best trials\n",
      "Objective(name=\"accuracy\", direction=\"max\")\n",
      "\n",
      "Trial 0007 summary\n",
      "Hyperparameters:\n",
      "units: 96\n",
      "learning_rate: 0.01\n",
      "Score: 0.8014981150627136\n",
      "\n",
      "Trial 0004 summary\n",
      "Hyperparameters:\n",
      "units: 64\n",
      "learning_rate: 0.01\n",
      "Score: 0.7927590608596802\n",
      "\n",
      "Trial 0003 summary\n",
      "Hyperparameters:\n",
      "units: 64\n",
      "learning_rate: 0.1\n",
      "Score: 0.7915105819702148\n"
     ]
    }
   ],
   "source": [
    "# grid search for hyperparameters using keras_tuner\n",
    "def hypermodel(hp):\n",
    "    units = hp.Int(\"units\", min_value=32, max_value=96, step=32)\n",
    "    learning_rate = hp.Choice(\"learning_rate\", values=[1e-1, 1e-2, 1e-3])\n",
    "\n",
    "    model = keras.Sequential(\n",
    "        [\n",
    "            # Swish\n",
    "            keras.layers.Dense(\n",
    "                units,\n",
    "                activation=\"swish\",\n",
    "                input_shape=(X_train.shape[1],),\n",
    "            ),\n",
    "            keras.layers.Dense(units, activation=\"swish\"),\n",
    "            keras.layers.Dense(y_train.shape[1], activation=\"softmax\"),\n",
    "        ]\n",
    "    )\n",
    "    model.compile(\n",
    "        optimizer=keras.optimizers.AdamW(learning_rate),\n",
    "        loss=\"categorical_crossentropy\",\n",
    "        metrics=[\"accuracy\"],\n",
    "    )\n",
    "    return model\n",
    "\n",
    "\n",
    "# use a temporary directory to store results\n",
    "with TemporaryDirectory() as directory:\n",
    "    tuner = kt.GridSearch(\n",
    "        hypermodel,\n",
    "        objective=\"accuracy\",\n",
    "        directory=directory,\n",
    "        seed=42,\n",
    "    )\n",
    "\n",
    "    tuner.search(\n",
    "        X_train,\n",
    "        y_train,\n",
    "        validation_data=(X_test, y_test),\n",
    "        epochs=10,\n",
    "        verbose=0,\n",
    "    )\n",
    "\n",
    "    tuner.results_summary(num_trials=3)\n"
   ]
  }
 ],
 "metadata": {
  "kernelspec": {
   "display_name": "venv",
   "language": "python",
   "name": "python3"
  },
  "language_info": {
   "codemirror_mode": {
    "name": "ipython",
    "version": 3
   },
   "file_extension": ".py",
   "mimetype": "text/x-python",
   "name": "python",
   "nbconvert_exporter": "python",
   "pygments_lexer": "ipython3",
   "version": "3.11.6"
  }
 },
 "nbformat": 4,
 "nbformat_minor": 2
}
