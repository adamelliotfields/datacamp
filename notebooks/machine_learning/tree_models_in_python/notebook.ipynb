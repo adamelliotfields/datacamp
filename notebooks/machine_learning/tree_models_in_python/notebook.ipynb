{
 "cells": [
  {
   "cell_type": "markdown",
   "metadata": {},
   "source": [
    "# [Tree-based Models in Python](https://www.datacamp.com/completed/statement-of-accomplishment/course/139ce5b390a8d8c6aff4bf1fc2d8eeb099c2d5c8)\n",
    "\n",
    "[![Open in Colab](https://colab.research.google.com/assets/colab-badge.svg)](https://colab.research.google.com/github/adamelliotfields/datacamp/blob/main/notebooks/courses/tree_models_in_python/notebook.ipynb)\n",
    "[![Render nbviewer](https://raw.githubusercontent.com/jupyter/design/main/logos/Badges/nbviewer_badge.svg)](https://nbviewer.org/github/adamelliotfields/datacamp/blob/main/notebooks/courses/tree_models_in_python/notebook.ipynb)\n",
    "\n",
    "**Contents**\n",
    "- [Data](#Data)\n",
    "- [Classification and Regression Trees](#Classification-and-Regression-Trees)\n",
    "- [Bias-Variance Tradeoff](#Bias-Variance-Tradeoff)\n",
    "- [Parallel Ensembles](#Parallel-Ensembles)\n",
    "- [Boosting](#Boosting)\n",
    "- [Hyperparameter Tuning](#Hyperparameter-Tuning)\n"
   ]
  },
  {
   "cell_type": "markdown",
   "metadata": {},
   "source": [
    "## Data"
   ]
  },
  {
   "cell_type": "code",
   "execution_count": 1,
   "metadata": {},
   "outputs": [],
   "source": [
    "%matplotlib inline\n",
    "\n",
    "import matplotlib.pyplot as plt\n",
    "import pandas as pd\n",
    "\n",
    "from IPython.display import display\n",
    "from sklearn.ensemble import (\n",
    "    AdaBoostClassifier,\n",
    "    BaggingClassifier,\n",
    "    GradientBoostingRegressor,\n",
    "    RandomForestRegressor,\n",
    "    VotingClassifier,\n",
    ")\n",
    "from sklearn.exceptions import FitFailedWarning\n",
    "from sklearn.impute import SimpleImputer\n",
    "from sklearn.linear_model import LinearRegression, LogisticRegression\n",
    "from sklearn.metrics import accuracy_score, mean_squared_error, roc_auc_score\n",
    "from sklearn.model_selection import GridSearchCV, cross_val_score, train_test_split\n",
    "from sklearn.neighbors import KNeighborsClassifier\n",
    "from sklearn.preprocessing import StandardScaler\n",
    "from sklearn.tree import DecisionTreeClassifier, DecisionTreeRegressor\n",
    "from ucimlrepo import fetch_ucirepo\n",
    "from warnings import filterwarnings\n",
    "\n",
    "filterwarnings(\"ignore\", category=UserWarning)\n",
    "filterwarnings(\"ignore\", category=DeprecationWarning)\n",
    "filterwarnings(\n",
    "    \"ignore\",\n",
    "    category=FitFailedWarning,\n",
    "    module=\"sklearn.model_selection\",\n",
    ")  # final exercise\n"
   ]
  },
  {
   "cell_type": "markdown",
   "metadata": {},
   "source": [
    "### Auto MPG"
   ]
  },
  {
   "cell_type": "code",
   "execution_count": 2,
   "metadata": {},
   "outputs": [
    {
     "data": {
      "text/html": [
       "<div>\n",
       "<style scoped>\n",
       "    .dataframe tbody tr th:only-of-type {\n",
       "        vertical-align: middle;\n",
       "    }\n",
       "\n",
       "    .dataframe tbody tr th {\n",
       "        vertical-align: top;\n",
       "    }\n",
       "\n",
       "    .dataframe thead th {\n",
       "        text-align: right;\n",
       "    }\n",
       "</style>\n",
       "<table border=\"1\" class=\"dataframe\">\n",
       "  <thead>\n",
       "    <tr style=\"text-align: right;\">\n",
       "      <th></th>\n",
       "      <th>cylinders</th>\n",
       "      <th>displacement</th>\n",
       "      <th>horsepower</th>\n",
       "      <th>weight</th>\n",
       "      <th>acceleration</th>\n",
       "      <th>model_year</th>\n",
       "      <th>mpg</th>\n",
       "      <th>origin_us</th>\n",
       "      <th>origin_europe</th>\n",
       "      <th>origin_asia</th>\n",
       "    </tr>\n",
       "  </thead>\n",
       "  <tbody>\n",
       "    <tr>\n",
       "      <th>79</th>\n",
       "      <td>4</td>\n",
       "      <td>96.0</td>\n",
       "      <td>69.0</td>\n",
       "      <td>2189</td>\n",
       "      <td>18.0</td>\n",
       "      <td>72</td>\n",
       "      <td>26.0</td>\n",
       "      <td>0</td>\n",
       "      <td>1</td>\n",
       "      <td>0</td>\n",
       "    </tr>\n",
       "    <tr>\n",
       "      <th>276</th>\n",
       "      <td>4</td>\n",
       "      <td>121.0</td>\n",
       "      <td>115.0</td>\n",
       "      <td>2795</td>\n",
       "      <td>15.7</td>\n",
       "      <td>78</td>\n",
       "      <td>21.6</td>\n",
       "      <td>0</td>\n",
       "      <td>1</td>\n",
       "      <td>0</td>\n",
       "    </tr>\n",
       "    <tr>\n",
       "      <th>248</th>\n",
       "      <td>4</td>\n",
       "      <td>91.0</td>\n",
       "      <td>60.0</td>\n",
       "      <td>1800</td>\n",
       "      <td>16.4</td>\n",
       "      <td>78</td>\n",
       "      <td>36.1</td>\n",
       "      <td>0</td>\n",
       "      <td>0</td>\n",
       "      <td>1</td>\n",
       "    </tr>\n",
       "    <tr>\n",
       "      <th>56</th>\n",
       "      <td>4</td>\n",
       "      <td>91.0</td>\n",
       "      <td>70.0</td>\n",
       "      <td>1955</td>\n",
       "      <td>20.5</td>\n",
       "      <td>71</td>\n",
       "      <td>26.0</td>\n",
       "      <td>1</td>\n",
       "      <td>0</td>\n",
       "      <td>0</td>\n",
       "    </tr>\n",
       "    <tr>\n",
       "      <th>393</th>\n",
       "      <td>4</td>\n",
       "      <td>140.0</td>\n",
       "      <td>86.0</td>\n",
       "      <td>2790</td>\n",
       "      <td>15.6</td>\n",
       "      <td>82</td>\n",
       "      <td>27.0</td>\n",
       "      <td>1</td>\n",
       "      <td>0</td>\n",
       "      <td>0</td>\n",
       "    </tr>\n",
       "  </tbody>\n",
       "</table>\n",
       "</div>"
      ],
      "text/plain": [
       "     cylinders  displacement  horsepower  weight  acceleration  model_year  \\\n",
       "79           4          96.0        69.0    2189          18.0          72   \n",
       "276          4         121.0       115.0    2795          15.7          78   \n",
       "248          4          91.0        60.0    1800          16.4          78   \n",
       "56           4          91.0        70.0    1955          20.5          71   \n",
       "393          4         140.0        86.0    2790          15.6          82   \n",
       "\n",
       "      mpg  origin_us  origin_europe  origin_asia  \n",
       "79   26.0          0              1            0  \n",
       "276  21.6          0              1            0  \n",
       "248  36.1          0              0            1  \n",
       "56   26.0          1              0            0  \n",
       "393  27.0          1              0            0  "
      ]
     },
     "metadata": {},
     "output_type": "display_data"
    }
   ],
   "source": [
    "# https://archive.ics.uci.edu/dataset/9/auto+mpg\n",
    "auto_mpg = fetch_ucirepo(id=9)\n",
    "auto_df = auto_mpg.data.original\n",
    "\n",
    "# drop `car_name` column\n",
    "auto_df = auto_df.drop(\"car_name\", axis=1)\n",
    "\n",
    "# drop missing `horsepower` rows\n",
    "auto_df = auto_df.dropna(subset=[\"horsepower\"])\n",
    "\n",
    "# one-hot encode `origin` column\n",
    "auto_df = pd.get_dummies(\n",
    "    auto_df,\n",
    "    columns=[\"origin\"],\n",
    "    dtype=\"int8\",\n",
    ")\n",
    "auto_df = auto_df.rename(\n",
    "    columns={\n",
    "        \"origin_1\": \"origin_us\",\n",
    "        \"origin_2\": \"origin_europe\",\n",
    "        \"origin_3\": \"origin_asia\",\n",
    "    }\n",
    ")\n",
    "\n",
    "# display\n",
    "display(auto_df.sample(5, random_state=42))\n"
   ]
  },
  {
   "cell_type": "markdown",
   "metadata": {},
   "source": [
    "### Breast Cancer Wisconsin (Diagnostic)"
   ]
  },
  {
   "cell_type": "code",
   "execution_count": 3,
   "metadata": {},
   "outputs": [
    {
     "data": {
      "text/html": [
       "<div>\n",
       "<style scoped>\n",
       "    .dataframe tbody tr th:only-of-type {\n",
       "        vertical-align: middle;\n",
       "    }\n",
       "\n",
       "    .dataframe tbody tr th {\n",
       "        vertical-align: top;\n",
       "    }\n",
       "\n",
       "    .dataframe thead th {\n",
       "        text-align: right;\n",
       "    }\n",
       "</style>\n",
       "<table border=\"1\" class=\"dataframe\">\n",
       "  <thead>\n",
       "    <tr style=\"text-align: right;\">\n",
       "      <th></th>\n",
       "      <th>radius1</th>\n",
       "      <th>texture1</th>\n",
       "      <th>perimeter1</th>\n",
       "      <th>area1</th>\n",
       "      <th>smoothness1</th>\n",
       "      <th>compactness1</th>\n",
       "      <th>concavity1</th>\n",
       "      <th>concave_points1</th>\n",
       "      <th>symmetry1</th>\n",
       "      <th>fractal_dimension1</th>\n",
       "      <th>...</th>\n",
       "      <th>texture3</th>\n",
       "      <th>perimeter3</th>\n",
       "      <th>area3</th>\n",
       "      <th>smoothness3</th>\n",
       "      <th>compactness3</th>\n",
       "      <th>concavity3</th>\n",
       "      <th>concave_points3</th>\n",
       "      <th>symmetry3</th>\n",
       "      <th>fractal_dimension3</th>\n",
       "      <th>Diagnosis</th>\n",
       "    </tr>\n",
       "  </thead>\n",
       "  <tbody>\n",
       "    <tr>\n",
       "      <th>204</th>\n",
       "      <td>12.47</td>\n",
       "      <td>18.60</td>\n",
       "      <td>81.09</td>\n",
       "      <td>481.9</td>\n",
       "      <td>0.09965</td>\n",
       "      <td>0.1058</td>\n",
       "      <td>0.08005</td>\n",
       "      <td>0.03821</td>\n",
       "      <td>0.1925</td>\n",
       "      <td>0.06373</td>\n",
       "      <td>...</td>\n",
       "      <td>24.64</td>\n",
       "      <td>96.05</td>\n",
       "      <td>677.9</td>\n",
       "      <td>0.1426</td>\n",
       "      <td>0.2378</td>\n",
       "      <td>0.2671</td>\n",
       "      <td>0.10150</td>\n",
       "      <td>0.3014</td>\n",
       "      <td>0.08750</td>\n",
       "      <td>0</td>\n",
       "    </tr>\n",
       "    <tr>\n",
       "      <th>70</th>\n",
       "      <td>18.94</td>\n",
       "      <td>21.31</td>\n",
       "      <td>123.60</td>\n",
       "      <td>1130.0</td>\n",
       "      <td>0.09009</td>\n",
       "      <td>0.1029</td>\n",
       "      <td>0.10800</td>\n",
       "      <td>0.07951</td>\n",
       "      <td>0.1582</td>\n",
       "      <td>0.05461</td>\n",
       "      <td>...</td>\n",
       "      <td>26.58</td>\n",
       "      <td>165.90</td>\n",
       "      <td>1866.0</td>\n",
       "      <td>0.1193</td>\n",
       "      <td>0.2336</td>\n",
       "      <td>0.2687</td>\n",
       "      <td>0.17890</td>\n",
       "      <td>0.2551</td>\n",
       "      <td>0.06589</td>\n",
       "      <td>1</td>\n",
       "    </tr>\n",
       "    <tr>\n",
       "      <th>131</th>\n",
       "      <td>15.46</td>\n",
       "      <td>19.48</td>\n",
       "      <td>101.70</td>\n",
       "      <td>748.9</td>\n",
       "      <td>0.10920</td>\n",
       "      <td>0.1223</td>\n",
       "      <td>0.14660</td>\n",
       "      <td>0.08087</td>\n",
       "      <td>0.1931</td>\n",
       "      <td>0.05796</td>\n",
       "      <td>...</td>\n",
       "      <td>26.00</td>\n",
       "      <td>124.90</td>\n",
       "      <td>1156.0</td>\n",
       "      <td>0.1546</td>\n",
       "      <td>0.2394</td>\n",
       "      <td>0.3791</td>\n",
       "      <td>0.15140</td>\n",
       "      <td>0.2837</td>\n",
       "      <td>0.08019</td>\n",
       "      <td>1</td>\n",
       "    </tr>\n",
       "    <tr>\n",
       "      <th>431</th>\n",
       "      <td>12.40</td>\n",
       "      <td>17.68</td>\n",
       "      <td>81.47</td>\n",
       "      <td>467.8</td>\n",
       "      <td>0.10540</td>\n",
       "      <td>0.1316</td>\n",
       "      <td>0.07741</td>\n",
       "      <td>0.02799</td>\n",
       "      <td>0.1811</td>\n",
       "      <td>0.07102</td>\n",
       "      <td>...</td>\n",
       "      <td>22.91</td>\n",
       "      <td>89.61</td>\n",
       "      <td>515.8</td>\n",
       "      <td>0.1450</td>\n",
       "      <td>0.2629</td>\n",
       "      <td>0.2403</td>\n",
       "      <td>0.07370</td>\n",
       "      <td>0.2556</td>\n",
       "      <td>0.09359</td>\n",
       "      <td>0</td>\n",
       "    </tr>\n",
       "    <tr>\n",
       "      <th>540</th>\n",
       "      <td>11.54</td>\n",
       "      <td>14.44</td>\n",
       "      <td>74.65</td>\n",
       "      <td>402.9</td>\n",
       "      <td>0.09984</td>\n",
       "      <td>0.1120</td>\n",
       "      <td>0.06737</td>\n",
       "      <td>0.02594</td>\n",
       "      <td>0.1818</td>\n",
       "      <td>0.06782</td>\n",
       "      <td>...</td>\n",
       "      <td>19.68</td>\n",
       "      <td>78.78</td>\n",
       "      <td>457.8</td>\n",
       "      <td>0.1345</td>\n",
       "      <td>0.2118</td>\n",
       "      <td>0.1797</td>\n",
       "      <td>0.06918</td>\n",
       "      <td>0.2329</td>\n",
       "      <td>0.08134</td>\n",
       "      <td>0</td>\n",
       "    </tr>\n",
       "  </tbody>\n",
       "</table>\n",
       "<p>5 rows × 31 columns</p>\n",
       "</div>"
      ],
      "text/plain": [
       "     radius1  texture1  perimeter1   area1  smoothness1  compactness1  \\\n",
       "204    12.47     18.60       81.09   481.9      0.09965        0.1058   \n",
       "70     18.94     21.31      123.60  1130.0      0.09009        0.1029   \n",
       "131    15.46     19.48      101.70   748.9      0.10920        0.1223   \n",
       "431    12.40     17.68       81.47   467.8      0.10540        0.1316   \n",
       "540    11.54     14.44       74.65   402.9      0.09984        0.1120   \n",
       "\n",
       "     concavity1  concave_points1  symmetry1  fractal_dimension1  ...  \\\n",
       "204     0.08005          0.03821     0.1925             0.06373  ...   \n",
       "70      0.10800          0.07951     0.1582             0.05461  ...   \n",
       "131     0.14660          0.08087     0.1931             0.05796  ...   \n",
       "431     0.07741          0.02799     0.1811             0.07102  ...   \n",
       "540     0.06737          0.02594     0.1818             0.06782  ...   \n",
       "\n",
       "     texture3  perimeter3   area3  smoothness3  compactness3  concavity3  \\\n",
       "204     24.64       96.05   677.9       0.1426        0.2378      0.2671   \n",
       "70      26.58      165.90  1866.0       0.1193        0.2336      0.2687   \n",
       "131     26.00      124.90  1156.0       0.1546        0.2394      0.3791   \n",
       "431     22.91       89.61   515.8       0.1450        0.2629      0.2403   \n",
       "540     19.68       78.78   457.8       0.1345        0.2118      0.1797   \n",
       "\n",
       "     concave_points3  symmetry3  fractal_dimension3  Diagnosis  \n",
       "204          0.10150     0.3014             0.08750          0  \n",
       "70           0.17890     0.2551             0.06589          1  \n",
       "131          0.15140     0.2837             0.08019          1  \n",
       "431          0.07370     0.2556             0.09359          0  \n",
       "540          0.06918     0.2329             0.08134          0  \n",
       "\n",
       "[5 rows x 31 columns]"
      ]
     },
     "metadata": {},
     "output_type": "display_data"
    }
   ],
   "source": [
    "# https://archive.ics.uci.edu/dataset/17/breast+cancer+wisconsin+diagnostic\n",
    "breast_cancer_wisconsin_diagnostic = fetch_ucirepo(id=17)\n",
    "cancer_df = breast_cancer_wisconsin_diagnostic.data.original\n",
    "\n",
    "# drop `ID` column\n",
    "cancer_df = cancer_df.drop(\"ID\", axis=1)\n",
    "\n",
    "# encode `Diagnosis` column (B=benign, M=malignant)\n",
    "cancer_df[\"Diagnosis\"] = cancer_df[\"Diagnosis\"].map({\"B\": 0, \"M\": 1})\n",
    "\n",
    "# display\n",
    "display(cancer_df.sample(5, random_state=42))\n"
   ]
  },
  {
   "cell_type": "markdown",
   "metadata": {},
   "source": [
    "### ILPD (Indian Liver Patient Dataset)"
   ]
  },
  {
   "cell_type": "code",
   "execution_count": 4,
   "metadata": {},
   "outputs": [
    {
     "data": {
      "text/html": [
       "<div>\n",
       "<style scoped>\n",
       "    .dataframe tbody tr th:only-of-type {\n",
       "        vertical-align: middle;\n",
       "    }\n",
       "\n",
       "    .dataframe tbody tr th {\n",
       "        vertical-align: top;\n",
       "    }\n",
       "\n",
       "    .dataframe thead th {\n",
       "        text-align: right;\n",
       "    }\n",
       "</style>\n",
       "<table border=\"1\" class=\"dataframe\">\n",
       "  <thead>\n",
       "    <tr style=\"text-align: right;\">\n",
       "      <th></th>\n",
       "      <th>Age</th>\n",
       "      <th>TB</th>\n",
       "      <th>DB</th>\n",
       "      <th>Alkphos</th>\n",
       "      <th>Sgpt</th>\n",
       "      <th>Sgot</th>\n",
       "      <th>TP</th>\n",
       "      <th>ALB</th>\n",
       "      <th>A/G Ratio</th>\n",
       "      <th>Male</th>\n",
       "      <th>Patient</th>\n",
       "    </tr>\n",
       "  </thead>\n",
       "  <tbody>\n",
       "    <tr>\n",
       "      <th>355</th>\n",
       "      <td>-1.591632</td>\n",
       "      <td>-0.306051</td>\n",
       "      <td>-0.244506</td>\n",
       "      <td>-0.463793</td>\n",
       "      <td>-0.371107</td>\n",
       "      <td>-0.290680</td>\n",
       "      <td>1.398600</td>\n",
       "      <td>1.834526</td>\n",
       "      <td>1.109099</td>\n",
       "      <td>1</td>\n",
       "      <td>0</td>\n",
       "    </tr>\n",
       "    <tr>\n",
       "      <th>407</th>\n",
       "      <td>-2.024373</td>\n",
       "      <td>-0.370523</td>\n",
       "      <td>-0.458327</td>\n",
       "      <td>1.765025</td>\n",
       "      <td>0.418091</td>\n",
       "      <td>-0.006619</td>\n",
       "      <td>0.660946</td>\n",
       "      <td>0.702217</td>\n",
       "      <td>0.166351</td>\n",
       "      <td>1</td>\n",
       "      <td>1</td>\n",
       "    </tr>\n",
       "    <tr>\n",
       "      <th>90</th>\n",
       "      <td>0.942997</td>\n",
       "      <td>0.387029</td>\n",
       "      <td>0.468230</td>\n",
       "      <td>-0.315480</td>\n",
       "      <td>1.815630</td>\n",
       "      <td>2.563784</td>\n",
       "      <td>0.753153</td>\n",
       "      <td>0.073157</td>\n",
       "      <td>-0.524997</td>\n",
       "      <td>1</td>\n",
       "      <td>1</td>\n",
       "    </tr>\n",
       "    <tr>\n",
       "      <th>402</th>\n",
       "      <td>-0.169767</td>\n",
       "      <td>-0.451114</td>\n",
       "      <td>-0.493964</td>\n",
       "      <td>-0.529710</td>\n",
       "      <td>0.407130</td>\n",
       "      <td>-0.006619</td>\n",
       "      <td>1.490806</td>\n",
       "      <td>1.079653</td>\n",
       "      <td>-0.147898</td>\n",
       "      <td>0</td>\n",
       "      <td>1</td>\n",
       "    </tr>\n",
       "    <tr>\n",
       "      <th>268</th>\n",
       "      <td>-0.293407</td>\n",
       "      <td>1.805424</td>\n",
       "      <td>1.751155</td>\n",
       "      <td>0.277773</td>\n",
       "      <td>-0.168327</td>\n",
       "      <td>-0.120936</td>\n",
       "      <td>-0.722154</td>\n",
       "      <td>-1.310776</td>\n",
       "      <td>-1.404895</td>\n",
       "      <td>1</td>\n",
       "      <td>1</td>\n",
       "    </tr>\n",
       "  </tbody>\n",
       "</table>\n",
       "</div>"
      ],
      "text/plain": [
       "          Age        TB        DB   Alkphos      Sgpt      Sgot        TP  \\\n",
       "355 -1.591632 -0.306051 -0.244506 -0.463793 -0.371107 -0.290680  1.398600   \n",
       "407 -2.024373 -0.370523 -0.458327  1.765025  0.418091 -0.006619  0.660946   \n",
       "90   0.942997  0.387029  0.468230 -0.315480  1.815630  2.563784  0.753153   \n",
       "402 -0.169767 -0.451114 -0.493964 -0.529710  0.407130 -0.006619  1.490806   \n",
       "268 -0.293407  1.805424  1.751155  0.277773 -0.168327 -0.120936 -0.722154   \n",
       "\n",
       "          ALB  A/G Ratio  Male  Patient  \n",
       "355  1.834526   1.109099     1        0  \n",
       "407  0.702217   0.166351     1        1  \n",
       "90   0.073157  -0.524997     1        1  \n",
       "402  1.079653  -0.147898     0        1  \n",
       "268 -1.310776  -1.404895     1        1  "
      ]
     },
     "metadata": {},
     "output_type": "display_data"
    }
   ],
   "source": [
    "# https://archive.ics.uci.edu/dataset/225/ilpd+indian+liver+patient+dataset\n",
    "indian_liver_patient = fetch_ucirepo(id=225)\n",
    "liver_df = indian_liver_patient.data.original\n",
    "liver_cat_cols = [\"Male\", \"Patient\"]\n",
    "liver_num_cols = [\n",
    "    \"Age\",\n",
    "    \"TB\",\n",
    "    \"DB\",\n",
    "    \"Alkphos\",\n",
    "    \"Sgpt\",\n",
    "    \"Sgot\",\n",
    "    \"TP\",\n",
    "    \"ALB\",\n",
    "    \"A/G Ratio\",\n",
    "]\n",
    "\n",
    "# encode `Gender` and `Selector` columns\n",
    "liver_df[\"Male\"] = liver_df[\"Gender\"].map({\"Female\": 0, \"Male\": 1})\n",
    "liver_df[\"Patient\"] = liver_df[\"Selector\"].map({2: 0, 1: 1})\n",
    "liver_df = liver_df.drop(columns=[\"Gender\", \"Selector\"], axis=1)\n",
    "\n",
    "# impute missing `A/G Ratio` values\n",
    "imputer = SimpleImputer(strategy=\"mean\")\n",
    "liver_df[\"A/G Ratio\"] = imputer.fit_transform(liver_df[[\"A/G Ratio\"]])\n",
    "\n",
    "# scale every column except `Male` and `Patient`\n",
    "scaler = StandardScaler()\n",
    "liver_df[liver_num_cols] = scaler.fit_transform(liver_df[liver_num_cols])\n",
    "\n",
    "# display\n",
    "display(liver_df.sample(5, random_state=42))\n"
   ]
  },
  {
   "cell_type": "markdown",
   "metadata": {},
   "source": [
    "### Bike Sharing Demand"
   ]
  },
  {
   "cell_type": "code",
   "execution_count": 5,
   "metadata": {},
   "outputs": [
    {
     "data": {
      "text/html": [
       "<div>\n",
       "<style scoped>\n",
       "    .dataframe tbody tr th:only-of-type {\n",
       "        vertical-align: middle;\n",
       "    }\n",
       "\n",
       "    .dataframe tbody tr th {\n",
       "        vertical-align: top;\n",
       "    }\n",
       "\n",
       "    .dataframe thead th {\n",
       "        text-align: right;\n",
       "    }\n",
       "</style>\n",
       "<table border=\"1\" class=\"dataframe\">\n",
       "  <thead>\n",
       "    <tr style=\"text-align: right;\">\n",
       "      <th></th>\n",
       "      <th>hr</th>\n",
       "      <th>holiday</th>\n",
       "      <th>workingday</th>\n",
       "      <th>temp</th>\n",
       "      <th>hum</th>\n",
       "      <th>windspeed</th>\n",
       "      <th>instant</th>\n",
       "      <th>mnth</th>\n",
       "      <th>yr</th>\n",
       "      <th>Clear to partly cloudy</th>\n",
       "      <th>Light Precipitation</th>\n",
       "      <th>Misty</th>\n",
       "      <th>cnt</th>\n",
       "    </tr>\n",
       "  </thead>\n",
       "  <tbody>\n",
       "    <tr>\n",
       "      <th>1318</th>\n",
       "      <td>22</td>\n",
       "      <td>0</td>\n",
       "      <td>1</td>\n",
       "      <td>0.70</td>\n",
       "      <td>0.61</td>\n",
       "      <td>0.0000</td>\n",
       "      <td>14322</td>\n",
       "      <td>8</td>\n",
       "      <td>1</td>\n",
       "      <td>0</td>\n",
       "      <td>0</td>\n",
       "      <td>1</td>\n",
       "      <td>251</td>\n",
       "    </tr>\n",
       "    <tr>\n",
       "      <th>899</th>\n",
       "      <td>11</td>\n",
       "      <td>0</td>\n",
       "      <td>1</td>\n",
       "      <td>0.76</td>\n",
       "      <td>0.66</td>\n",
       "      <td>0.0896</td>\n",
       "      <td>13903</td>\n",
       "      <td>8</td>\n",
       "      <td>1</td>\n",
       "      <td>0</td>\n",
       "      <td>0</td>\n",
       "      <td>1</td>\n",
       "      <td>214</td>\n",
       "    </tr>\n",
       "    <tr>\n",
       "      <th>439</th>\n",
       "      <td>7</td>\n",
       "      <td>0</td>\n",
       "      <td>1</td>\n",
       "      <td>0.74</td>\n",
       "      <td>0.58</td>\n",
       "      <td>0.2836</td>\n",
       "      <td>13443</td>\n",
       "      <td>7</td>\n",
       "      <td>1</td>\n",
       "      <td>1</td>\n",
       "      <td>0</td>\n",
       "      <td>0</td>\n",
       "      <td>473</td>\n",
       "    </tr>\n",
       "    <tr>\n",
       "      <th>560</th>\n",
       "      <td>8</td>\n",
       "      <td>0</td>\n",
       "      <td>1</td>\n",
       "      <td>0.74</td>\n",
       "      <td>0.70</td>\n",
       "      <td>0.1940</td>\n",
       "      <td>13564</td>\n",
       "      <td>7</td>\n",
       "      <td>1</td>\n",
       "      <td>1</td>\n",
       "      <td>0</td>\n",
       "      <td>0</td>\n",
       "      <td>743</td>\n",
       "    </tr>\n",
       "    <tr>\n",
       "      <th>433</th>\n",
       "      <td>1</td>\n",
       "      <td>0</td>\n",
       "      <td>1</td>\n",
       "      <td>0.74</td>\n",
       "      <td>0.66</td>\n",
       "      <td>0.0896</td>\n",
       "      <td>13437</td>\n",
       "      <td>7</td>\n",
       "      <td>1</td>\n",
       "      <td>1</td>\n",
       "      <td>0</td>\n",
       "      <td>0</td>\n",
       "      <td>25</td>\n",
       "    </tr>\n",
       "  </tbody>\n",
       "</table>\n",
       "</div>"
      ],
      "text/plain": [
       "      hr  holiday  workingday  temp   hum  windspeed  instant  mnth  yr  \\\n",
       "1318  22        0           1  0.70  0.61     0.0000    14322     8   1   \n",
       "899   11        0           1  0.76  0.66     0.0896    13903     8   1   \n",
       "439    7        0           1  0.74  0.58     0.2836    13443     7   1   \n",
       "560    8        0           1  0.74  0.70     0.1940    13564     7   1   \n",
       "433    1        0           1  0.74  0.66     0.0896    13437     7   1   \n",
       "\n",
       "      Clear to partly cloudy  Light Precipitation  Misty  cnt  \n",
       "1318                       0                    0      1  251  \n",
       "899                        0                    0      1  214  \n",
       "439                        1                    0      0  473  \n",
       "560                        1                    0      0  743  \n",
       "433                        1                    0      0   25  "
      ]
     },
     "metadata": {},
     "output_type": "display_data"
    }
   ],
   "source": [
    "# https://www.kaggle.com/c/bike-sharing-demand\n",
    "bikes_df = pd.read_csv(\"bike_sharing_demand.csv\")\n",
    "display(bikes_df.sample(5, random_state=42))\n"
   ]
  },
  {
   "cell_type": "markdown",
   "metadata": {},
   "source": [
    "## Classification and Regression Trees\n",
    "\n",
    "_Classification and Regression Trees_ (CART) are a set of supervised learning models."
   ]
  },
  {
   "cell_type": "markdown",
   "metadata": {},
   "source": [
    "### Decision Trees\n",
    "\n",
    "A _decision tree_ is a flowchat-like structure where each internal node represents a \"test\" on a feature (e.g., heads or tails).\n",
    "\n",
    "The root node at the top of the tree represents the entire dataset. The choice of which feature to test is determined by criteria like _information gain_, _Gini impurity_, and _variance reduction_.\n",
    "\n",
    "The tree is grown by partitioning the data into subsets that are as homogenous as possible. This partitioning continues until a stopping criterion is reached, like maximum tree depth, minimum samples per leaf, minimum samples required to split, etc.\n",
    "\n",
    "**Links**\n",
    "* <https://en.wikipedia.org/wiki/Decision_tree_learning>\n",
    "* <https://scikit-learn.org/stable/auto_examples/tree/plot_unveil_tree_structure.html>\n",
    "* <https://developers.google.com/machine-learning/decision-forests/decision-trees>\n",
    "* <https://blog.paperspace.com/decision-trees>\n",
    "\n",
    "**Videos**\n",
    "- [@statquest: Decision and Classification Trees, Clearly Explained!!!](https://www.youtube.com/watch?v=_L39rN6gz7Y)\n",
    "- [@statquest: Regression Trees, Clearly Explained!!!](https://www.youtube.com/watch?v=g9c66TUylZ4)"
   ]
  },
  {
   "cell_type": "markdown",
   "metadata": {},
   "source": [
    "#### Classification\n",
    "\n",
    "A _classification tree_ is a decision tree where the target variable is categorical. The leafs of the tree represent the class labels and the branches represent the conjunctions of features that lead to those class labels."
   ]
  },
  {
   "cell_type": "code",
   "execution_count": 6,
   "metadata": {},
   "outputs": [
    {
     "name": "stdout",
     "output_type": "stream",
     "text": [
      "Decision Tree Accuracy: 0.94\n"
     ]
    }
   ],
   "source": [
    "# train/test split\n",
    "X = cancer_df.drop(\"Diagnosis\", axis=1).values\n",
    "y = cancer_df[\"Diagnosis\"].values\n",
    "X_train, X_test, y_train, y_test = train_test_split(\n",
    "    X,\n",
    "    y,\n",
    "    test_size=0.2,\n",
    "    random_state=42,\n",
    ")\n",
    "\n",
    "# fit and predict\n",
    "dt = DecisionTreeClassifier(max_depth=6, random_state=42)\n",
    "dt.fit(X_train, y_train)\n",
    "y_pred = dt.predict(X_test)\n",
    "acc = accuracy_score(y_test, y_pred)\n",
    "print(f\"Decision Tree Accuracy: {acc:.2f}\")\n"
   ]
  },
  {
   "cell_type": "markdown",
   "metadata": {},
   "source": [
    "#### Regression\n",
    "\n",
    "A _regression tree_ is a decision tree where the target variable is continuous. Unlike in a classification tree, the prediction for a regression tree is the average of the observations in the leaf that the observation you're trying to predict belongs to. Like a classification tree, the depth is limited by a stopping criterion."
   ]
  },
  {
   "cell_type": "code",
   "execution_count": 7,
   "metadata": {},
   "outputs": [
    {
     "name": "stdout",
     "output_type": "stream",
     "text": [
      "Linear Regression RMSE: 3.26\n",
      "Regression Tree RMSE: 3.97\n"
     ]
    }
   ],
   "source": [
    "# train/test split\n",
    "X = auto_df.drop(\"mpg\", axis=1).values\n",
    "y = auto_df[\"mpg\"].values\n",
    "X_train, X_test, y_train, y_test = train_test_split(\n",
    "    X,\n",
    "    y,\n",
    "    test_size=0.2,\n",
    "    random_state=42,\n",
    ")\n",
    "\n",
    "# fit decision tree regressor\n",
    "dt = DecisionTreeRegressor(\n",
    "    max_depth=8,\n",
    "    min_samples_leaf=0.13,\n",
    "    random_state=42,\n",
    ")\n",
    "dt.fit(X_train, y_train)\n",
    "y_pred = dt.predict(X_test)\n",
    "mse_dt = mean_squared_error(y_test, y_pred)\n",
    "rmse_dt = mse_dt ** (1 / 2)\n",
    "\n",
    "# fit linear regressor\n",
    "lr = LinearRegression()\n",
    "lr.fit(X_train, y_train)\n",
    "y_pred_lr = lr.predict(X_test)\n",
    "mse_lr = mean_squared_error(y_test, y_pred_lr)\n",
    "rmse_lr = mse_lr ** (1 / 2)\n",
    "\n",
    "print(\"Linear Regression RMSE: {:.2f}\".format(rmse_lr))  # 3.26\n",
    "print(\"Regression Tree RMSE: {:.2f}\".format(rmse_dt))  # 3.97\n"
   ]
  },
  {
   "cell_type": "markdown",
   "metadata": {},
   "source": [
    "## Bias-Variance Tradeoff\n",
    "\n",
    "The _Bias-Variance Tradeoff_ is a fundamental concept in machine learning that describes the balance between the two sources of error in a model: _bias_ and _variance_.\n",
    "\n",
    "Bias is introduced when a model makes overly simplistic assumptions about the data. High bias leads to missing relationships between features and the target output, which is known as _underfitting_.\n",
    "\n",
    "Variance is when there is too much complexity in the learning algorithm. High variance leads to the model learning noise from the training data, which then leads to poor predictions on data it hasn't seen before. This means the model is not able to \"generalize\" well, which is known as _overfitting_.\n",
    "\n",
    "Linear models, due to their simplicity and the assumption of a linear relationship between the features and the target, typically exhibit high bias and low variance. This simplicity makes them less sensitive to noise, hence the low variance.\n",
    "\n",
    "Tree-based models often have low bias and high variance. They can capture more complex patterns and interactions between variables, making them more adaptable to the data (low bias). However, this also makes them more sensitive to noise (high variance)."
   ]
  },
  {
   "cell_type": "code",
   "execution_count": 8,
   "metadata": {},
   "outputs": [
    {
     "name": "stdout",
     "output_type": "stream",
     "text": [
      "CV RMSE: 4.68\n"
     ]
    }
   ],
   "source": [
    "X_train, X_test, y_train, y_test = train_test_split(\n",
    "    X,\n",
    "    y,\n",
    "    test_size=0.3,\n",
    "    random_state=42,\n",
    ")\n",
    "\n",
    "dt = DecisionTreeRegressor(\n",
    "    max_depth=4,\n",
    "    min_samples_leaf=0.26,\n",
    "    random_state=42,\n",
    ")\n",
    "\n",
    "# 10-folds cross-validation negative MSE\n",
    "MSE_CV_scores = -cross_val_score(\n",
    "    dt,\n",
    "    X_train,\n",
    "    y_train,\n",
    "    cv=10,\n",
    "    scoring=\"neg_mean_squared_error\",\n",
    "    n_jobs=-1,\n",
    ")\n",
    "\n",
    "# 10-folds CV RMSE\n",
    "RMSE_CV = (MSE_CV_scores.mean()) ** (1 / 2)\n",
    "print(f\"CV RMSE: {RMSE_CV:.2f}\")\n"
   ]
  },
  {
   "cell_type": "code",
   "execution_count": 9,
   "metadata": {},
   "outputs": [
    {
     "name": "stdout",
     "output_type": "stream",
     "text": [
      "Train RMSE: 4.29\n"
     ]
    }
   ],
   "source": [
    "dt.fit(X_train, y_train)\n",
    "\n",
    "# predict training set labels\n",
    "y_pred = dt.predict(X_train)\n",
    "\n",
    "# evaluate training set RMSE\n",
    "rmse = mean_squared_error(y_train, y_pred) ** (1 / 2)\n",
    "print(f\"Train RMSE: {rmse:.2f}\")\n"
   ]
  },
  {
   "cell_type": "markdown",
   "metadata": {},
   "source": [
    "### Ensemble Learning\n",
    "\n",
    "_Ensemble learning_ is a technique where multiple models, often called \"weak learners\", are trained to solve the same problem. The predictions of the weak learners are then combined to produce a single prediction.\n",
    "\n",
    "The idea is that multiple weak learners can together form more reliable predictions than any individual model.\n",
    "\n",
    "Ensemble algorithms are known as _meta-models_ because they act as wrappers around other models. For example, a _Voting Classifier_ is not a model itself. The models it wraps are known as _estimators_."
   ]
  },
  {
   "cell_type": "markdown",
   "metadata": {},
   "source": [
    "#### Voting Classifiers\n",
    "\n",
    "In voting ensembles, multiple models are trained separately and their predictions are combined by taking the majority vote (for classification) or average (for regression)."
   ]
  },
  {
   "cell_type": "code",
   "execution_count": 10,
   "metadata": {},
   "outputs": [
    {
     "name": "stdout",
     "output_type": "stream",
     "text": [
      "Logistic Regression Accuracy: 0.76\n",
      "K Nearest Neighbours Accuracy: 0.70\n",
      "Classification Tree Accuracy: 0.73\n"
     ]
    }
   ],
   "source": [
    "X = liver_df.drop(\"Patient\", axis=1).values\n",
    "y = liver_df[\"Patient\"].values\n",
    "X_train, X_test, y_train, y_test = train_test_split(\n",
    "    X,\n",
    "    y,\n",
    "    test_size=0.2,\n",
    "    random_state=42,\n",
    ")\n",
    "\n",
    "lr = LogisticRegression(random_state=42)\n",
    "knn = KNeighborsClassifier(n_neighbors=27)\n",
    "dt = DecisionTreeClassifier(min_samples_leaf=0.13, random_state=42)\n",
    "classifiers = [\n",
    "    (\"Logistic Regression\", lr),\n",
    "    (\"K Nearest Neighbours\", knn),\n",
    "    (\"Classification Tree\", dt),\n",
    "]\n",
    "\n",
    "for clf_name, clf in classifiers:\n",
    "    clf.fit(X_train, y_train)\n",
    "    y_pred = clf.predict(X_test)\n",
    "    acc = accuracy_score(y_test, y_pred)\n",
    "    print(f\"{clf_name} Accuracy: {acc:.2f}\")\n"
   ]
  },
  {
   "cell_type": "code",
   "execution_count": 11,
   "metadata": {},
   "outputs": [
    {
     "name": "stdout",
     "output_type": "stream",
     "text": [
      "Voting Classifier Accuracy: 0.74\n"
     ]
    }
   ],
   "source": [
    "vc = VotingClassifier(estimators=classifiers)\n",
    "vc.fit(X_train, y_train)\n",
    "y_pred = vc.predict(X_test)\n",
    "accuracy = accuracy_score(y_test, y_pred)\n",
    "print(f\"Voting Classifier Accuracy: {accuracy:.2f}\")\n"
   ]
  },
  {
   "cell_type": "markdown",
   "metadata": {},
   "source": [
    "## Parallel Ensembles\n",
    "\n",
    "_Parallel_ ensembles help with errors due to variance, that is, if your model is overfitting. They are parallel in that each learner is built independently of the others."
   ]
  },
  {
   "cell_type": "markdown",
   "metadata": {},
   "source": [
    "### Bagging\n",
    "\n",
    "_Bagging_ means _bootstrap aggregating_. Bootstrapping is the process of taking repeated samples from a dataset (with replacement) and then training a separate model on each sample. The models are then aggregated by averaging the predictions of each model.\n",
    "\n",
    "Bootstrapping introduces diversity into the training process, which reduces overfitting."
   ]
  },
  {
   "cell_type": "code",
   "execution_count": 12,
   "metadata": {},
   "outputs": [
    {
     "name": "stdout",
     "output_type": "stream",
     "text": [
      "BaggingClassifier Accuracy: 0.76\n"
     ]
    }
   ],
   "source": [
    "bc = BaggingClassifier(n_estimators=50, random_state=42)\n",
    "\n",
    "bc.fit(X_train, y_train)\n",
    "y_pred = bc.predict(X_test)\n",
    "acc = accuracy_score(y_test, y_pred)\n",
    "print(f\"BaggingClassifier Accuracy: {acc:.2f}\")\n"
   ]
  },
  {
   "cell_type": "code",
   "execution_count": 13,
   "metadata": {},
   "outputs": [
    {
     "name": "stdout",
     "output_type": "stream",
     "text": [
      "BaggingClassifier OOB Score: 0.68\n"
     ]
    }
   ],
   "source": [
    "bc = BaggingClassifier(\n",
    "    n_estimators=50,\n",
    "    oob_score=True,\n",
    "    random_state=42,\n",
    ")\n",
    "\n",
    "bc.fit(X_train, y_train)\n",
    "y_pred = bc.predict(X_test)\n",
    "oob = bc.oob_score_\n",
    "print(f\"BaggingClassifier OOB Score: {oob:.2f}\")\n"
   ]
  },
  {
   "cell_type": "markdown",
   "metadata": {},
   "source": [
    "### Random Forests\n",
    "\n",
    "A _forest_ is an ensemble of _trees_. A Random Forest in particular is an ensemble of Decision Trees where each tree has been trained with bagging as well as the _random subspace method_. This technique, also known as _feature bagging_, is where each node (including root) is split on a random subset of features. This randomization introduces further diversity into the ensemble on top of bagging, which makes Random Forests even more resilient to overfitting.\n",
    "\n",
    "**Links**\n",
    "- <https://en.wikipedia.org/wiki/Random_forest>\n",
    "- <https://developers.google.com/machine-learning/decision-forests/random-forests>\n",
    "\n",
    "**Videos**\n",
    "- [@statquest: Random Forests Part 1 - Building, Using and Evaluating](https://www.youtube.com/watch?v=J4Wdy0Wc_xQ)\n",
    "- [@statquest: Random Forests Part 2 - Missing data and clustering](https://www.youtube.com/watch?v=sQ870aTKqiM)\n"
   ]
  },
  {
   "cell_type": "code",
   "execution_count": 14,
   "metadata": {},
   "outputs": [
    {
     "name": "stdout",
     "output_type": "stream",
     "text": [
      "RandomForestRegressor RMSE: 57.44\n"
     ]
    }
   ],
   "source": [
    "rf = RandomForestRegressor(\n",
    "    n_estimators=25,\n",
    "    random_state=42,\n",
    ")\n",
    "\n",
    "X = bikes_df.drop(\"cnt\", axis=1).values\n",
    "y = bikes_df[\"cnt\"].values\n",
    "\n",
    "X_train, X_test, y_train, y_test = train_test_split(\n",
    "    X,\n",
    "    y,\n",
    "    test_size=0.2,\n",
    "    random_state=42,\n",
    ")\n",
    "\n",
    "rf.fit(X_train, y_train)\n",
    "y_pred = rf.predict(X_test)\n",
    "rmse_test = mean_squared_error(y_test, y_pred) ** (1 / 2)\n",
    "print(f\"RandomForestRegressor RMSE: {rmse_test:.2f}\")\n"
   ]
  },
  {
   "cell_type": "code",
   "execution_count": 15,
   "metadata": {},
   "outputs": [
    {
     "data": {
      "image/png": "[encoded data removed]",
      "text/plain": [
       "<Figure size 640x480 with 1 Axes>"
      ]
     },
     "metadata": {},
     "output_type": "display_data"
    }
   ],
   "source": [
    "importances = pd.Series(\n",
    "    data=rf.feature_importances_,\n",
    "    index=bikes_df.drop(\"cnt\", axis=1).columns,\n",
    ")\n",
    "importances_sorted = importances.sort_values()\n",
    "importances_sorted.plot(kind=\"barh\", color=\"lightgreen\")\n",
    "plt.title(\"Features Importances\")\n",
    "plt.show()\n"
   ]
  },
  {
   "cell_type": "markdown",
   "metadata": {},
   "source": [
    "## Boosting\n",
    "\n",
    "While bagging and random forests train multiple learners in parallel, _boosting_ trains multiple learners in sequence. Instead of aggregating the predictions of many weak learners, boosting trains a weak learner to be a strong learner. This is done by training each learner to correct the mistakes of the previous learner.\n",
    "\n",
    "Boosting algorithms introduce the `learning_rate` hyperparameter, which controls how much each learner corrects the mistakes of the previous learner.\n"
   ]
  },
  {
   "cell_type": "markdown",
   "metadata": {},
   "source": [
    "### Adaptive Boosting\n",
    "\n",
    "_Adaptive boosting_ or AdaBoost sequentially trains a series of learners. Each learner is trained on a modified version of the training set where the weights of misclassified observations are increased. This means that each learner focuses more on the observations that the previous learner got wrong. Throughout training, each learner is assigned a weight based on its accuracy. The final prediction is a weighted sum of the predictions of each learner (the ensemble).\n",
    "\n",
    "**Links**\n",
    "- <https://en.wikipedia.org/wiki/AdaBoost>\n",
    "- <https://blog.paperspace.com/adaboost-optimizer>\n",
    "\n",
    "**Videos**\n",
    "- [@statquest: AdaBoost, Clearly Explained](https://www.youtube.com/watch?v=LsK-xG1cLYA)"
   ]
  },
  {
   "cell_type": "code",
   "execution_count": 16,
   "metadata": {},
   "outputs": [
    {
     "name": "stdout",
     "output_type": "stream",
     "text": [
      "ROC AUC score: 0.69\n"
     ]
    }
   ],
   "source": [
    "ada = AdaBoostClassifier(learning_rate=1, n_estimators=180, random_state=1)\n",
    "\n",
    "X = liver_df.drop(\"Patient\", axis=1).values\n",
    "y = liver_df[\"Patient\"].values\n",
    "\n",
    "X_train, X_test, y_train, y_test = train_test_split(\n",
    "    X,\n",
    "    y,\n",
    "    test_size=0.2,\n",
    "    random_state=42,\n",
    ")\n",
    "\n",
    "ada.fit(X_train, y_train)\n",
    "y_pred_proba = ada.predict_proba(X_test)[:, 1]\n",
    "\n",
    "ada_roc_auc = roc_auc_score(y_test, y_pred_proba)\n",
    "print(f\"ROC AUC score: {ada_roc_auc:.2f}\")\n"
   ]
  },
  {
   "cell_type": "markdown",
   "metadata": {},
   "source": [
    "### Gradient Boosting\n",
    "\n",
    "Learners in a _gradient boosting_ ensemble are trained sequentially, like in AdaBoost. However, instead of modifying the weights of the training set, gradient boosting uses _gradient descent_ to minimize the _loss function_ of the model.\n",
    "\n",
    "The loss function essentially measures how wrong a model's predictions are compared to the actual values. The algorithm starts with simple initial predictions - like the average of the target values - then it calculates the residuals (the difference between the actual values and the predictions). The subsequent learners are then trained to predict the residuals of the previous learner. By making closer predictions to the actual values, the residuals are minimized (made closer to zero) and thus so is the loss function.\n",
    "\n",
    "When making predictions, the output of the ensemble is the sum of the initial predictions and the predictions of each learner weighted by the learning rate. If you have a low learning rate, then the ensemble will have to train more learners to make accurate predictions.\n",
    "\n",
    "For classification problems, the final prediction is the sum of the initial predictions and the predictions of each learner weighted by the learning rate. The final prediction is then converted to a probability using the _sigmoid function_ for binary classification or the _softmax function_ for multiclass classification.\n",
    "\n",
    "For regression problems, the final prediction is the sum of the initial predictions and the predictions of each learner weighted by the learning rate (no activation function is used).\n",
    "\n",
    "**Links**\n",
    "- <https://en.wikipedia.org/wiki/Gradient_boosting>\n",
    "\n",
    "**Videos**\n",
    "- [@statquest: Gradient Boost Part 1 (of 4): Regression Main Ideas](https://www.youtube.com/watch?v=3CC4N4z3GJc)\n",
    "- [@statquest: Gradient Boost Part 2 (of 4): Regression Details](https://www.youtube.com/watch?v=2xudPOBz-vs)\n",
    "- [@statquest: Gradient Boost Part 3 (of 4): Classification](https://www.youtube.com/watch?v=jxuNLH5dXCs)\n",
    "- [@statquest: Gradient Boost Part 4 (of 4): Classification Details](https://www.youtube.com/watch?v=StWY5QWMXCw)\n"
   ]
  },
  {
   "cell_type": "code",
   "execution_count": 17,
   "metadata": {},
   "outputs": [
    {
     "name": "stdout",
     "output_type": "stream",
     "text": [
      "GradientBoostingRegressor RMSE: 51.56\n"
     ]
    }
   ],
   "source": [
    "gb = GradientBoostingRegressor(\n",
    "    learning_rate=0.1,\n",
    "    max_depth=4,\n",
    "    n_estimators=200,\n",
    "    random_state=2,\n",
    ")\n",
    "\n",
    "X = bikes_df.drop(\"cnt\", axis=1).values\n",
    "y = bikes_df[\"cnt\"].values\n",
    "X_train, X_test, y_train, y_test = train_test_split(\n",
    "    X,\n",
    "    y,\n",
    "    test_size=0.2,\n",
    "    random_state=42,\n",
    ")\n",
    "\n",
    "gb.fit(X_train, y_train)\n",
    "y_pred = gb.predict(X_test)\n",
    "mse_test = mean_squared_error(y_test, y_pred)\n",
    "rmse_test = mse_test ** (1 / 2)\n",
    "print(f\"GradientBoostingRegressor RMSE: {rmse_test:.2f}\")\n"
   ]
  },
  {
   "cell_type": "markdown",
   "metadata": {},
   "source": [
    "### Stochastic Gradient Boosting\n",
    "\n",
    "_Stochastic gradient boosting_ or SGB is a variant of gradient boosting that introduces randomness into the training process, much like random forests.\n",
    "\n",
    "In SGB, each learner (tree) is trained on a random subset of the training data. The `subsample` hyperparameter controls the size of the subset. The `max_features` hyperparameter controls the number of features to consider when splitting a node."
   ]
  },
  {
   "cell_type": "code",
   "execution_count": 18,
   "metadata": {},
   "outputs": [
    {
     "name": "stdout",
     "output_type": "stream",
     "text": [
      "SGDRegressor RMSE: 52.07\n"
     ]
    }
   ],
   "source": [
    "sgbr = GradientBoostingRegressor(\n",
    "    learning_rate=0.1,\n",
    "    max_depth=4,\n",
    "    subsample=0.9,\n",
    "    max_features=0.75,\n",
    "    n_estimators=200,\n",
    "    random_state=42,\n",
    ")\n",
    "\n",
    "X = bikes_df.drop(\"cnt\", axis=1).values\n",
    "y = bikes_df[\"cnt\"].values\n",
    "X_train, X_test, y_train, y_test = train_test_split(\n",
    "    X,\n",
    "    y,\n",
    "    test_size=0.2,\n",
    "    random_state=42,\n",
    ")\n",
    "\n",
    "sgbr.fit(X_train, y_train)\n",
    "y_pred = sgbr.predict(X_test)\n",
    "mse_test = mean_squared_error(y_test, y_pred)\n",
    "rmse_test = mse_test ** (1 / 2)\n",
    "print(f\"SGDRegressor RMSE: {rmse_test:.2f}\")\n"
   ]
  },
  {
   "cell_type": "markdown",
   "metadata": {},
   "source": [
    "## Hyperparameter Tuning\n",
    "\n",
    "**Articles**\n",
    "- <https://en.wikipedia.org/wiki/Hyperparameter_optimization>\n",
    "- <https://wandb.ai/site/articles/intro-to-mlops-hyperparameter-tuning>\n",
    "- <https://scikit-learn.org/stable/modules/grid_search.html>"
   ]
  },
  {
   "cell_type": "markdown",
   "metadata": {},
   "source": [
    "### GridSearchCV\n",
    "\n",
    "_Grid search cross-validation_ (GridSearchCV) is a method of hyperparameter tuning that uses a grid (matrix) of hyperparameter values to train and evaluate a model."
   ]
  },
  {
   "cell_type": "code",
   "execution_count": 19,
   "metadata": {},
   "outputs": [
    {
     "name": "stdout",
     "output_type": "stream",
     "text": [
      "ROC AUC: 0.73\n"
     ]
    }
   ],
   "source": [
    "X = liver_df.drop(\"Patient\", axis=1).values\n",
    "y = liver_df[\"Patient\"].values\n",
    "X_train, X_test, y_train, y_test = train_test_split(\n",
    "    X,\n",
    "    y,\n",
    "    test_size=0.2,\n",
    "    random_state=42,\n",
    ")\n",
    "\n",
    "dt = DecisionTreeClassifier(random_state=42)\n",
    "params_dt = {\n",
    "    \"max_depth\": [2, 3, 4],\n",
    "    \"min_samples_leaf\": [0.12, 0.14, 0.16, 0.18],\n",
    "}\n",
    "grid_dt = GridSearchCV(\n",
    "    estimator=dt,\n",
    "    param_grid=params_dt,\n",
    "    scoring=\"roc_auc\",\n",
    "    cv=5,\n",
    "    n_jobs=-1,\n",
    ")\n",
    "grid_dt.fit(X_train, y_train)\n",
    "best_model = grid_dt.best_estimator_\n",
    "y_pred_proba = best_model.predict_proba(X_test)[:, 1]\n",
    "test_roc_auc = roc_auc_score(y_test, y_pred_proba, multi_class=\"ovo\")\n",
    "print(f\"ROC AUC: {test_roc_auc:.2f}\")\n"
   ]
  },
  {
   "cell_type": "code",
   "execution_count": 20,
   "metadata": {},
   "outputs": [
    {
     "name": "stdout",
     "output_type": "stream",
     "text": [
      "RMSE: 84.54\n"
     ]
    }
   ],
   "source": [
    "X = bikes_df.drop(\"cnt\", axis=1).values\n",
    "y = bikes_df[\"cnt\"].values\n",
    "X_train, X_test, y_train, y_test = train_test_split(\n",
    "    X,\n",
    "    y,\n",
    "    test_size=0.2,\n",
    "    random_state=42,\n",
    ")\n",
    "\n",
    "params_rf = {\n",
    "    \"n_estimators\": [100, 350, 500],\n",
    "    \"max_features\": [\"log2\", \"auto\", \"sqrt\"],\n",
    "    \"min_samples_leaf\": [2, 10, 30],\n",
    "}\n",
    "\n",
    "rf = RandomForestRegressor(n_estimators=25, random_state=42)\n",
    "grid_rf = GridSearchCV(\n",
    "    estimator=rf,\n",
    "    param_grid=params_rf,\n",
    "    scoring=\"neg_mean_squared_error\",\n",
    "    cv=3,\n",
    "    n_jobs=-1,\n",
    ")\n",
    "grid_rf.fit(X_train, y_train)\n",
    "\n",
    "best_model = grid_rf.best_estimator_\n",
    "y_pred = best_model.predict(X_test)\n",
    "rmse_test = mean_squared_error(y_test, y_pred) ** (1 / 2)\n",
    "print(f\"RMSE: {rmse_test:.2f}\")\n"
   ]
  }
 ],
 "metadata": {
  "kernelspec": {
   "display_name": "venv",
   "language": "python",
   "name": "python3"
  },
  "language_info": {
   "codemirror_mode": {
    "name": "ipython",
    "version": 3
   },
   "file_extension": ".py",
   "mimetype": "text/x-python",
   "name": "python",
   "nbconvert_exporter": "python",
   "pygments_lexer": "ipython3",
   "version": "3.11.6"
  }
 },
 "nbformat": 4,
 "nbformat_minor": 2
}
