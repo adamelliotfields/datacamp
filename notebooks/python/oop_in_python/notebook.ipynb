{
 "cells": [
  {
   "cell_type": "markdown",
   "metadata": {},
   "source": [
    "# [Object-Oriented Programming in Python](https://www.datacamp.com/completed/statement-of-accomplishment/course/d521f6dde77df741bef402e1d2fc9c95e6f542f1)\n",
    "\n",
    "[![Open in Colab](https://colab.research.google.com/assets/colab-badge.svg)](https://colab.research.google.com/github/adamelliotfields/datacamp/blob/main/notebooks/python/oop_in_python/notebook.ipynb)"
   ]
  },
  {
   "cell_type": "code",
   "execution_count": 1,
   "metadata": {},
   "outputs": [],
   "source": [
    "from abc import ABC, abstractmethod\n",
    "\n",
    "\n",
    "class GrandParent1(ABC):\n",
    "    \"\"\"An Abstract Base Class (ABC) that cannot be instantiated.\"\"\"\n",
    "\n",
    "    @abstractmethod\n",
    "    def instance_method(self):\n",
    "        \"\"\"Any child classes must implement this method.\"\"\"\n",
    "        pass\n",
    "\n",
    "\n",
    "class GrandParent2:\n",
    "    def grandparent_method(self):\n",
    "        \"\"\"This method is inherited by all children unless they override it.\n",
    "        It can be called via `super()`.\n",
    "        \"\"\"\n",
    "        print(\"Method in GrandParent2\")\n",
    "\n",
    "\n",
    "class Parent1(GrandParent1):\n",
    "    \"\"\"A parent class that inherits from an ABC.\n",
    "\n",
    "    Class Attributes:\n",
    "        LAST_NAME (str): The last name of the parent. Class attributes are shared by all instances\n",
    "                         of the class.\n",
    "\n",
    "    Attributes:\n",
    "        first_name (str): The first name of the parent.\n",
    "    \"\"\"\n",
    "\n",
    "    LAST_NAME = \"Doe\"\n",
    "\n",
    "    def __init__(self, first_name):\n",
    "        \"\"\"Constructor for Parent1.\n",
    "\n",
    "        Args:\n",
    "            first_name (str): A string to set as the first name of the parent.\n",
    "        \"\"\"\n",
    "        self.first_name = first_name\n",
    "\n",
    "    @staticmethod\n",
    "    def static_method():\n",
    "        \"\"\"Static methods are not class-aware (ie, no \"cls\" or \"self\").\n",
    "        They are inherited and can be overridden.\n",
    "        \"\"\"\n",
    "        print(\"Static method in Parent1\")\n",
    "\n",
    "    def instance_method(self):\n",
    "        \"\"\"An instance method that overrides the one in GrandParent1.\n",
    "        Required to implement because we inherit directly from GrandParent1 and it is abstract.\n",
    "        \"\"\"\n",
    "        print(f\"Instance method in {self.__class__.__name__}\")\n",
    "\n",
    "\n",
    "class Parent2(GrandParent2):\n",
    "    \"\"\"A parent class that is not abstract.\n",
    "\n",
    "    Class Attributes:\n",
    "        LAST_NAME (str): The last name of the parent.\n",
    "\n",
    "    Properties:\n",
    "        age (int): The age of the parent.\n",
    "    \"\"\"\n",
    "\n",
    "    LAST_NAME = \"Smith\"\n",
    "\n",
    "    def __init__(self, age):\n",
    "        \"\"\"Constructor for Parent2.\n",
    "\n",
    "        Args:\n",
    "            age (int): An integer to set as the age of the parent.\n",
    "        \"\"\"\n",
    "        self.age = age\n",
    "\n",
    "    @classmethod\n",
    "    def class_method(cls):\n",
    "        \"\"\"Class methods are class-aware, unlike their static counterparts.\n",
    "        They are inherited and can be overridden.\n",
    "        \"\"\"\n",
    "        print(f\"Class method in {cls.__name__}\")\n",
    "\n",
    "    @property\n",
    "    def age(self):\n",
    "        \"\"\"The `@property` decorator allows us to use `age` as an attribute instead of a method.\n",
    "        If we don't define a setter, then the property is read-only.\n",
    "\n",
    "        Returns:\n",
    "            int: The age of the parent.\n",
    "        \"\"\"\n",
    "        return self._age\n",
    "\n",
    "    @age.setter\n",
    "    def age(self, value):\n",
    "        \"\"\"Setter for `age` property. Note that \"getters\" and \"deleters\" can also be defined.\n",
    "\n",
    "        Args:\n",
    "            value (int): The age of the parent.\n",
    "\n",
    "        Raises:\n",
    "            ValueError: If the value passed in is less than 0.\n",
    "        \"\"\"\n",
    "        if value < 0:\n",
    "            raise ValueError(\"Age cannot be negative\")\n",
    "\n",
    "        self._age = value  # set the \"private\" attribute `_age`\n",
    "\n",
    "\n",
    "class Child(Parent1, Parent2):\n",
    "    \"\"\"A child class that inherits from multiple parents.\n",
    "\n",
    "    Attributes:\n",
    "        first_name (str): The first name of the child.\n",
    "        age (int): The age of the child.\n",
    "    \"\"\"\n",
    "\n",
    "    def __init__(self, first_name, age):\n",
    "        \"\"\"Constructor for Child.\n",
    "\n",
    "        We explicity call each parent's constructor instead of using `super()` because we need to\n",
    "        inherit from both.\n",
    "\n",
    "        When you call `super()`, Python's Module Resolution Order (MRO) determines which parent's\n",
    "        method is called.\n",
    "\n",
    "        Args:\n",
    "            first_name (str): A string to set as the name of the child.\n",
    "            age (int): An integer to set as the age of the child.\n",
    "        \"\"\"\n",
    "        Parent1.__init__(self, first_name)\n",
    "        Parent2.__init__(self, age)\n",
    "\n",
    "    # NB: There are other \"special\" methods that you can override besides `__init__()`.\n",
    "    # https://docs.python.org/3/reference/datamodel.html#special-method-names\n",
    "    def __str__(self):\n",
    "        \"\"\"The `__str__()` method is called when you use `str(obj)` or `print(obj)`.\"\"\"\n",
    "        return f\"Name: {self.first_name} {self.LAST_NAME}, Age: {self.age}\"\n",
    "\n",
    "    def __repr__(self):\n",
    "        \"\"\"The `__repr__()` method is called when you use `repr(obj)`.\"\"\"\n",
    "        return (\n",
    "            f\"{self.__class__.__name__}(name='{self.first_name} {self.LAST_NAME}',age={self.age})\"\n",
    "        )\n",
    "\n",
    "    def __eq__(self, other):\n",
    "        \"\"\"The `__eq__()` method is called when you use `obj1 == obj2`.\"\"\"\n",
    "        return self.first_name == other.first_name and self.age == other.age\n",
    "\n",
    "    def __ne__(self, other):\n",
    "        \"\"\"The `__ne__()` method is called when you use `obj1 != obj2`.\"\"\"\n",
    "        return not self.__eq__(other)\n",
    "\n",
    "    def instance_method(self):\n",
    "        \"\"\"An instance method that overrides the one in Parent1.\"\"\"\n",
    "        print(f\"Instance method in {self.__class__.__name__}\")\n",
    "        super().static_method()  # \"Static method in Parent1\"\n",
    "        super().class_method()  # \"Class method in Child\"\n",
    "        super().grandparent_method()  # \"Method in GrandParent2\"\n",
    "\n",
    "\n",
    "class GrandChild(Child):\n",
    "    \"\"\"A grandchild class that inherits from Child.\n",
    "\n",
    "    Class Attributes:\n",
    "        LAST_NAME (str): The last name of the grandchild.\n",
    "\n",
    "    Attributes:\n",
    "        first_name (str): The first name of the grandchild.\n",
    "        age (int): The age of the grandchild.\n",
    "    \"\"\"\n",
    "\n",
    "    LAST_NAME = \"Lovelace\"\n",
    "\n",
    "    def __init__(self, first_name, age):\n",
    "        \"\"\"Constructor for GrandChild.\n",
    "\n",
    "        Can use `super()` because it only inherits from a single parent (Child).\n",
    "\n",
    "        Args:\n",
    "            first_name (str): A string to set as the first name of the grandchild.\n",
    "            age (int): An integer to set as the age of the grandchild.\n",
    "        \"\"\"\n",
    "        super().__init__(first_name, age)\n",
    "\n",
    "    def __pseudo_private_method(self):\n",
    "        \"\"\"Psuedo-private methods are prefixed with a double-underscore.\n",
    "        These methods are \"mangled\" and can only be accessed via `obj._ClassName__method()`.\n",
    "        (applies to attributes as well)\n",
    "        \"\"\"\n",
    "        print(\"Pseudo-private method in GrandChild\")\n",
    "\n",
    "    def _internal_method(self):\n",
    "        \"\"\"Internal methods are prefixed with a single underscore.\n",
    "        They are also known as \"protected\" methods.\n",
    "        Note that they are not truly \"internal\" as they can still be accessed from outside the class.\n",
    "        \"\"\"\n",
    "        print(\"Internal method in GrandChild\")\n",
    "        self.__pseudo_private_method()  # can call pseudo-private method from within the class"
   ]
  },
  {
   "cell_type": "code",
   "execution_count": 2,
   "metadata": {},
   "outputs": [],
   "source": [
    "# Create an instance of Child and GrandChild\n",
    "child = Child(\"John\", 30)\n",
    "grand_child = GrandChild(\"Ada\", 42)"
   ]
  },
  {
   "cell_type": "code",
   "execution_count": 3,
   "metadata": {},
   "outputs": [
    {
     "name": "stdout",
     "output_type": "stream",
     "text": [
      "Age cannot be negative\n",
      "Age cannot be negative\n",
      "30\n"
     ]
    }
   ],
   "source": [
    "# Check age setter\n",
    "try:\n",
    "    time_traveler = Child(\"Marty\", -1)\n",
    "except ValueError as e:\n",
    "    print(e)  # \"Age cannot be negative\"\n",
    "\n",
    "try:\n",
    "    child.age = -1\n",
    "except ValueError as e:\n",
    "    print(e)  # \"Age cannot be negative\"\n",
    "\n",
    "print(child.age)  # 30 (unchanged)"
   ]
  },
  {
   "cell_type": "code",
   "execution_count": 4,
   "metadata": {},
   "outputs": [
    {
     "name": "stdout",
     "output_type": "stream",
     "text": [
      "Static method in Parent1\n",
      "Static method in Parent1\n"
     ]
    }
   ],
   "source": [
    "# Call static methods\n",
    "Child.static_method()  # calls `Parent1.static_method()` because we didn't override it\n",
    "Parent1.static_method()"
   ]
  },
  {
   "cell_type": "code",
   "execution_count": 5,
   "metadata": {},
   "outputs": [
    {
     "name": "stdout",
     "output_type": "stream",
     "text": [
      "Class method in Child\n",
      "Class method in Parent2\n"
     ]
    }
   ],
   "source": [
    "# Call class methods\n",
    "Child.class_method()  # prints \"Child\" not \"Parent2\" because it is class-aware\n",
    "Parent2.class_method()"
   ]
  },
  {
   "cell_type": "code",
   "execution_count": 6,
   "metadata": {},
   "outputs": [
    {
     "name": "stdout",
     "output_type": "stream",
     "text": [
      "Instance method in Child\n",
      "Static method in Parent1\n",
      "Class method in Child\n",
      "Method in GrandParent2\n"
     ]
    }
   ],
   "source": [
    "# Call instance methods\n",
    "child.instance_method()"
   ]
  },
  {
   "cell_type": "code",
   "execution_count": 7,
   "metadata": {},
   "outputs": [
    {
     "name": "stdout",
     "output_type": "stream",
     "text": [
      "Internal method in GrandChild\n",
      "Pseudo-private method in GrandChild\n",
      "Pseudo-private method in GrandChild\n"
     ]
    }
   ],
   "source": [
    "# Call \"private\" methods (NB: you would never do this as it is a violation of encapsulation)\n",
    "grand_child._internal_method()\n",
    "grand_child._GrandChild__pseudo_private_method()"
   ]
  },
  {
   "cell_type": "code",
   "execution_count": 8,
   "metadata": {},
   "outputs": [
    {
     "name": "stdout",
     "output_type": "stream",
     "text": [
      "Name: John Doe, Age: 30\n",
      "Name: Ada Lovelace, Age: 42\n",
      "Child(name='John Doe',age=30)\n",
      "GrandChild(name='Ada Lovelace',age=42)\n"
     ]
    }
   ],
   "source": [
    "# Print string representations\n",
    "print(child)  # \"Name: John Doe, Age: 30\"\n",
    "print(grand_child)  # \"Name: Ada Lovelace, Age: 42\"\n",
    "print(repr(child))  # \"Child(name='John Doe',age=30)\"\n",
    "print(repr(grand_child))  # \"GrandChild(name='Ada Lovelace',age=42)\""
   ]
  },
  {
   "cell_type": "code",
   "execution_count": 9,
   "metadata": {},
   "outputs": [
    {
     "data": {
      "text/plain": [
       "[__main__.Child,\n",
       " __main__.Parent1,\n",
       " __main__.GrandParent1,\n",
       " abc.ABC,\n",
       " __main__.Parent2,\n",
       " __main__.GrandParent2,\n",
       " object]"
      ]
     },
     "execution_count": 9,
     "metadata": {},
     "output_type": "execute_result"
    }
   ],
   "source": [
    "# Check the Module Resolution Order (MRO) of Child.\n",
    "# Calling `super().class_method()` in Child will call the `class_method()` of Parent1.\n",
    "Child.mro()  # list"
   ]
  },
  {
   "cell_type": "code",
   "execution_count": 10,
   "metadata": {},
   "outputs": [
    {
     "data": {
      "text/plain": [
       "(__main__.Child,\n",
       " __main__.Parent1,\n",
       " __main__.GrandParent1,\n",
       " abc.ABC,\n",
       " __main__.Parent2,\n",
       " __main__.GrandParent2,\n",
       " object)"
      ]
     },
     "execution_count": 10,
     "metadata": {},
     "output_type": "execute_result"
    }
   ],
   "source": [
    "Child.__mro__  # tuple"
   ]
  },
  {
   "cell_type": "code",
   "execution_count": 11,
   "metadata": {},
   "outputs": [
    {
     "name": "stdout",
     "output_type": "stream",
     "text": [
      "Help on class GrandChild in module __main__:\n",
      "\n",
      "class GrandChild(Child)\n",
      " |  GrandChild(first_name, age)\n",
      " |  \n",
      " |  A grandchild class that inherits from Child.\n",
      " |  \n",
      " |  Class Attributes:\n",
      " |      LAST_NAME (str): The last name of the grandchild.\n",
      " |  \n",
      " |  Attributes:\n",
      " |      first_name (str): The first name of the grandchild.\n",
      " |      age (int): The age of the grandchild.\n",
      " |  \n",
      " |  Method resolution order:\n",
      " |      GrandChild\n",
      " |      Child\n",
      " |      Parent1\n",
      " |      GrandParent1\n",
      " |      abc.ABC\n",
      " |      Parent2\n",
      " |      GrandParent2\n",
      " |      builtins.object\n",
      " |  \n",
      " |  Methods defined here:\n",
      " |  \n",
      " |  __init__(self, first_name, age)\n",
      " |      Constructor for GrandChild.\n",
      " |      \n",
      " |      Can use `super()` because it only inherits from a single parent (Child).\n",
      " |      \n",
      " |      Args:\n",
      " |          first_name (str): A string to set as the first name of the grandchild.\n",
      " |          age (int): An integer to set as the age of the grandchild.\n",
      " |  \n",
      " |  ----------------------------------------------------------------------\n",
      " |  Data and other attributes defined here:\n",
      " |  \n",
      " |  LAST_NAME = 'Lovelace'\n",
      " |  \n",
      " |  __abstractmethods__ = frozenset()\n",
      " |  \n",
      " |  ----------------------------------------------------------------------\n",
      " |  Methods inherited from Child:\n",
      " |  \n",
      " |  __eq__(self, other)\n",
      " |      The `__eq__()` method is called when you use `obj1 == obj2`.\n",
      " |  \n",
      " |  __ne__(self, other)\n",
      " |      The `__ne__()` method is called when you use `obj1 != obj2`.\n",
      " |  \n",
      " |  __repr__(self)\n",
      " |      The `__repr__()` method is called when you use `repr(obj)`.\n",
      " |  \n",
      " |  __str__(self)\n",
      " |      The `__str__()` method is called when you use `str(obj)` or `print(obj)`.\n",
      " |  \n",
      " |  instance_method(self)\n",
      " |      An instance method that overrides the one in Parent1.\n",
      " |  \n",
      " |  ----------------------------------------------------------------------\n",
      " |  Data and other attributes inherited from Child:\n",
      " |  \n",
      " |  __hash__ = None\n",
      " |  \n",
      " |  ----------------------------------------------------------------------\n",
      " |  Static methods inherited from Parent1:\n",
      " |  \n",
      " |  static_method()\n",
      " |      Static methods are not class-aware (ie, no \"cls\" or \"self\").\n",
      " |      They are inherited and can be overridden.\n",
      " |  \n",
      " |  ----------------------------------------------------------------------\n",
      " |  Data descriptors inherited from GrandParent1:\n",
      " |  \n",
      " |  __dict__\n",
      " |      dictionary for instance variables (if defined)\n",
      " |  \n",
      " |  __weakref__\n",
      " |      list of weak references to the object (if defined)\n",
      " |  \n",
      " |  ----------------------------------------------------------------------\n",
      " |  Class methods inherited from Parent2:\n",
      " |  \n",
      " |  class_method() from abc.ABCMeta\n",
      " |      Class methods are class-aware, unlike their static counterparts.\n",
      " |      They are inherited and can be overridden.\n",
      " |  \n",
      " |  ----------------------------------------------------------------------\n",
      " |  Data descriptors inherited from Parent2:\n",
      " |  \n",
      " |  age\n",
      " |      The `@property` decorator allows us to use `age` as an attribute instead of a method.\n",
      " |      If we don't define a setter, then the property is read-only.\n",
      " |      \n",
      " |      Returns:\n",
      " |          int: The age of the parent.\n",
      " |  \n",
      " |  ----------------------------------------------------------------------\n",
      " |  Methods inherited from GrandParent2:\n",
      " |  \n",
      " |  grandparent_method(self)\n",
      " |      This method is inherited by all children unless they override it.\n",
      " |      It can be called via `super()`.\n",
      "\n"
     ]
    }
   ],
   "source": [
    "help(GrandChild)"
   ]
  }
 ],
 "metadata": {
  "kernelspec": {
   "display_name": "datacamp-kYionb3o-py3.11",
   "language": "python",
   "name": "python3"
  },
  "language_info": {
   "codemirror_mode": {
    "name": "ipython",
    "version": 3
   },
   "file_extension": ".py",
   "mimetype": "text/x-python",
   "name": "python",
   "nbconvert_exporter": "python",
   "pygments_lexer": "ipython3",
   "version": "3.11.6"
  },
  "orig_nbformat": 4
 },
 "nbformat": 4,
 "nbformat_minor": 2
}
